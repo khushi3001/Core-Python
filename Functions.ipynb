{
 "cells": [
  {
   "cell_type": "markdown",
   "id": "0df7d92f",
   "metadata": {},
   "source": [
    "## what is function and why we need it??\n",
    "\n",
    "- subroutines\n",
    "- procedures\n",
    "- methods\n",
    "- subprograms\n",
    "all are often called as functions"
   ]
  },
  {
   "cell_type": "markdown",
   "id": "a590091f",
   "metadata": {},
   "source": [
    "### kisi bhi word ke aage bracket laga hua h toh this becomes my function"
   ]
  },
  {
   "cell_type": "markdown",
   "id": "75742d2f",
   "metadata": {},
   "source": [
    "# functions"
   ]
  },
  {
   "cell_type": "markdown",
   "id": "aec76f9d",
   "metadata": {},
   "source": [
    "## user defined functions"
   ]
  },
  {
   "cell_type": "markdown",
   "id": "977c4b64",
   "metadata": {},
   "source": [
    "### how to create the function"
   ]
  },
  {
   "cell_type": "code",
   "execution_count": 2,
   "id": "07389933",
   "metadata": {},
   "outputs": [],
   "source": [
    "## def(keyword) then name of function then ()"
   ]
  },
  {
   "cell_type": "markdown",
   "id": "18c94466",
   "metadata": {},
   "source": [
    "## 4-ways to create the function\n",
    "- Without argument without return type\n",
    "- Without argument with return type\n",
    "- With argument without return type\n",
    "- With argument with return type\n",
    "- *** doc string means description of the function.we can give description  when we enter the boday of function***\n",
    "- function calling - when we write function after executing it it will see the description of the function.it is called function calling\n",
    "- caller- once all the statements are completed controller is called is caller\n",
    "- callee - jisko call kiya h vo kehte h callee"
   ]
  },
  {
   "cell_type": "code",
   "execution_count": 7,
   "id": "032c059a",
   "metadata": {},
   "outputs": [],
   "source": [
    "## formal arguements- jo function ke time par use hote h\n",
    "## acutal arguments- jo calling ke time par use hote h"
   ]
  },
  {
   "cell_type": "markdown",
   "id": "5bc8c2c9",
   "metadata": {},
   "source": [
    "### 1-without argument and without return type"
   ]
  },
  {
   "cell_type": "code",
   "execution_count": 4,
   "id": "93e28b8c",
   "metadata": {},
   "outputs": [],
   "source": [
    "def add():\n",
    "    '''this is for adding 2 numbers'''\n",
    "    num1=int(input(\"enter the first num\"))\n",
    "    num2=int(input(\"enter the second num\"))\n",
    "    result=num1+num2\n",
    "    print(\"the result of sum are\",result)"
   ]
  },
  {
   "cell_type": "code",
   "execution_count": 5,
   "id": "b0def8b8",
   "metadata": {},
   "outputs": [
    {
     "name": "stdout",
     "output_type": "stream",
     "text": [
      "enter the first num9\n",
      "enter the second num 0\n",
      "the result of sum are 9\n"
     ]
    }
   ],
   "source": [
    "add()"
   ]
  },
  {
   "cell_type": "code",
   "execution_count": 6,
   "id": "62189ac6",
   "metadata": {},
   "outputs": [
    {
     "name": "stdout",
     "output_type": "stream",
     "text": [
      "hello\n",
      "enter the first num 89\n",
      "enter the second num 256\n",
      "the result of sum are 345\n",
      "hi\n"
     ]
    }
   ],
   "source": [
    "print(\"hello\")\n",
    "add()\n",
    "print(\"hi\")"
   ]
  },
  {
   "cell_type": "markdown",
   "id": "8fb872c7",
   "metadata": {},
   "source": [
    "## 2-with arguement and without return type"
   ]
  },
  {
   "cell_type": "code",
   "execution_count": 9,
   "id": "6406ee82",
   "metadata": {},
   "outputs": [],
   "source": [
    "def add2(num1,num2):\n",
    "    result1=num1+num2\n",
    "    print(\"the sum of two digits are\",result1)"
   ]
  },
  {
   "cell_type": "code",
   "execution_count": 10,
   "id": "26020d1c",
   "metadata": {},
   "outputs": [
    {
     "name": "stdout",
     "output_type": "stream",
     "text": [
      "the sum of two digits are 145\n"
     ]
    }
   ],
   "source": [
    "add2(56,89)"
   ]
  },
  {
   "cell_type": "markdown",
   "id": "1b2b5857",
   "metadata": {},
   "source": [
    "### if we want it to be dynamic"
   ]
  },
  {
   "cell_type": "code",
   "execution_count": 12,
   "id": "521caa5d",
   "metadata": {},
   "outputs": [
    {
     "name": "stdout",
     "output_type": "stream",
     "text": [
      "enter the 1st number 78\n",
      "enter the 2nd number 90\n",
      "the sum of two digits are 168\n"
     ]
    }
   ],
   "source": [
    "a=int(input(\"enter the 1st number\"))\n",
    "b=int(input(\"enter the 2nd number\"))\n",
    "add2(a,b)"
   ]
  },
  {
   "cell_type": "markdown",
   "id": "3b9df7ea",
   "metadata": {},
   "source": [
    "## 3-with argument with return type"
   ]
  },
  {
   "cell_type": "code",
   "execution_count": 22,
   "id": "a7d1d39b",
   "metadata": {},
   "outputs": [],
   "source": [
    "def add3(num1,num2):\n",
    "    r=num1+num2\n",
    "    return r"
   ]
  },
  {
   "cell_type": "code",
   "execution_count": 23,
   "id": "2464420a",
   "metadata": {},
   "outputs": [
    {
     "name": "stdout",
     "output_type": "stream",
     "text": [
      "135\n"
     ]
    }
   ],
   "source": [
    "result_return=add3(90,45)\n",
    "print(result_return)"
   ]
  },
  {
   "cell_type": "code",
   "execution_count": 24,
   "id": "d3ef85ae",
   "metadata": {},
   "outputs": [],
   "source": [
    "def avg(r):\n",
    "    a=r/2\n",
    "    return a"
   ]
  },
  {
   "cell_type": "code",
   "execution_count": 25,
   "id": "3aa4483f",
   "metadata": {},
   "outputs": [
    {
     "data": {
      "text/plain": [
       "67.5"
      ]
     },
     "execution_count": 25,
     "metadata": {},
     "output_type": "execute_result"
    }
   ],
   "source": [
    "avg(result_return)"
   ]
  },
  {
   "cell_type": "markdown",
   "id": "87c1b0e0",
   "metadata": {},
   "source": [
    "## 4-without argument with return type"
   ]
  },
  {
   "cell_type": "code",
   "execution_count": 26,
   "id": "ec6b2075",
   "metadata": {},
   "outputs": [],
   "source": [
    "## return should be the last statement of the logic because if we write anything after return it will not have any significance.return acts as break"
   ]
  },
  {
   "cell_type": "code",
   "execution_count": 27,
   "id": "f078914d",
   "metadata": {},
   "outputs": [],
   "source": [
    "def add4():\n",
    "    a1=int(input(\"enter the 1st number\"))\n",
    "    a2=int(input(\"enter the 2nd number\"))\n",
    "    result5=a1+a2\n",
    "    return result5"
   ]
  },
  {
   "cell_type": "code",
   "execution_count": 30,
   "id": "f5a33c18",
   "metadata": {},
   "outputs": [
    {
     "name": "stdout",
     "output_type": "stream",
     "text": [
      "enter the 1st number 89\n",
      "enter the 2nd number 123\n",
      "212\n",
      "hello\n"
     ]
    }
   ],
   "source": [
    "result6=add4()\n",
    "print(result6)\n",
    "print(\"hello\")"
   ]
  },
  {
   "cell_type": "code",
   "execution_count": 33,
   "id": "d3715208",
   "metadata": {},
   "outputs": [],
   "source": [
    "def avg1(result5):\n",
    "    r2=result5/2\n",
    "    return r2"
   ]
  },
  {
   "cell_type": "code",
   "execution_count": 34,
   "id": "7b90ef5f",
   "metadata": {},
   "outputs": [
    {
     "data": {
      "text/plain": [
       "106.0"
      ]
     },
     "execution_count": 34,
     "metadata": {},
     "output_type": "execute_result"
    }
   ],
   "source": [
    "avg1(result6)"
   ]
  },
  {
   "cell_type": "markdown",
   "id": "6caf150c",
   "metadata": {},
   "source": [
    "## waf for calculating the area of circle using 4 ways"
   ]
  },
  {
   "cell_type": "markdown",
   "id": "021ed20e",
   "metadata": {},
   "source": [
    "## 1-without argument and without return type"
   ]
  },
  {
   "cell_type": "code",
   "execution_count": 35,
   "id": "700e5e84",
   "metadata": {},
   "outputs": [],
   "source": [
    "def area1():\n",
    "    r=int(input(\"enter the radius\"))\n",
    "    ar=22/7*r**2\n",
    "    print(\"the area of circle is \",ar)"
   ]
  },
  {
   "cell_type": "code",
   "execution_count": 36,
   "id": "1db175ec",
   "metadata": {},
   "outputs": [
    {
     "name": "stdout",
     "output_type": "stream",
     "text": [
      "enter the radius 6\n",
      "the area of circle is  113.14285714285714\n"
     ]
    }
   ],
   "source": [
    "area1()"
   ]
  },
  {
   "cell_type": "markdown",
   "id": "758ed031",
   "metadata": {},
   "source": [
    "## 2-with argument and without return type"
   ]
  },
  {
   "cell_type": "code",
   "execution_count": 37,
   "id": "38963d3f",
   "metadata": {},
   "outputs": [],
   "source": [
    "def area2(r2):\n",
    "    ar2=22/7*r2**2\n",
    "    print(\"the area of circle is\",ar2)"
   ]
  },
  {
   "cell_type": "code",
   "execution_count": 38,
   "id": "0d3f2a7b",
   "metadata": {},
   "outputs": [
    {
     "name": "stdout",
     "output_type": "stream",
     "text": [
      "the area of circle is 254.57142857142856\n"
     ]
    }
   ],
   "source": [
    "area2(9)"
   ]
  },
  {
   "cell_type": "markdown",
   "id": "cd45d9ad",
   "metadata": {},
   "source": [
    "## 3-with argument with return type"
   ]
  },
  {
   "cell_type": "code",
   "execution_count": 41,
   "id": "ef67bea3",
   "metadata": {},
   "outputs": [],
   "source": [
    "def sq(r3):\n",
    "    square=r3**2\n",
    "    return square"
   ]
  },
  {
   "cell_type": "code",
   "execution_count": 49,
   "id": "b8f3d528",
   "metadata": {},
   "outputs": [
    {
     "name": "stdout",
     "output_type": "stream",
     "text": [
      "49\n"
     ]
    }
   ],
   "source": [
    "square1=sq(7)\n",
    "print(square1)"
   ]
  },
  {
   "cell_type": "code",
   "execution_count": 47,
   "id": "cb623c3f",
   "metadata": {},
   "outputs": [],
   "source": [
    "def area3(square):\n",
    "    ar3=22/7*square\n",
    "    return ar3"
   ]
  },
  {
   "cell_type": "code",
   "execution_count": 50,
   "id": "2e13be7b",
   "metadata": {},
   "outputs": [
    {
     "data": {
      "text/plain": [
       "154.0"
      ]
     },
     "execution_count": 50,
     "metadata": {},
     "output_type": "execute_result"
    }
   ],
   "source": [
    "area3(square1)"
   ]
  },
  {
   "cell_type": "markdown",
   "id": "a11a47d3",
   "metadata": {},
   "source": [
    "## 4-without argument with return type"
   ]
  },
  {
   "cell_type": "code",
   "execution_count": 51,
   "id": "6f351451",
   "metadata": {},
   "outputs": [],
   "source": [
    "def sq1():\n",
    "    r4=int(input(\"enter the radius\"))\n",
    "    square2=r4**2\n",
    "    return square2"
   ]
  },
  {
   "cell_type": "code",
   "execution_count": 52,
   "id": "862f9fc6",
   "metadata": {},
   "outputs": [
    {
     "name": "stdout",
     "output_type": "stream",
     "text": [
      "enter the radius 5\n",
      "25\n"
     ]
    }
   ],
   "source": [
    "square3=sq1()\n",
    "print(square3)"
   ]
  },
  {
   "cell_type": "code",
   "execution_count": 54,
   "id": "9fe271e9",
   "metadata": {},
   "outputs": [],
   "source": [
    "def ar4(square3):\n",
    "    ar4=22/7*square3\n",
    "    return ar4\n",
    "    "
   ]
  },
  {
   "cell_type": "code",
   "execution_count": 55,
   "id": "8f6f7322",
   "metadata": {},
   "outputs": [
    {
     "data": {
      "text/plain": [
       "78.57142857142857"
      ]
     },
     "execution_count": 55,
     "metadata": {},
     "output_type": "execute_result"
    }
   ],
   "source": [
    "ar4(square3)"
   ]
  },
  {
   "cell_type": "markdown",
   "id": "fb80b81a",
   "metadata": {},
   "source": [
    "# scope -\n",
    "- 1-local - only throughout the function or within function\n",
    "- 2-global - throughout the file"
   ]
  },
  {
   "cell_type": "code",
   "execution_count": 1,
   "id": "3af41c75",
   "metadata": {},
   "outputs": [],
   "source": [
    "a=2 ## here we have written a before the definiton of function which makes it global\n",
    "def display():\n",
    "    print(a)\n",
    "    b=3\n",
    "    print(b)"
   ]
  },
  {
   "cell_type": "code",
   "execution_count": 4,
   "id": "ffd8f67d",
   "metadata": {},
   "outputs": [
    {
     "name": "stdout",
     "output_type": "stream",
     "text": [
      "2\n",
      "2\n",
      "3\n"
     ]
    },
    {
     "ename": "NameError",
     "evalue": "name 'b' is not defined",
     "output_type": "error",
     "traceback": [
      "\u001b[1;31m---------------------------------------------------------------------------\u001b[0m",
      "\u001b[1;31mNameError\u001b[0m                                 Traceback (most recent call last)",
      "Cell \u001b[1;32mIn[4], line 3\u001b[0m\n\u001b[0;32m      1\u001b[0m \u001b[38;5;28mprint\u001b[39m(a)\n\u001b[0;32m      2\u001b[0m display()\n\u001b[1;32m----> 3\u001b[0m \u001b[38;5;28mprint\u001b[39m(\u001b[43mb\u001b[49m)\n",
      "\u001b[1;31mNameError\u001b[0m: name 'b' is not defined"
     ]
    }
   ],
   "source": [
    "print(a)\n",
    "display()\n",
    "print(b)"
   ]
  },
  {
   "cell_type": "code",
   "execution_count": 5,
   "id": "14587857",
   "metadata": {},
   "outputs": [],
   "source": [
    "## in uper case the error is showing because b is local and locals can perform only throughtout the function or within the funct\n"
   ]
  },
  {
   "cell_type": "code",
   "execution_count": 6,
   "id": "9c473666",
   "metadata": {},
   "outputs": [
    {
     "data": {
      "text/plain": [
       "2"
      ]
     },
     "execution_count": 6,
     "metadata": {},
     "output_type": "execute_result"
    }
   ],
   "source": [
    "a"
   ]
  },
  {
   "cell_type": "code",
   "execution_count": 7,
   "id": "44e93dd9",
   "metadata": {},
   "outputs": [
    {
     "ename": "NameError",
     "evalue": "name 'b' is not defined",
     "output_type": "error",
     "traceback": [
      "\u001b[1;31m---------------------------------------------------------------------------\u001b[0m",
      "\u001b[1;31mNameError\u001b[0m                                 Traceback (most recent call last)",
      "Cell \u001b[1;32mIn[7], line 1\u001b[0m\n\u001b[1;32m----> 1\u001b[0m \u001b[43mb\u001b[49m\n",
      "\u001b[1;31mNameError\u001b[0m: name 'b' is not defined"
     ]
    }
   ],
   "source": [
    "b"
   ]
  },
  {
   "cell_type": "markdown",
   "id": "c36cbff6",
   "metadata": {},
   "source": [
    "## when global and local variables have the same name"
   ]
  },
  {
   "cell_type": "code",
   "execution_count": 8,
   "id": "2c001328",
   "metadata": {},
   "outputs": [],
   "source": [
    "a=3\n",
    "def display():\n",
    "    a=2\n",
    "    print(a)\n",
    "    b=5\n",
    "    print(b)"
   ]
  },
  {
   "cell_type": "code",
   "execution_count": 10,
   "id": "aea1d895",
   "metadata": {},
   "outputs": [
    {
     "name": "stdout",
     "output_type": "stream",
     "text": [
      "3\n",
      "2\n",
      "5\n",
      "3\n"
     ]
    },
    {
     "ename": "NameError",
     "evalue": "name 'b' is not defined",
     "output_type": "error",
     "traceback": [
      "\u001b[1;31m---------------------------------------------------------------------------\u001b[0m",
      "\u001b[1;31mNameError\u001b[0m                                 Traceback (most recent call last)",
      "Cell \u001b[1;32mIn[10], line 4\u001b[0m\n\u001b[0;32m      2\u001b[0m display()\n\u001b[0;32m      3\u001b[0m \u001b[38;5;28mprint\u001b[39m(a)\n\u001b[1;32m----> 4\u001b[0m \u001b[38;5;28mprint\u001b[39m(\u001b[43mb\u001b[49m)\n",
      "\u001b[1;31mNameError\u001b[0m: name 'b' is not defined"
     ]
    }
   ],
   "source": [
    "print(a) ## error is appreared because b is defined in the function\n",
    "display()\n",
    "print(a)\n",
    "print(b)"
   ]
  },
  {
   "cell_type": "code",
   "execution_count": 2,
   "id": "15f62eec",
   "metadata": {},
   "outputs": [],
   "source": [
    "a=3\n",
    "def display():\n",
    "    print(a)\n",
    "    a=7## here 7 is going to asign to global\n",
    "    b=5\n",
    "    print(a)\n",
    "    print(b)"
   ]
  },
  {
   "cell_type": "code",
   "execution_count": 12,
   "id": "a07cff78",
   "metadata": {},
   "outputs": [
    {
     "name": "stdout",
     "output_type": "stream",
     "text": [
      "3\n"
     ]
    },
    {
     "ename": "UnboundLocalError",
     "evalue": "local variable 'a' referenced before assignment",
     "output_type": "error",
     "traceback": [
      "\u001b[1;31m---------------------------------------------------------------------------\u001b[0m",
      "\u001b[1;31mUnboundLocalError\u001b[0m                         Traceback (most recent call last)",
      "Cell \u001b[1;32mIn[12], line 2\u001b[0m\n\u001b[0;32m      1\u001b[0m \u001b[38;5;28mprint\u001b[39m(a)\n\u001b[1;32m----> 2\u001b[0m \u001b[43mdisplay\u001b[49m\u001b[43m(\u001b[49m\u001b[43m)\u001b[49m\n\u001b[0;32m      3\u001b[0m \u001b[38;5;28mprint\u001b[39m(a)\n",
      "Cell \u001b[1;32mIn[11], line 3\u001b[0m, in \u001b[0;36mdisplay\u001b[1;34m()\u001b[0m\n\u001b[0;32m      2\u001b[0m \u001b[38;5;28;01mdef\u001b[39;00m \u001b[38;5;21mdisplay\u001b[39m():\n\u001b[1;32m----> 3\u001b[0m     \u001b[38;5;28mprint\u001b[39m(\u001b[43ma\u001b[49m)\n\u001b[0;32m      4\u001b[0m     a\u001b[38;5;241m=\u001b[39m\u001b[38;5;241m7\u001b[39m\u001b[38;5;66;03m## here 7 is going to asing to global\u001b[39;00m\n\u001b[0;32m      5\u001b[0m     b\u001b[38;5;241m=\u001b[39m\u001b[38;5;241m5\u001b[39m\n",
      "\u001b[1;31mUnboundLocalError\u001b[0m: local variable 'a' referenced before assignment"
     ]
    }
   ],
   "source": [
    "print(a)\n",
    "display()\n",
    "print(a)"
   ]
  },
  {
   "cell_type": "code",
   "execution_count": 14,
   "id": "fbad27db",
   "metadata": {},
   "outputs": [],
   "source": [
    "a=3\n",
    "def display():\n",
    "    global a ## global keyword is used when the function is required to change the value of global vairable\n",
    "    print(a)\n",
    "    a=7## here 7 is going to asing to global\n",
    "    b=5\n",
    "    print(a)\n",
    "    print(b)"
   ]
  },
  {
   "cell_type": "code",
   "execution_count": 15,
   "id": "bdab7b36",
   "metadata": {},
   "outputs": [
    {
     "name": "stdout",
     "output_type": "stream",
     "text": [
      "3\n",
      "3\n",
      "7\n",
      "5\n",
      "7\n"
     ]
    }
   ],
   "source": [
    "print(a)\n",
    "display()\n",
    "print(a)"
   ]
  },
  {
   "cell_type": "markdown",
   "id": "765edff5",
   "metadata": {},
   "source": [
    "# types of arguments\n",
    "- positional\n",
    "- default\n",
    "- keyword\n",
    "- variable"
   ]
  },
  {
   "cell_type": "markdown",
   "id": "7325eb0c",
   "metadata": {},
   "source": [
    "## positional arguments"
   ]
  },
  {
   "cell_type": "code",
   "execution_count": 17,
   "id": "451b98c9",
   "metadata": {},
   "outputs": [],
   "source": [
    "def area1():\n",
    "    r=int(input(\"enter the radius\"))\n",
    "    ar=22/7*r**2\n",
    "    print(\"the area of circle is \",ar)"
   ]
  },
  {
   "cell_type": "code",
   "execution_count": 18,
   "id": "14a83f3a",
   "metadata": {},
   "outputs": [
    {
     "name": "stdout",
     "output_type": "stream",
     "text": [
      "enter the radius6\n",
      "the area of circle is  113.14285714285714\n"
     ]
    }
   ],
   "source": [
    "area1()"
   ]
  },
  {
   "cell_type": "markdown",
   "id": "ffd321bc",
   "metadata": {},
   "source": [
    "## default arguemnts"
   ]
  },
  {
   "cell_type": "code",
   "execution_count": 19,
   "id": "3426b35e",
   "metadata": {},
   "outputs": [],
   "source": [
    "def display(name,age,city=\"saket\"):\n",
    "    print(\"the name of student is\",name)\n",
    "    print(\"the age of student is\",age)\n",
    "    print(\"the city of student is\",city)"
   ]
  },
  {
   "cell_type": "code",
   "execution_count": 23,
   "id": "629d6273",
   "metadata": {},
   "outputs": [
    {
     "name": "stdout",
     "output_type": "stream",
     "text": [
      "the name of student is khushi\n",
      "the age of student is 21\n",
      "the city of student is saket\n"
     ]
    }
   ],
   "source": [
    "display(\"khushi\",21) ## by default it will show saket because we have mentioned it "
   ]
  },
  {
   "cell_type": "code",
   "execution_count": 24,
   "id": "aeecea08",
   "metadata": {},
   "outputs": [
    {
     "name": "stdout",
     "output_type": "stream",
     "text": [
      "the name of student is anuj\n",
      "the age of student is 21\n",
      "the city of student is delhi\n"
     ]
    }
   ],
   "source": [
    "display(\"anuj\",21,\"delhi\") ## if we enter city name it will appear that otherwise it will appear default name"
   ]
  },
  {
   "cell_type": "markdown",
   "id": "0774828d",
   "metadata": {},
   "source": [
    "## keyword argument"
   ]
  },
  {
   "cell_type": "code",
   "execution_count": 25,
   "id": "41a45200",
   "metadata": {},
   "outputs": [],
   "source": [
    "def display(firstname,lastname):\n",
    "    print(\"first name is\",firstname)\n",
    "    print(\"lastname is\",lastname)"
   ]
  },
  {
   "cell_type": "code",
   "execution_count": 27,
   "id": "3a19752c",
   "metadata": {},
   "outputs": [
    {
     "name": "stdout",
     "output_type": "stream",
     "text": [
      "first name is balu\n",
      "lastname is kaur\n"
     ]
    }
   ],
   "source": [
    "display(lastname=\"kaur\",firstname=\"balu\") ## here order does not matter"
   ]
  },
  {
   "cell_type": "markdown",
   "id": "ec8e5c32",
   "metadata": {},
   "source": [
    "## variable"
   ]
  },
  {
   "cell_type": "code",
   "execution_count": 38,
   "id": "6802fa39",
   "metadata": {},
   "outputs": [],
   "source": [
    "def add(*args): ## here star means all numbers and agrs is just a name of container. we can write anything\n",
    "    add1=0\n",
    "    print(type(args))\n",
    "    for i in args:\n",
    "        add1=add1+i\n",
    "    return add1"
   ]
  },
  {
   "cell_type": "code",
   "execution_count": 39,
   "id": "1587321c",
   "metadata": {},
   "outputs": [
    {
     "name": "stdout",
     "output_type": "stream",
     "text": [
      "<class 'tuple'>\n"
     ]
    },
    {
     "data": {
      "text/plain": [
       "102"
      ]
     },
     "execution_count": 39,
     "metadata": {},
     "output_type": "execute_result"
    }
   ],
   "source": [
    "add(12,34,56)"
   ]
  },
  {
   "cell_type": "code",
   "execution_count": 37,
   "id": "1b5a0646",
   "metadata": {},
   "outputs": [
    {
     "name": "stdout",
     "output_type": "stream",
     "text": [
      "<class 'tuple'>\n"
     ]
    },
    {
     "data": {
      "text/plain": [
       "1"
      ]
     },
     "execution_count": 37,
     "metadata": {},
     "output_type": "execute_result"
    }
   ],
   "source": [
    "=add(1,2)"
   ]
  },
  {
   "cell_type": "code",
   "execution_count": 40,
   "id": "e7ad053e",
   "metadata": {},
   "outputs": [
    {
     "name": "stdout",
     "output_type": "stream",
     "text": [
      "<class 'tuple'>\n"
     ]
    },
    {
     "data": {
      "text/plain": [
       "140"
      ]
     },
     "execution_count": 40,
     "metadata": {},
     "output_type": "execute_result"
    }
   ],
   "source": [
    "add(1,7,89,43)"
   ]
  },
  {
   "cell_type": "markdown",
   "id": "f5fa8891",
   "metadata": {},
   "source": [
    "## nested function"
   ]
  },
  {
   "cell_type": "code",
   "execution_count": 3,
   "id": "4b49cc2f",
   "metadata": {},
   "outputs": [],
   "source": [
    "def average(l):\n",
    "    def marks_total(l):\n",
    "        global sum1\n",
    "        sum1=0\n",
    "        for i in l:\n",
    "            sum1=sum1+i\n",
    "        return sum1\n",
    "    t=marks_total(l)## calling\n",
    "    av=t/4\n",
    "    print(\"the average is\",av)"
   ]
  },
  {
   "cell_type": "code",
   "execution_count": 4,
   "id": "71196d3d",
   "metadata": {},
   "outputs": [
    {
     "name": "stdout",
     "output_type": "stream",
     "text": [
      "the average is 69.25\n"
     ]
    }
   ],
   "source": [
    "average([20,89,78,90])"
   ]
  }
 ],
 "metadata": {
  "kernelspec": {
   "display_name": "Python 3 (ipykernel)",
   "language": "python",
   "name": "python3"
  },
  "language_info": {
   "codemirror_mode": {
    "name": "ipython",
    "version": 3
   },
   "file_extension": ".py",
   "mimetype": "text/x-python",
   "name": "python",
   "nbconvert_exporter": "python",
   "pygments_lexer": "ipython3",
   "version": "3.10.9"
  }
 },
 "nbformat": 4,
 "nbformat_minor": 5
}
