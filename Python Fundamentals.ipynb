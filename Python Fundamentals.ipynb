{
 "cells": [
  {
   "cell_type": "markdown",
   "id": "790a31b0",
   "metadata": {},
   "source": [
    "## comment"
   ]
  },
  {
   "cell_type": "markdown",
   "id": "927d2638",
   "metadata": {},
   "source": [
    "comment : it is used to give the description to your code. that makes the code readable and understandable.\n",
    "this comment is ignored by interpreter.\n",
    "\n",
    "## types of comments\n",
    "- single line comment\n",
    "- multi line comment"
   ]
  },
  {
   "cell_type": "markdown",
   "id": "31da27be",
   "metadata": {},
   "source": [
    "single line comment-#\n"
   ]
  },
  {
   "cell_type": "code",
   "execution_count": 3,
   "id": "b7714978",
   "metadata": {},
   "outputs": [
    {
     "name": "stdout",
     "output_type": "stream",
     "text": [
      "hello\n"
     ]
    }
   ],
   "source": [
    "# this is my program\n",
    "print (\"hello\")"
   ]
  },
  {
   "cell_type": "code",
   "execution_count": null,
   "id": "82b16691",
   "metadata": {},
   "outputs": [],
   "source": [
    "multiline comment - ''''''# 3 baar '' ye likhna h "
   ]
  },
  {
   "cell_type": "code",
   "execution_count": 2,
   "id": "5e573e37",
   "metadata": {
    "scrolled": true
   },
   "outputs": [
    {
     "name": "stdout",
     "output_type": "stream",
     "text": [
      "hello\n",
      "how r u \n"
     ]
    }
   ],
   "source": [
    "'''this is my first program \n",
    "where i am displaying something '''\n",
    "print (\"hello\") #print() is a inbuilt which is used to display hello here\n",
    "print (\"how r u \")"
   ]
  },
  {
   "cell_type": "markdown",
   "id": "4d9cb5fe",
   "metadata": {},
   "source": [
    "# variable : it is a container which is used to hold the data \n",
    "or i can say that it is a named memory loaction"
   ]
  },
  {
   "cell_type": "code",
   "execution_count": 12,
   "id": "4a34bd54",
   "metadata": {},
   "outputs": [],
   "source": [
    "a=4#how to create the variable"
   ]
  },
  {
   "cell_type": "code",
   "execution_count": 13,
   "id": "5b596e7d",
   "metadata": {},
   "outputs": [
    {
     "data": {
      "text/plain": [
       "4"
      ]
     },
     "execution_count": 13,
     "metadata": {},
     "output_type": "execute_result"
    }
   ],
   "source": [
    "a"
   ]
  },
  {
   "cell_type": "code",
   "execution_count": 4,
   "id": "34c4f3e3",
   "metadata": {},
   "outputs": [
    {
     "data": {
      "text/plain": [
       "4"
      ]
     },
     "execution_count": 4,
     "metadata": {},
     "output_type": "execute_result"
    }
   ],
   "source": [
    "a"
   ]
  },
  {
   "cell_type": "code",
   "execution_count": 5,
   "id": "e85b4fae",
   "metadata": {},
   "outputs": [
    {
     "data": {
      "text/plain": [
       "4"
      ]
     },
     "execution_count": 5,
     "metadata": {},
     "output_type": "execute_result"
    }
   ],
   "source": [
    "a"
   ]
  },
  {
   "cell_type": "code",
   "execution_count": 6,
   "id": "f1f0ea77",
   "metadata": {},
   "outputs": [],
   "source": [
    "a=9"
   ]
  },
  {
   "cell_type": "code",
   "execution_count": 7,
   "id": "2e59243c",
   "metadata": {},
   "outputs": [
    {
     "data": {
      "text/plain": [
       "9"
      ]
     },
     "execution_count": 7,
     "metadata": {},
     "output_type": "execute_result"
    }
   ],
   "source": [
    "a"
   ]
  },
  {
   "cell_type": "markdown",
   "id": "a4c139c0",
   "metadata": {},
   "source": [
    "# id() : it tells the address of the variable\n"
   ]
  },
  {
   "cell_type": "code",
   "execution_count": 14,
   "id": "040bcee3",
   "metadata": {},
   "outputs": [
    {
     "data": {
      "text/plain": [
       "3092604977488"
      ]
     },
     "execution_count": 14,
     "metadata": {},
     "output_type": "execute_result"
    }
   ],
   "source": [
    "id(a)"
   ]
  },
  {
   "cell_type": "markdown",
   "id": "e838f7b2",
   "metadata": {},
   "source": [
    "## identifier : naming rules of the variables/functions"
   ]
  },
  {
   "cell_type": "markdown",
   "id": "33a2beec",
   "metadata": {},
   "source": [
    "- rule 1 : it should not start with digits.we can start with letter or one special character i.e_\n",
    "- rule 2 : it allows any letters/digits/_anywhere"
   ]
  },
  {
   "cell_type": "code",
   "execution_count": 15,
   "id": "92a1e74b",
   "metadata": {},
   "outputs": [],
   "source": [
    "AV=3"
   ]
  },
  {
   "cell_type": "code",
   "execution_count": 16,
   "id": "76c56265",
   "metadata": {},
   "outputs": [
    {
     "data": {
      "text/plain": [
       "3"
      ]
     },
     "execution_count": 16,
     "metadata": {},
     "output_type": "execute_result"
    }
   ],
   "source": [
    "AV"
   ]
  },
  {
   "cell_type": "markdown",
   "id": "46dd78b2",
   "metadata": {},
   "source": [
    "- rule 3: it should not be key words"
   ]
  },
  {
   "cell_type": "code",
   "execution_count": 17,
   "id": "038e30fc",
   "metadata": {},
   "outputs": [
    {
     "ename": "SyntaxError",
     "evalue": "invalid syntax (1173836557.py, line 1)",
     "output_type": "error",
     "traceback": [
      "\u001b[1;36m  Cell \u001b[1;32mIn[17], line 1\u001b[1;36m\u001b[0m\n\u001b[1;33m    if=4\u001b[0m\n\u001b[1;37m      ^\u001b[0m\n\u001b[1;31mSyntaxError\u001b[0m\u001b[1;31m:\u001b[0m invalid syntax\n"
     ]
    }
   ],
   "source": [
    "if=4"
   ]
  },
  {
   "cell_type": "code",
   "execution_count": 18,
   "id": "2929b6d0",
   "metadata": {},
   "outputs": [],
   "source": [
    "IF= 4"
   ]
  },
  {
   "cell_type": "code",
   "execution_count": 19,
   "id": "d469e948",
   "metadata": {},
   "outputs": [
    {
     "data": {
      "text/plain": [
       "4"
      ]
     },
     "execution_count": 19,
     "metadata": {},
     "output_type": "execute_result"
    }
   ],
   "source": [
    "IF"
   ]
  },
  {
   "cell_type": "code",
   "execution_count": 20,
   "id": "f728a46f",
   "metadata": {},
   "outputs": [
    {
     "ename": "SyntaxError",
     "evalue": "invalid decimal literal (143193357.py, line 1)",
     "output_type": "error",
     "traceback": [
      "\u001b[1;36m  Cell \u001b[1;32mIn[20], line 1\u001b[1;36m\u001b[0m\n\u001b[1;33m    4a=3\u001b[0m\n\u001b[1;37m    ^\u001b[0m\n\u001b[1;31mSyntaxError\u001b[0m\u001b[1;31m:\u001b[0m invalid decimal literal\n"
     ]
    }
   ],
   "source": [
    "4a=3"
   ]
  },
  {
   "cell_type": "markdown",
   "id": "45fb312b",
   "metadata": {},
   "source": [
    "- rule 4:python is case sensitive , it could be of any length \n"
   ]
  },
  {
   "cell_type": "code",
   "execution_count": 22,
   "id": "4a344eee",
   "metadata": {},
   "outputs": [],
   "source": [
    "_balmeet=90"
   ]
  },
  {
   "cell_type": "code",
   "execution_count": 23,
   "id": "e54afec0",
   "metadata": {},
   "outputs": [
    {
     "data": {
      "text/plain": [
       "90"
      ]
     },
     "execution_count": 23,
     "metadata": {},
     "output_type": "execute_result"
    }
   ],
   "source": [
    "_balmeet"
   ]
  },
  {
   "cell_type": "code",
   "execution_count": 25,
   "id": "0729b9a3",
   "metadata": {},
   "outputs": [
    {
     "ename": "SyntaxError",
     "evalue": "invalid syntax. Maybe you meant '==' or ':=' instead of '='? (621417560.py, line 1)",
     "output_type": "error",
     "traceback": [
      "\u001b[1;36m  Cell \u001b[1;32mIn[25], line 1\u001b[1;36m\u001b[0m\n\u001b[1;33m    @av=30 #no special case is allowed other than _\u001b[0m\n\u001b[1;37m     ^\u001b[0m\n\u001b[1;31mSyntaxError\u001b[0m\u001b[1;31m:\u001b[0m invalid syntax. Maybe you meant '==' or ':=' instead of '='?\n"
     ]
    }
   ],
   "source": [
    "@av=30 #no special case is allowed other than _"
   ]
  },
  {
   "cell_type": "code",
   "execution_count": 26,
   "id": "ff217fba",
   "metadata": {},
   "outputs": [],
   "source": [
    "khuhdijioero=30"
   ]
  },
  {
   "cell_type": "code",
   "execution_count": 27,
   "id": "84898e7d",
   "metadata": {},
   "outputs": [
    {
     "data": {
      "text/plain": [
       "30"
      ]
     },
     "execution_count": 27,
     "metadata": {},
     "output_type": "execute_result"
    }
   ],
   "source": [
    "khuhdijioero"
   ]
  },
  {
   "cell_type": "markdown",
   "id": "59efdeff",
   "metadata": {},
   "source": [
    "# keywords : special words/reserved words which has implicit meaning"
   ]
  },
  {
   "cell_type": "code",
   "execution_count": 31,
   "id": "72dd67eb",
   "metadata": {},
   "outputs": [
    {
     "name": "stdout",
     "output_type": "stream",
     "text": [
      "['False', 'None', 'True', 'and', 'as', 'assert', 'async', 'await', 'break', 'class', 'continue', 'def', 'del', 'elif', 'else', 'except', 'finally', 'for', 'from', 'global', 'if', 'import', 'in', 'is', 'lambda', 'nonlocal', 'not', 'or', 'pass', 'raise', 'return', 'try', 'while', 'with', 'yield']\n"
     ]
    }
   ],
   "source": [
    "import keyword #keywords always appears in green colours\n",
    "print (keyword.kwlist)"
   ]
  },
  {
   "cell_type": "code",
   "execution_count": 35,
   "id": "29de553b",
   "metadata": {},
   "outputs": [
    {
     "ename": "SyntaxError",
     "evalue": "expected ':' (170864204.py, line 1)",
     "output_type": "error",
     "traceback": [
      "\u001b[1;36m  Cell \u001b[1;32mIn[35], line 1\u001b[1;36m\u001b[0m\n\u001b[1;33m    try=30 # this error is showing because if is a keyword and we cannot name variables keywords. they should not be keywords\u001b[0m\n\u001b[1;37m       ^\u001b[0m\n\u001b[1;31mSyntaxError\u001b[0m\u001b[1;31m:\u001b[0m expected ':'\n"
     ]
    }
   ],
   "source": [
    "try=30 # this error is showing because if it is a keyword, we cannot name variables keywords.Variables names should not be keywords"
   ]
  },
  {
   "cell_type": "code",
   "execution_count": 33,
   "id": "566a42af",
   "metadata": {},
   "outputs": [],
   "source": [
    "TRY = 30"
   ]
  },
  {
   "cell_type": "code",
   "execution_count": 34,
   "id": "11fd11df",
   "metadata": {},
   "outputs": [
    {
     "data": {
      "text/plain": [
       "30"
      ]
     },
     "execution_count": 34,
     "metadata": {},
     "output_type": "execute_result"
    }
   ],
   "source": [
    "TRY"
   ]
  },
  {
   "cell_type": "markdown",
   "id": "426fc2a4",
   "metadata": {},
   "source": [
    "# literals"
   ]
  },
  {
   "cell_type": "code",
   "execution_count": 36,
   "id": "0af58529",
   "metadata": {},
   "outputs": [],
   "source": [
    "a=80 ## here 80 is value / literal"
   ]
  },
  {
   "cell_type": "markdown",
   "id": "85041f94",
   "metadata": {},
   "source": [
    "## data types : it signifies the type of data that python supports\n",
    "\n",
    "\n",
    "### 1-numeric \n",
    "- int\n",
    "- float\n",
    "- complex"
   ]
  },
  {
   "cell_type": "code",
   "execution_count": 46,
   "id": "0d09118c",
   "metadata": {},
   "outputs": [
    {
     "name": "stdout",
     "output_type": "stream",
     "text": [
      "890\n",
      "<class 'int'>\n"
     ]
    },
    {
     "data": {
      "text/plain": [
       "int"
      ]
     },
     "execution_count": 46,
     "metadata": {},
     "output_type": "execute_result"
    }
   ],
   "source": [
    "#int\n",
    "a=890\n",
    "print(a)\n",
    "print(type(a))\n",
    "type(a)"
   ]
  },
  {
   "cell_type": "code",
   "execution_count": 47,
   "id": "0e1046e4",
   "metadata": {},
   "outputs": [
    {
     "name": "stdout",
     "output_type": "stream",
     "text": [
      "24\n",
      "<class 'int'>\n"
     ]
    }
   ],
   "source": [
    "a=150\n",
    "print(24)\n",
    "print(type(a))"
   ]
  },
  {
   "cell_type": "code",
   "execution_count": 49,
   "id": "bc361059",
   "metadata": {},
   "outputs": [
    {
     "name": "stdout",
     "output_type": "stream",
     "text": [
      "45\n",
      "<class 'int'>\n"
     ]
    }
   ],
   "source": [
    "## float : decimal\n",
    "a=45\n",
    "print (a)\n",
    "print (type(a))"
   ]
  },
  {
   "cell_type": "code",
   "execution_count": 51,
   "id": "7ca6fc9b",
   "metadata": {},
   "outputs": [
    {
     "name": "stdout",
     "output_type": "stream",
     "text": [
      "(90+8j)\n",
      "<class 'complex'>\n"
     ]
    }
   ],
   "source": [
    "# complex : real+imaginary part\n",
    "a=90+8j\n",
    "print(a)\n",
    "print(type(a))"
   ]
  },
  {
   "cell_type": "markdown",
   "id": "ea126196",
   "metadata": {},
   "source": [
    "## 2-sequence :\n",
    "- string\n",
    "- list\n",
    "- tuple"
   ]
  },
  {
   "cell_type": "markdown",
   "id": "30cab513",
   "metadata": {},
   "source": [
    "### string\n",
    "- using ''\n",
    "- using \"\"\n",
    "- using ''''''"
   ]
  },
  {
   "cell_type": "code",
   "execution_count": 1,
   "id": "0f5eb1c7",
   "metadata": {},
   "outputs": [
    {
     "name": "stdout",
     "output_type": "stream",
     "text": [
      "madrid solution\n",
      "<class 'str'>\n"
     ]
    }
   ],
   "source": [
    "a= 'madrid solution' # hum kabhi bhi \"\" ye ya '' ye use karte h strings mei\n",
    "print (a)\n",
    "print(type(a))"
   ]
  },
  {
   "cell_type": "code",
   "execution_count": 2,
   "id": "8cc63a3b",
   "metadata": {},
   "outputs": [
    {
     "name": "stdout",
     "output_type": "stream",
     "text": [
      "madrid solution\n",
      "<class 'str'>\n"
     ]
    }
   ],
   "source": [
    "b=\"madrid solution\"\n",
    "print(b)\n",
    "print(type(b))"
   ]
  },
  {
   "cell_type": "code",
   "execution_count": 3,
   "id": "c25ad084",
   "metadata": {},
   "outputs": [
    {
     "name": "stdout",
     "output_type": "stream",
     "text": [
      "how'r u\n",
      "<class 'str'>\n"
     ]
    }
   ],
   "source": [
    "## task 1: how'r u \n",
    "s= \"how'r u\" #agar text ke beech mei single ' ye use ho raha h toh hume \" \" ye lagana jaruri and vice versa\n",
    "print (s)\n",
    "print(type(s))"
   ]
  },
  {
   "cell_type": "code",
   "execution_count": 4,
   "id": "8d756728",
   "metadata": {},
   "outputs": [
    {
     "name": "stdout",
     "output_type": "stream",
     "text": [
      "hi how r u \n",
      "python is interesting\n",
      "<class 'str'>\n"
     ]
    }
   ],
   "source": [
    "#using ''''''\n",
    "a= '''hi how r u \n",
    "python is interesting'''\n",
    "print(a)\n",
    "print(type(a))"
   ]
  },
  {
   "cell_type": "markdown",
   "id": "cd05a386",
   "metadata": {},
   "source": [
    "## list ( it is the ordered collection of multiple data)"
   ]
  },
  {
   "cell_type": "code",
   "execution_count": 6,
   "id": "d3ea9911",
   "metadata": {},
   "outputs": [
    {
     "name": "stdout",
     "output_type": "stream",
     "text": [
      "[23, 'khushi', 40.5, 'f']\n",
      "<class 'list'>\n"
     ]
    }
   ],
   "source": [
    "student=[23,\"khushi\",40.5,\"f\"] ## hetrogeneous list - elements are of diff types\n",
    "print (student)\n",
    "print(type(student))"
   ]
  },
  {
   "cell_type": "code",
   "execution_count": 7,
   "id": "65b402a7",
   "metadata": {},
   "outputs": [
    {
     "name": "stdout",
     "output_type": "stream",
     "text": [
      "<class 'list'>\n"
     ]
    }
   ],
   "source": [
    "marks=[34,56,67] ##homogenous list - elements are of same type.\n",
    "print(type(marks))"
   ]
  },
  {
   "cell_type": "markdown",
   "id": "b574d0d9",
   "metadata": {},
   "source": [
    "## tuple"
   ]
  },
  {
   "cell_type": "code",
   "execution_count": 9,
   "id": "4809c523",
   "metadata": {},
   "outputs": [
    {
     "name": "stdout",
     "output_type": "stream",
     "text": [
      "(12, 'leena', 'f')\n",
      "<class 'tuple'>\n"
     ]
    }
   ],
   "source": [
    "## tuple\n",
    "t=(12,'leena','f')\n",
    "print (t)\n",
    "print(type(t))"
   ]
  },
  {
   "cell_type": "markdown",
   "id": "a3dac7a0",
   "metadata": {},
   "source": [
    "## type casting : type conversions"
   ]
  },
  {
   "cell_type": "code",
   "execution_count": 11,
   "id": "c569eed6",
   "metadata": {},
   "outputs": [
    {
     "name": "stdout",
     "output_type": "stream",
     "text": [
      "<class 'str'>\n",
      "80\n",
      "<class 'int'>\n"
     ]
    }
   ],
   "source": [
    "#str to int\n",
    "s=\"80\"\n",
    "print(type(s))\n",
    "s1=int(s)\n",
    "print(s1)\n",
    "print(type(s1))"
   ]
  },
  {
   "cell_type": "code",
   "execution_count": 12,
   "id": "da1da480",
   "metadata": {},
   "outputs": [
    {
     "name": "stdout",
     "output_type": "stream",
     "text": [
      "<class 'str'>\n"
     ]
    },
    {
     "ename": "ValueError",
     "evalue": "invalid literal for int() with base 10: 'madrid'",
     "output_type": "error",
     "traceback": [
      "\u001b[1;31m---------------------------------------------------------------------------\u001b[0m",
      "\u001b[1;31mValueError\u001b[0m                                Traceback (most recent call last)",
      "Cell \u001b[1;32mIn[12], line 3\u001b[0m\n\u001b[0;32m      1\u001b[0m a\u001b[38;5;241m=\u001b[39m\u001b[38;5;124m\"\u001b[39m\u001b[38;5;124mmadrid\u001b[39m\u001b[38;5;124m\"\u001b[39m\n\u001b[0;32m      2\u001b[0m \u001b[38;5;28mprint\u001b[39m(\u001b[38;5;28mtype\u001b[39m(a))\n\u001b[1;32m----> 3\u001b[0m a1\u001b[38;5;241m=\u001b[39m\u001b[38;5;28;43mint\u001b[39;49m\u001b[43m(\u001b[49m\u001b[43ma\u001b[49m\u001b[43m)\u001b[49m\n\u001b[0;32m      4\u001b[0m \u001b[38;5;28mprint\u001b[39m(a1)\n\u001b[0;32m      5\u001b[0m \u001b[38;5;28mprint\u001b[39m(\u001b[38;5;28mtype\u001b[39m(a1))\n",
      "\u001b[1;31mValueError\u001b[0m: invalid literal for int() with base 10: 'madrid'"
     ]
    }
   ],
   "source": [
    "a=\"madrid\" #error will appear because madrid do not have any numeric value to appear\n",
    "print(type(a))\n",
    "a1=int(a)\n",
    "print(a1)\n",
    "print(type(a1))"
   ]
  },
  {
   "cell_type": "code",
   "execution_count": 14,
   "id": "bb3be9c4",
   "metadata": {},
   "outputs": [
    {
     "name": "stdout",
     "output_type": "stream",
     "text": [
      "<class 'int'>\n",
      "90\n",
      "<class 'str'>\n"
     ]
    },
    {
     "data": {
      "text/plain": [
       "'90'"
      ]
     },
     "execution_count": 14,
     "metadata": {},
     "output_type": "execute_result"
    }
   ],
   "source": [
    "#int to str\n",
    "b=90\n",
    "print(type(b))\n",
    "b1=str(b)\n",
    "print(b)\n",
    "print(type(b1))\n",
    "b1"
   ]
  },
  {
   "cell_type": "code",
   "execution_count": 15,
   "id": "2a997aca",
   "metadata": {},
   "outputs": [
    {
     "name": "stdout",
     "output_type": "stream",
     "text": [
      "<class 'float'>\n",
      "90.4\n",
      "<class 'str'>\n"
     ]
    }
   ],
   "source": [
    "#float to str\n",
    "c=90.4\n",
    "print(type(c))\n",
    "c1=str(c)\n",
    "print(c1)\n",
    "print(type(c1))"
   ]
  },
  {
   "cell_type": "code",
   "execution_count": 16,
   "id": "6f223398",
   "metadata": {},
   "outputs": [
    {
     "name": "stdout",
     "output_type": "stream",
     "text": [
      "<class 'str'>\n",
      "30.567\n",
      "<class 'float'>\n"
     ]
    }
   ],
   "source": [
    "#string to float\n",
    "d=\"30.567\"\n",
    "print(type(d))\n",
    "d1=float(d)\n",
    "print(d1)\n",
    "print(type(d1))"
   ]
  },
  {
   "cell_type": "code",
   "execution_count": 17,
   "id": "fbbd1caa",
   "metadata": {},
   "outputs": [
    {
     "name": "stdout",
     "output_type": "stream",
     "text": [
      "<class 'str'>\n",
      "56\n",
      "<class 'int'>\n"
     ]
    }
   ],
   "source": [
    "#str to int\n",
    "e=\"56.789\"\n",
    "print(type(e))\n",
    "e1=float(e)\n",
    "e2=int(e1)\n",
    "print(e2)\n",
    "print(type(e2))"
   ]
  },
  {
   "cell_type": "code",
   "execution_count": 20,
   "id": "0a45854a",
   "metadata": {},
   "outputs": [
    {
     "name": "stdout",
     "output_type": "stream",
     "text": [
      "[12, 45, 78]\n",
      "<class 'list'>\n",
      "(12, 45, 78)\n",
      "<class 'tuple'>\n"
     ]
    }
   ],
   "source": [
    "#list to tuple\n",
    "l=[12,45,78]\n",
    "print(l)\n",
    "print(type(l))\n",
    "l1=tuple(l)\n",
    "print(l1)\n",
    "print(type(l1))"
   ]
  },
  {
   "cell_type": "markdown",
   "id": "9eab6519",
   "metadata": {},
   "source": [
    "## boolean: true/false"
   ]
  },
  {
   "cell_type": "code",
   "execution_count": 23,
   "id": "88b052f2",
   "metadata": {},
   "outputs": [
    {
     "name": "stdout",
     "output_type": "stream",
     "text": [
      "True\n",
      "<class 'bool'>\n"
     ]
    }
   ],
   "source": [
    "a=True\n",
    "print(a)\n",
    "print(type(a))"
   ]
  },
  {
   "cell_type": "code",
   "execution_count": 25,
   "id": "59bead04",
   "metadata": {},
   "outputs": [
    {
     "name": "stdout",
     "output_type": "stream",
     "text": [
      "1\n",
      "<class 'int'>\n"
     ]
    }
   ],
   "source": [
    "a1=int(a) #yaha 1 isliye show ho raha h kyuki true ki value 1 hoti h aur false ki value 0 hoti h  \n",
    "print(a1)\n",
    "print(type(a1))"
   ]
  },
  {
   "cell_type": "markdown",
   "id": "1025a1cd",
   "metadata": {},
   "source": [
    "print() ### kuch bhi display karane ke liye hum use karenge inbuilt function print\n",
    "### description read karne ke liye - shift + table\n",
    "- function ke andar jo bhi humne diya h unhe kehte h ARGUEMENTS\n",
    "3 arguments in detail\n",
    "- value- means the thing we write in code , we can give commas to write more values\n",
    "- separator- by default sep provides space in text and if we want to seperate text using any special character then we can write it in \"\".\n",
    "- end - /n means new line generate karna"
   ]
  },
  {
   "cell_type": "markdown",
   "id": "4e00f795",
   "metadata": {},
   "source": [
    "print(12)"
   ]
  },
  {
   "cell_type": "code",
   "execution_count": 3,
   "id": "0358a44c",
   "metadata": {},
   "outputs": [
    {
     "name": "stdout",
     "output_type": "stream",
     "text": [
      "12 hello\n"
     ]
    }
   ],
   "source": [
    "print(12, \"hello\")"
   ]
  },
  {
   "cell_type": "code",
   "execution_count": 2,
   "id": "f034cee3",
   "metadata": {},
   "outputs": [
    {
     "name": "stdout",
     "output_type": "stream",
     "text": [
      "12-hello\n"
     ]
    }
   ],
   "source": [
    "print(12,\"hello\",sep=\"-\")"
   ]
  },
  {
   "cell_type": "code",
   "execution_count": 1,
   "id": "ff998a75",
   "metadata": {},
   "outputs": [
    {
     "name": "stdout",
     "output_type": "stream",
     "text": [
      "12-hello-python@@@how r u\n",
      "hello\n"
     ]
    }
   ],
   "source": [
    "print(12,\"hello\",\"python\",sep=\"-\",end=\"@@@\")\n",
    "print(\"how r u\")\n",
    "print(\"hello\")"
   ]
  },
  {
   "cell_type": "markdown",
   "id": "697fe362",
   "metadata": {},
   "source": [
    "## note : in python any number can also be string if their is no mathematical operation going to take place. In python numbers can be string,float and int.\n",
    "- for example - entering roll nos of students are both int and string but entering salaries of employees will only be int because their will be mathematical operations involved like avg salary, max salary etc\n",
    "- agar qoutes mei hoga numerical data toh vo string hoga .\n",
    "- whatever we write in '' or \"\" it becomes strings where it is a no or words"
   ]
  },
  {
   "cell_type": "markdown",
   "id": "95e05e3d",
   "metadata": {},
   "source": [
    "# input():"
   ]
  },
  {
   "cell_type": "code",
   "execution_count": 1,
   "id": "23f91288",
   "metadata": {},
   "outputs": [
    {
     "name": "stdout",
     "output_type": "stream",
     "text": [
      "enter the number45\n"
     ]
    }
   ],
   "source": [
    "a=input(\"enter the number\")##it takes the input from user and consider it in the form of string"
   ]
  },
  {
   "cell_type": "code",
   "execution_count": 3,
   "id": "caf55ebe",
   "metadata": {},
   "outputs": [
    {
     "data": {
      "text/plain": [
       "'45'"
      ]
     },
     "execution_count": 3,
     "metadata": {},
     "output_type": "execute_result"
    }
   ],
   "source": [
    "a ## access that value in the container called as a"
   ]
  },
  {
   "cell_type": "code",
   "execution_count": 5,
   "id": "1c105f33",
   "metadata": {},
   "outputs": [
    {
     "data": {
      "text/plain": [
       "str"
      ]
     },
     "execution_count": 5,
     "metadata": {},
     "output_type": "execute_result"
    }
   ],
   "source": [
    "type(a) ##by default input shows the values in string"
   ]
  },
  {
   "cell_type": "markdown",
   "id": "3874839d",
   "metadata": {},
   "source": [
    "# operators\n",
    "- arithmetic operators\n",
    "- logical\n",
    "- realtional/comparisons\n",
    "- bit wise \n",
    "- shorthand\n",
    "- special\n",
    "   - membership\n",
    "   - equality"
   ]
  },
  {
   "cell_type": "markdown",
   "id": "5b802f4b",
   "metadata": {},
   "source": [
    "## 1- arithmetic operators"
   ]
  },
  {
   "cell_type": "code",
   "execution_count": 1,
   "id": "e55b99fe",
   "metadata": {},
   "outputs": [
    {
     "data": {
      "text/plain": [
       "'we have written int here before input because in input function the output\\ncomes in str by default and in str we cannot perform mathematical operations. so to change int from str we have written int before \\ninput'"
      ]
     },
     "execution_count": 1,
     "metadata": {},
     "output_type": "execute_result"
    }
   ],
   "source": [
    "'''we have written int here before input because in input function the output\n",
    "comes in str by default and in str we cannot perform mathematical operations. so to change int from str we have written int before \n",
    "input'''"
   ]
  },
  {
   "cell_type": "code",
   "execution_count": 17,
   "id": "d1a9d060",
   "metadata": {},
   "outputs": [
    {
     "name": "stdout",
     "output_type": "stream",
     "text": [
      "enter the first number2\n",
      "enter the second number 4\n",
      "the addition of  2 and 4 is 6\n",
      "the subtraction of  2 and 4 is -2\n",
      "the multiplication of  2 and 4 is 8\n",
      "the division of  2 and 4 is 0.5\n",
      "the floor division of  2 and 4 is 0\n",
      "the power of  2 and 4 is 16\n"
     ]
    }
   ],
   "source": [
    "number1=int(input(\"enter the first number\"))\n",
    "number2=int(input(\"enter the second number\"))\n",
    "add=number1+number2\n",
    "sub=number1-number2\n",
    "mult=number1*number2\n",
    "div=number1/number2\n",
    "f_div=number1//number2\n",
    "power=number1**number2\n",
    "print(\"the addition of \",number1,\"and\",number2,\"is\",add)\n",
    "print(\"the subtraction of \",number1,\"and\",number2,\"is\",sub)\n",
    "print(\"the multiplication of \",number1,\"and\",number2,\"is\",mult)\n",
    "print(\"the division of \",number1,\"and\",number2,\"is\",div)\n",
    "print(\"the floor division of \",number1,\"and\",number2,\"is\",f_div)\n",
    "print(\"the power of \",number1,\"and\",number2,\"is\",power)"
   ]
  },
  {
   "cell_type": "markdown",
   "id": "4a83b09c",
   "metadata": {},
   "source": [
    "### Q: \n",
    "Raj has 24 candies, simran has 34 candies, aditya has 21 candies . Candies would be equally distributed\n",
    "How many candies need to be distributed to each of them and remaning candies need to given to diksha ?\n",
    "\n"
   ]
  },
  {
   "cell_type": "code",
   "execution_count": 5,
   "id": "057e3ce2",
   "metadata": {},
   "outputs": [
    {
     "name": "stdout",
     "output_type": "stream",
     "text": [
      "raj candies 24\n",
      "simran candies 34\n",
      "aditya candies 21\n",
      "the total candies are 79\n",
      "the candies distributed equally between raj,simran and aditya are 26\n",
      "the remaning candies given to diksha are 1\n"
     ]
    }
   ],
   "source": [
    "raj=int(input(\"raj candies\"))\n",
    "simran=int(input(\"simran candies\"))\n",
    "aditya=int(input(\"aditya candies\"))\n",
    "add= raj+simran+aditya\n",
    "print(\"the total candies are\",add)\n",
    "f_div=add//3\n",
    "mod=add%3\n",
    "print(\"the candies distributed equally between raj,simran and aditya are\",f_div)\n",
    "print(\"the remaning candies given to diksha are\",mod)\n"
   ]
  },
  {
   "cell_type": "markdown",
   "id": "83f9d5a1",
   "metadata": {},
   "source": [
    "## 2-relational operators"
   ]
  },
  {
   "cell_type": "code",
   "execution_count": null,
   "id": "7573f948",
   "metadata": {},
   "outputs": [],
   "source": [
    "number1=int(input(\"enter the first number \")) \n",
    "number2=int(input(\"enter the second number \"))\n",
    "print(\"the greater \",number1>number2)\n",
    "print(\"the greater or equal  \",number1>=number2)\n",
    "print(\"the less \",number1<number2)\n",
    "print(\"the less or equal \",number1<=number2)\n",
    "print(\"the equal \",number1==number2)\n",
    "print(\"the not equal \",number1!=number2)\n",
    "\n"
   ]
  },
  {
   "cell_type": "markdown",
   "id": "ba68be98",
   "metadata": {},
   "source": [
    "## 3-logical\n",
    "- and\n",
    "- or \n",
    "- not"
   ]
  },
  {
   "cell_type": "code",
   "execution_count": 1,
   "id": "ebfd625f",
   "metadata": {},
   "outputs": [
    {
     "name": "stdout",
     "output_type": "stream",
     "text": [
      "or True\n",
      "or True\n",
      "or False\n",
      "or True\n"
     ]
    }
   ],
   "source": [
    "print(\"or\",True or False)\n",
    "print(\"or\",True or True)\n",
    "print(\"or\",False or False)\n",
    "print(\"or\",False or True)"
   ]
  },
  {
   "cell_type": "code",
   "execution_count": 2,
   "id": "4175d8a3",
   "metadata": {},
   "outputs": [
    {
     "name": "stdout",
     "output_type": "stream",
     "text": [
      "and False\n",
      "and True\n",
      "and False\n",
      "and False\n"
     ]
    }
   ],
   "source": [
    "print(\"and\",True and False)\n",
    "print(\"and\",True and True)\n",
    "print(\"and\",False and False)\n",
    "print(\"and\",False and True)"
   ]
  },
  {
   "cell_type": "code",
   "execution_count": 4,
   "id": "34a114d7",
   "metadata": {},
   "outputs": [
    {
     "data": {
      "text/plain": [
       "False"
      ]
     },
     "execution_count": 4,
     "metadata": {},
     "output_type": "execute_result"
    }
   ],
   "source": [
    "not(True)"
   ]
  },
  {
   "cell_type": "code",
   "execution_count": 5,
   "id": "edd58eaf",
   "metadata": {},
   "outputs": [
    {
     "data": {
      "text/plain": [
       "True"
      ]
     },
     "execution_count": 5,
     "metadata": {},
     "output_type": "execute_result"
    }
   ],
   "source": [
    "not(False)"
   ]
  },
  {
   "cell_type": "code",
   "execution_count": null,
   "id": "c46ffe0f",
   "metadata": {},
   "outputs": [],
   "source": [
    "## positive and negative nos are treated as true nd 0 is treated as false"
   ]
  },
  {
   "cell_type": "code",
   "execution_count": 6,
   "id": "294f413f",
   "metadata": {},
   "outputs": [
    {
     "name": "stdout",
     "output_type": "stream",
     "text": [
      "enter the first number67\n",
      "enter the second number 78\n"
     ]
    },
    {
     "data": {
      "text/plain": [
       "67"
      ]
     },
     "execution_count": 6,
     "metadata": {},
     "output_type": "execute_result"
    }
   ],
   "source": [
    "number1=int(input(\"enter the first number\"))\n",
    "number2=int(input(\"enter the second number\"))\n",
    "number1 or number2"
   ]
  },
  {
   "cell_type": "code",
   "execution_count": 12,
   "id": "45e1548e",
   "metadata": {},
   "outputs": [],
   "source": [
    "##in the upper case the first number appears in output in \"or\" situation because \"or\" operator always take the 1st operant if its\n",
    "##in true state(+ve or -ve nos) and if its in false state(o) then it will look the 2nd operator and gives the output accordingly.\n",
    "##if the 1st no will be and 2nd is in true state then it will give 2nd no as an output"
   ]
  },
  {
   "cell_type": "code",
   "execution_count": 8,
   "id": "3398fdbe",
   "metadata": {},
   "outputs": [
    {
     "name": "stdout",
     "output_type": "stream",
     "text": [
      "enter the first number 0\n",
      "enter the second number 89\n"
     ]
    },
    {
     "data": {
      "text/plain": [
       "89"
      ]
     },
     "execution_count": 8,
     "metadata": {},
     "output_type": "execute_result"
    }
   ],
   "source": [
    "number1=int(input(\"enter the first number\"))\n",
    "number2=int(input(\"enter the second number\"))\n",
    "number1 or number2"
   ]
  },
  {
   "cell_type": "code",
   "execution_count": 9,
   "id": "b0e95043",
   "metadata": {},
   "outputs": [
    {
     "name": "stdout",
     "output_type": "stream",
     "text": [
      "enter the first number -67\n",
      "enter the second number 0\n"
     ]
    },
    {
     "data": {
      "text/plain": [
       "-67"
      ]
     },
     "execution_count": 9,
     "metadata": {},
     "output_type": "execute_result"
    }
   ],
   "source": [
    "number1=int(input(\"enter the first number\"))\n",
    "number2=int(input(\"enter the second number\"))\n",
    "number1 or number2"
   ]
  },
  {
   "cell_type": "code",
   "execution_count": 10,
   "id": "c2c95a91",
   "metadata": {},
   "outputs": [
    {
     "name": "stdout",
     "output_type": "stream",
     "text": [
      "enter the first number -89\n",
      "enter the second number89\n"
     ]
    },
    {
     "data": {
      "text/plain": [
       "-89"
      ]
     },
     "execution_count": 10,
     "metadata": {},
     "output_type": "execute_result"
    }
   ],
   "source": [
    "number1=int(input(\"enter the first number\"))\n",
    "number2=int(input(\"enter the second number\"))\n",
    "number1 or number2"
   ]
  },
  {
   "cell_type": "code",
   "execution_count": 11,
   "id": "bbd5bd42",
   "metadata": {},
   "outputs": [],
   "source": [
    "##In \"AND\" case if both the situations are true then only the output will be true.\n",
    "## if any of the situation will be false the output will be false.\n",
    "## the and operator will always consider the 2nd operant in case of true situation.\n"
   ]
  },
  {
   "cell_type": "code",
   "execution_count": 13,
   "id": "53483a92",
   "metadata": {},
   "outputs": [
    {
     "name": "stdout",
     "output_type": "stream",
     "text": [
      "enter the first number 60\n",
      "enter the second number0\n"
     ]
    },
    {
     "data": {
      "text/plain": [
       "0"
      ]
     },
     "execution_count": 13,
     "metadata": {},
     "output_type": "execute_result"
    }
   ],
   "source": [
    "number1=int(input(\"enter the first number\"))\n",
    "number2=int(input(\"enter the second number\"))\n",
    "number1 and number2"
   ]
  },
  {
   "cell_type": "code",
   "execution_count": 14,
   "id": "e255e7ce",
   "metadata": {},
   "outputs": [
    {
     "name": "stdout",
     "output_type": "stream",
     "text": [
      "enter the first number -78\n",
      "enter the second number68\n"
     ]
    },
    {
     "data": {
      "text/plain": [
       "68"
      ]
     },
     "execution_count": 14,
     "metadata": {},
     "output_type": "execute_result"
    }
   ],
   "source": [
    "number1=int(input(\"enter the first number\"))\n",
    "number2=int(input(\"enter the second number\"))\n",
    "number1 and number2"
   ]
  },
  {
   "cell_type": "code",
   "execution_count": 15,
   "id": "b6994688",
   "metadata": {},
   "outputs": [
    {
     "name": "stdout",
     "output_type": "stream",
     "text": [
      "enter the first number 0\n",
      "enter the second number -68\n"
     ]
    },
    {
     "data": {
      "text/plain": [
       "0"
      ]
     },
     "execution_count": 15,
     "metadata": {},
     "output_type": "execute_result"
    }
   ],
   "source": [
    "number1=int(input(\"enter the first number\"))\n",
    "number2=int(input(\"enter the second number\"))\n",
    "number1 and number2"
   ]
  },
  {
   "cell_type": "code",
   "execution_count": 16,
   "id": "e7bf1e23",
   "metadata": {},
   "outputs": [
    {
     "name": "stdout",
     "output_type": "stream",
     "text": [
      "enter the first number 78\n",
      "enter the second number10\n"
     ]
    },
    {
     "data": {
      "text/plain": [
       "10"
      ]
     },
     "execution_count": 16,
     "metadata": {},
     "output_type": "execute_result"
    }
   ],
   "source": [
    "number1=int(input(\"enter the first number\"))\n",
    "number2=int(input(\"enter the second number\"))\n",
    "number1 and number2"
   ]
  },
  {
   "cell_type": "code",
   "execution_count": 17,
   "id": "e9a05fae",
   "metadata": {},
   "outputs": [
    {
     "data": {
      "text/plain": [
       "True"
      ]
     },
     "execution_count": 17,
     "metadata": {},
     "output_type": "execute_result"
    }
   ],
   "source": [
    "not(0)"
   ]
  },
  {
   "cell_type": "code",
   "execution_count": 18,
   "id": "ae951444",
   "metadata": {},
   "outputs": [
    {
     "data": {
      "text/plain": [
       "False"
      ]
     },
     "execution_count": 18,
     "metadata": {},
     "output_type": "execute_result"
    }
   ],
   "source": [
    "not(8)"
   ]
  },
  {
   "cell_type": "markdown",
   "id": "a2eb66bd",
   "metadata": {},
   "source": [
    "## 4-bit wise : not recommended for data analytics\n",
    "## 5- shorthand:\n",
    "    - x+=y\n",
    "   - expanded:x=x+y"
   ]
  },
  {
   "cell_type": "markdown",
   "id": "338451d1",
   "metadata": {},
   "source": [
    "## 6- special\n",
    " ### a) membership\n",
    "\n",
    "- in\n",
    "- not in"
   ]
  },
  {
   "cell_type": "code",
   "execution_count": 20,
   "id": "ffe37fec",
   "metadata": {},
   "outputs": [
    {
     "data": {
      "text/plain": [
       "True"
      ]
     },
     "execution_count": 20,
     "metadata": {},
     "output_type": "execute_result"
    }
   ],
   "source": [
    "\"m\" in \"madrid\""
   ]
  },
  {
   "cell_type": "code",
   "execution_count": 21,
   "id": "040a401d",
   "metadata": {},
   "outputs": [
    {
     "data": {
      "text/plain": [
       "True"
      ]
     },
     "execution_count": 21,
     "metadata": {},
     "output_type": "execute_result"
    }
   ],
   "source": [
    "\"mad\" in \"madrid\""
   ]
  },
  {
   "cell_type": "code",
   "execution_count": 22,
   "id": "6cc7b275",
   "metadata": {},
   "outputs": [
    {
     "data": {
      "text/plain": [
       "False"
      ]
     },
     "execution_count": 22,
     "metadata": {},
     "output_type": "execute_result"
    }
   ],
   "source": [
    "\"mda\" in \"madrid\""
   ]
  },
  {
   "cell_type": "code",
   "execution_count": 23,
   "id": "eb94354f",
   "metadata": {},
   "outputs": [
    {
     "data": {
      "text/plain": [
       "True"
      ]
     },
     "execution_count": 23,
     "metadata": {},
     "output_type": "execute_result"
    }
   ],
   "source": [
    "\"12\" in \"64822012\""
   ]
  },
  {
   "cell_type": "code",
   "execution_count": 25,
   "id": "3ca096aa",
   "metadata": {},
   "outputs": [
    {
     "ename": "TypeError",
     "evalue": "'in <string>' requires string as left operand, not int",
     "output_type": "error",
     "traceback": [
      "\u001b[1;31m---------------------------------------------------------------------------\u001b[0m",
      "\u001b[1;31mTypeError\u001b[0m                                 Traceback (most recent call last)",
      "Cell \u001b[1;32mIn[25], line 1\u001b[0m\n\u001b[1;32m----> 1\u001b[0m \u001b[38;5;241;43m45\u001b[39;49m\u001b[43m \u001b[49m\u001b[38;5;129;43;01min\u001b[39;49;00m\u001b[43m \u001b[49m\u001b[38;5;124;43m\"\u001b[39;49m\u001b[38;5;124;43m8390245\u001b[39;49m\u001b[38;5;124;43m\"\u001b[39;49m\n",
      "\u001b[1;31mTypeError\u001b[0m: 'in <string>' requires string as left operand, not int"
     ]
    }
   ],
   "source": [
    "45 in \"8390245\" ##the error is showing bcoz 45 is in int state and 8390245 is in str state"
   ]
  },
  {
   "cell_type": "code",
   "execution_count": 20,
   "id": "6b0c0580",
   "metadata": {},
   "outputs": [
    {
     "data": {
      "text/plain": [
       "['khushi', 'vidushi', 'shivangi']"
      ]
     },
     "execution_count": 20,
     "metadata": {},
     "output_type": "execute_result"
    }
   ],
   "source": [
    "l=[\"khushi\",\"vidushi\",\"shivangi\"]\n",
    "l"
   ]
  },
  {
   "cell_type": "code",
   "execution_count": 21,
   "id": "18ffb58d",
   "metadata": {},
   "outputs": [
    {
     "data": {
      "text/plain": [
       "False"
      ]
     },
     "execution_count": 21,
     "metadata": {},
     "output_type": "execute_result"
    }
   ],
   "source": [
    "\"devender\" in l"
   ]
  },
  {
   "cell_type": "code",
   "execution_count": 22,
   "id": "ee3fcb79",
   "metadata": {},
   "outputs": [
    {
     "data": {
      "text/plain": [
       "True"
      ]
     },
     "execution_count": 22,
     "metadata": {},
     "output_type": "execute_result"
    }
   ],
   "source": [
    "\"khushi\" in l"
   ]
  },
  {
   "cell_type": "code",
   "execution_count": 23,
   "id": "e9052e4e",
   "metadata": {},
   "outputs": [
    {
     "data": {
      "text/plain": [
       "False"
      ]
     },
     "execution_count": 23,
     "metadata": {},
     "output_type": "execute_result"
    }
   ],
   "source": [
    "\"khushi\" not in l"
   ]
  },
  {
   "cell_type": "code",
   "execution_count": 24,
   "id": "5fd08444",
   "metadata": {},
   "outputs": [
    {
     "data": {
      "text/plain": [
       "True"
      ]
     },
     "execution_count": 24,
     "metadata": {},
     "output_type": "execute_result"
    }
   ],
   "source": [
    "\"kanika\" not in l"
   ]
  },
  {
   "cell_type": "code",
   "execution_count": 25,
   "id": "817ba765",
   "metadata": {},
   "outputs": [
    {
     "data": {
      "text/plain": [
       "False"
      ]
     },
     "execution_count": 25,
     "metadata": {},
     "output_type": "execute_result"
    }
   ],
   "source": [
    "\"khu\" in l"
   ]
  },
  {
   "cell_type": "markdown",
   "id": "6fbb057b",
   "metadata": {},
   "source": [
    "### b) equally\n",
    " - is \n",
    " - is not \n",
    "(##it simply compares the memory address of the data)"
   ]
  },
  {
   "cell_type": "code",
   "execution_count": 29,
   "id": "191ccc14",
   "metadata": {},
   "outputs": [
    {
     "data": {
      "text/plain": [
       "True"
      ]
     },
     "execution_count": 29,
     "metadata": {},
     "output_type": "execute_result"
    }
   ],
   "source": [
    "a=90\n",
    "b=90\n",
    "a is b"
   ]
  },
  {
   "cell_type": "code",
   "execution_count": 30,
   "id": "4782478c",
   "metadata": {},
   "outputs": [
    {
     "data": {
      "text/plain": [
       "False"
      ]
     },
     "execution_count": 30,
     "metadata": {},
     "output_type": "execute_result"
    }
   ],
   "source": [
    "a=45\n",
    "b=67\n",
    "a is b"
   ]
  },
  {
   "cell_type": "code",
   "execution_count": 31,
   "id": "f7424db7",
   "metadata": {},
   "outputs": [
    {
     "data": {
      "text/plain": [
       "False"
      ]
     },
     "execution_count": 31,
     "metadata": {},
     "output_type": "execute_result"
    }
   ],
   "source": [
    "a=90\n",
    "b=90\n",
    "a is not b"
   ]
  },
  {
   "cell_type": "code",
   "execution_count": 35,
   "id": "2da3b495",
   "metadata": {},
   "outputs": [
    {
     "name": "stdout",
     "output_type": "stream",
     "text": [
      "1544084457072\n",
      "1544084456720\n"
     ]
    },
    {
     "data": {
      "text/plain": [
       "True"
      ]
     },
     "execution_count": 35,
     "metadata": {},
     "output_type": "execute_result"
    }
   ],
   "source": [
    "a=45\n",
    "b=34\n",
    "print(id(a))\n",
    "print(id(b))\n",
    "a is not b"
   ]
  },
  {
   "cell_type": "markdown",
   "id": "91f7e58c",
   "metadata": {},
   "source": [
    "## escape sequence\n",
    "escape sequence is a special characters if we use them as a part of string then they dont represent themself but they change the behaviour of string\n"
   ]
  },
  {
   "cell_type": "code",
   "execution_count": 1,
   "id": "4998fb59",
   "metadata": {},
   "outputs": [
    {
     "name": "stdout",
     "output_type": "stream",
     "text": [
      "hello,,,balmeet\n"
     ]
    }
   ],
   "source": [
    "print(\"hello,,,balmeet\")"
   ]
  },
  {
   "cell_type": "markdown",
   "id": "20e5be45",
   "metadata": {},
   "source": [
    "## \\n: means to generate a new line"
   ]
  },
  {
   "cell_type": "code",
   "execution_count": 3,
   "id": "f637fd8b",
   "metadata": {},
   "outputs": [
    {
     "name": "stdout",
     "output_type": "stream",
     "text": [
      "hello\n",
      "balmeet\n"
     ]
    }
   ],
   "source": [
    "print(\"hello\\nbalmeet\")"
   ]
  },
  {
   "cell_type": "code",
   "execution_count": 4,
   "id": "866646ab",
   "metadata": {},
   "outputs": [],
   "source": [
    "#task : hello\\nbalmeet"
   ]
  },
  {
   "cell_type": "code",
   "execution_count": 5,
   "id": "158efe6f",
   "metadata": {},
   "outputs": [
    {
     "name": "stdout",
     "output_type": "stream",
     "text": [
      "hello\\nbalmeet\n"
     ]
    }
   ],
   "source": [
    "print(\"hello\\\\nbalmeet\")"
   ]
  },
  {
   "cell_type": "markdown",
   "id": "3da6b41e",
   "metadata": {},
   "source": [
    "## \\t: generates the tab(tab means 4 times space)"
   ]
  },
  {
   "cell_type": "code",
   "execution_count": 7,
   "id": "30a0bc82",
   "metadata": {},
   "outputs": [
    {
     "name": "stdout",
     "output_type": "stream",
     "text": [
      "hello\tbalmeet\n"
     ]
    }
   ],
   "source": [
    "print(\"hello\\tbalmeet\")"
   ]
  },
  {
   "cell_type": "code",
   "execution_count": 8,
   "id": "7da70d02",
   "metadata": {},
   "outputs": [
    {
     "name": "stdout",
     "output_type": "stream",
     "text": [
      "hello\\tbalmeet\n"
     ]
    }
   ],
   "source": [
    "print(\"hello\\\\tbalmeet\")"
   ]
  },
  {
   "cell_type": "markdown",
   "id": "44eb8ae2",
   "metadata": {},
   "source": [
    "## task: how'r u "
   ]
  },
  {
   "cell_type": "code",
   "execution_count": 10,
   "id": "c63e8358",
   "metadata": {},
   "outputs": [
    {
     "name": "stdout",
     "output_type": "stream",
     "text": [
      "how'r u\n"
     ]
    }
   ],
   "source": [
    "print('how\\'r u' )"
   ]
  },
  {
   "cell_type": "markdown",
   "id": "c7104ed3",
   "metadata": {},
   "source": [
    "## task: how'' r u\n"
   ]
  },
  {
   "cell_type": "code",
   "execution_count": 11,
   "id": "fe48e98a",
   "metadata": {},
   "outputs": [
    {
     "name": "stdout",
     "output_type": "stream",
     "text": [
      "how\"r u\n"
     ]
    }
   ],
   "source": [
    "print(\"how\\\"r u\")"
   ]
  },
  {
   "cell_type": "markdown",
   "id": "8dad3651",
   "metadata": {},
   "source": [
    "## \\b: backspace(means removing words or letters)\n"
   ]
  },
  {
   "cell_type": "markdown",
   "id": "2983de2d",
   "metadata": {},
   "source": [
    "## task:madrid\\bsolutions"
   ]
  },
  {
   "cell_type": "code",
   "execution_count": 13,
   "id": "8ffa0177",
   "metadata": {},
   "outputs": [
    {
     "name": "stdout",
     "output_type": "stream",
     "text": [
      "madrid\\bsolutions\n"
     ]
    }
   ],
   "source": [
    "print(\"madrid\\\\bsolutions\")"
   ]
  },
  {
   "cell_type": "code",
   "execution_count": 14,
   "id": "a56f912d",
   "metadata": {},
   "outputs": [
    {
     "name": "stdout",
     "output_type": "stream",
     "text": [
      "hello\bmadrid\n"
     ]
    }
   ],
   "source": [
    "print(\"hello\\bmadrid\")"
   ]
  },
  {
   "cell_type": "code",
   "execution_count": 15,
   "id": "e7ab1e45",
   "metadata": {},
   "outputs": [],
   "source": [
    "## we can also use r in replace of \\"
   ]
  },
  {
   "cell_type": "code",
   "execution_count": 16,
   "id": "6e5b6cec",
   "metadata": {},
   "outputs": [
    {
     "name": "stdout",
     "output_type": "stream",
     "text": [
      "madridsoltions\\bs\n"
     ]
    }
   ],
   "source": [
    "print(r\"madridsoltions\\bs\")## r making raw strings"
   ]
  },
  {
   "cell_type": "code",
   "execution_count": 17,
   "id": "5d5d2143",
   "metadata": {},
   "outputs": [
    {
     "name": "stdout",
     "output_type": "stream",
     "text": [
      "hello\\balmeet\n"
     ]
    }
   ],
   "source": [
    "print(\"hello\\\\balmeet\")"
   ]
  },
  {
   "cell_type": "code",
   "execution_count": null,
   "id": "78c6ff65",
   "metadata": {},
   "outputs": [],
   "source": []
  }
 ],
 "metadata": {
  "kernelspec": {
   "display_name": "Python 3 (ipykernel)",
   "language": "python",
   "name": "python3"
  },
  "language_info": {
   "codemirror_mode": {
    "name": "ipython",
    "version": 3
   },
   "file_extension": ".py",
   "mimetype": "text/x-python",
   "name": "python",
   "nbconvert_exporter": "python",
   "pygments_lexer": "ipython3",
   "version": "3.10.9"
  }
 },
 "nbformat": 4,
 "nbformat_minor": 5
}
