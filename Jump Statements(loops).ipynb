{
 "cells": [
  {
   "cell_type": "markdown",
   "id": "db106942",
   "metadata": {},
   "source": [
    "# jump statements\n",
    " - break\n",
    " - continue\n",
    " - pass"
   ]
  },
  {
   "cell_type": "markdown",
   "id": "fe10bf80",
   "metadata": {},
   "source": [
    "### break:whenever the interpreter encounters the break in the loop then it terminates the loop at that moment\n",
    "### continue: whenever the interpreter encounters the countinue it does not terminate the loop while it skips off all the statements of the loop followed by it and passes the control to the next iteration\n",
    "### pass:nothing"
   ]
  },
  {
   "cell_type": "markdown",
   "id": "054696d3",
   "metadata": {},
   "source": [
    "## wap to display all the numbers in the list until u find a number which is to be given by user\n",
    "l=[12,13,14,15,17,90]"
   ]
  },
  {
   "cell_type": "code",
   "execution_count": 3,
   "id": "a96c1529",
   "metadata": {},
   "outputs": [
    {
     "name": "stdout",
     "output_type": "stream",
     "text": [
      "enter the num78\n",
      "12\n",
      "13\n",
      "14\n",
      "15\n",
      "17\n",
      "90\n"
     ]
    }
   ],
   "source": [
    "l=[12,13,14,15,17,90]\n",
    "num=int(input(\"enter the num\"))\n",
    "for i in l:\n",
    "    if i==num:\n",
    "        break\n",
    "    print(i)"
   ]
  },
  {
   "cell_type": "code",
   "execution_count": 1,
   "id": "d6686e60",
   "metadata": {},
   "outputs": [],
   "source": [
    "## output based question on break and continue in phython\n"
   ]
  },
  {
   "cell_type": "markdown",
   "id": "450976c0",
   "metadata": {},
   "source": [
    "## wap to display all the numbers in the list except a number which is to be given by user\n",
    "l=[12,13,14,15,17,90]"
   ]
  },
  {
   "cell_type": "code",
   "execution_count": 4,
   "id": "30df44ed",
   "metadata": {},
   "outputs": [
    {
     "name": "stdout",
     "output_type": "stream",
     "text": [
      "enter the num15\n",
      "12\n",
      "13\n",
      "14\n",
      "17\n",
      "90\n"
     ]
    }
   ],
   "source": [
    "l=[12,13,14,15,17,90]\n",
    "num=int(input(\"enter the num\"))\n",
    "for i in l:\n",
    "    if i==num:\n",
    "        continue\n",
    "    print(i)"
   ]
  },
  {
   "cell_type": "markdown",
   "id": "940e8b8e",
   "metadata": {},
   "source": [
    "## wap to display all the number until u find the first number which is divisible by 5 in the list"
   ]
  },
  {
   "cell_type": "code",
   "execution_count": 34,
   "id": "3253ca43",
   "metadata": {},
   "outputs": [
    {
     "name": "stdout",
     "output_type": "stream",
     "text": [
      "enter the number17\n",
      "12\n",
      "17\n",
      "19\n"
     ]
    }
   ],
   "source": [
    "num=int(input(\"enter the number\"))\n",
    "l=[12,17,19,20,56,27,30,91,90,8]\n",
    "for i in l:\n",
    "    if i%5!=0:\n",
    "        pass\n",
    "    elif i%5==0:\n",
    "        break\n",
    "    print(i)\n",
    "    \n",
    "        "
   ]
  },
  {
   "cell_type": "markdown",
   "id": "a6ad622e",
   "metadata": {},
   "source": [
    "## wap to display all the number until u find the 2nd number which is divisible by 5 in the list"
   ]
  },
  {
   "cell_type": "markdown",
   "id": "05f81b43",
   "metadata": {},
   "source": [
    "## l =[12,17,19,20,56,27,30,91,90,8]"
   ]
  },
  {
   "cell_type": "code",
   "execution_count": 49,
   "id": "c8fb3cec",
   "metadata": {},
   "outputs": [
    {
     "name": "stdout",
     "output_type": "stream",
     "text": [
      "enter the number30\n",
      "12\n",
      "17\n",
      "19\n",
      "20\n",
      "56\n",
      "27\n"
     ]
    }
   ],
   "source": [
    "num=int(input(\"enter the number\"))\n",
    "l=[12,17,19,20,56,27,30,91,90,8]\n",
    "count=0\n",
    "for i in l:\n",
    "    count=count+1\n",
    "    if i%5!=0:\n",
    "        pass\n",
    "    elif i==30:\n",
    "        break\n",
    "    print(i)"
   ]
  },
  {
   "cell_type": "markdown",
   "id": "67e3b29d",
   "metadata": {},
   "source": [
    "## pass"
   ]
  },
  {
   "cell_type": "code",
   "execution_count": 39,
   "id": "a66084ba",
   "metadata": {},
   "outputs": [
    {
     "name": "stdout",
     "output_type": "stream",
     "text": [
      "enter the number 9\n",
      "hello\n"
     ]
    }
   ],
   "source": [
    "num=int(input(\"enter the number\"))\n",
    "if num==7:\n",
    "    pass\n",
    "elif num==9:\n",
    "    print(\"hello\")\n"
   ]
  },
  {
   "cell_type": "markdown",
   "id": "cb2299d9",
   "metadata": {},
   "source": [
    "# while question"
   ]
  },
  {
   "cell_type": "markdown",
   "id": "af342847",
   "metadata": {},
   "source": [
    "## wap to add the sum of the numbers which is to be taken from user until it is zero"
   ]
  },
  {
   "cell_type": "code",
   "execution_count": 51,
   "id": "0ee95df9",
   "metadata": {},
   "outputs": [
    {
     "name": "stdout",
     "output_type": "stream",
     "text": [
      "enter the number56\n",
      "enter the number56\n",
      "enter the number0\n",
      "the sum is 112\n"
     ]
    }
   ],
   "source": [
    "add=0\n",
    "while(True):\n",
    "    num=int(input(\"enter the number\"))\n",
    "    add=add+num\n",
    "    if num==0:\n",
    "        break\n",
    "    else:\n",
    "        continue\n",
    "print(\"the sum is\",add)"
   ]
  },
  {
   "cell_type": "markdown",
   "id": "41eba59a",
   "metadata": {},
   "source": [
    "## wap to check the validity of password and username and gives 5 attempts to user otherwise display u tried too much."
   ]
  },
  {
   "cell_type": "code",
   "execution_count": 63,
   "id": "5865234c",
   "metadata": {},
   "outputs": [
    {
     "name": "stdout",
     "output_type": "stream",
     "text": [
      "enter the username khushi sarin\n",
      "enter the password khushisarin123\n"
     ]
    }
   ],
   "source": [
    "## create a signup page\n",
    "username=input(\"enter the username\")\n",
    "password=input(\"enter the password\")"
   ]
  },
  {
   "cell_type": "code",
   "execution_count": 100,
   "id": "875aac0c",
   "metadata": {},
   "outputs": [
    {
     "name": "stdout",
     "output_type": "stream",
     "text": [
      "enter the username khuhsi\n",
      "enter the passwordbisuchdw\n",
      "invalid input    try again\n",
      "\n",
      "\n",
      "enter the usernamencuiwech\n",
      "enter the passwordnciuweh\n",
      "invalid input    try again\n",
      "\n",
      "\n",
      "enter the usernamekhushi sarin\n",
      "enter the password khushisarin123\n",
      "invalid input    try again\n",
      "\n",
      "\n",
      "enter the username khushi sarin\n",
      "enter the password khushisarin123\n",
      "login successful\n",
      "\n",
      " welcome  khushi sarin \n",
      "'n\n"
     ]
    }
   ],
   "source": [
    "## login page\n",
    "attempt=0\n",
    "while(True):\n",
    "    usern=input(\"enter the username\")\n",
    "    passw=input(\"enter the password\")\n",
    "    if usern==username and passw==password:\n",
    "        print(\"login successful\\n\\n\",\"welcome\",usern)\n",
    "        break\n",
    "    else:\n",
    "        print(\"invalid input\",\"  \",\"try again\\n\\n\")\n",
    "        attempt=attempt+1\n",
    "        if attempt<5:\n",
    "            continue\n",
    "        else:\n",
    "            print(\"u have reached the limits\")\n",
    "            break"
   ]
  },
  {
   "cell_type": "markdown",
   "id": "691e3b90",
   "metadata": {},
   "source": [
    "# nested loop"
   ]
  },
  {
   "cell_type": "markdown",
   "id": "f9b6df82",
   "metadata": {},
   "source": [
    "## wap to display the table of all the numbers in the range entered by user"
   ]
  },
  {
   "cell_type": "code",
   "execution_count": 57,
   "id": "65d8ac4e",
   "metadata": {},
   "outputs": [
    {
     "name": "stdout",
     "output_type": "stream",
     "text": [
      "enter the start8\n",
      "enter the end9\n",
      "8 * i = 8\n",
      "8 * i = 16\n",
      "8 * i = 24\n",
      "8 * i = 32\n",
      "8 * i = 40\n",
      "8 * i = 48\n",
      "8 * i = 56\n",
      "8 * i = 64\n",
      "8 * i = 72\n",
      "8 * i = 80\n",
      "--------------------------------\n",
      "9 * i = 9\n",
      "9 * i = 18\n",
      "9 * i = 27\n",
      "9 * i = 36\n",
      "9 * i = 45\n",
      "9 * i = 54\n",
      "9 * i = 63\n",
      "9 * i = 72\n",
      "9 * i = 81\n",
      "9 * i = 90\n",
      "--------------------------------\n"
     ]
    }
   ],
   "source": [
    "start=int(input(\"enter the start\"))\n",
    "end=int(input(\"enter the end\"))\n",
    "for num in range(start,end+1):\n",
    "    for i in range(1,11):\n",
    "        print(num,\"*\",\"i\",\"=\",num*i)\n",
    "    print(\"--------------------------------\")"
   ]
  },
  {
   "cell_type": "code",
   "execution_count": 70,
   "id": "bc7c41f9",
   "metadata": {},
   "outputs": [
    {
     "name": "stdout",
     "output_type": "stream",
     "text": [
      "the count is 8\n"
     ]
    }
   ],
   "source": [
    "l=[\"apple\",\"cherry\",\"blueberry\",\"chiku\"]\n",
    "# task:::: count the total vowels in the list\n",
    "count=0\n",
    "for fruits in l:\n",
    "    for i in fruits:\n",
    "        if i in \"aeiouAEIOU\":\n",
    "            count=count+1\n",
    "print(\"the count is\",count)"
   ]
  },
  {
   "cell_type": "markdown",
   "id": "1a7783d6",
   "metadata": {},
   "source": [
    "## task : count the vowels in each fruit"
   ]
  },
  {
   "cell_type": "code",
   "execution_count": 16,
   "id": "ad1a08cb",
   "metadata": {},
   "outputs": [
    {
     "name": "stdout",
     "output_type": "stream",
     "text": [
      "the total count of vowels are 0\n"
     ]
    }
   ],
   "source": [
    "l=[\"apple\",\"cherry\",\"blueberry\",\"chiku\"]\n",
    "count=0\n",
    "for i in l:\n",
    "        if i in \"aeiouAEIOU\":\n",
    "            count=count+1\n",
    "print(\"the total count of vowels are\",count)\n",
    "        "
   ]
  },
  {
   "cell_type": "markdown",
   "id": "74e10640",
   "metadata": {},
   "source": [
    "# pattern question"
   ]
  },
  {
   "cell_type": "code",
   "execution_count": null,
   "id": "800b5c11",
   "metadata": {},
   "outputs": [],
   "source": [
    "####\n",
    "####\n",
    "####\n",
    "####"
   ]
  },
  {
   "cell_type": "code",
   "execution_count": 72,
   "id": "55c5de08",
   "metadata": {},
   "outputs": [
    {
     "name": "stdout",
     "output_type": "stream",
     "text": [
      "####\n",
      "####\n",
      "####\n",
      "####\n"
     ]
    }
   ],
   "source": [
    "for row in range(1,5):\n",
    "    for col in range(1,5):\n",
    "        print(\"#\",end=\"\")\n",
    "    print()"
   ]
  },
  {
   "cell_type": "code",
   "execution_count": null,
   "id": "706966b5",
   "metadata": {},
   "outputs": [],
   "source": [
    "@@@@@\n",
    "@@@@@\n",
    "@@@@@"
   ]
  },
  {
   "cell_type": "code",
   "execution_count": 73,
   "id": "dfb816aa",
   "metadata": {},
   "outputs": [
    {
     "name": "stdout",
     "output_type": "stream",
     "text": [
      "@@@@@\n",
      "@@@@@\n",
      "@@@@@\n"
     ]
    }
   ],
   "source": [
    "for row in range(1,4):\n",
    "    for col in range(1,6):\n",
    "        print(\"@\",end=\"\")\n",
    "    print()"
   ]
  },
  {
   "cell_type": "markdown",
   "id": "786407d2",
   "metadata": {},
   "source": [
    "### for dynamic"
   ]
  },
  {
   "cell_type": "code",
   "execution_count": 75,
   "id": "239dbf4f",
   "metadata": {},
   "outputs": [
    {
     "name": "stdout",
     "output_type": "stream",
     "text": [
      "enter the size 6\n",
      "######\n",
      "######\n",
      "######\n",
      "######\n",
      "######\n",
      "######\n"
     ]
    }
   ],
   "source": [
    "size=int(input(\"enter the size\"))\n",
    "for row in range(1,size+1):\n",
    "    for col in range(1,size+1):\n",
    "        print(\"#\",end=\"\")\n",
    "    print()"
   ]
  },
  {
   "cell_type": "code",
   "execution_count": null,
   "id": "2ab101c1",
   "metadata": {},
   "outputs": [],
   "source": [
    "1111\n",
    "2222\n",
    "3333\n",
    "4444"
   ]
  },
  {
   "cell_type": "code",
   "execution_count": 76,
   "id": "7822428a",
   "metadata": {},
   "outputs": [
    {
     "name": "stdout",
     "output_type": "stream",
     "text": [
      "1111\n",
      "2222\n",
      "3333\n",
      "4444\n"
     ]
    }
   ],
   "source": [
    "for row in range(1,5):\n",
    "    for col in range(1,5):\n",
    "        print(row,end=\"\")\n",
    "    print()"
   ]
  },
  {
   "cell_type": "code",
   "execution_count": 78,
   "id": "f2ab01fb",
   "metadata": {},
   "outputs": [
    {
     "name": "stdout",
     "output_type": "stream",
     "text": [
      "1234\n",
      "5678\n",
      "9101112\n",
      "13141516\n"
     ]
    }
   ],
   "source": [
    "1234\n",
    "5678\n",
    "9101112\n",
    "13141516\n",
    "count=0\n",
    "for row in range(1,5):\n",
    "    for col in range(1,5):\n",
    "        count=count+1\n",
    "        print(count,end=\"\")\n",
    "    print()"
   ]
  },
  {
   "cell_type": "code",
   "execution_count": 84,
   "id": "4da6c426",
   "metadata": {},
   "outputs": [
    {
     "name": "stdout",
     "output_type": "stream",
     "text": [
      "abcd\n",
      "abcd\n",
      "abcd\n",
      "abcd\n"
     ]
    }
   ],
   "source": [
    "#abcd\n",
    "#abcd\n",
    "#abcd\n",
    "#abcd\n",
    "for row in range(1,5):\n",
    "    ch=97\n",
    "    for col in range(1,5):\n",
    "        print(chr(ch),end=\"\")\n",
    "        ch=ch+1\n",
    "    print()"
   ]
  },
  {
   "cell_type": "code",
   "execution_count": 12,
   "id": "55ec9c2c",
   "metadata": {},
   "outputs": [
    {
     "name": "stdout",
     "output_type": "stream",
     "text": [
      "pqrs\n",
      "pqrs\n",
      "pqrs\n",
      "pqrs\n"
     ]
    }
   ],
   "source": [
    "#pppp\n",
    "#qqqq\n",
    "#rrrr\n",
    "#ssss\n",
    "for row in range(1,5):\n",
    "    ch=112\n",
    "    for col in range(1,5):\n",
    "        print(chr(ch),end=\"\")\n",
    "        ch=ch+1\n",
    "    print()"
   ]
  },
  {
   "cell_type": "code",
   "execution_count": 86,
   "id": "3999ff2e",
   "metadata": {},
   "outputs": [
    {
     "data": {
      "text/plain": [
       "1010"
      ]
     },
     "execution_count": 86,
     "metadata": {},
     "output_type": "execute_result"
    }
   ],
   "source": [
    "1010\n",
    "1010\n",
    "1010\n",
    "1010"
   ]
  },
  {
   "cell_type": "code",
   "execution_count": 87,
   "id": "3bd29478",
   "metadata": {},
   "outputs": [
    {
     "name": "stdout",
     "output_type": "stream",
     "text": [
      "1010\n",
      "1010\n",
      "1010\n",
      "1010\n"
     ]
    }
   ],
   "source": [
    "n=True\n",
    "for i in range(1,5):\n",
    "    for j in range(1,5):\n",
    "        n=int(n)\n",
    "        print(n,end=\"\")\n",
    "        n=not(n)\n",
    "    print()"
   ]
  },
  {
   "cell_type": "code",
   "execution_count": null,
   "id": "9ed55840",
   "metadata": {},
   "outputs": [],
   "source": [
    "#\n",
    "##\n",
    "###\n",
    "####"
   ]
  },
  {
   "cell_type": "code",
   "execution_count": 88,
   "id": "c7fbf3d1",
   "metadata": {},
   "outputs": [
    {
     "name": "stdout",
     "output_type": "stream",
     "text": [
      "\n",
      "*\n",
      "**\n",
      "***\n"
     ]
    }
   ],
   "source": [
    "for row in range(1,5):\n",
    "    for col in range(1,row):\n",
    "        print(\"*\",end=\"\")\n",
    "    print()"
   ]
  },
  {
   "cell_type": "code",
   "execution_count": 89,
   "id": "741cc99e",
   "metadata": {},
   "outputs": [
    {
     "name": "stdout",
     "output_type": "stream",
     "text": [
      "enter the size20\n",
      "\n",
      "*\n",
      "**\n",
      "***\n",
      "****\n",
      "*****\n",
      "******\n",
      "*******\n",
      "********\n",
      "*********\n",
      "**********\n",
      "***********\n",
      "************\n",
      "*************\n",
      "**************\n",
      "***************\n",
      "****************\n",
      "*****************\n",
      "******************\n"
     ]
    }
   ],
   "source": [
    "size=int(input(\"enter the size\"))\n",
    "for row in range(1,size):\n",
    "    for col in range(1,row):\n",
    "        print(\"*\",end=\"\")\n",
    "    print()"
   ]
  },
  {
   "cell_type": "code",
   "execution_count": 18,
   "id": "647adf60",
   "metadata": {},
   "outputs": [
    {
     "name": "stdout",
     "output_type": "stream",
     "text": [
      "#,#,#,#,#,#,#,#,#,#,"
     ]
    }
   ],
   "source": [
    "####\n",
    "###\n",
    "##\n",
    "#\n",
    "for row in range(4,-1,-1):\n",
    "    for col in range(row,4):\n",
    "        print(\"#\",end=\",\")"
   ]
  },
  {
   "cell_type": "code",
   "execution_count": null,
   "id": "c8046294",
   "metadata": {},
   "outputs": [],
   "source": [
    "9999\n",
    "888\n",
    "77\n",
    "6\n",
    "for row in range(4,-1,-1):\n",
    "    for col in range()"
   ]
  },
  {
   "cell_type": "markdown",
   "id": "645e6487",
   "metadata": {},
   "source": [
    "## wap to calculate the factorial of the number entered by user(while,for dono se karna h)"
   ]
  },
  {
   "cell_type": "code",
   "execution_count": 2,
   "id": "a6bf7cf5",
   "metadata": {},
   "outputs": [
    {
     "name": "stdout",
     "output_type": "stream",
     "text": [
      "enter the number6\n",
      "1 is the factor of 6\n",
      "2 is the factor of 6\n",
      "3 is the factor of 6\n",
      "6 is the factor of 6\n"
     ]
    }
   ],
   "source": [
    "num=int(input(\"enter the number\"))\n",
    "i=1\n",
    "while(i<=num):\n",
    "    if num%i==0:\n",
    "        print(i,\"is the factor of\",num)\n",
    "    i=i+1\n"
   ]
  },
  {
   "cell_type": "code",
   "execution_count": 4,
   "id": "beadb5d1",
   "metadata": {},
   "outputs": [
    {
     "name": "stdout",
     "output_type": "stream",
     "text": [
      "enter the number 8\n",
      "1 is the factor of 8\n",
      "2 is the factor of 8\n",
      "4 is the factor of 8\n",
      "8 is the factor of 8\n"
     ]
    }
   ],
   "source": [
    "num=int(input(\"enter the number\"))\n",
    "for i in range(1,num+1):\n",
    "    if num%i==0:\n",
    "        print(i,\"is the factor of\",num)"
   ]
  },
  {
   "cell_type": "markdown",
   "id": "00cdd26b",
   "metadata": {},
   "source": [
    "## wap to display hello if user enter p and ask the input again,display hi if user enters other alphabet and ask the input again until it enter enters q means quit and also show how many times p displayed and other character diaplayed"
   ]
  },
  {
   "cell_type": "code",
   "execution_count": 14,
   "id": "e2b27a5b",
   "metadata": {},
   "outputs": [
    {
     "name": "stdout",
     "output_type": "stream",
     "text": [
      "enter the characterp\n",
      "hello\n",
      "enter the characterq\n",
      "quit\n",
      "total times p entered 1\n",
      "total times other entered 1\n"
     ]
    }
   ],
   "source": [
    "countp=0\n",
    "counto=0\n",
    "i=\"p\"\n",
    "j=\"q\"\n",
    "while(True):\n",
    "    ch=input(\"enter the character\")\n",
    "    if ch==i:\n",
    "        countp=countp+1\n",
    "        print(\"hello\")\n",
    "    elif ch==j:\n",
    "        print(\"quit\")\n",
    "        counto=counto+1\n",
    "        break\n",
    "    else:\n",
    "        print(\"hi\")\n",
    "        counto=counto+1\n",
    "print(\"total times p entered\",countp)\n",
    "print(\"total times other entered\",counto)\n",
    "     "
   ]
  },
  {
   "cell_type": "code",
   "execution_count": null,
   "id": "c5390e63",
   "metadata": {},
   "outputs": [],
   "source": []
  }
 ],
 "metadata": {
  "kernelspec": {
   "display_name": "Python 3 (ipykernel)",
   "language": "python",
   "name": "python3"
  },
  "language_info": {
   "codemirror_mode": {
    "name": "ipython",
    "version": 3
   },
   "file_extension": ".py",
   "mimetype": "text/x-python",
   "name": "python",
   "nbconvert_exporter": "python",
   "pygments_lexer": "ipython3",
   "version": "3.10.9"
  }
 },
 "nbformat": 4,
 "nbformat_minor": 5
}
