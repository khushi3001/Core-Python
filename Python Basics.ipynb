{
 "cells": [
  {
   "cell_type": "markdown",
   "id": "b33c3335",
   "metadata": {
    "id": "b33c3335"
   },
   "source": [
    "### Introduction to python\n",
    "\n",
    "   **What is python??**\n",
    "\n",
    "   **Why python ?**"
   ]
  },
  {
   "cell_type": "markdown",
   "id": "7295db7a",
   "metadata": {
    "id": "7295db7a"
   },
   "source": [
    "#### Python \n",
    "\n",
    "- Python is General purpose,dynamic, high level and interpreted programming language.\n",
    "\n",
    "- It was developed by Guido Van Rossum during 1985-1990\n"
   ]
  },
  {
   "cell_type": "markdown",
   "id": "fc57be6e",
   "metadata": {
    "id": "fc57be6e"
   },
   "source": [
    "#### Why python ??\n",
    "\n",
    "It provides many useful features to the programmer . These features makes it popular and widely used langauge.\n",
    "- Easy to use,learn :  it is developer-friendly.\n",
    "- Expressive: Python is easy to read and understand. The syntax of python is like English statements.\n",
    "- Easy-to-maintain\n",
    "- Open source\n",
    "- Development and debuggingg fast (productive language)\n",
    "- Portable\n",
    "- Multi purpose\n",
    "- Python is more productiv(scalable)\n",
    "- Dynamically typed langauge\n",
    "- Rich set of libraries and framework: Python provides a large set of libraries, modules, and functions that enable the      rapid development of applications.\n",
    "- Interpreted: Python is processed at runtime by the interpreter. No need for compiling the program before executing it.\n",
    "- Extendable: You can add low-level modules to the Python interpreter. These modules enable programmers to add to or customize their tools to be more efficient. \n",
    "- Large Community Support Support from online Python community\n",
    "- Interpreted : Python is processed at runtime by the interpreter. No need for compiling the program before executing it.\n",
    "- Interactive: Python can run in an interactive mode, i.e. program can be written in a command-line shell which gives immediate output for each statement.\n",
    "- Supports OOPS\n",
    " "
   ]
  },
  {
   "cell_type": "markdown",
   "id": "b9ada465",
   "metadata": {
    "id": "b9ada465"
   },
   "source": [
    "### Python is scripting and interpreted  lanaguage\n",
    "\n",
    "\n",
    "\n",
    "Note : It is case sensitive \n",
    "\n",
    "\n"
   ]
  },
  {
   "cell_type": "markdown",
   "id": "8a789e9c",
   "metadata": {
    "id": "8a789e9c"
   },
   "source": [
    "### Where Python is used  ???`"
   ]
  },
  {
   "cell_type": "markdown",
   "id": "184e0465",
   "metadata": {
    "id": "184e0465"
   },
   "source": [
    "Python is a general-purpose language that is widely being used in every domain of software development.\n",
    "\n",
    "#### - Console Based Application\n",
    "Python can be used for developing console-based applications.\n",
    "\n",
    "#### - Web Applications\n",
    "web applications can be developed using Python. It provides libraries to handle protocols like HTML, XML, JSON, requests, etc. It provides various frameworks such as Django, Pyramid, etc., for web application development.(e g : google sheets,gmail etc)\n",
    "\n",
    "#### - Desktop GUI Application\n",
    "Python provides various frameworks like Kivy, PyQt, Tkinter PyGUI, etc., for developing desktop GUI applications.(eg : Media player,anti viruses)\n",
    "\n",
    "#### - Scientific and Numeric Computing Applications\n",
    "Python provides various libraries and packages like SciPy, Pandas, IPython, etc., for developing numeric and scientific computations using Python.(e g : image processing)\n",
    "\n",
    "#### - Business Applications\n",
    "Python is used for building business applications like ERP, e-commerce applications, etc.\n",
    "\n",
    "#### - Audio or Video-based Applications\n",
    "Python can be used to develop multimedia applications that include images, audios, videos and can be used to create cartoons, etc. Some of the real-time applications are TimPlayer, cplay, etc.\n",
    "\n",
    "#### - Machine Learning Applications\n",
    "Python does contain special libraries for machine learning, namely scipy and numpy, which are great for linear algebra and getting to know kernel methods of machine learning."
   ]
  },
  {
   "cell_type": "markdown",
   "id": "b4c0ad2b",
   "metadata": {
    "id": "b4c0ad2b"
   },
   "source": [
    "#### Real-time Examples where Python is used\n",
    "\n",
    "- Google\n",
    "- DropBox\n",
    "- NetFlix\n",
    "- Instagram\n",
    "- Splunk\n",
    "- BuzzFeed\n",
    "- Facebook\n",
    "- Spotify "
   ]
  },
  {
   "cell_type": "markdown",
   "id": "b3522979",
   "metadata": {
    "id": "b3522979"
   },
   "source": [
    "#### Python Versions\n",
    "The first version of Python was released as Python 1.0 in 1994. Now latest, Python 3.10. 2, documentation released on 14 January 2022. From Python 1.0 till 3.10. 2, various new features and enhancements to the existing features are being made.`"
   ]
  },
  {
   "cell_type": "markdown",
   "id": "0040776f",
   "metadata": {
    "id": "0040776f"
   },
   "source": [
    "####  Do you want to contribute to Python?\n",
    "\n",
    "\n",
    "Since Python is Open Source, you can contribute to python by submitting any modules or applications, or you can even raise any bugs or even provide the fixes for it. \n",
    "\n",
    "- To contribute, you can submit your works to the official python sites. Some of them are mentioned below.\n",
    "\n",
    "- To report the bug, use the link https://bugs.python.org/\n",
    "\n",
    "- To contribute to the official Python documentation, join the Documentation SIG, write to docs@python.org, or use the Issue Tracker to contribute a documentation patch.\n",
    "\n",
    "- To announce your module or application to the Python community, refer to this guide Posting guideline. Refer to the guide of Python mailing lists for more information.\n",
    "\n",
    "- To contribute to a bug fix or other patch to the Python core, read the Python Developer’s Guide for more information about Python’s development process.\n",
    "\n",
    "- To propose changes to the Python core, refer to this guide CompLangPython to post your thoughts. If you have an implementation, follow thePython Patch Guidelines."
   ]
  },
  {
   "cell_type": "markdown",
   "id": "ce9c88ed",
   "metadata": {
    "id": "ce9c88ed"
   },
   "source": [
    "### Anaconda \n",
    "\n",
    "\n",
    "- Anaconda is a distribution of the Python and R programming languages for scientific computing (data science, machine learning applications, large-scale data processing, predictive analytics, etc.), that aims to simplify package management and deployment.\n",
    "\n",
    "- It is a bundle of some popular python packages and a package manager called conda(similar to pip).\n",
    "\n",
    "- Anaconda distribution comes with over 250 packages automatically installed, and over 7,500 additional open-source packages can be installed from PyPI as well as the conda package and virtual environment manager. \n",
    "\n",
    "- It includes \n",
    "\n",
    "    - GUI\n",
    "    \n",
    "    - Anaconda Navigator as a graphical alternative to the command-line interface (CLI)."
   ]
  },
  {
   "cell_type": "markdown",
   "id": "4a3c434b",
   "metadata": {
    "id": "4a3c434b"
   },
   "source": [
    "### Steps  to install Anaconda  ??\n"
   ]
  },
  {
   "cell_type": "markdown",
   "id": "266c303f",
   "metadata": {
    "id": "266c303f"
   },
   "source": [
    "### Difference between conda and the pip package manager\n",
    "-  Conda allows you to install non-python library dependencies such as HDF5 ,MKL,LLVM etc. With pip you can install python depdencies\n",
    "- The big difference between conda and the pip package manager is in how package dependencies are managed, which is a significant challenge for Python data science and the reason conda exists.\n",
    "\n",
    "Before version 20.3, when pip installed a package, it automatically installed any dependent Python packages without checking if these conflict with previously installed packages. It would install a package and any of its dependencies regardless of the state of the existing installation.Because of this, a user with a working installation of, for example, TensorFlow, could find that it stopped working having used pip to install a different package that requires a different version of the dependent numpy library than the one used by TensorFlow. In some cases, the package would appear to work but produce different results in detail. While pip has since implemented consistent dependency resolution this difference accounts for a historical differentiation of the conda package manager\n",
    "\n",
    "In contrast, conda analyses the current environment including everything currently installed, and, together with any version limitations specified (e.g. the user may wish to have TensorFlow version 2,0 or higher), works out how to install a compatible set of dependencies, and shows a warning if this cannot be done.\n",
    "\n",
    "Open source packages can be individually installed from the Anaconda repository Anaconda Cloud (anaconda.org), or the user's own private repository or mirror, using the conda install command. Anaconda, Inc. compiles and builds the packages available in the Anaconda repository itself, and provides binaries for Windows 32/64 bit, Linux 64 bit and MacOS 64-bit. Anything available on PyPI may be installed into a conda environment using pip, and conda will keep track of what it has installed itself and what pip has installed.\n",
    "\n",
    "\n",
    "\n"
   ]
  },
  {
   "cell_type": "markdown",
   "id": "4a6cb458",
   "metadata": {
    "id": "4a6cb458"
   },
   "source": [
    "#### Anaconda Navigator :\n",
    "- Toolkit for data science.\n",
    "\n",
    "\n",
    "- Anaconda Navigator is a desktop graphical user interface (GUI) included in Anaconda distribution that allows users to launch applications and manage conda packages, environments and channels without using command-line commands.\n",
    "\n",
    "- Navigator can search for packages on Anaconda Cloud or in a local Anaconda Repository, install them in an environment, run the packages and update them. It is available for Windows, macOS and Linux.\n",
    "\n",
    "- The following applications are available by default in Navigator\n",
    "\n",
    "     -   JupyterLab\n",
    "\n",
    "     - Jupyter Notebook\n",
    "\n",
    "     - QtConsole\n",
    "\n",
    "     - Spyder\n",
    "\n",
    "     - Glue\n",
    "\n",
    "     - Orange\n",
    "\n",
    "     - RStudio\n",
    "\n",
    "     - Visual Studio Code"
   ]
  },
  {
   "cell_type": "markdown",
   "id": "87657599",
   "metadata": {
    "id": "87657599"
   },
   "source": [
    "#### Jupyter  Notebook\n",
    "\n",
    "- Jupytenotebook is the latest web-based interactive development environment for notebooks, code, and data.\n",
    "\n",
    "- It is an interactive computational environment, in which you can combine code execution, rich text, mathematics, plots and rich media.\n",
    "\n",
    "- Because of the mix of code and text elements, these documents are the ideal place to bring together an analysis description, and its results, as well as, they can be executed perform the data analysis in real time.\n",
    "\n",
    "- Jupyteris a loose acronym meaning Julia, Python, and R. These programming languages were the first target languages of the Jupyter application, but nowadays, the notebook technology also supports many other languages .\n",
    "\n",
    "- It is brower based application allows you to edit and run your notebooks via a web browser(defulat browser). The application can be executed on a PC without Internet access, or it can be installed on a remote server, where you can access it through the Internet."
   ]
  },
  {
   "cell_type": "markdown",
   "id": "8cb8a7b1",
   "metadata": {
    "id": "8cb8a7b1"
   },
   "source": [
    "### SHORTCUTS \n",
    "\n",
    "1. Esc +A =( insert the cell above particular)\n",
    "2. Esc + B =( insert the cell below particular)\n",
    "3. Esc + C =( copy the cell )\n",
    "4. Esc + X =( cut the cell )\n",
    "5. Esc + Y =( change the cell to code )\n",
    "6. Esc + M =( change the cell to markdown )\n",
    "\n"
   ]
  },
  {
   "cell_type": "markdown",
   "id": "6545a4a3",
   "metadata": {
    "id": "6545a4a3"
   },
   "source": [
    "### Python Basic Syntax\n",
    "\n",
    "There is no use of curly braces or semicolon in Python programming language. It is English-like language. But Python uses the indentation to define a block of code. Indentation is nothing but adding whitespace before the statement when it is needed. \n",
    "\n",
    "\n",
    "For example -\n",
    "\n",
    "#### def func():  \n",
    "          statement 1  \n",
    "           statement 2  \n",
    "            …………………  \n",
    "            …………………  \n",
    "            statement N  "
   ]
  },
  {
   "cell_type": "markdown",
   "id": "b0317b68",
   "metadata": {
    "id": "b0317b68"
   },
   "source": [
    "## comment "
   ]
  },
  {
   "cell_type": "markdown",
   "id": "292e8649",
   "metadata": {
    "id": "292e8649"
   },
   "source": [
    "comment : It is used to give the description to your code. that makes the code readable and understandable.\n",
    "\n",
    "this comment is ignored by interpreter. \n",
    "\n",
    "\n",
    "## types of comments\n",
    "- single line comment\n",
    "- multiline comment\n",
    "    "
   ]
  },
  {
   "cell_type": "markdown",
   "id": "dbaf07e9",
   "metadata": {
    "id": "dbaf07e9"
   },
   "source": [
    "single line : #"
   ]
  },
  {
   "cell_type": "code",
   "execution_count": null,
   "id": "7a274507",
   "metadata": {
    "id": "7a274507",
    "outputId": "7762069d-f21a-41ca-e84c-08054ac1b48c"
   },
   "outputs": [
    {
     "name": "stdout",
     "output_type": "stream",
     "text": [
      "hello\n",
      "hi\n"
     ]
    }
   ],
   "source": [
    "#this code displaying something\n",
    "print(\"hello\") # print() is a in built function  which is used to display hello here\n",
    "print(\"hi\")"
   ]
  },
  {
   "cell_type": "code",
   "execution_count": null,
   "id": "923dfca6",
   "metadata": {
    "id": "923dfca6",
    "outputId": "f49e45ad-5b78-47b1-a084-a711d7458668"
   },
   "outputs": [
    {
     "name": "stdout",
     "output_type": "stream",
     "text": [
      "hello\n",
      "how r u \n"
     ]
    }
   ],
   "source": [
    "'''this is my first program \n",
    "where i am displaying something'''\n",
    "print(\"hello\")\n",
    "print(\"how r u \")"
   ]
  },
  {
   "cell_type": "markdown",
   "id": "2c37bf17",
   "metadata": {
    "id": "2c37bf17"
   },
   "source": [
    "## variable :  it is a container which is used to hold the data\n",
    "or i can say that it is a named memory location "
   ]
  },
  {
   "cell_type": "code",
   "execution_count": null,
   "id": "b897d3b4",
   "metadata": {
    "id": "b897d3b4"
   },
   "outputs": [],
   "source": [
    "a=4  # how to create the variable "
   ]
  },
  {
   "cell_type": "code",
   "execution_count": null,
   "id": "e0b03a3f",
   "metadata": {
    "id": "e0b03a3f",
    "outputId": "06ea7d06-1fe7-43d1-9b56-e29298b8c5f7"
   },
   "outputs": [
    {
     "data": {
      "text/plain": [
       "4"
      ]
     },
     "execution_count": 22,
     "metadata": {},
     "output_type": "execute_result"
    }
   ],
   "source": [
    "a  # acess the variable "
   ]
  },
  {
   "cell_type": "markdown",
   "id": "c552f2d3",
   "metadata": {
    "id": "c552f2d3"
   },
   "source": [
    "# id() : it tells the address of the variable"
   ]
  },
  {
   "cell_type": "code",
   "execution_count": null,
   "id": "3cc2a1c5",
   "metadata": {
    "id": "3cc2a1c5",
    "outputId": "7767703a-a8ff-416a-b4dd-a34ea7224bbf"
   },
   "outputs": [
    {
     "data": {
      "text/plain": [
       "1240584120720"
      ]
     },
     "execution_count": 23,
     "metadata": {},
     "output_type": "execute_result"
    }
   ],
   "source": [
    "id(a)"
   ]
  },
  {
   "cell_type": "markdown",
   "id": "df60a407",
   "metadata": {
    "id": "df60a407"
   },
   "source": [
    "# identifier: naming rules of the variable/functions "
   ]
  },
  {
   "cell_type": "markdown",
   "id": "1f2ef484",
   "metadata": {
    "id": "1f2ef484"
   },
   "source": [
    "- rule 1: it should not start with digit . we can start with letter or one special character i.e _\n",
    "\n",
    "- rule 2: it allows any letters/digits/_ any where "
   ]
  },
  {
   "cell_type": "code",
   "execution_count": null,
   "id": "3300e09e",
   "metadata": {
    "id": "3300e09e"
   },
   "outputs": [],
   "source": [
    "Av=3"
   ]
  },
  {
   "cell_type": "code",
   "execution_count": null,
   "id": "a4f054aa",
   "metadata": {
    "id": "a4f054aa",
    "outputId": "4aa8ec11-424c-4c32-e341-c5fb536c3643"
   },
   "outputs": [
    {
     "data": {
      "text/plain": [
       "3"
      ]
     },
     "execution_count": 27,
     "metadata": {},
     "output_type": "execute_result"
    }
   ],
   "source": [
    "Av"
   ]
  },
  {
   "cell_type": "code",
   "execution_count": null,
   "id": "aa1fc0a7",
   "metadata": {
    "id": "aa1fc0a7",
    "outputId": "0e0460e1-aff5-4e92-e9e1-74650cc42286"
   },
   "outputs": [
    {
     "ename": "NameError",
     "evalue": "name 'av' is not defined",
     "output_type": "error",
     "traceback": [
      "\u001b[1;31m---------------------------------------------------------------------------\u001b[0m",
      "\u001b[1;31mNameError\u001b[0m                                 Traceback (most recent call last)",
      "Input \u001b[1;32mIn [26]\u001b[0m, in \u001b[0;36m<cell line: 1>\u001b[1;34m()\u001b[0m\n\u001b[1;32m----> 1\u001b[0m \u001b[43mav\u001b[49m\n",
      "\u001b[1;31mNameError\u001b[0m: name 'av' is not defined"
     ]
    }
   ],
   "source": [
    "av"
   ]
  },
  {
   "cell_type": "code",
   "execution_count": null,
   "id": "d2c6cf9c",
   "metadata": {
    "id": "d2c6cf9c",
    "outputId": "b400bf12-62bc-4965-fd89-58a88e3fc358"
   },
   "outputs": [
    {
     "ename": "SyntaxError",
     "evalue": "invalid syntax (1971781771.py, line 1)",
     "output_type": "error",
     "traceback": [
      "\u001b[1;36m  Input \u001b[1;32mIn [28]\u001b[1;36m\u001b[0m\n\u001b[1;33m    1h=0\u001b[0m\n\u001b[1;37m     ^\u001b[0m\n\u001b[1;31mSyntaxError\u001b[0m\u001b[1;31m:\u001b[0m invalid syntax\n"
     ]
    }
   ],
   "source": [
    "1h=0"
   ]
  },
  {
   "cell_type": "code",
   "execution_count": null,
   "id": "c0554b2d",
   "metadata": {
    "id": "c0554b2d"
   },
   "outputs": [],
   "source": [
    "__t=90"
   ]
  },
  {
   "cell_type": "code",
   "execution_count": null,
   "id": "ca9e6126",
   "metadata": {
    "id": "ca9e6126",
    "outputId": "d238ba28-5cf1-484c-f255-417cd5dcb555"
   },
   "outputs": [
    {
     "ename": "SyntaxError",
     "evalue": "invalid syntax (3100021326.py, line 1)",
     "output_type": "error",
     "traceback": [
      "\u001b[1;36m  Input \u001b[1;32mIn [30]\u001b[1;36m\u001b[0m\n\u001b[1;33m    @g=90\u001b[0m\n\u001b[1;37m      ^\u001b[0m\n\u001b[1;31mSyntaxError\u001b[0m\u001b[1;31m:\u001b[0m invalid syntax\n"
     ]
    }
   ],
   "source": [
    "@g=90"
   ]
  },
  {
   "cell_type": "code",
   "execution_count": null,
   "id": "5b86ef35",
   "metadata": {
    "id": "5b86ef35"
   },
   "outputs": [],
   "source": [
    "_balmeet=90"
   ]
  },
  {
   "cell_type": "code",
   "execution_count": null,
   "id": "15c358f9",
   "metadata": {
    "id": "15c358f9"
   },
   "outputs": [],
   "source": [
    "_balmeet1233=90"
   ]
  },
  {
   "cell_type": "code",
   "execution_count": null,
   "id": "bf60ad25",
   "metadata": {
    "id": "bf60ad25",
    "outputId": "a0bf6e7c-2e74-4b2d-be42-2f1aef256d2b"
   },
   "outputs": [
    {
     "ename": "SyntaxError",
     "evalue": "invalid decimal literal (847392734.py, line 1)",
     "output_type": "error",
     "traceback": [
      "\u001b[1;36m  Input \u001b[1;32mIn [33]\u001b[1;36m\u001b[0m\n\u001b[1;33m    1_balmeet1233=90\u001b[0m\n\u001b[1;37m     ^\u001b[0m\n\u001b[1;31mSyntaxError\u001b[0m\u001b[1;31m:\u001b[0m invalid decimal literal\n"
     ]
    }
   ],
   "source": [
    "1_balmeet1233=90"
   ]
  },
  {
   "cell_type": "code",
   "execution_count": null,
   "id": "2cba0fef",
   "metadata": {
    "id": "2cba0fef",
    "outputId": "cdcc9d71-7ea4-465e-f9c7-2b1fe8254b69"
   },
   "outputs": [
    {
     "ename": "SyntaxError",
     "evalue": "cannot assign to operator (3773905227.py, line 1)",
     "output_type": "error",
     "traceback": [
      "\u001b[1;36m  Input \u001b[1;32mIn [34]\u001b[1;36m\u001b[0m\n\u001b[1;33m    balmeet@kaur=90\u001b[0m\n\u001b[1;37m    ^\u001b[0m\n\u001b[1;31mSyntaxError\u001b[0m\u001b[1;31m:\u001b[0m cannot assign to operator\n"
     ]
    }
   ],
   "source": [
    "balmeet@kaur=90"
   ]
  },
  {
   "cell_type": "markdown",
   "id": "3a61084b",
   "metadata": {
    "id": "3a61084b"
   },
   "source": [
    "- rule 3: it could be of any length"
   ]
  },
  {
   "cell_type": "code",
   "execution_count": null,
   "id": "bd68a27a",
   "metadata": {
    "id": "bd68a27a"
   },
   "outputs": [],
   "source": [
    "ajdksadsahdasdjgsasagcasjgascjsagusgcmagugasjgdusagdjgaagsgdasugduagsu=90"
   ]
  },
  {
   "cell_type": "markdown",
   "id": "eefbd3da",
   "metadata": {
    "id": "eefbd3da"
   },
   "source": [
    "## rule 4 : it should not be keywords"
   ]
  },
  {
   "cell_type": "markdown",
   "id": "8bf7ca71",
   "metadata": {
    "id": "8bf7ca71"
   },
   "source": [
    "keywords : special words / reserved words which has implicit meaning "
   ]
  },
  {
   "cell_type": "code",
   "execution_count": null,
   "id": "c8bd0d5c",
   "metadata": {
    "id": "c8bd0d5c",
    "outputId": "04688bf5-7649-43a0-cc7e-48932cab253b"
   },
   "outputs": [
    {
     "name": "stdout",
     "output_type": "stream",
     "text": [
      "['False', 'None', 'True', '__peg_parser__', 'and', 'as', 'assert', 'async', 'await', 'break', 'class', 'continue', 'def', 'del', 'elif', 'else', 'except', 'finally', 'for', 'from', 'global', 'if', 'import', 'in', 'is', 'lambda', 'nonlocal', 'not', 'or', 'pass', 'raise', 'return', 'try', 'while', 'with', 'yield']\n"
     ]
    }
   ],
   "source": [
    "import keyword\n",
    "print(keyword.kwlist)"
   ]
  },
  {
   "cell_type": "code",
   "execution_count": null,
   "id": "54a3a96a",
   "metadata": {
    "id": "54a3a96a",
    "outputId": "aee38c66-0d54-4868-bf69-82382132c168"
   },
   "outputs": [
    {
     "ename": "SyntaxError",
     "evalue": "invalid syntax (186811765.py, line 1)",
     "output_type": "error",
     "traceback": [
      "\u001b[1;36m  Input \u001b[1;32mIn [37]\u001b[1;36m\u001b[0m\n\u001b[1;33m    if=80\u001b[0m\n\u001b[1;37m      ^\u001b[0m\n\u001b[1;31mSyntaxError\u001b[0m\u001b[1;31m:\u001b[0m invalid syntax\n"
     ]
    }
   ],
   "source": [
    "if=80"
   ]
  },
  {
   "cell_type": "code",
   "execution_count": null,
   "id": "51cfcec1",
   "metadata": {
    "id": "51cfcec1"
   },
   "outputs": [],
   "source": [
    "IF=90"
   ]
  },
  {
   "cell_type": "markdown",
   "id": "857e9861",
   "metadata": {
    "id": "857e9861"
   },
   "source": [
    "## literal "
   ]
  },
  {
   "cell_type": "code",
   "execution_count": null,
   "id": "2dc56380",
   "metadata": {
    "id": "2dc56380"
   },
   "outputs": [],
   "source": [
    "a=80  ## here 80 is  value/literal"
   ]
  },
  {
   "cell_type": "markdown",
   "id": "236ab492",
   "metadata": {
    "id": "236ab492"
   },
   "source": [
    "## data type : it signifies the type of data that python supports \n"
   ]
  },
  {
   "cell_type": "markdown",
   "id": "c6b9738b",
   "metadata": {
    "id": "c6b9738b"
   },
   "source": [
    "## numeric \n",
    "- int\n",
    "- float\n",
    "- complex"
   ]
  },
  {
   "cell_type": "code",
   "execution_count": null,
   "id": "20fbb278",
   "metadata": {
    "id": "20fbb278",
    "outputId": "f6bb7d3f-a9b1-4b0f-dc3a-dc4d2f83c6eb"
   },
   "outputs": [
    {
     "name": "stdout",
     "output_type": "stream",
     "text": [
      "90\n",
      "<class 'int'>\n"
     ]
    },
    {
     "data": {
      "text/plain": [
       "90"
      ]
     },
     "execution_count": 48,
     "metadata": {},
     "output_type": "execute_result"
    }
   ],
   "source": [
    "a=90\n",
    "print(a)\n",
    "print(type(a))  ## it tells the type of the  data\n",
    "a"
   ]
  },
  {
   "cell_type": "code",
   "execution_count": null,
   "id": "225eb88e",
   "metadata": {
    "id": "225eb88e",
    "outputId": "446aa375-9f71-4cf0-c1a8-59b1c28f1752"
   },
   "outputs": [
    {
     "name": "stdout",
     "output_type": "stream",
     "text": [
      "90.8\n",
      "<class 'float'>\n"
     ]
    }
   ],
   "source": [
    "## float :  decimal\n",
    "a=90.8\n",
    "print(a)\n",
    "print(type(a))\n",
    "a\n"
   ]
  },
  {
   "cell_type": "code",
   "execution_count": null,
   "id": "1a572e7f",
   "metadata": {
    "id": "1a572e7f",
    "outputId": "264f06d8-f9b2-4baa-b3cf-45a27e565cda"
   },
   "outputs": [
    {
     "name": "stdout",
     "output_type": "stream",
     "text": [
      "(90+8j)\n",
      "<class 'complex'>\n"
     ]
    }
   ],
   "source": [
    "# complex : real + imaginary part\n",
    "a=90+8j\n",
    "print(a)\n",
    "print(type(a))"
   ]
  },
  {
   "cell_type": "code",
   "execution_count": null,
   "id": "ecbadd2d",
   "metadata": {
    "id": "ecbadd2d"
   },
   "outputs": [],
   "source": []
  }
 ],
 "metadata": {
  "colab": {
   "provenance": []
  },
  "kernelspec": {
   "display_name": "Python 3 (ipykernel)",
   "language": "python",
   "name": "python3"
  },
  "language_info": {
   "codemirror_mode": {
    "name": "ipython",
    "version": 3
   },
   "file_extension": ".py",
   "mimetype": "text/x-python",
   "name": "python",
   "nbconvert_exporter": "python",
   "pygments_lexer": "ipython3",
   "version": "3.9.7"
  }
 },
 "nbformat": 4,
 "nbformat_minor": 5
}
