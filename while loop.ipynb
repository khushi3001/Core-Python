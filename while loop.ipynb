{
 "cells": [
  {
   "cell_type": "markdown",
   "id": "d5ab6c1d",
   "metadata": {},
   "source": [
    "### while loop cannot be used in sequence questions like fetching from string,list single elements.for loop is used for that otherwise every question can be done in while lop"
   ]
  },
  {
   "cell_type": "markdown",
   "id": "34dd3b2f",
   "metadata": {},
   "source": [
    "# while loop"
   ]
  },
  {
   "cell_type": "code",
   "execution_count": 1,
   "id": "7d913942",
   "metadata": {},
   "outputs": [],
   "source": [
    "#while(10): \n",
    "    #print(\"hello\") \n",
    "# here infinite nos will print\n",
    "# you have to write the expression in such a manner on which no. of iterations depend"
   ]
  },
  {
   "cell_type": "code",
   "execution_count": null,
   "id": "027fb3e5",
   "metadata": {},
   "outputs": [],
   "source": [
    "# the thing in bracket is called expression.expression is always evaluated in true or false.\n",
    "# if the expression comes +ve or -ve num,it will be treated as true and we will enter the body of while.\n",
    "# if it is explicily 0 , it will be false and it will not enter the body of loop\n"
   ]
  },
  {
   "cell_type": "code",
   "execution_count": null,
   "id": "ace07577",
   "metadata": {},
   "outputs": [],
   "source": [
    "#while is condition controlled loop"
   ]
  },
  {
   "cell_type": "code",
   "execution_count": 5,
   "id": "ac45207b",
   "metadata": {},
   "outputs": [
    {
     "name": "stdout",
     "output_type": "stream",
     "text": [
      "hello\n",
      "hello\n",
      "hello\n",
      "hello\n",
      "hello\n",
      "hello\n",
      "hello\n",
      "hello\n",
      "hello\n",
      "hello\n"
     ]
    }
   ],
   "source": [
    "i=20\n",
    "while(i<30):\n",
    "    print(\"hello\")\n",
    "    i=i+1"
   ]
  },
  {
   "cell_type": "markdown",
   "id": "0096b1c5",
   "metadata": {},
   "source": [
    "## wap to print the counting from 1 to 20"
   ]
  },
  {
   "cell_type": "code",
   "execution_count": 7,
   "id": "9501cee0",
   "metadata": {},
   "outputs": [
    {
     "name": "stdout",
     "output_type": "stream",
     "text": [
      "1 2 3 4 5 6 7 8 9 10 11 12 13 14 15 16 17 18 19 20 "
     ]
    }
   ],
   "source": [
    "i=1\n",
    "while(i<=20):\n",
    "    print(i,end=\" \")\n",
    "    i=i+1"
   ]
  },
  {
   "cell_type": "markdown",
   "id": "f7533cba",
   "metadata": {},
   "source": [
    "## if we want user to enter the range"
   ]
  },
  {
   "cell_type": "code",
   "execution_count": 11,
   "id": "0c13b98d",
   "metadata": {},
   "outputs": [
    {
     "name": "stdout",
     "output_type": "stream",
     "text": [
      "enter the starting num60\n",
      "enter the ending num70\n",
      "60 61 62 63 64 65 66 67 68 69 70 "
     ]
    }
   ],
   "source": [
    "start=int(input(\"enter the starting num\"))\n",
    "end=int(input(\"enter the ending num\"))\n",
    "while(start<=end):\n",
    "    print(start,end=\" \")\n",
    "    start=start+1"
   ]
  },
  {
   "cell_type": "markdown",
   "id": "b6c69bed",
   "metadata": {},
   "source": [
    "## wap to reverse the counting from the range 10"
   ]
  },
  {
   "cell_type": "code",
   "execution_count": 12,
   "id": "0975f932",
   "metadata": {},
   "outputs": [
    {
     "name": "stdout",
     "output_type": "stream",
     "text": [
      "10 9 8 7 6 5 4 3 2 1 "
     ]
    }
   ],
   "source": [
    "i=10\n",
    "while(i>0):\n",
    "    print(i,end=\" \")\n",
    "    i=i-1"
   ]
  },
  {
   "cell_type": "markdown",
   "id": "4a2e6254",
   "metadata": {},
   "source": [
    "## wap to reverse the counting from the range entered by user"
   ]
  },
  {
   "cell_type": "code",
   "execution_count": 15,
   "id": "859e7acc",
   "metadata": {},
   "outputs": [
    {
     "name": "stdout",
     "output_type": "stream",
     "text": [
      "enter the starting num90\n",
      "enter the ending num80\n",
      "90 89 88 87 86 85 84 83 82 81 80 "
     ]
    }
   ],
   "source": [
    "start=int(input(\"enter the starting num\"))\n",
    "end=int(input(\"enter the ending num\"))\n",
    "while(start>=end):\n",
    "    print(start,end=\" \")\n",
    "    start=start-1"
   ]
  },
  {
   "cell_type": "markdown",
   "id": "9806bddd",
   "metadata": {},
   "source": [
    "## wap to display the table of num entered by user"
   ]
  },
  {
   "cell_type": "code",
   "execution_count": 18,
   "id": "67ca3c9e",
   "metadata": {},
   "outputs": [
    {
     "name": "stdout",
     "output_type": "stream",
     "text": [
      "enter the num9\n",
      "9 * 1 = 9\n",
      "9 * 2 = 18\n",
      "9 * 3 = 27\n",
      "9 * 4 = 36\n",
      "9 * 5 = 45\n",
      "9 * 6 = 54\n",
      "9 * 7 = 63\n",
      "9 * 8 = 72\n",
      "9 * 9 = 81\n",
      "9 * 10 = 90\n"
     ]
    }
   ],
   "source": [
    "num=int(input(\"enter the num\"))\n",
    "i=1\n",
    "while(i<=10):\n",
    "    print(num,\"*\",i,\"=\",num*i)\n",
    "    i=i+1"
   ]
  },
  {
   "cell_type": "markdown",
   "id": "12940e3e",
   "metadata": {},
   "source": [
    "## wap to display the reverse table of num entered by user"
   ]
  },
  {
   "cell_type": "code",
   "execution_count": 10,
   "id": "d7e8df75",
   "metadata": {},
   "outputs": [
    {
     "name": "stdout",
     "output_type": "stream",
     "text": [
      "enter the number9\n",
      "9 * 10 = 90\n",
      "9 * 9 = 81\n",
      "9 * 8 = 72\n",
      "9 * 7 = 63\n",
      "9 * 6 = 54\n",
      "9 * 5 = 45\n",
      "9 * 4 = 36\n",
      "9 * 3 = 27\n",
      "9 * 2 = 18\n",
      "9 * 1 = 9\n"
     ]
    }
   ],
   "source": [
    "num=int(input(\"enter the number\"))\n",
    "i=10\n",
    "while(i>=1):\n",
    "    print(num,\"*\",i,\"=\",num*i)\n",
    "    i=i-1"
   ]
  },
  {
   "cell_type": "markdown",
   "id": "150b9cca",
   "metadata": {},
   "source": [
    "## wap to display the even nums and odd nums from the range entered by user"
   ]
  },
  {
   "cell_type": "code",
   "execution_count": 20,
   "id": "28e32151",
   "metadata": {},
   "outputs": [
    {
     "name": "stdout",
     "output_type": "stream",
     "text": [
      "enter the starting num80\n",
      "enter the ending num100\n",
      "80 even\n",
      "\t\t 81 odd\n",
      "82 even\n",
      "\t\t 83 odd\n",
      "84 even\n",
      "\t\t 85 odd\n",
      "86 even\n",
      "\t\t 87 odd\n",
      "88 even\n",
      "\t\t 89 odd\n",
      "90 even\n",
      "\t\t 91 odd\n",
      "92 even\n",
      "\t\t 93 odd\n",
      "94 even\n",
      "\t\t 95 odd\n",
      "96 even\n",
      "\t\t 97 odd\n",
      "98 even\n",
      "\t\t 99 odd\n",
      "100 even\n"
     ]
    }
   ],
   "source": [
    "start=int(input(\"enter the starting num\"))\n",
    "end=int(input(\"enter the ending num\"))\n",
    "while(start<=end):\n",
    "    if start%2==0:\n",
    "        print(start,\"even\")\n",
    "    else:\n",
    "        print(\"\\t\\t\",start,\"odd\")\n",
    "    start=start+1"
   ]
  },
  {
   "cell_type": "markdown",
   "id": "9258e589",
   "metadata": {},
   "source": [
    "## wap to display the count of even and odd nums in the range specified by user"
   ]
  },
  {
   "cell_type": "code",
   "execution_count": 24,
   "id": "c122d8d2",
   "metadata": {},
   "outputs": [
    {
     "name": "stdout",
     "output_type": "stream",
     "text": [
      "enter the starting num90\n",
      "enter the ending num100\n",
      "the even count is 6\n",
      "the odd count is 5\n"
     ]
    }
   ],
   "source": [
    "start=int(input(\"enter the starting num\"))\n",
    "end=int(input(\"enter the ending num\"))\n",
    "count_e=0\n",
    "count_o=0\n",
    "while(start<=end):\n",
    "    if start%2==0:\n",
    "        count_e=count_e+1\n",
    "    else:\n",
    "        count_o=count_o+1\n",
    "    start=start+1\n",
    "print(\"the even count is\",count_e)\n",
    "print(\"the odd count is\",count_o)\n"
   ]
  },
  {
   "cell_type": "markdown",
   "id": "86021639",
   "metadata": {},
   "source": [
    "## wap to display the factors and count them of the number entered by user using while loop"
   ]
  },
  {
   "cell_type": "code",
   "execution_count": 6,
   "id": "276560f4",
   "metadata": {},
   "outputs": [
    {
     "name": "stdout",
     "output_type": "stream",
     "text": [
      "enter the num80\n",
      "1 is the factor of 80\n",
      "2 is the factor of 80\n",
      "4 is the factor of 80\n",
      "5 is the factor of 80\n",
      "8 is the factor of 80\n",
      "10 is the factor of 80\n",
      "16 is the factor of 80\n",
      "20 is the factor of 80\n",
      "40 is the factor of 80\n",
      "80 is the factor of 80\n",
      "the count of factors are 10\n"
     ]
    }
   ],
   "source": [
    "num=int(input(\"enter the num\"))\n",
    "i=1\n",
    "count=0\n",
    "while(i<=num):\n",
    "    if num%i==0:\n",
    "        print(i,\"is the factor of\",num)\n",
    "        count=count+1\n",
    "    i=i+1\n",
    "print(\"the count of factors are\",count)"
   ]
  },
  {
   "cell_type": "markdown",
   "id": "44709188",
   "metadata": {},
   "source": [
    "## wap to display the cube of all the even nums and display the sum of odd number in the range entered by user"
   ]
  },
  {
   "cell_type": "code",
   "execution_count": 7,
   "id": "a5893e01",
   "metadata": {},
   "outputs": [
    {
     "name": "stdout",
     "output_type": "stream",
     "text": [
      "enter the starting num90\n",
      "enter the ending num120\n",
      "the cube of num is 729000\n",
      "the cube of num is 778688\n",
      "the cube of num is 830584\n",
      "the cube of num is 884736\n",
      "the cube of num is 941192\n",
      "the cube of num is 1000000\n",
      "the cube of num is 1061208\n",
      "the cube of num is 1124864\n",
      "the cube of num is 1191016\n",
      "the cube of num is 1259712\n",
      "the cube of num is 1331000\n",
      "the cube of num is 1404928\n",
      "the cube of num is 1481544\n",
      "the cube of num is 1560896\n",
      "the cube of num is 1643032\n",
      "the cube of num is 1728000\n",
      "the sum of odd nums 1575\n"
     ]
    }
   ],
   "source": [
    "start=int(input(\"enter the starting num\"))\n",
    "end=int(input(\"enter the ending num\"))\n",
    "sum1=0\n",
    "while(start<=end):\n",
    "    if start%2==0:\n",
    "        print(\"the cube of num is\",start**3)\n",
    "    else:\n",
    "        sum1=sum1+start\n",
    "    start=start+1\n",
    "print(\"the sum of odd nums\",sum1)"
   ]
  },
  {
   "cell_type": "markdown",
   "id": "a90c953d",
   "metadata": {},
   "source": [
    "## wap to reverse the number entered by user"
   ]
  },
  {
   "cell_type": "code",
   "execution_count": 16,
   "id": "22ace019",
   "metadata": {},
   "outputs": [
    {
     "name": "stdout",
     "output_type": "stream",
     "text": [
      "enter the number897\n",
      "the reverse is 798\n"
     ]
    }
   ],
   "source": [
    "number=int(input(\"enter the number\"))\n",
    "rev=0\n",
    "while(number!=0):\n",
    "    r=number%10\n",
    "    number=number//10\n",
    "    rev=rev*10+r\n",
    "print(\"the reverse is\",rev)"
   ]
  },
  {
   "cell_type": "markdown",
   "id": "84b380e8",
   "metadata": {},
   "source": [
    "## wap to check whether the entered number is palindrome or not"
   ]
  },
  {
   "cell_type": "code",
   "execution_count": 18,
   "id": "f501fb33",
   "metadata": {},
   "outputs": [
    {
     "name": "stdout",
     "output_type": "stream",
     "text": [
      "enter the number323\n",
      "the reverse is 323\n",
      "323 is palindrone\n"
     ]
    }
   ],
   "source": [
    "number=int(input(\"enter the number\"))\n",
    "temp=number\n",
    "rev=0\n",
    "while(number!=0):\n",
    "    r=number%10\n",
    "    number=number//10\n",
    "    rev=rev*10+r\n",
    "print(\"the reverse is\",rev)\n",
    "if temp==rev:\n",
    "    print(temp,\"is palindrone\")\n",
    "else:\n",
    "    print(\"not palindrome\")"
   ]
  },
  {
   "cell_type": "markdown",
   "id": "39cad3c4",
   "metadata": {},
   "source": [
    "## wap to count the number of digits in the number entered by the user"
   ]
  },
  {
   "cell_type": "code",
   "execution_count": 9,
   "id": "4f3e371c",
   "metadata": {},
   "outputs": [
    {
     "name": "stdout",
     "output_type": "stream",
     "text": [
      "enter the num678\n",
      "the count of nums are 3\n"
     ]
    }
   ],
   "source": [
    "num=int(input(\"enter the num\"))\n",
    "count=0\n",
    "while (num!=0):\n",
    "    num=num//10\n",
    "    count=count+1\n",
    "print(\"the count of nums are\",count)"
   ]
  },
  {
   "cell_type": "markdown",
   "id": "7799b54d",
   "metadata": {},
   "source": [
    "## wap to display the sum of all the digits of the number entered by user"
   ]
  },
  {
   "cell_type": "code",
   "execution_count": 11,
   "id": "c778121a",
   "metadata": {},
   "outputs": [
    {
     "name": "stdout",
     "output_type": "stream",
     "text": [
      "enter the number789\n",
      "the sum of nums are 24\n"
     ]
    }
   ],
   "source": [
    "num=int(input(\"enter the number\"))\n",
    "sum1=0\n",
    "while(num!=0):\n",
    "    r=num%10\n",
    "    num=num//10\n",
    "    sum1=sum1+r\n",
    "    \n",
    "print(\"the sum of nums are\",sum1)\n",
    "    "
   ]
  },
  {
   "cell_type": "code",
   "execution_count": 12,
   "id": "1a035986",
   "metadata": {},
   "outputs": [],
   "source": [
    "## to extract the digit\n",
    "#while(num!=0):\n",
    "    #r=num%10\n",
    "    #num=num//10"
   ]
  },
  {
   "cell_type": "markdown",
   "id": "eca51e77",
   "metadata": {},
   "source": [
    "## wap to check whether the entered number is armstrong or not"
   ]
  },
  {
   "cell_type": "code",
   "execution_count": 3,
   "id": "cc9fb706",
   "metadata": {},
   "outputs": [
    {
     "name": "stdout",
     "output_type": "stream",
     "text": [
      "enter the number 789\n",
      "not\n"
     ]
    }
   ],
   "source": [
    "num=int(input(\"enter the number\"))\n",
    "temp=num\n",
    "sum1=0\n",
    "while(num!=0):\n",
    "    r=num%10\n",
    "    num=num//10\n",
    "    cube_d=r**3\n",
    "    sum1=sum1+cube_d\n",
    "if sum1==temp:\n",
    "    print(\"this is armstrong\")\n",
    "else:\n",
    "    print(\"not\")"
   ]
  }
 ],
 "metadata": {
  "kernelspec": {
   "display_name": "Python 3 (ipykernel)",
   "language": "python",
   "name": "python3"
  },
  "language_info": {
   "codemirror_mode": {
    "name": "ipython",
    "version": 3
   },
   "file_extension": ".py",
   "mimetype": "text/x-python",
   "name": "python",
   "nbconvert_exporter": "python",
   "pygments_lexer": "ipython3",
   "version": "3.10.9"
  }
 },
 "nbformat": 4,
 "nbformat_minor": 5
}
