{
 "cells": [
  {
   "cell_type": "markdown",
   "id": "2a850f77",
   "metadata": {},
   "source": [
    "# string topics"
   ]
  },
  {
   "cell_type": "markdown",
   "id": "0fb03c74",
   "metadata": {},
   "source": [
    "# 1-concatination = +\n",
    "# 2-replication = *\n",
    "# 3- and\n",
    "# 4- or\n",
    "# 5- not\n",
    "# 6- >\n",
    "# 7- <\n",
    "# 8- ==\n",
    "# 9- in\n",
    "# 10- not in\n",
    "# 11- len()- if want to find the length of the string\n",
    "# 12- max()- if we want to find the max alphabet of the string\n",
    "# 13- min()- if we want to find the smallest alphabet of the string\n",
    "# 14- sorted()- if we want to seperate the alphabets or any thing in the string\n",
    "# 15- lower- if want to change the string in lower case. for ex-s.lower(here s is any variable we can take)\n",
    "# 16- upper- if want to change the string in upper case. for ex-s.upper(here s is any variable we can take)\n",
    "# 16- title- if want to change the starting letters of string in upper case. for ex-s.title(here s is any variable we can take)\n",
    "# 17- capitalize -if want to change the 1st letter of string in upper case. for ex-s.capitalize(here s is any variable we can take)\n",
    "# 18- swapcase- changes small to capital(all letters present in string) and vice versa. for ex-s.swapcase()\n",
    "# 19-isalnum()-it is used to check whether we have entered the string is all digit or not. for ex=s.isalnum()\n",
    "# 20-isaplha()-it is used to check whether we have entered the string is all alphabet or not. for ex=s.isalpha()\n",
    "# 21-istitle()-it is used to check whether we have entered the string is in title format or not. for ex=s.istitle()\n",
    "# 22-islower()- it is used to check whether we have entered the string is all lower or not. for ex=s.islower()\n",
    "# 23-isupper()-it is used to check whether we have entered the string is all upper or not. for ex=s.isupper()\n",
    "# 24-isdigit()-it is used to check whether we have entered the string is all numeric or not. for ex=s.isdigit()\n",
    "# 25-isspace()-it is used to check whether we have entered the string is all space or not. for ex=s.isspace()\n",
    "# 26- startswith()=it is used to check whether the entered string is starting with that or not.for ex=s.startswith(\"mi\")\n",
    "# 28- endswith()=it is used to check whether the entered string is ending with that or not.for ex=s.endswith(\"ly\")\n",
    "# 29- find()- same as index\n",
    "# 30- count()- it tells the occurence of the substring in string . ex=s.count(\"d\")\n",
    "# 31-index()- tells the position of the character in the string.ex=s.index(\"y\")\n",
    "# 32-counter()-it tells the ouccurence of the substring in the string\n",
    "# 33- split()-it splits/breaks the string into the words in the list based on splitter by default spliiter is spacen\n",
    "# 34- strip()- is used to remove the unwanted characters(\\t\\n) from the beginning and end in the string\n",
    "# 35- rstrip and lstrip\n",
    "# 36- join()- it is used to join strings \n",
    "# 37- format\n",
    "# 38- slicing and concatenation\n",
    "# 39- replace method\n",
    "# 40- naive method"
   ]
  },
  {
   "cell_type": "code",
   "execution_count": null,
   "id": "55b53249",
   "metadata": {},
   "outputs": [],
   "source": [
    "s=\"\""
   ]
  },
  {
   "cell_type": "code",
   "execution_count": null,
   "id": "8cce9fe4",
   "metadata": {},
   "outputs": [],
   "source": []
  },
  {
   "cell_type": "code",
   "execution_count": null,
   "id": "cb9829ce",
   "metadata": {},
   "outputs": [],
   "source": []
  },
  {
   "cell_type": "code",
   "execution_count": null,
   "id": "78daa1aa",
   "metadata": {},
   "outputs": [],
   "source": []
  },
  {
   "cell_type": "code",
   "execution_count": null,
   "id": "86e4928b",
   "metadata": {},
   "outputs": [],
   "source": []
  },
  {
   "cell_type": "code",
   "execution_count": null,
   "id": "6c4642f3",
   "metadata": {},
   "outputs": [],
   "source": []
  },
  {
   "cell_type": "code",
   "execution_count": null,
   "id": "35867236",
   "metadata": {},
   "outputs": [],
   "source": []
  },
  {
   "cell_type": "code",
   "execution_count": null,
   "id": "a07e30ba",
   "metadata": {},
   "outputs": [],
   "source": []
  },
  {
   "cell_type": "code",
   "execution_count": null,
   "id": "85b88ac1",
   "metadata": {},
   "outputs": [],
   "source": []
  },
  {
   "cell_type": "code",
   "execution_count": null,
   "id": "2ade3e77",
   "metadata": {},
   "outputs": [],
   "source": []
  },
  {
   "cell_type": "code",
   "execution_count": null,
   "id": "ce725bd1",
   "metadata": {},
   "outputs": [],
   "source": []
  },
  {
   "cell_type": "code",
   "execution_count": null,
   "id": "c58c152a",
   "metadata": {},
   "outputs": [],
   "source": []
  },
  {
   "cell_type": "code",
   "execution_count": null,
   "id": "2535538c",
   "metadata": {},
   "outputs": [],
   "source": []
  },
  {
   "cell_type": "code",
   "execution_count": null,
   "id": "60e63b51",
   "metadata": {},
   "outputs": [],
   "source": []
  },
  {
   "cell_type": "code",
   "execution_count": null,
   "id": "33993582",
   "metadata": {},
   "outputs": [],
   "source": []
  },
  {
   "cell_type": "code",
   "execution_count": null,
   "id": "028c6dbb",
   "metadata": {},
   "outputs": [],
   "source": []
  }
 ],
 "metadata": {
  "kernelspec": {
   "display_name": "Python 3 (ipykernel)",
   "language": "python",
   "name": "python3"
  },
  "language_info": {
   "codemirror_mode": {
    "name": "ipython",
    "version": 3
   },
   "file_extension": ".py",
   "mimetype": "text/x-python",
   "name": "python",
   "nbconvert_exporter": "python",
   "pygments_lexer": "ipython3",
   "version": "3.10.9"
  }
 },
 "nbformat": 4,
 "nbformat_minor": 5
}
