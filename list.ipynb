{
 "cells": [
  {
   "cell_type": "markdown",
   "id": "0e45f18c",
   "metadata": {},
   "source": [
    "## list:\n",
    "- list is ordered collections of multiple data which is of same type or different type\n",
    "\n",
    "- property : mutable data type: changes are allowed"
   ]
  },
  {
   "cell_type": "markdown",
   "id": "972bf63c",
   "metadata": {},
   "source": [
    "## indexing"
   ]
  },
  {
   "cell_type": "code",
   "execution_count": 2,
   "id": "9c34fb12",
   "metadata": {},
   "outputs": [
    {
     "data": {
      "text/plain": [
       "['happy', 'sad', ['angry', 'surprise'], 90, 90.8, True]"
      ]
     },
     "execution_count": 2,
     "metadata": {},
     "output_type": "execute_result"
    }
   ],
   "source": [
    "l=[\"happy\",\"sad\",[\"angry\",\"surprise\"],90,90.8,True]\n",
    "l\n"
   ]
  },
  {
   "cell_type": "code",
   "execution_count": 5,
   "id": "87a37beb",
   "metadata": {},
   "outputs": [],
   "source": [
    "a=l[0]"
   ]
  },
  {
   "cell_type": "code",
   "execution_count": 6,
   "id": "5c28abf3",
   "metadata": {},
   "outputs": [
    {
     "data": {
      "text/plain": [
       "'happy'"
      ]
     },
     "execution_count": 6,
     "metadata": {},
     "output_type": "execute_result"
    }
   ],
   "source": [
    "a\n"
   ]
  },
  {
   "cell_type": "code",
   "execution_count": 9,
   "id": "553cd626",
   "metadata": {},
   "outputs": [
    {
     "data": {
      "text/plain": [
       "'hpy'"
      ]
     },
     "execution_count": 9,
     "metadata": {},
     "output_type": "execute_result"
    }
   ],
   "source": [
    "a[0:5:2]"
   ]
  },
  {
   "cell_type": "code",
   "execution_count": 10,
   "id": "6f992701",
   "metadata": {},
   "outputs": [
    {
     "data": {
      "text/plain": [
       "'hpy'"
      ]
     },
     "execution_count": 10,
     "metadata": {},
     "output_type": "execute_result"
    }
   ],
   "source": [
    "## or\n",
    "l[0][0:5:2]"
   ]
  },
  {
   "cell_type": "code",
   "execution_count": 12,
   "id": "9a0aadc8",
   "metadata": {},
   "outputs": [
    {
     "data": {
      "text/plain": [
       "'hpy'"
      ]
     },
     "execution_count": 12,
     "metadata": {},
     "output_type": "execute_result"
    }
   ],
   "source": [
    "## if dynamic\n",
    "l[0][0:len(l[0]):2]"
   ]
  },
  {
   "cell_type": "markdown",
   "id": "7c570d1c",
   "metadata": {},
   "source": [
    "## slicing"
   ]
  },
  {
   "cell_type": "code",
   "execution_count": 13,
   "id": "da54a8dc",
   "metadata": {},
   "outputs": [
    {
     "data": {
      "text/plain": [
       "[['angry', 'surprise'], 90, 90.8]"
      ]
     },
     "execution_count": 13,
     "metadata": {},
     "output_type": "execute_result"
    }
   ],
   "source": [
    "l[2:-1]"
   ]
  },
  {
   "cell_type": "code",
   "execution_count": 14,
   "id": "d9aece33",
   "metadata": {},
   "outputs": [
    {
     "data": {
      "text/plain": [
       "[]"
      ]
     },
     "execution_count": 14,
     "metadata": {},
     "output_type": "execute_result"
    }
   ],
   "source": [
    "l[2:-6]"
   ]
  },
  {
   "cell_type": "code",
   "execution_count": 15,
   "id": "d96b403f",
   "metadata": {},
   "outputs": [
    {
     "data": {
      "text/plain": [
       "[]"
      ]
     },
     "execution_count": 15,
     "metadata": {},
     "output_type": "execute_result"
    }
   ],
   "source": [
    "l[-3:-5:2]"
   ]
  },
  {
   "cell_type": "code",
   "execution_count": 16,
   "id": "b06956fa",
   "metadata": {},
   "outputs": [
    {
     "data": {
      "text/plain": [
       "'ui'"
      ]
     },
     "execution_count": 16,
     "metadata": {},
     "output_type": "execute_result"
    }
   ],
   "source": [
    "l[-4][1][1:9:4]"
   ]
  },
  {
   "cell_type": "code",
   "execution_count": 17,
   "id": "beb82d8d",
   "metadata": {},
   "outputs": [
    {
     "data": {
      "text/plain": [
       "'happy'"
      ]
     },
     "execution_count": 17,
     "metadata": {},
     "output_type": "execute_result"
    }
   ],
   "source": [
    "l[-6]"
   ]
  },
  {
   "cell_type": "markdown",
   "id": "13e33fc7",
   "metadata": {},
   "source": [
    "## list property: mutable : changes are allowed in the list"
   ]
  },
  {
   "cell_type": "code",
   "execution_count": 1,
   "id": "212051e6",
   "metadata": {},
   "outputs": [
    {
     "name": "stdout",
     "output_type": "stream",
     "text": [
      "[1, 2, 3, 4, 5, 6, 7]\n",
      "2785443243200\n",
      "after updation\n",
      "[1, 2, 3, 4, 5, 6, 1000]\n",
      "2785443243200\n"
     ]
    }
   ],
   "source": [
    "l=[1,2,3,4,5,6,7]\n",
    "print(l)\n",
    "print(id(l))\n",
    "print(\"after updation\")\n",
    "l[-1]=1000\n",
    "print(l)\n",
    "print(id(l))"
   ]
  },
  {
   "cell_type": "markdown",
   "id": "49e12b8e",
   "metadata": {},
   "source": [
    "## iteration on list"
   ]
  },
  {
   "cell_type": "code",
   "execution_count": 3,
   "id": "0327b17f",
   "metadata": {},
   "outputs": [
    {
     "name": "stdout",
     "output_type": "stream",
     "text": [
      "1\n",
      "2\n",
      "3\n",
      "4\n"
     ]
    }
   ],
   "source": [
    "l=[1,2,3,4]\n",
    "for i in l:\n",
    "    print(i)"
   ]
  },
  {
   "cell_type": "markdown",
   "id": "89d8ff3e",
   "metadata": {},
   "source": [
    "## common function\n",
    "- len()\n",
    "- max()\n",
    "- min()\n",
    "- sorted()\n",
    "- sum()\n",
    "-del\n"
   ]
  },
  {
   "cell_type": "code",
   "execution_count": 6,
   "id": "37123b66",
   "metadata": {},
   "outputs": [],
   "source": [
    "l=[1,2,3,4,5,6,90,88,56,23]\n"
   ]
  },
  {
   "cell_type": "code",
   "execution_count": 7,
   "id": "f0e7bf4b",
   "metadata": {},
   "outputs": [
    {
     "data": {
      "text/plain": [
       "10"
      ]
     },
     "execution_count": 7,
     "metadata": {},
     "output_type": "execute_result"
    }
   ],
   "source": [
    "len(l)"
   ]
  },
  {
   "cell_type": "code",
   "execution_count": 8,
   "id": "9935fd6b",
   "metadata": {},
   "outputs": [
    {
     "data": {
      "text/plain": [
       "90"
      ]
     },
     "execution_count": 8,
     "metadata": {},
     "output_type": "execute_result"
    }
   ],
   "source": [
    "max(l)"
   ]
  },
  {
   "cell_type": "code",
   "execution_count": 9,
   "id": "23845ff2",
   "metadata": {},
   "outputs": [
    {
     "data": {
      "text/plain": [
       "1"
      ]
     },
     "execution_count": 9,
     "metadata": {},
     "output_type": "execute_result"
    }
   ],
   "source": [
    "min(l)"
   ]
  },
  {
   "cell_type": "code",
   "execution_count": 10,
   "id": "a3d4a7d5",
   "metadata": {},
   "outputs": [
    {
     "data": {
      "text/plain": [
       "[1, 2, 3, 4, 5, 6, 23, 56, 88, 90]"
      ]
     },
     "execution_count": 10,
     "metadata": {},
     "output_type": "execute_result"
    }
   ],
   "source": [
    "sorted(l) ## by default in aesc order "
   ]
  },
  {
   "cell_type": "code",
   "execution_count": 11,
   "id": "a45fad61",
   "metadata": {},
   "outputs": [
    {
     "data": {
      "text/plain": [
       "278"
      ]
     },
     "execution_count": 11,
     "metadata": {},
     "output_type": "execute_result"
    }
   ],
   "source": [
    "sum(l)"
   ]
  },
  {
   "cell_type": "code",
   "execution_count": 15,
   "id": "3f2ce277",
   "metadata": {},
   "outputs": [
    {
     "data": {
      "text/plain": [
       "[90, 88, 56, 23, 6, 5, 4, 3, 2, 1]"
      ]
     },
     "execution_count": 15,
     "metadata": {},
     "output_type": "execute_result"
    }
   ],
   "source": [
    "sorted(l,reverse=True) ## if we write reverse= true it gives in desc order"
   ]
  },
  {
   "cell_type": "code",
   "execution_count": 16,
   "id": "6f1f7195",
   "metadata": {},
   "outputs": [
    {
     "data": {
      "text/plain": [
       "['__add__',\n",
       " '__class__',\n",
       " '__class_getitem__',\n",
       " '__contains__',\n",
       " '__delattr__',\n",
       " '__delitem__',\n",
       " '__dir__',\n",
       " '__doc__',\n",
       " '__eq__',\n",
       " '__format__',\n",
       " '__ge__',\n",
       " '__getattribute__',\n",
       " '__getitem__',\n",
       " '__gt__',\n",
       " '__hash__',\n",
       " '__iadd__',\n",
       " '__imul__',\n",
       " '__init__',\n",
       " '__init_subclass__',\n",
       " '__iter__',\n",
       " '__le__',\n",
       " '__len__',\n",
       " '__lt__',\n",
       " '__mul__',\n",
       " '__ne__',\n",
       " '__new__',\n",
       " '__reduce__',\n",
       " '__reduce_ex__',\n",
       " '__repr__',\n",
       " '__reversed__',\n",
       " '__rmul__',\n",
       " '__setattr__',\n",
       " '__setitem__',\n",
       " '__sizeof__',\n",
       " '__str__',\n",
       " '__subclasshook__',\n",
       " 'append',\n",
       " 'clear',\n",
       " 'copy',\n",
       " 'count',\n",
       " 'extend',\n",
       " 'index',\n",
       " 'insert',\n",
       " 'pop',\n",
       " 'remove',\n",
       " 'reverse',\n",
       " 'sort']"
      ]
     },
     "execution_count": 16,
     "metadata": {},
     "output_type": "execute_result"
    }
   ],
   "source": [
    "dir(list)"
   ]
  },
  {
   "cell_type": "markdown",
   "id": "9fa628f0",
   "metadata": {},
   "source": [
    "## how to add the element in the list\n",
    "- append\n",
    "- extend\n",
    "- insert"
   ]
  },
  {
   "cell_type": "markdown",
   "id": "37a0a4b3",
   "metadata": {},
   "source": [
    "## append: to add the single element in the list in the end"
   ]
  },
  {
   "cell_type": "code",
   "execution_count": 19,
   "id": "85157718",
   "metadata": {},
   "outputs": [
    {
     "name": "stdout",
     "output_type": "stream",
     "text": [
      "enter the element you wan to add in the list khushui\n"
     ]
    },
    {
     "data": {
      "text/plain": [
       "[12, 13, 14, 17, 19, 'khushui']"
      ]
     },
     "execution_count": 19,
     "metadata": {},
     "output_type": "execute_result"
    }
   ],
   "source": [
    "l=[12,13,14,17,19]\n",
    "e=input(\"enter the element you wan to add in the list \")\n",
    "l.append(e)\n",
    "l"
   ]
  },
  {
   "cell_type": "code",
   "execution_count": 20,
   "id": "ecf88305",
   "metadata": {},
   "outputs": [
    {
     "name": "stdout",
     "output_type": "stream",
     "text": [
      "enter the element you wan to add in the list 46\n"
     ]
    },
    {
     "data": {
      "text/plain": [
       "[12, 13, 14, 17, 19, '46']"
      ]
     },
     "execution_count": 20,
     "metadata": {},
     "output_type": "execute_result"
    }
   ],
   "source": [
    "l=[12,13,14,17,19]\n",
    "e=input(\"enter the element you wan to add in the list \")\n",
    "l.append(e)\n",
    "l"
   ]
  },
  {
   "cell_type": "markdown",
   "id": "a1d8e96d",
   "metadata": {},
   "source": [
    "## extend: is used to add the multiple elements in the list in the end fashion"
   ]
  },
  {
   "cell_type": "code",
   "execution_count": 21,
   "id": "5e3cdf9d",
   "metadata": {},
   "outputs": [
    {
     "data": {
      "text/plain": [
       "[12, 13, 14, 17, 19, '46', 100, 200, 300]"
      ]
     },
     "execution_count": 21,
     "metadata": {},
     "output_type": "execute_result"
    }
   ],
   "source": [
    "ll=[12,13,14,17,19]\n",
    "l.extend([100,200,300])\n",
    "l"
   ]
  },
  {
   "cell_type": "code",
   "execution_count": 32,
   "id": "00c591ac",
   "metadata": {},
   "outputs": [
    {
     "name": "stdout",
     "output_type": "stream",
     "text": [
      "enter the element you wan to add in the list khushi\n"
     ]
    },
    {
     "data": {
      "text/plain": [
       "[12, 13, 14, 17, 19, ['khushi']]"
      ]
     },
     "execution_count": 32,
     "metadata": {},
     "output_type": "execute_result"
    }
   ],
   "source": [
    "l=[12,13,14,17,19]\n",
    "e=input(\"enter the element you wan to add in the list \")\n",
    "l1=[]\n",
    "l1.append(e)\n",
    "\n",
    "l.append(l1)\n",
    "l"
   ]
  },
  {
   "cell_type": "code",
   "execution_count": 27,
   "id": "b975a795",
   "metadata": {},
   "outputs": [
    {
     "data": {
      "text/plain": [
       "[12, 13, 14, 17, 19, 'khuhsi', [100, 200, 300]]"
      ]
     },
     "execution_count": 27,
     "metadata": {},
     "output_type": "execute_result"
    }
   ],
   "source": [
    "ll=[12,13,14,17,19]\n",
    "l.append([100,200,300])\n",
    "l"
   ]
  },
  {
   "cell_type": "code",
   "execution_count": 28,
   "id": "1717bf67",
   "metadata": {},
   "outputs": [
    {
     "data": {
      "text/plain": [
       "[12, 13, 14, 17, 19, 'khuhsi', [100, 200, 300], 'h', 'e', 'l', 'l', 'o']"
      ]
     },
     "execution_count": 28,
     "metadata": {},
     "output_type": "execute_result"
    }
   ],
   "source": [
    "ll=[12,13,14,17,19]\n",
    "l.extend('hello')\n",
    "l"
   ]
  },
  {
   "cell_type": "markdown",
   "id": "f6506d3f",
   "metadata": {},
   "source": [
    "## insert: to add the elements at the particular position"
   ]
  },
  {
   "cell_type": "code",
   "execution_count": 33,
   "id": "a509574e",
   "metadata": {},
   "outputs": [
    {
     "name": "stdout",
     "output_type": "stream",
     "text": [
      "enter the element u wan to add45\n",
      "enter the pos at which the element is to be added2\n"
     ]
    },
    {
     "data": {
      "text/plain": [
       "[12, 13, '45', 14, 15, 90]"
      ]
     },
     "execution_count": 33,
     "metadata": {},
     "output_type": "execute_result"
    }
   ],
   "source": [
    "l=[12,13,14,15,90]\n",
    "e=input(\"enter the element u wan to add\")\n",
    "pos=int(input(\"enter the pos at which the element is to be added\"))\n",
    "l.insert(pos,e)\n",
    "l"
   ]
  },
  {
   "cell_type": "markdown",
   "id": "e339e0ca",
   "metadata": {},
   "source": [
    "## how to take list from user"
   ]
  },
  {
   "cell_type": "code",
   "execution_count": 34,
   "id": "c0ecabeb",
   "metadata": {},
   "outputs": [
    {
     "name": "stdout",
     "output_type": "stream",
     "text": [
      "enter the numbers in the list12 45 67 89 30\n"
     ]
    },
    {
     "data": {
      "text/plain": [
       "['12', '45', '67', '89', '30']"
      ]
     },
     "execution_count": 34,
     "metadata": {},
     "output_type": "execute_result"
    }
   ],
   "source": [
    "l=input(\"enter the nums to be sdded in list\").split()\n",
    "l"
   ]
  },
  {
   "cell_type": "code",
   "execution_count": 35,
   "id": "79e4c942",
   "metadata": {},
   "outputs": [
    {
     "name": "stdout",
     "output_type": "stream",
     "text": [
      "enter the nums to be sdded in list12,45,33,45,67,89\n"
     ]
    },
    {
     "data": {
      "text/plain": [
       "['12', '45', '33', '45', '67', '89']"
      ]
     },
     "execution_count": 35,
     "metadata": {},
     "output_type": "execute_result"
    }
   ],
   "source": [
    "l=input(\"enter the nums to be sdded in list\").split(\",\")\n",
    "l"
   ]
  },
  {
   "cell_type": "markdown",
   "id": "8317dc91",
   "metadata": {},
   "source": [
    "## sum of the elements of the list taken by user"
   ]
  },
  {
   "cell_type": "code",
   "execution_count": 36,
   "id": "b345ab05",
   "metadata": {},
   "outputs": [
    {
     "name": "stdout",
     "output_type": "stream",
     "text": [
      "enter the nums to be sdded in list12,13,14,15,16,17\n"
     ]
    },
    {
     "data": {
      "text/plain": [
       "['12', '13', '14', '15', '16', '17']"
      ]
     },
     "execution_count": 36,
     "metadata": {},
     "output_type": "execute_result"
    }
   ],
   "source": [
    "l=input(\"enter the nums to be sdded in list\").split(\",\")\n",
    "l"
   ]
  },
  {
   "cell_type": "code",
   "execution_count": 37,
   "id": "3cddc63b",
   "metadata": {},
   "outputs": [
    {
     "data": {
      "text/plain": [
       "[12, 13, 14, 15, 16, 17]"
      ]
     },
     "execution_count": 37,
     "metadata": {},
     "output_type": "execute_result"
    }
   ],
   "source": [
    "l1=[]\n",
    "for i in l:\n",
    "    j=int(i)\n",
    "    l1.append(j)\n",
    "l1"
   ]
  },
  {
   "cell_type": "code",
   "execution_count": 39,
   "id": "5537770b",
   "metadata": {},
   "outputs": [
    {
     "data": {
      "text/plain": [
       "87"
      ]
     },
     "execution_count": 39,
     "metadata": {},
     "output_type": "execute_result"
    }
   ],
   "source": [
    "sum(l1)"
   ]
  },
  {
   "cell_type": "markdown",
   "id": "f5c995aa",
   "metadata": {},
   "source": [
    "# enter the list from user"
   ]
  },
  {
   "cell_type": "code",
   "execution_count": 41,
   "id": "2cc3de8d",
   "metadata": {},
   "outputs": [
    {
     "name": "stdout",
     "output_type": "stream",
     "text": [
      "enter the number of marks3\n",
      "enter the marks12\n",
      "enter the marks13\n",
      "enter the marks13\n"
     ]
    },
    {
     "data": {
      "text/plain": [
       "[12, 13, 13]"
      ]
     },
     "execution_count": 41,
     "metadata": {},
     "output_type": "execute_result"
    }
   ],
   "source": [
    "n=int(input(\"enter the number of marks\"))\n",
    "l=[]\n",
    "for i in range(1,n+1):\n",
    "    m=int(input(\"enter the marks\"))\n",
    "    l.append(m)\n",
    "l"
   ]
  },
  {
   "cell_type": "markdown",
   "id": "979d5ef6",
   "metadata": {},
   "source": [
    "## nested list(list ke andar list from user)"
   ]
  },
  {
   "cell_type": "code",
   "execution_count": 43,
   "id": "e2d2b02a",
   "metadata": {},
   "outputs": [
    {
     "name": "stdout",
     "output_type": "stream",
     "text": [
      "enter the number of students  2\n",
      "enter the name of student khushi\n",
      "enter the age of student 21\n",
      "enter the genderf\n",
      "enter the marks  12\n",
      "enter the marks  13\n",
      "enter the marks  14\n",
      "enter the name of student anmol\n",
      "enter the age of student 19\n",
      "enter the genderm\n",
      "enter the marks  12\n",
      "enter the marks  12\n",
      "enter the marks  14\n"
     ]
    },
    {
     "data": {
      "text/plain": [
       "[['khushi', 21, 'f', [12, 13, 14]], ['anmol', 19, 'm', [12, 12, 14]]]"
      ]
     },
     "execution_count": 43,
     "metadata": {},
     "output_type": "execute_result"
    }
   ],
   "source": [
    "student=[]\n",
    "n=int(input(\"enter the number of students  \"))\n",
    "for i in range(1,n+1):\n",
    "    student_detail=[]\n",
    "    marks=[]\n",
    "    name=input(\"enter the name of student \")\n",
    "    age=int(input(\"enter the age of student \"))\n",
    "    gender=input(\"enter the gender\")\n",
    "    for j in range(1,4):\n",
    "        m=int(input(\"enter the marks  \"))\n",
    "        marks.append(m)\n",
    "    student_detail.append(name)\n",
    "    student_detail.append(age)\n",
    "    student_detail.append(gender)\n",
    "    student_detail.append(marks)\n",
    "    student.append(student_detail)\n",
    "student"
   ]
  },
  {
   "cell_type": "markdown",
   "id": "80870777",
   "metadata": {},
   "source": [
    "## how to delete element from the list\n",
    "- pop\n",
    "- remove\n",
    "- del\n",
    "- clear"
   ]
  },
  {
   "cell_type": "markdown",
   "id": "e44f70bb",
   "metadata": {},
   "source": [
    "## pop"
   ]
  },
  {
   "cell_type": "code",
   "execution_count": 44,
   "id": "a64f9468",
   "metadata": {},
   "outputs": [
    {
     "name": "stdout",
     "output_type": "stream",
     "text": [
      "enter the element u want to delete 13\n",
      "13\n"
     ]
    },
    {
     "data": {
      "text/plain": [
       "[12, 14, 15, 16]"
      ]
     },
     "execution_count": 44,
     "metadata": {},
     "output_type": "execute_result"
    }
   ],
   "source": [
    "l=[12,13,14,15,16]\n",
    "e=int(input(\"enter the element u want to delete\"))\n",
    "pos=l.index(e)\n",
    "deleted=l.pop(pos) ## it deletes the element based on pos\n",
    "print(deleted)\n",
    "l"
   ]
  },
  {
   "cell_type": "code",
   "execution_count": 45,
   "id": "472373e4",
   "metadata": {},
   "outputs": [
    {
     "name": "stdout",
     "output_type": "stream",
     "text": [
      "16\n",
      "[12, 13, 14, 15]\n"
     ]
    }
   ],
   "source": [
    "l=[12,13,14,15,16]\n",
    "d=l.pop() ## it deleted the last element by default\n",
    "l\n",
    "print(d)\n",
    "print(l)"
   ]
  },
  {
   "cell_type": "markdown",
   "id": "fb4635b9",
   "metadata": {},
   "source": [
    "## remove"
   ]
  },
  {
   "cell_type": "code",
   "execution_count": 47,
   "id": "f9b536b6",
   "metadata": {},
   "outputs": [
    {
     "data": {
      "text/plain": [
       "[13, 14, 15, 16]"
      ]
     },
     "execution_count": 47,
     "metadata": {},
     "output_type": "execute_result"
    }
   ],
   "source": [
    "l=[12,13,14,15,16]\n",
    "l.remove(12)\n",
    "l"
   ]
  },
  {
   "cell_type": "markdown",
   "id": "363098eb",
   "metadata": {},
   "source": [
    "## clear"
   ]
  },
  {
   "cell_type": "code",
   "execution_count": 49,
   "id": "7e60fc8e",
   "metadata": {},
   "outputs": [
    {
     "data": {
      "text/plain": [
       "[]"
      ]
     },
     "execution_count": 49,
     "metadata": {},
     "output_type": "execute_result"
    }
   ],
   "source": [
    "l=[12,13,14,15,16] ## it deletes the elements of  list and givies empty list\n",
    "l.clear() ## clear will delete all the list and give empty list\n",
    "l"
   ]
  },
  {
   "cell_type": "markdown",
   "id": "97c2d4f9",
   "metadata": {},
   "source": [
    "## del"
   ]
  },
  {
   "cell_type": "code",
   "execution_count": 50,
   "id": "771f3767",
   "metadata": {},
   "outputs": [
    {
     "data": {
      "text/plain": [
       "[12, 13, 15, 16]"
      ]
     },
     "execution_count": 50,
     "metadata": {},
     "output_type": "execute_result"
    }
   ],
   "source": [
    "l=[12,13,14,15,16]\n",
    "del l[2] ## delete will delete the whole list but will not return empty list\n",
    "l"
   ]
  },
  {
   "cell_type": "code",
   "execution_count": 51,
   "id": "54b2fb3f",
   "metadata": {},
   "outputs": [],
   "source": [
    "l=[12,13,14,15,16]\n",
    "del l"
   ]
  },
  {
   "cell_type": "code",
   "execution_count": 2,
   "id": "6af4be0f",
   "metadata": {},
   "outputs": [
    {
     "data": {
      "text/plain": [
       "[14, 15, 16]"
      ]
     },
     "execution_count": 2,
     "metadata": {},
     "output_type": "execute_result"
    }
   ],
   "source": [
    "l=[12,13,14,15,16]\n",
    "del l[0:2]\n",
    "l"
   ]
  },
  {
   "cell_type": "code",
   "execution_count": 53,
   "id": "c68d6378",
   "metadata": {},
   "outputs": [
    {
     "ename": "NameError",
     "evalue": "name 'l' is not defined",
     "output_type": "error",
     "traceback": [
      "\u001b[1;31m---------------------------------------------------------------------------\u001b[0m",
      "\u001b[1;31mNameError\u001b[0m                                 Traceback (most recent call last)",
      "Cell \u001b[1;32mIn[53], line 1\u001b[0m\n\u001b[1;32m----> 1\u001b[0m \u001b[43ml\u001b[49m\n",
      "\u001b[1;31mNameError\u001b[0m: name 'l' is not defined"
     ]
    }
   ],
   "source": [
    "l ## deleted removes whole list"
   ]
  },
  {
   "cell_type": "markdown",
   "id": "88b3a2ac",
   "metadata": {},
   "source": [
    "# **agar koi new list banani h toh empty list lenge aur append se usko fill karwayenge"
   ]
  },
  {
   "cell_type": "markdown",
   "id": "d3972d7e",
   "metadata": {},
   "source": [
    "# either we can use split or append to make new list"
   ]
  },
  {
   "cell_type": "markdown",
   "id": "7989f11f",
   "metadata": {},
   "source": [
    "## *count-it tells the occurence of each element in the list"
   ]
  },
  {
   "cell_type": "code",
   "execution_count": 1,
   "id": "f097ec7f",
   "metadata": {},
   "outputs": [
    {
     "data": {
      "text/plain": [
       "1"
      ]
     },
     "execution_count": 1,
     "metadata": {},
     "output_type": "execute_result"
    }
   ],
   "source": [
    "l=[12,12,13,134,15,25,27,57,67,57,57]\n",
    "l.count(27)"
   ]
  },
  {
   "cell_type": "code",
   "execution_count": 2,
   "id": "843adbdf",
   "metadata": {},
   "outputs": [
    {
     "name": "stdout",
     "output_type": "stream",
     "text": [
      "12 .......... 2\n",
      "12 .......... 2\n",
      "13 .......... 1\n",
      "134 .......... 1\n",
      "15 .......... 1\n",
      "25 .......... 1\n",
      "27 .......... 1\n",
      "57 .......... 3\n",
      "67 .......... 1\n",
      "57 .......... 3\n",
      "57 .......... 3\n"
     ]
    }
   ],
   "source": [
    "for i in l:\n",
    "    print(i,\"..........\",l.count(i))"
   ]
  },
  {
   "cell_type": "code",
   "execution_count": 4,
   "id": "5c5d53fd",
   "metadata": {},
   "outputs": [
    {
     "data": {
      "text/plain": [
       "Counter({12: 2, 13: 1, 134: 1, 15: 1, 25: 1, 27: 1, 57: 3, 67: 1})"
      ]
     },
     "execution_count": 4,
     "metadata": {},
     "output_type": "execute_result"
    }
   ],
   "source": [
    "from collections import Counter\n",
    "Counter(l)"
   ]
  },
  {
   "cell_type": "markdown",
   "id": "837935af",
   "metadata": {},
   "source": [
    "## reverse"
   ]
  },
  {
   "cell_type": "code",
   "execution_count": 5,
   "id": "cb6771b2",
   "metadata": {},
   "outputs": [
    {
     "data": {
      "text/plain": [
       "['hi', 15, 14, 13, 'hello']"
      ]
     },
     "execution_count": 5,
     "metadata": {},
     "output_type": "execute_result"
    }
   ],
   "source": [
    "l=[\"hello\",13,14,15,\"hi\"]\n",
    "l.reverse()\n",
    "l"
   ]
  },
  {
   "cell_type": "markdown",
   "id": "ac254c77",
   "metadata": {},
   "source": [
    "## sort():sorting the element of the list in increasing or decreasing\n",
    "### d/w b/w sort and sorted is:\n",
    "- 1-sorted is used in every function like string,list,etc\n",
    "- 2-if we want to do with sorted then we have to explicitly store it in a variable"
   ]
  },
  {
   "cell_type": "code",
   "execution_count": 8,
   "id": "b13a9c34",
   "metadata": {},
   "outputs": [
    {
     "data": {
      "text/plain": [
       "[13, 14, 15]"
      ]
     },
     "execution_count": 8,
     "metadata": {},
     "output_type": "execute_result"
    }
   ],
   "source": [
    "l=[13,14,15]\n",
    "l.sort()\n",
    "l"
   ]
  },
  {
   "cell_type": "code",
   "execution_count": 9,
   "id": "c45e6028",
   "metadata": {},
   "outputs": [
    {
     "data": {
      "text/plain": [
       "[13, 14, 15]"
      ]
     },
     "execution_count": 9,
     "metadata": {},
     "output_type": "execute_result"
    }
   ],
   "source": [
    "l=[13,14,15]\n",
    "l1=sorted(l)\n",
    "l1"
   ]
  },
  {
   "cell_type": "markdown",
   "id": "fe7e23c1",
   "metadata": {},
   "source": [
    "## copy"
   ]
  },
  {
   "cell_type": "code",
   "execution_count": 11,
   "id": "cb053bb9",
   "metadata": {},
   "outputs": [
    {
     "name": "stdout",
     "output_type": "stream",
     "text": [
      "[13, 14, 15]\n",
      "[13, 14, 15]\n",
      "after updatoi\n",
      "[13, 14, 15]\n",
      "[13, 14, 100]\n"
     ]
    }
   ],
   "source": [
    "l=[13,14,15]\n",
    "l1=l.copy() ##deep copy\n",
    "print(l)\n",
    "print(l1)\n",
    "l1[-1]=100\n",
    "print(\"after updatoi\")\n",
    "print(l)\n",
    "print(l1)"
   ]
  },
  {
   "cell_type": "code",
   "execution_count": 12,
   "id": "2b6f2112",
   "metadata": {},
   "outputs": [
    {
     "name": "stdout",
     "output_type": "stream",
     "text": [
      "[13, 14, 15]\n",
      "[13, 14, 15]\n",
      "after updatoi\n",
      "[13, 14, 100]\n",
      "[13, 14, 100]\n"
     ]
    }
   ],
   "source": [
    "l=[13,14,15]\n",
    "l1=l ## shalow copy\n",
    "print(l)\n",
    "print(l1)\n",
    "l1[-1]=100\n",
    "print(\"after updatoi\")\n",
    "print(l)\n",
    "print(l1)"
   ]
  },
  {
   "cell_type": "markdown",
   "id": "8dec4356",
   "metadata": {},
   "source": [
    "## list comprehsion - short way to write the code"
   ]
  },
  {
   "cell_type": "markdown",
   "id": "ad07da04",
   "metadata": {},
   "source": [
    "### wap to display the square of numbers in the list entered by user in the range"
   ]
  },
  {
   "cell_type": "code",
   "execution_count": 1,
   "id": "8edbd1c7",
   "metadata": {},
   "outputs": [
    {
     "name": "stdout",
     "output_type": "stream",
     "text": [
      "enter the number of elements you want in the list 4\n",
      "enter the number 1\n",
      "enter the number 2\n",
      "enter the number 3\n",
      "enter the number 4\n"
     ]
    },
    {
     "data": {
      "text/plain": [
       "[1, 4, 9, 16]"
      ]
     },
     "execution_count": 1,
     "metadata": {},
     "output_type": "execute_result"
    }
   ],
   "source": [
    "l=[]\n",
    "l1=[]\n",
    "n=int(input(\"enter the number of elements you want in the list \"))\n",
    "for i in range(1,n+1):\n",
    "    i=int(input(\"enter the number \"))\n",
    "    l.append(i)\n",
    "l\n",
    "for i in l:\n",
    "    l1.append(i**2)\n",
    "l1"
   ]
  },
  {
   "cell_type": "code",
   "execution_count": 2,
   "id": "1091fe3f",
   "metadata": {},
   "outputs": [
    {
     "name": "stdout",
     "output_type": "stream",
     "text": [
      "enter the number of elements you want in the list 4\n",
      "enter the number 1\n",
      "enter the number 2\n",
      "enter the number 3\n",
      "enter the number 4\n"
     ]
    },
    {
     "data": {
      "text/plain": [
       "[1, 4, 9, 16]"
      ]
     },
     "execution_count": 2,
     "metadata": {},
     "output_type": "execute_result"
    }
   ],
   "source": [
    "l=[]\n",
    "l1=[]\n",
    "n=int(input(\"enter the number of elements you want in the list \"))\n",
    "for i in range(1,n+1):\n",
    "    i=int(input(\"enter the number \"))\n",
    "    l.append(i)\n",
    "[i**2 for i in l] ## jo bhi aapka output hoga that we have to write befor the loop"
   ]
  },
  {
   "cell_type": "markdown",
   "id": "472a8999",
   "metadata": {},
   "source": [
    "## if we want in range"
   ]
  },
  {
   "cell_type": "code",
   "execution_count": 4,
   "id": "a673fd2f",
   "metadata": {},
   "outputs": [
    {
     "name": "stdout",
     "output_type": "stream",
     "text": [
      "enter the start 1\n",
      "enter the end 6\n"
     ]
    },
    {
     "data": {
      "text/plain": [
       "[1, 4, 9, 16, 25, 36]"
      ]
     },
     "execution_count": 4,
     "metadata": {},
     "output_type": "execute_result"
    }
   ],
   "source": [
    "start=int(input(\"enter the start \"))\n",
    "end=int(input(\"enter the end \"))\n",
    "l=[]\n",
    "for i in range(start,end+1):\n",
    "    l.append(i**2)\n",
    "l"
   ]
  },
  {
   "cell_type": "code",
   "execution_count": 2,
   "id": "0ff3c4b6",
   "metadata": {},
   "outputs": [
    {
     "name": "stdout",
     "output_type": "stream",
     "text": [
      "enter the start 2\n",
      "enter the end 10\n"
     ]
    },
    {
     "data": {
      "text/plain": [
       "[4,\n",
       " 9,\n",
       " 16,\n",
       " 25,\n",
       " 36,\n",
       " 49,\n",
       " 64,\n",
       " 81,\n",
       " 100,\n",
       " 121,\n",
       " 144,\n",
       " 169,\n",
       " 196,\n",
       " 225,\n",
       " 256,\n",
       " 289,\n",
       " 324,\n",
       " 361]"
      ]
     },
     "execution_count": 2,
     "metadata": {},
     "output_type": "execute_result"
    }
   ],
   "source": [
    "start=int(input(\"enter the start \"))\n",
    "end=int(input(\"enter the end \"))\n",
    "[i**2 for i in range(start,end+10)]"
   ]
  },
  {
   "cell_type": "markdown",
   "id": "b927bdec",
   "metadata": {},
   "source": [
    "## wap to display the even numbers and odd corresponding to odd numbers in the range entered by user"
   ]
  },
  {
   "cell_type": "code",
   "execution_count": 4,
   "id": "2681f6c6",
   "metadata": {},
   "outputs": [
    {
     "name": "stdout",
     "output_type": "stream",
     "text": [
      "enter the start 1\n",
      "enter the end 15\n"
     ]
    },
    {
     "data": {
      "text/plain": [
       "['odd',\n",
       " 2,\n",
       " 'odd',\n",
       " 4,\n",
       " 'odd',\n",
       " 6,\n",
       " 'odd',\n",
       " 8,\n",
       " 'odd',\n",
       " 10,\n",
       " 'odd',\n",
       " 12,\n",
       " 'odd',\n",
       " 14,\n",
       " 'odd']"
      ]
     },
     "execution_count": 4,
     "metadata": {},
     "output_type": "execute_result"
    }
   ],
   "source": [
    "start=int(input(\"enter the start \"))\n",
    "end=int(input(\"enter the end \"))\n",
    "[i if i%2==0 else \"odd\" for i in range(start,end+1)] ## jo bhi if ki body hogi wo if se phele aayegi aur else ki body else ke baad fir loop aayega\n"
   ]
  },
  {
   "cell_type": "markdown",
   "id": "7cea0ac5",
   "metadata": {},
   "source": [
    "## wap to display the even numbers and odd corresponding to odd numbers in the range entered by user and do the square of even "
   ]
  },
  {
   "cell_type": "code",
   "execution_count": 5,
   "id": "eef5f4d3",
   "metadata": {},
   "outputs": [
    {
     "name": "stdout",
     "output_type": "stream",
     "text": [
      "enter the start 1\n",
      "enter the end 15\n"
     ]
    },
    {
     "data": {
      "text/plain": [
       "['odd',\n",
       " 4,\n",
       " 'odd',\n",
       " 16,\n",
       " 'odd',\n",
       " 36,\n",
       " 'odd',\n",
       " 64,\n",
       " 'odd',\n",
       " 100,\n",
       " 'odd',\n",
       " 144,\n",
       " 'odd',\n",
       " 196,\n",
       " 'odd']"
      ]
     },
     "execution_count": 5,
     "metadata": {},
     "output_type": "execute_result"
    }
   ],
   "source": [
    "start=int(input(\"enter the start \"))\n",
    "end=int(input(\"enter the end \"))\n",
    "[i**2 if i%2==0 else \"odd\" for i in range(start,end+1)]"
   ]
  },
  {
   "cell_type": "code",
   "execution_count": 6,
   "id": "8946f366",
   "metadata": {},
   "outputs": [
    {
     "data": {
      "text/plain": [
       "[17, 18, 20]"
      ]
     },
     "execution_count": 6,
     "metadata": {},
     "output_type": "execute_result"
    }
   ],
   "source": [
    "l=[12,13,14,15,17,18,19]\n",
    "[i+3 for i in l[2:5]]"
   ]
  },
  {
   "cell_type": "markdown",
   "id": "53e6a2fc",
   "metadata": {},
   "source": [
    "## wap to display all the fruits that start with a "
   ]
  },
  {
   "cell_type": "code",
   "execution_count": 5,
   "id": "1a10a8d9",
   "metadata": {},
   "outputs": [
    {
     "name": "stdout",
     "output_type": "stream",
     "text": [
      "enter the fruits apple mango chiku avacado orrange\n"
     ]
    },
    {
     "data": {
      "text/plain": [
       "['apple', 'mango', 'chiku', 'avacado', 'orrange']"
      ]
     },
     "execution_count": 5,
     "metadata": {},
     "output_type": "execute_result"
    }
   ],
   "source": [
    "fruits=input(\"enter the fruits \").split()\n",
    "fruits"
   ]
  },
  {
   "cell_type": "code",
   "execution_count": 6,
   "id": "d6d8add8",
   "metadata": {},
   "outputs": [
    {
     "data": {
      "text/plain": [
       "['apple', 'avacado']"
      ]
     },
     "execution_count": 6,
     "metadata": {},
     "output_type": "execute_result"
    }
   ],
   "source": [
    "[i for i in fruits if i[0]==\"a\"]"
   ]
  },
  {
   "cell_type": "markdown",
   "id": "228fb333",
   "metadata": {},
   "source": [
    " ## **agar sirf if condition hogi to for loop ke baad likha jayega and if there is else condition also then both if and else condition will be written before loop and output will always be before loop"
   ]
  },
  {
   "cell_type": "code",
   "execution_count": 7,
   "id": "cb77d3ef",
   "metadata": {},
   "outputs": [
    {
     "data": {
      "text/plain": [
       "['apple', 'avacado']"
      ]
     },
     "execution_count": 7,
     "metadata": {},
     "output_type": "execute_result"
    }
   ],
   "source": [
    "## or\n",
    "[i for i in fruits if i.startswith(\"a\")]"
   ]
  },
  {
   "cell_type": "markdown",
   "id": "48ba6672",
   "metadata": {},
   "source": [
    "## wap to enter the age of user anf if age>40 adult and id age<40 young"
   ]
  },
  {
   "cell_type": "code",
   "execution_count": 10,
   "id": "8b6a1d97",
   "metadata": {},
   "outputs": [
    {
     "name": "stdout",
     "output_type": "stream",
     "text": [
      "enter the age 12\n",
      "enter the age 4\n",
      "enter the age 5\n",
      "enter the age 56\n",
      "enter the age 78\n",
      "enter the age 90\n"
     ]
    },
    {
     "data": {
      "text/plain": [
       "[12, 4, 5, 56, 78, 90]"
      ]
     },
     "execution_count": 10,
     "metadata": {},
     "output_type": "execute_result"
    }
   ],
   "source": [
    "age=[]\n",
    "for i in range(1,7):\n",
    "    a=int(input(\"enter the age \"))\n",
    "    age.append(a)\n",
    "age"
   ]
  },
  {
   "cell_type": "code",
   "execution_count": 11,
   "id": "c1c61b49",
   "metadata": {},
   "outputs": [
    {
     "data": {
      "text/plain": [
       "['young', 'young', 'young', 'adult', 'adult', 'adult']"
      ]
     },
     "execution_count": 11,
     "metadata": {},
     "output_type": "execute_result"
    }
   ],
   "source": [
    "### using list comprehend\n",
    "[\"adult\" if i>40 else \"young\" for i in age]"
   ]
  },
  {
   "cell_type": "code",
   "execution_count": 13,
   "id": "3258cd8a",
   "metadata": {},
   "outputs": [
    {
     "data": {
      "text/plain": [
       "['12   young',\n",
       " '4   young',\n",
       " '5   young',\n",
       " '56   adult ',\n",
       " '78   adult ',\n",
       " '90   adult ']"
      ]
     },
     "execution_count": 13,
     "metadata": {},
     "output_type": "execute_result"
    }
   ],
   "source": [
    "[f\"{i}   adult \"if i>40 else f\"{i}   young\" for i in age]"
   ]
  },
  {
   "cell_type": "markdown",
   "id": "5830ca9f",
   "metadata": {},
   "source": [
    "## wap to display those names of students which are palindrome"
   ]
  },
  {
   "cell_type": "code",
   "execution_count": 14,
   "id": "b9b80e78",
   "metadata": {},
   "outputs": [
    {
     "name": "stdout",
     "output_type": "stream",
     "text": [
      "enter the students aba noor tanvi nitin jai\n"
     ]
    },
    {
     "data": {
      "text/plain": [
       "['aba', 'noor', 'tanvi', 'nitin', 'jai']"
      ]
     },
     "execution_count": 14,
     "metadata": {},
     "output_type": "execute_result"
    }
   ],
   "source": [
    "l=input(\"enter the students \").split()\n",
    "l"
   ]
  },
  {
   "cell_type": "code",
   "execution_count": 15,
   "id": "128ab1ee",
   "metadata": {},
   "outputs": [
    {
     "data": {
      "text/plain": [
       "['aba', 'nitin']"
      ]
     },
     "execution_count": 15,
     "metadata": {},
     "output_type": "execute_result"
    }
   ],
   "source": [
    "[i for i in l if i==i[::-1]]"
   ]
  },
  {
   "cell_type": "markdown",
   "id": "e6e03303",
   "metadata": {},
   "source": [
    "## wap to display the smallest lenght of the fruit among the fruits name"
   ]
  },
  {
   "cell_type": "code",
   "execution_count": 17,
   "id": "577ea83c",
   "metadata": {},
   "outputs": [
    {
     "name": "stdout",
     "output_type": "stream",
     "text": [
      "enter the fruits avacado litchi grapes mango banana orange cheeku\n"
     ]
    },
    {
     "data": {
      "text/plain": [
       "['avacado', 'litchi', 'grapes', 'mango', 'banana', 'orange', 'cheeku']"
      ]
     },
     "execution_count": 17,
     "metadata": {},
     "output_type": "execute_result"
    }
   ],
   "source": [
    "l=input(\"enter the fruits \").split()\n",
    "l"
   ]
  },
  {
   "cell_type": "code",
   "execution_count": 20,
   "id": "05feeb18",
   "metadata": {},
   "outputs": [
    {
     "data": {
      "text/plain": [
       "[7, 6, 6, 5, 6, 6, 6]"
      ]
     },
     "execution_count": 20,
     "metadata": {},
     "output_type": "execute_result"
    }
   ],
   "source": [
    "length=[]\n",
    "for i in l:\n",
    "    le=len(i)\n",
    "    length.append(le)\n",
    "length\n"
   ]
  },
  {
   "cell_type": "code",
   "execution_count": 21,
   "id": "2fd787f3",
   "metadata": {},
   "outputs": [
    {
     "name": "stdout",
     "output_type": "stream",
     "text": [
      "5\n"
     ]
    }
   ],
   "source": [
    "l1=min(length)\n",
    "print(l1)"
   ]
  },
  {
   "cell_type": "markdown",
   "id": "be061001",
   "metadata": {},
   "source": [
    "## wap to display the unique student names in the list or remove the duplicants"
   ]
  },
  {
   "cell_type": "code",
   "execution_count": 23,
   "id": "bd4be0c2",
   "metadata": {},
   "outputs": [
    {
     "name": "stdout",
     "output_type": "stream",
     "text": [
      "enter the students name jai leena heena tanvi tanvi heena\n"
     ]
    },
    {
     "data": {
      "text/plain": [
       "['jai', 'leena', 'heena', 'tanvi']"
      ]
     },
     "execution_count": 23,
     "metadata": {},
     "output_type": "execute_result"
    }
   ],
   "source": [
    "l=input(\"enter the students name \").split()\n",
    "unique=[]\n",
    "for i in l:\n",
    "    if i not in unique:\n",
    "        unique.append(i)\n",
    "unique"
   ]
  },
  {
   "cell_type": "markdown",
   "id": "1cbf50a4",
   "metadata": {},
   "source": [
    "## 1-wap to count the vowels in total in the list"
   ]
  },
  {
   "cell_type": "code",
   "execution_count": 11,
   "id": "cf461d9a",
   "metadata": {},
   "outputs": [
    {
     "name": "stdout",
     "output_type": "stream",
     "text": [
      "enter the words khushi hello hi shivangi anmol teacher\n"
     ]
    },
    {
     "data": {
      "text/plain": [
       "['khushi', 'hello', 'hi', 'shivangi', 'anmol', 'teacher']"
      ]
     },
     "execution_count": 11,
     "metadata": {},
     "output_type": "execute_result"
    }
   ],
   "source": [
    "l=input(\"enter the words \").split()\n",
    "l"
   ]
  },
  {
   "cell_type": "code",
   "execution_count": 26,
   "id": "a2c90cbb",
   "metadata": {},
   "outputs": [
    {
     "name": "stdout",
     "output_type": "stream",
     "text": [
      "total vowels are  15\n",
      "total consonents are  13\n"
     ]
    }
   ],
   "source": [
    "count_v=0\n",
    "count_c=0\n",
    "for i in l:\n",
    "    for j in i:\n",
    "        if j in \"AEIOUaeiou\":\n",
    "            count_v=count_v+1\n",
    "        else:\n",
    "            count_c=count_c+1\n",
    "print(\"total vowels are \",count_v)\n",
    "print(\"total consonents are \",count_c)\n",
    "            \n"
   ]
  },
  {
   "cell_type": "markdown",
   "id": "a1c135b9",
   "metadata": {},
   "source": [
    "## wap to count the vowels and consonents in each word of the list"
   ]
  },
  {
   "cell_type": "code",
   "execution_count": 1,
   "id": "70412f74",
   "metadata": {},
   "outputs": [
    {
     "name": "stdout",
     "output_type": "stream",
     "text": [
      "total vowels in khushi are  2\n",
      "total consonents in  khushi are 4\n",
      "total vowels in hello are  2\n",
      "total consonents in  hello are 3\n",
      "total vowels in hi are  1\n",
      "total consonents in  hi are 1\n",
      "total vowels in shivangi are  3\n",
      "total consonents in  shivangi are 5\n",
      "total vowels in anmol are  2\n",
      "total consonents in  anmol are 3\n",
      "total vowels in teacher are  3\n",
      "total consonents in  teacher are 4\n"
     ]
    }
   ],
   "source": [
    "l=['khushi', 'hello', 'hi', 'shivangi', 'anmol', 'teacher']\n",
    "for i in l:\n",
    "    count_v=0\n",
    "    count_c=0\n",
    "    for j in i:\n",
    "        if j in \"AEIOUaeiou\":\n",
    "            count_v=count_v+1\n",
    "        else:\n",
    "            count_c=count_c+1\n",
    "    print(\"total vowels in\",i,\"are \",count_v)\n",
    "    print(\"total consonents in \",i,\"are\",count_c)\n",
    "            "
   ]
  },
  {
   "cell_type": "markdown",
   "id": "f5ffe5c9",
   "metadata": {},
   "source": [
    "## s=\"hi how r u hope u r doing good i love python programming language\"\n",
    "## task 1: remove the duplicants words\n",
    "## task 2: find the most active word\n",
    "## task 3: remove the duplicants letters and display those distinct letters in string or list"
   ]
  },
  {
   "cell_type": "code",
   "execution_count": 28,
   "id": "b453ea84",
   "metadata": {},
   "outputs": [
    {
     "data": {
      "text/plain": [
       "['hi',\n",
       " 'how',\n",
       " 'r',\n",
       " 'u',\n",
       " 'hope',\n",
       " 'u',\n",
       " 'r',\n",
       " 'doing',\n",
       " 'good',\n",
       " 'i',\n",
       " 'love',\n",
       " 'python',\n",
       " 'programming',\n",
       " 'language']"
      ]
     },
     "execution_count": 28,
     "metadata": {},
     "output_type": "execute_result"
    }
   ],
   "source": [
    "## task1\n",
    "s=\"hi how r u hope u r doing good i love python programming language\"\n",
    "l=s.split()\n",
    "l"
   ]
  },
  {
   "cell_type": "code",
   "execution_count": 29,
   "id": "7849128a",
   "metadata": {},
   "outputs": [
    {
     "data": {
      "text/plain": [
       "['hi',\n",
       " 'how',\n",
       " 'r',\n",
       " 'u',\n",
       " 'hope',\n",
       " 'doing',\n",
       " 'good',\n",
       " 'i',\n",
       " 'love',\n",
       " 'python',\n",
       " 'programming',\n",
       " 'language']"
      ]
     },
     "execution_count": 29,
     "metadata": {},
     "output_type": "execute_result"
    }
   ],
   "source": [
    "unique=[]\n",
    "for i in l:\n",
    "    if i not in unique:\n",
    "        unique.append(i)\n",
    "unique"
   ]
  },
  {
   "cell_type": "code",
   "execution_count": 30,
   "id": "78ca16f8",
   "metadata": {},
   "outputs": [
    {
     "data": {
      "text/plain": [
       "12"
      ]
     },
     "execution_count": 30,
     "metadata": {},
     "output_type": "execute_result"
    }
   ],
   "source": [
    "len(unique)"
   ]
  },
  {
   "cell_type": "code",
   "execution_count": 31,
   "id": "c95a40db",
   "metadata": {},
   "outputs": [],
   "source": [
    "## task2\n",
    "from collections import Counter"
   ]
  },
  {
   "cell_type": "code",
   "execution_count": 32,
   "id": "8d83e382",
   "metadata": {},
   "outputs": [
    {
     "data": {
      "text/plain": [
       "Counter({'hi': 1,\n",
       "         'how': 1,\n",
       "         'r': 2,\n",
       "         'u': 2,\n",
       "         'hope': 1,\n",
       "         'doing': 1,\n",
       "         'good': 1,\n",
       "         'i': 1,\n",
       "         'love': 1,\n",
       "         'python': 1,\n",
       "         'programming': 1,\n",
       "         'language': 1})"
      ]
     },
     "execution_count": 32,
     "metadata": {},
     "output_type": "execute_result"
    }
   ],
   "source": [
    "Counter(l)"
   ]
  },
  {
   "cell_type": "code",
   "execution_count": 38,
   "id": "b5f91efb",
   "metadata": {},
   "outputs": [
    {
     "data": {
      "text/plain": [
       "'hiowrupednglvytam'"
      ]
     },
     "execution_count": 38,
     "metadata": {},
     "output_type": "execute_result"
    }
   ],
   "source": [
    "## task3-\n",
    "s1=s.replace(\" \",\"\")\n",
    "s1\n",
    "unique1=\"\"\n",
    "for i in s1:\n",
    "    if i not in unique1:\n",
    "        unique1=unique1+i\n",
    "unique1\n",
    "        "
   ]
  },
  {
   "cell_type": "code",
   "execution_count": 39,
   "id": "a03a4c45",
   "metadata": {},
   "outputs": [
    {
     "data": {
      "text/plain": [
       "['h',\n",
       " 'i',\n",
       " 'o',\n",
       " 'w',\n",
       " 'r',\n",
       " 'u',\n",
       " 'p',\n",
       " 'e',\n",
       " 'd',\n",
       " 'n',\n",
       " 'g',\n",
       " 'l',\n",
       " 'v',\n",
       " 'y',\n",
       " 't',\n",
       " 'a',\n",
       " 'm']"
      ]
     },
     "execution_count": 39,
     "metadata": {},
     "output_type": "execute_result"
    }
   ],
   "source": [
    "list(unique1)"
   ]
  },
  {
   "cell_type": "markdown",
   "id": "1c5ba79a",
   "metadata": {},
   "source": [
    "# interview question"
   ]
  },
  {
   "cell_type": "markdown",
   "id": "300a1a81",
   "metadata": {},
   "source": [
    "# Expected Output :  [1,2,3,4,5,6,7,8,9]\n",
    "\n",
    "# sample Input \n",
    "l=[[1,2,3],[[[4,5,6]]],[[[[[[7,8,9]]]]]]]\n",
    "\n"
   ]
  },
  {
   "cell_type": "code",
   "execution_count": 12,
   "id": "e27f695e",
   "metadata": {},
   "outputs": [
    {
     "data": {
      "text/plain": [
       "'[[1, 2, 3], [[[4, 5, 6]]], [[[[[[7, 8, 9]]]]]]]'"
      ]
     },
     "execution_count": 12,
     "metadata": {},
     "output_type": "execute_result"
    }
   ],
   "source": [
    "l=[[1,2,3],[[[4,5,6]]],[[[[[[7,8,9]]]]]]]\n",
    "l1=str(l)\n",
    "l1"
   ]
  },
  {
   "cell_type": "code",
   "execution_count": 13,
   "id": "15007444",
   "metadata": {},
   "outputs": [
    {
     "data": {
      "text/plain": [
       "'123456789'"
      ]
     },
     "execution_count": 13,
     "metadata": {},
     "output_type": "execute_result"
    }
   ],
   "source": [
    "l=str(l)\n",
    "l\n",
    "l=l.replace(\"[\",\"\")\n",
    "l\n",
    "l=l.replace(\"]\",\"\")\n",
    "l\n",
    "l=l.replace(\", \",\"\")\n",
    "l"
   ]
  },
  {
   "cell_type": "code",
   "execution_count": 14,
   "id": "9288d695",
   "metadata": {},
   "outputs": [
    {
     "data": {
      "text/plain": [
       "[1, 2, 3, 4, 5, 6, 7, 8, 9]"
      ]
     },
     "execution_count": 14,
     "metadata": {},
     "output_type": "execute_result"
    }
   ],
   "source": [
    "l1=[]\n",
    "for i in l:\n",
    "    j=int(i)\n",
    "    l1.append(j)\n",
    "l1"
   ]
  },
  {
   "cell_type": "code",
   "execution_count": null,
   "id": "5ac6df53",
   "metadata": {},
   "outputs": [],
   "source": []
  },
  {
   "cell_type": "code",
   "execution_count": null,
   "id": "65acac48",
   "metadata": {},
   "outputs": [],
   "source": []
  }
 ],
 "metadata": {
  "kernelspec": {
   "display_name": "Python 3 (ipykernel)",
   "language": "python",
   "name": "python3"
  },
  "language_info": {
   "codemirror_mode": {
    "name": "ipython",
    "version": 3
   },
   "file_extension": ".py",
   "mimetype": "text/x-python",
   "name": "python",
   "nbconvert_exporter": "python",
   "pygments_lexer": "ipython3",
   "version": "3.10.9"
  }
 },
 "nbformat": 4,
 "nbformat_minor": 5
}
