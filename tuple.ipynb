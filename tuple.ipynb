{
 "cells": [
  {
   "cell_type": "markdown",
   "id": "b22808b1",
   "metadata": {},
   "source": [
    "# tuples\n",
    "\n",
    "## what is a tuple?\n",
    "a tuple is ordered collection of python objects separated by commas.\n",
    "\n",
    "In some ways, a tuple is similar to a list in terms of indexing,nested objects,and repetition but a tuple is immutable,unlike lists that are mutable.\n",
    "\n",
    "Tuples are immutable but follows some rules same as list like len,min,max,string\n",
    "\n",
    "## tuple: immutable\n",
    "## list: mutable"
   ]
  },
  {
   "cell_type": "markdown",
   "id": "ba484d6e",
   "metadata": {},
   "source": [
    "### where we choose the tuple?\n",
    "\n",
    "### when we need the data integrity or security then we use tuple since tuple is immutable"
   ]
  },
  {
   "cell_type": "markdown",
   "id": "a1870b31",
   "metadata": {},
   "source": [
    "## how to create tuple"
   ]
  },
  {
   "cell_type": "code",
   "execution_count": 1,
   "id": "99d0f175",
   "metadata": {},
   "outputs": [
    {
     "name": "stdout",
     "output_type": "stream",
     "text": [
      "(12, 13, 14, 15, 'hello', 'hi')\n",
      "<class 'tuple'>\n"
     ]
    }
   ],
   "source": [
    "t=(12,13,14,15,\"hello\",\"hi\")\n",
    "print(t)\n",
    "print(type(t))\n"
   ]
  },
  {
   "cell_type": "code",
   "execution_count": 2,
   "id": "0d9631dc",
   "metadata": {},
   "outputs": [
    {
     "name": "stdout",
     "output_type": "stream",
     "text": [
      "(12, 13, 14, 15)\n",
      "<class 'tuple'>\n"
     ]
    }
   ],
   "source": [
    "t=(12,13,14,15)\n",
    "print(t)\n",
    "print(type(t))"
   ]
  },
  {
   "cell_type": "markdown",
   "id": "e756fae7",
   "metadata": {},
   "source": [
    "## create the empty tuple"
   ]
  },
  {
   "cell_type": "code",
   "execution_count": 3,
   "id": "25f31ecb",
   "metadata": {},
   "outputs": [
    {
     "name": "stdout",
     "output_type": "stream",
     "text": [
      "\n",
      "<class 'tuple'>\n"
     ]
    }
   ],
   "source": [
    "t=()\n",
    "print()\n",
    "print(type(t))"
   ]
  },
  {
   "cell_type": "markdown",
   "id": "e89e415f",
   "metadata": {},
   "source": [
    "## create the tuple from constructor"
   ]
  },
  {
   "cell_type": "code",
   "execution_count": 4,
   "id": "fa58b72f",
   "metadata": {},
   "outputs": [
    {
     "name": "stdout",
     "output_type": "stream",
     "text": [
      "('m', 'a', 'd', 'r', 'i', 'd')\n",
      "<class 'tuple'>\n"
     ]
    }
   ],
   "source": [
    "t=tuple(\"madrid\")\n",
    "print(t)\n",
    "print(type(t))"
   ]
  },
  {
   "cell_type": "markdown",
   "id": "9a072b3b",
   "metadata": {},
   "source": [
    "## create a tuple having single element"
   ]
  },
  {
   "cell_type": "code",
   "execution_count": 7,
   "id": "1d7bc6a3",
   "metadata": {},
   "outputs": [
    {
     "name": "stdout",
     "output_type": "stream",
     "text": [
      "hello\n",
      "<class 'str'>\n"
     ]
    }
   ],
   "source": [
    "t=(\"hello\") ## this parenthesis do not have any value, it only works as brackets\n",
    "print(t)\n",
    "print(type(t))"
   ]
  },
  {
   "cell_type": "code",
   "execution_count": 8,
   "id": "7c5063fb",
   "metadata": {},
   "outputs": [
    {
     "name": "stdout",
     "output_type": "stream",
     "text": [
      "('hello',)\n",
      "<class 'tuple'>\n"
     ]
    }
   ],
   "source": [
    "t=(\"hello\",)## it is mandatory to give comma for giving single element\n",
    "print(t)\n",
    "print(type(t))"
   ]
  },
  {
   "cell_type": "markdown",
   "id": "4216feef",
   "metadata": {},
   "source": [
    "## indexing and slicing"
   ]
  },
  {
   "cell_type": "code",
   "execution_count": 9,
   "id": "c0171bc9",
   "metadata": {},
   "outputs": [
    {
     "name": "stdout",
     "output_type": "stream",
     "text": [
      "(12, 13, 14, 15, ('grapes', 'mango', 'chiku'), ['garima', 'khushi', 'leena'])\n",
      "<class 'tuple'>\n"
     ]
    }
   ],
   "source": [
    "t=(12,13,14,15,(\"grapes\",\"mango\",\"chiku\"),[\"garima\",\"khushi\",\"leena\"])\n",
    "print(t)\n",
    "print(type(t))"
   ]
  },
  {
   "cell_type": "markdown",
   "id": "dacaf7e4",
   "metadata": {},
   "source": [
    "### fetch chiku"
   ]
  },
  {
   "cell_type": "code",
   "execution_count": 10,
   "id": "f596d765",
   "metadata": {},
   "outputs": [
    {
     "data": {
      "text/plain": [
       "'chiku'"
      ]
     },
     "execution_count": 10,
     "metadata": {},
     "output_type": "execute_result"
    }
   ],
   "source": [
    "t[4][-1]"
   ]
  },
  {
   "cell_type": "code",
   "execution_count": 13,
   "id": "9d72da1c",
   "metadata": {},
   "outputs": [
    {
     "ename": "SyntaxError",
     "evalue": "invalid syntax (3274662681.py, line 7)",
     "output_type": "error",
     "traceback": [
      "\u001b[1;36m  Cell \u001b[1;32mIn[13], line 7\u001b[1;36m\u001b[0m\n\u001b[1;33m    - del\u001b[0m\n\u001b[1;37m      ^\u001b[0m\n\u001b[1;31mSyntaxError\u001b[0m\u001b[1;31m:\u001b[0m invalid syntax\n"
     ]
    }
   ],
   "source": [
    "## common functions\n",
    "- len\n",
    "- max\n",
    "- min\n",
    "- sorted\n",
    "- sum\n",
    "- del"
   ]
  },
  {
   "cell_type": "markdown",
   "id": "aec27942",
   "metadata": {},
   "source": [
    "## iterations on tuple"
   ]
  },
  {
   "cell_type": "code",
   "execution_count": 14,
   "id": "d54d5363",
   "metadata": {},
   "outputs": [
    {
     "name": "stdout",
     "output_type": "stream",
     "text": [
      "12\n",
      "13\n",
      "14\n",
      "15\n",
      "('grapes', 'mango', 'chiku')\n",
      "['garima', 'khushi', 'leena']\n"
     ]
    }
   ],
   "source": [
    "for i in t:\n",
    "    print(i)"
   ]
  },
  {
   "cell_type": "code",
   "execution_count": 15,
   "id": "0a9d5e2c",
   "metadata": {},
   "outputs": [
    {
     "data": {
      "text/plain": [
       "['__add__',\n",
       " '__class__',\n",
       " '__class_getitem__',\n",
       " '__contains__',\n",
       " '__delattr__',\n",
       " '__dir__',\n",
       " '__doc__',\n",
       " '__eq__',\n",
       " '__format__',\n",
       " '__ge__',\n",
       " '__getattribute__',\n",
       " '__getitem__',\n",
       " '__getnewargs__',\n",
       " '__gt__',\n",
       " '__hash__',\n",
       " '__init__',\n",
       " '__init_subclass__',\n",
       " '__iter__',\n",
       " '__le__',\n",
       " '__len__',\n",
       " '__lt__',\n",
       " '__mul__',\n",
       " '__ne__',\n",
       " '__new__',\n",
       " '__reduce__',\n",
       " '__reduce_ex__',\n",
       " '__repr__',\n",
       " '__rmul__',\n",
       " '__setattr__',\n",
       " '__sizeof__',\n",
       " '__str__',\n",
       " '__subclasshook__',\n",
       " 'count',\n",
       " 'index']"
      ]
     },
     "execution_count": 15,
     "metadata": {},
     "output_type": "execute_result"
    }
   ],
   "source": [
    "dir(tuple)"
   ]
  },
  {
   "cell_type": "markdown",
   "id": "ce4a8187",
   "metadata": {},
   "source": [
    "## tuple is not very powerful so we forcefully change it into list then do the functions and then change it back to tuple\n",
    "## tuple is basically used in the case of security like for example if we want our data to not get change we will use tuple"
   ]
  },
  {
   "cell_type": "markdown",
   "id": "988454df",
   "metadata": {},
   "source": [
    "## since the tuple is immutable so changes are not allowed"
   ]
  },
  {
   "cell_type": "code",
   "execution_count": 17,
   "id": "71a7bc75",
   "metadata": {},
   "outputs": [
    {
     "ename": "TypeError",
     "evalue": "'tuple' object does not support item assignment",
     "output_type": "error",
     "traceback": [
      "\u001b[1;31m---------------------------------------------------------------------------\u001b[0m",
      "\u001b[1;31mTypeError\u001b[0m                                 Traceback (most recent call last)",
      "Cell \u001b[1;32mIn[17], line 2\u001b[0m\n\u001b[0;32m      1\u001b[0m t\u001b[38;5;241m=\u001b[39m(\u001b[38;5;241m12\u001b[39m,\u001b[38;5;241m34\u001b[39m,\u001b[38;5;241m56\u001b[39m,\u001b[38;5;241m67\u001b[39m,\u001b[38;5;241m89\u001b[39m,\u001b[38;5;241m90\u001b[39m)\n\u001b[1;32m----> 2\u001b[0m t[\u001b[38;5;241m-\u001b[39m\u001b[38;5;241m1\u001b[39m]\u001b[38;5;241m=\u001b[39m\u001b[38;5;241m65\u001b[39m\n",
      "\u001b[1;31mTypeError\u001b[0m: 'tuple' object does not support item assignment"
     ]
    }
   ],
   "source": [
    "t=(12,34,56,67,89,90)\n",
    "t[-1]=65"
   ]
  },
  {
   "cell_type": "code",
   "execution_count": 18,
   "id": "710bf0eb",
   "metadata": {},
   "outputs": [
    {
     "data": {
      "text/plain": [
       "(12, 34, 56, 67, 89, 65)"
      ]
     },
     "execution_count": 18,
     "metadata": {},
     "output_type": "execute_result"
    }
   ],
   "source": [
    "l=list(t)\n",
    "l[-1]=65\n",
    "t=tuple(l)\n",
    "t"
   ]
  },
  {
   "cell_type": "markdown",
   "id": "f83be31a",
   "metadata": {},
   "source": [
    "## index - position"
   ]
  },
  {
   "cell_type": "code",
   "execution_count": 24,
   "id": "94de74b5",
   "metadata": {},
   "outputs": [
    {
     "data": {
      "text/plain": [
       "0"
      ]
     },
     "execution_count": 24,
     "metadata": {},
     "output_type": "execute_result"
    }
   ],
   "source": [
    "s=t.index(12)\n",
    "s"
   ]
  },
  {
   "cell_type": "markdown",
   "id": "649ba986",
   "metadata": {},
   "source": [
    "## count - occurence"
   ]
  },
  {
   "cell_type": "code",
   "execution_count": 26,
   "id": "e8dc4b9f",
   "metadata": {},
   "outputs": [
    {
     "data": {
      "text/plain": [
       "1"
      ]
     },
     "execution_count": 26,
     "metadata": {},
     "output_type": "execute_result"
    }
   ],
   "source": [
    "s1=t.count(34)\n",
    "s1"
   ]
  },
  {
   "cell_type": "markdown",
   "id": "284fc5d0",
   "metadata": {},
   "source": [
    "## packing and unpacking"
   ]
  },
  {
   "cell_type": "code",
   "execution_count": 27,
   "id": "15312f02",
   "metadata": {},
   "outputs": [
    {
     "name": "stdout",
     "output_type": "stream",
     "text": [
      "(12, 13, 14, 15, 16, 'hello')\n",
      "<class 'tuple'>\n"
     ]
    }
   ],
   "source": [
    "t=(12,13,14,15,16,\"hello\") ##packing\n",
    "print(t)\n",
    "print(type(t))"
   ]
  },
  {
   "cell_type": "code",
   "execution_count": 33,
   "id": "7581c77c",
   "metadata": {},
   "outputs": [
    {
     "name": "stdout",
     "output_type": "stream",
     "text": [
      "12\n",
      "13\n",
      "14\n",
      "15\n",
      "16\n",
      "hello\n"
     ]
    }
   ],
   "source": [
    "a1,a2,a3,a4,a5,a6=t ## unpacking\n",
    "print(a1)\n",
    "print(a2)\n",
    "print(a3)\n",
    "print(a4)\n",
    "print(a5)\n",
    "print(a6)"
   ]
  },
  {
   "cell_type": "code",
   "execution_count": 35,
   "id": "a999bd35",
   "metadata": {},
   "outputs": [
    {
     "name": "stdout",
     "output_type": "stream",
     "text": [
      "12\n",
      "13\n",
      "14 15 16 hello\n"
     ]
    }
   ],
   "source": [
    "a1,a2,*a=t ## star means variable\n",
    "print(a1)\n",
    "print(a2)\n",
    "print(*a)"
   ]
  }
 ],
 "metadata": {
  "kernelspec": {
   "display_name": "Python 3 (ipykernel)",
   "language": "python",
   "name": "python3"
  },
  "language_info": {
   "codemirror_mode": {
    "name": "ipython",
    "version": 3
   },
   "file_extension": ".py",
   "mimetype": "text/x-python",
   "name": "python",
   "nbconvert_exporter": "python",
   "pygments_lexer": "ipython3",
   "version": "3.10.9"
  }
 },
 "nbformat": 4,
 "nbformat_minor": 5
}
