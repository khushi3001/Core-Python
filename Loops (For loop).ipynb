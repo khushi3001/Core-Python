{
 "cells": [
  {
   "cell_type": "markdown",
   "id": "6ebc8656",
   "metadata": {},
   "source": [
    "# range (): inbuilt function which generates the sequence of numbers\n",
    "### in range we have 3 things in argument:\n",
    " - start- we have to mention the starting point of range\n",
    " - end- we have to mention the ending point of range. by default end will always show  -1 from the value,so we can write the end num by adding 1 num in it to get our list\n",
    " - ****it is mandatory to give end in range. if we do not give start and skip and gives only 1 num,it will by default take it as\n",
    "    end and by default it will take 0 as start and 1 skip size*****\n",
    " - step size- it means the gap between the numbers/elements"
   ]
  },
  {
   "cell_type": "code",
   "execution_count": 1,
   "id": "5cea6717",
   "metadata": {},
   "outputs": [
    {
     "data": {
      "text/plain": [
       "range(1, 9)"
      ]
     },
     "execution_count": 1,
     "metadata": {},
     "output_type": "execute_result"
    }
   ],
   "source": [
    "range(1,9) ## to get the ans we need to do the type casting means in which form we want ans(like-list,tuple)"
   ]
  },
  {
   "cell_type": "code",
   "execution_count": 2,
   "id": "abf77ee2",
   "metadata": {},
   "outputs": [
    {
     "data": {
      "text/plain": [
       "[1, 2, 3, 4, 5, 6, 7, 8]"
      ]
     },
     "execution_count": 2,
     "metadata": {},
     "output_type": "execute_result"
    }
   ],
   "source": [
    "list(range(1,9))## here we have given only start and end, so by default it will take step size - 1"
   ]
  },
  {
   "cell_type": "code",
   "execution_count": 3,
   "id": "0f599a4d",
   "metadata": {},
   "outputs": [
    {
     "data": {
      "text/plain": [
       "[0, 1, 2, 3, 4, 5, 6, 7, 8]"
      ]
     },
     "execution_count": 3,
     "metadata": {},
     "output_type": "execute_result"
    }
   ],
   "source": [
    "list(range(9))## here we have given only single num ,so it will treat it as end and start point will be 0"
   ]
  },
  {
   "cell_type": "code",
   "execution_count": 4,
   "id": "221eed0e",
   "metadata": {},
   "outputs": [
    {
     "data": {
      "text/plain": [
       "[4, 6, 8, 10, 12, 14]"
      ]
     },
     "execution_count": 4,
     "metadata": {},
     "output_type": "execute_result"
    }
   ],
   "source": [
    "list(range(4,15,2))## here start is 4, end is 15 and step size is 2."
   ]
  },
  {
   "cell_type": "code",
   "execution_count": 3,
   "id": "b593080b",
   "metadata": {},
   "outputs": [
    {
     "data": {
      "text/plain": [
       "[]"
      ]
     },
     "execution_count": 3,
     "metadata": {},
     "output_type": "execute_result"
    }
   ],
   "source": [
    "list(range(2,10,-2))## negative step sixe indicates to move in opposite direction(reverse)\n",
    "## -ve step size indicates for getting the numbers in reverse direction\n",
    "## here the list shown is empty because we are saying to move that in opposites direction"
   ]
  },
  {
   "cell_type": "code",
   "execution_count": 4,
   "id": "e7dd4cc9",
   "metadata": {},
   "outputs": [
    {
     "data": {
      "text/plain": [
       "[10, 9, 8, 7, 6, 5]"
      ]
     },
     "execution_count": 4,
     "metadata": {},
     "output_type": "execute_result"
    }
   ],
   "source": [
    "list(range(10,4,-1))"
   ]
  },
  {
   "cell_type": "code",
   "execution_count": 5,
   "id": "96aaed1b",
   "metadata": {},
   "outputs": [
    {
     "data": {
      "text/plain": [
       "[10, 8, 6, 4]"
      ]
     },
     "execution_count": 5,
     "metadata": {},
     "output_type": "execute_result"
    }
   ],
   "source": [
    "list(range(10,2,-2))"
   ]
  },
  {
   "cell_type": "code",
   "execution_count": 9,
   "id": "8538e614",
   "metadata": {},
   "outputs": [
    {
     "data": {
      "text/plain": [
       "[]"
      ]
     },
     "execution_count": 9,
     "metadata": {},
     "output_type": "execute_result"
    }
   ],
   "source": [
    "list(range(20,-2,2)) ## here the output is empty because we have given range to move in -ve direction but step size is +ve.so it will be empty"
   ]
  },
  {
   "cell_type": "code",
   "execution_count": 10,
   "id": "25b10f5a",
   "metadata": {},
   "outputs": [
    {
     "data": {
      "text/plain": [
       "[20, 18, 16, 14, 12, 10, 8, 6, 4, 2, 0]"
      ]
     },
     "execution_count": 10,
     "metadata": {},
     "output_type": "execute_result"
    }
   ],
   "source": [
    "list(range(20,-2,-2))"
   ]
  },
  {
   "cell_type": "code",
   "execution_count": 11,
   "id": "9731eeaf",
   "metadata": {},
   "outputs": [],
   "source": [
    "l=list(range(20,-2,-2))"
   ]
  },
  {
   "cell_type": "code",
   "execution_count": 12,
   "id": "6a1dae00",
   "metadata": {},
   "outputs": [
    {
     "data": {
      "text/plain": [
       "[20, 18, 16, 14, 12, 10, 8, 6, 4, 2, 0]"
      ]
     },
     "execution_count": 12,
     "metadata": {},
     "output_type": "execute_result"
    }
   ],
   "source": [
    "l"
   ]
  },
  {
   "cell_type": "markdown",
   "id": "e060943f",
   "metadata": {},
   "source": [
    "## LOOPS: repition\n",
    " - for loop\n",
    " - while loop\n",
    "  - **** iterations means the time variable will enter in loop ****"
   ]
  },
  {
   "cell_type": "markdown",
   "id": "44fb9f53",
   "metadata": {},
   "source": [
    "### task: print(\"hello\") 10 time"
   ]
  },
  {
   "cell_type": "code",
   "execution_count": 2,
   "id": "a4b668cd",
   "metadata": {},
   "outputs": [
    {
     "name": "stdout",
     "output_type": "stream",
     "text": [
      "hello\n",
      "hello\n",
      "hello\n",
      "hello\n",
      "hello\n",
      "hello\n",
      "hello\n",
      "hello\n",
      "hello\n",
      "hello\n"
     ]
    }
   ],
   "source": [
    "for i in range(1,11): ## here i means variable\n",
    "    print(\"hello\")"
   ]
  },
  {
   "cell_type": "code",
   "execution_count": 3,
   "id": "9be6ef2e",
   "metadata": {},
   "outputs": [
    {
     "name": "stdout",
     "output_type": "stream",
     "text": [
      "hello\n",
      "hello\n",
      "hello\n",
      "hello\n",
      "hello\n",
      "hello\n",
      "hello\n",
      "hello\n",
      "hello\n",
      "hello\n"
     ]
    }
   ],
   "source": [
    "for vipin in range(1,11):\n",
    "    print(\"hello\")"
   ]
  },
  {
   "cell_type": "code",
   "execution_count": 4,
   "id": "5fec2492",
   "metadata": {},
   "outputs": [
    {
     "name": "stdout",
     "output_type": "stream",
     "text": [
      "hello khushi\n",
      "hello khushi\n",
      "hello khushi\n",
      "hello khushi\n",
      "hello khushi\n",
      "hello khushi\n",
      "hello khushi\n",
      "hello khushi\n",
      "hello khushi\n"
     ]
    }
   ],
   "source": [
    "for k in range(10,1,-1):\n",
    "    print(\"hello khushi\")"
   ]
  },
  {
   "cell_type": "code",
   "execution_count": 5,
   "id": "648e4174",
   "metadata": {},
   "outputs": [
    {
     "name": "stdout",
     "output_type": "stream",
     "text": [
      "hello,hello,hello,hello,hello,hello,hello,hello,hello,hello,"
     ]
    }
   ],
   "source": [
    "for j in range(20,30,1): ## if we want hello to print 10 times in same line we will do like this\n",
    "    print(\"hello\",end=\",\")"
   ]
  },
  {
   "cell_type": "code",
   "execution_count": 7,
   "id": "2c9a4d32",
   "metadata": {},
   "outputs": [
    {
     "name": "stdout",
     "output_type": "stream",
     "text": [
      "29\n"
     ]
    }
   ],
   "source": [
    "print(j) ## here the value of j is 29 because j will take last num in the container and treat it as its value"
   ]
  },
  {
   "cell_type": "code",
   "execution_count": 8,
   "id": "400a7753",
   "metadata": {},
   "outputs": [
    {
     "name": "stdout",
     "output_type": "stream",
     "text": [
      "hello\n",
      "hello\n",
      "hello\n",
      "hello\n",
      "hello\n"
     ]
    }
   ],
   "source": [
    "for l in range(1,10,2):\n",
    "    print(\"hello\")"
   ]
  },
  {
   "cell_type": "code",
   "execution_count": 13,
   "id": "4e71a4b2",
   "metadata": {},
   "outputs": [],
   "source": [
    "for d in range(20,10): ## here there is no output because we didnt mention the -ve step \n",
    "    print(\"hi\")"
   ]
  },
  {
   "cell_type": "code",
   "execution_count": 14,
   "id": "04369bd4",
   "metadata": {},
   "outputs": [
    {
     "name": "stdout",
     "output_type": "stream",
     "text": [
      "hello\n",
      "hello\n"
     ]
    }
   ],
   "source": [
    "for i in range(20,10,-7): ## 20 will include and next will be 13\n",
    "    print(\"hello\")"
   ]
  },
  {
   "cell_type": "markdown",
   "id": "cca621fd",
   "metadata": {},
   "source": [
    "## wap to display counting from 1 to 15 in one line"
   ]
  },
  {
   "cell_type": "code",
   "execution_count": 16,
   "id": "95667b40",
   "metadata": {},
   "outputs": [
    {
     "name": "stdout",
     "output_type": "stream",
     "text": [
      "1 2 3 4 5 6 7 8 9 10 11 12 13 14 15 "
     ]
    }
   ],
   "source": [
    "for i in range(1,16):\n",
    "    print(i,end=\" \")"
   ]
  },
  {
   "cell_type": "markdown",
   "id": "cb29b74c",
   "metadata": {},
   "source": [
    "## if we want user to enter the nums"
   ]
  },
  {
   "cell_type": "code",
   "execution_count": 18,
   "id": "8689095c",
   "metadata": {},
   "outputs": [
    {
     "name": "stdout",
     "output_type": "stream",
     "text": [
      "enter the start30\n",
      "enter the end45\n",
      "30 31 32 33 34 35 36 37 38 39 40 41 42 43 44 45 "
     ]
    }
   ],
   "source": [
    "start=int(input(\"enter the start\"))\n",
    "end=int(input(\"enter the end\"))\n",
    "for i in range(start,end+1):\n",
    "    print(i,end=\" \")"
   ]
  },
  {
   "cell_type": "markdown",
   "id": "d71cb5f2",
   "metadata": {},
   "source": [
    "## wap to display all the even numbers from 1 to 10"
   ]
  },
  {
   "cell_type": "code",
   "execution_count": 27,
   "id": "8e15f497",
   "metadata": {},
   "outputs": [
    {
     "name": "stdout",
     "output_type": "stream",
     "text": [
      "1 is odd, 2 is even, 3 is odd, 4 is even, 5 is odd, 6 is even, 7 is odd, 8 is even, 9 is odd, 10 is even, "
     ]
    }
   ],
   "source": [
    "for i in range(1,11):\n",
    "    if i%2==0:\n",
    "        print(i,\"is even\",end=\", \")\n",
    "    else:\n",
    "        print(i,\"is odd\",end=\", \")\n"
   ]
  },
  {
   "cell_type": "markdown",
   "id": "af88a8c1",
   "metadata": {},
   "source": [
    "## wap to display all the nums between the range entered by user which are divisible by 5 and 7 both and divisible by 5 only"
   ]
  },
  {
   "cell_type": "code",
   "execution_count": 35,
   "id": "e6c3b1f5",
   "metadata": {},
   "outputs": [
    {
     "name": "stdout",
     "output_type": "stream",
     "text": [
      "enter the start 5\n",
      "enter the end 15\n",
      "\n",
      "\n",
      "5 -  divisible by 5 only\n",
      "6 - not divisible by any\n",
      "7 -  divisble by 7 only\n",
      "8 - not divisible by any\n",
      "9 - not divisible by any\n",
      "10 -  divisible by 5 only\n",
      "11 - not divisible by any\n",
      "12 - not divisible by any\n",
      "13 - not divisible by any\n",
      "14 -  divisble by 7 only\n",
      "15 -  divisible by 5 only\n"
     ]
    }
   ],
   "source": [
    "start=int(input(\"enter the start\"))\n",
    "end=int(input(\"enter the end\"))\n",
    "print(\"\\n\")\n",
    "for i in range(start,end+1):\n",
    "    if i%5==0 and i%7==0:\n",
    "        print(i,\"-\",\" divisible by both\")\n",
    "    elif i%5==0:\n",
    "        print(i,\"-\",\" divisible by 5 only\")\n",
    "    elif i%7==0:\n",
    "        print(i,\"-\",\" divisble by 7 only\")\n",
    "    else:\n",
    "        print(i,\"-\",\"not divisible by any\")"
   ]
  },
  {
   "cell_type": "markdown",
   "id": "7a2b8b8c",
   "metadata": {},
   "source": [
    "## wap to display the table of the number entered by user"
   ]
  },
  {
   "cell_type": "code",
   "execution_count": 36,
   "id": "dbcfbf4e",
   "metadata": {},
   "outputs": [
    {
     "name": "stdout",
     "output_type": "stream",
     "text": [
      "enter the number 8\n",
      "the table of 8 is\n",
      "\n",
      "8 * 1 = 8\n",
      "8 * 2 = 16\n",
      "8 * 3 = 24\n",
      "8 * 4 = 32\n",
      "8 * 5 = 40\n",
      "8 * 6 = 48\n",
      "8 * 7 = 56\n",
      "8 * 8 = 64\n",
      "8 * 9 = 72\n",
      "8 * 10 = 80\n"
     ]
    }
   ],
   "source": [
    "num=int(input(\"enter the number\"))\n",
    "print(\"the table of\",num,\"is\\n\")\n",
    "for i in range(1,11):\n",
    "    print(num,\"*\",i,\"=\",num*i)"
   ]
  },
  {
   "cell_type": "markdown",
   "id": "302fbccb",
   "metadata": {},
   "source": [
    "## wap to display the counting from the range entered by user in reverse order"
   ]
  },
  {
   "cell_type": "code",
   "execution_count": 10,
   "id": "0f0fbbd7",
   "metadata": {},
   "outputs": [
    {
     "name": "stdout",
     "output_type": "stream",
     "text": [
      "enter the ending number80\n",
      "enter the starting number90\n",
      "90\n",
      "89\n",
      "88\n",
      "87\n",
      "86\n",
      "85\n",
      "84\n",
      "83\n",
      "82\n",
      "81\n",
      "80\n"
     ]
    }
   ],
   "source": [
    "end=int(input(\"enter the ending number\"))\n",
    "start=int(input(\"enter the starting number\"))\n",
    "for i in range(start,end-1,-1):\n",
    "    print(i)"
   ]
  },
  {
   "cell_type": "markdown",
   "id": "62545ade",
   "metadata": {},
   "source": [
    "## wap to display the table of the number entered by user in reverse manner"
   ]
  },
  {
   "cell_type": "code",
   "execution_count": 8,
   "id": "addc0aea",
   "metadata": {},
   "outputs": [
    {
     "name": "stdout",
     "output_type": "stream",
     "text": [
      "enter the number 60\n",
      "the reverse table of 60 is\n",
      "60 * 10 = 600\n",
      "60 * 9 = 540\n",
      "60 * 8 = 480\n",
      "60 * 7 = 420\n",
      "60 * 6 = 360\n",
      "60 * 5 = 300\n",
      "60 * 4 = 240\n",
      "60 * 3 = 180\n",
      "60 * 2 = 120\n",
      "60 * 1 = 60\n"
     ]
    }
   ],
   "source": [
    "num=int(input(\"enter the number\"))\n",
    "print(\"the reverse table of\",num,\"is\")\n",
    "for i in range(10,0,-1):\n",
    "    print(num,\"*\",i,\"=\",num*i)\n",
    "    "
   ]
  },
  {
   "cell_type": "markdown",
   "id": "7e071cea",
   "metadata": {},
   "source": [
    "## wap to display the first 10 even nos."
   ]
  },
  {
   "cell_type": "code",
   "execution_count": 5,
   "id": "57495c0c",
   "metadata": {},
   "outputs": [
    {
     "name": "stdout",
     "output_type": "stream",
     "text": [
      "2 is even, 4 is even, 6 is even, 8 is even, 10 is even, 12 is even, 14 is even, 16 is even, 18 is even, 20 is even, "
     ]
    }
   ],
   "source": [
    "for i in range(1,21):\n",
    "    if i%2==0:\n",
    "        print(i,\"is even\",end=\", \")"
   ]
  },
  {
   "cell_type": "markdown",
   "id": "e52f09ff",
   "metadata": {},
   "source": [
    "## wap to display the whole numbers till 15"
   ]
  },
  {
   "cell_type": "code",
   "execution_count": 5,
   "id": "6510f6ed",
   "metadata": {},
   "outputs": [
    {
     "name": "stdout",
     "output_type": "stream",
     "text": [
      "whole  nums are\n",
      " 0\n",
      "whole  nums are\n",
      " 1\n",
      "whole  nums are\n",
      " 2\n",
      "whole  nums are\n",
      " 3\n",
      "whole  nums are\n",
      " 4\n",
      "whole  nums are\n",
      " 5\n",
      "whole  nums are\n",
      " 6\n",
      "whole  nums are\n",
      " 7\n",
      "whole  nums are\n",
      " 8\n",
      "whole  nums are\n",
      " 9\n",
      "whole  nums are\n",
      " 10\n",
      "whole  nums are\n",
      " 11\n",
      "whole  nums are\n",
      " 12\n",
      "whole  nums are\n",
      " 13\n",
      "whole  nums are\n",
      " 14\n",
      "whole  nums are\n",
      " 15\n"
     ]
    }
   ],
   "source": [
    "for i in range(0,16,1):\n",
    "    print(\"whole  nums are\\n\",  i)"
   ]
  },
  {
   "cell_type": "markdown",
   "id": "6bd1f519",
   "metadata": {},
   "source": [
    "## wap to count the even nums and odd nums from the range entered by user"
   ]
  },
  {
   "cell_type": "code",
   "execution_count": 16,
   "id": "2692ac70",
   "metadata": {},
   "outputs": [
    {
     "name": "stdout",
     "output_type": "stream",
     "text": [
      "enter the starting num90\n",
      "enter the end num200\n",
      "the count of even num is 55\n",
      "the count of odd num is 55\n"
     ]
    }
   ],
   "source": [
    "start=int(input(\"enter the starting num\"))\n",
    "end=int(input(\"enter the end num\"))\n",
    "count_e=0\n",
    "count_o=0\n",
    "for i in range(start,end,1):\n",
    "    if i%2==0:\n",
    "        count_e=count_e+1\n",
    "    else:\n",
    "        count_o=count_o+1\n",
    "print(\"the count of even num is\",count_e)\n",
    "print(\"the count of odd num is\",count_o)"
   ]
  },
  {
   "cell_type": "markdown",
   "id": "4655ff6d",
   "metadata": {},
   "source": [
    "## wap to display the factors of the num entered by user and also display the count of the factors of that number"
   ]
  },
  {
   "cell_type": "code",
   "execution_count": 18,
   "id": "124122d1",
   "metadata": {},
   "outputs": [
    {
     "name": "stdout",
     "output_type": "stream",
     "text": [
      "enter the number90\n",
      "1 is the factor of 90\n",
      "2 is the factor of 90\n",
      "3 is the factor of 90\n",
      "5 is the factor of 90\n",
      "6 is the factor of 90\n",
      "9 is the factor of 90\n",
      "10 is the factor of 90\n",
      "15 is the factor of 90\n",
      "18 is the factor of 90\n",
      "30 is the factor of 90\n",
      "45 is the factor of 90\n",
      "90 is the factor of 90\n",
      "the count of factors are 12\n"
     ]
    }
   ],
   "source": [
    "num=int(input(\"enter the number\"))\n",
    "count=0\n",
    "for i in range(1,num+1):\n",
    "    if num%i==0:\n",
    "        print(i,\"is the factor of\",num)\n",
    "        count=count+1\n",
    "print(\"the count of factors are\",count)\n",
    "    "
   ]
  },
  {
   "cell_type": "markdown",
   "id": "e6ef0968",
   "metadata": {},
   "source": [
    "## wap to display whether the entered num is prime or composite"
   ]
  },
  {
   "cell_type": "code",
   "execution_count": 20,
   "id": "39150853",
   "metadata": {},
   "outputs": [
    {
     "name": "stdout",
     "output_type": "stream",
     "text": [
      "enter the number67\n",
      "67 is prime as it has 2 factors\n"
     ]
    }
   ],
   "source": [
    "num=int(input(\"enter the number\"))\n",
    "count=0\n",
    "for i in range(1,num+1):\n",
    "    if num%i==0:\n",
    "        count=count+1\n",
    "if count==2:\n",
    "    print(num,\"is prime as it has\",count,\"factors\")\n",
    "else:\n",
    "    print(num,\"is composite as it has\",count,\"factors which is greater than 2\")"
   ]
  },
  {
   "cell_type": "markdown",
   "id": "befff191",
   "metadata": {},
   "source": [
    "## for loop: with sequence like list,string,tuple"
   ]
  },
  {
   "cell_type": "code",
   "execution_count": 21,
   "id": "962b949a",
   "metadata": {},
   "outputs": [],
   "source": [
    "s=\"khushi sarin\"\n",
    "#task: display the vowel and consonent in the string"
   ]
  },
  {
   "cell_type": "code",
   "execution_count": 24,
   "id": "00dd6766",
   "metadata": {},
   "outputs": [
    {
     "name": "stdout",
     "output_type": "stream",
     "text": [
      "enter the string laksham\n",
      "  is consonent\n",
      "l is consonent\n",
      "a is vowel\n",
      "k is consonent\n",
      "s is consonent\n",
      "h is consonent\n",
      "a is vowel\n",
      "m is consonent\n",
      "the count of vowels is 1\n",
      "the count of consonents is  0\n"
     ]
    }
   ],
   "source": [
    "k=input(\"enter the string\")\n",
    "count_v=0\n",
    "count_c=0\n",
    "for ch in k:\n",
    "    if ch in \"aeiouAEIOU\":\n",
    "        print(ch,\"is vowel\")\n",
    "        count_v=count_v+1\n",
    "    else:\n",
    "        print(ch,\"is consonent\")\n",
    "        count_v=count_c+1\n",
    "print(\"the count of vowels is\",count_v)\n",
    "print(\"the count of consonents is \",count_c)"
   ]
  },
  {
   "cell_type": "markdown",
   "id": "45acd2a3",
   "metadata": {},
   "source": [
    "## wap to display the count of even  and even nums in the list \n",
    "l=[12,14,15,16,17,100]"
   ]
  },
  {
   "cell_type": "code",
   "execution_count": 27,
   "id": "25f9e4f7",
   "metadata": {},
   "outputs": [
    {
     "name": "stdout",
     "output_type": "stream",
     "text": [
      "the total even nos. are 4\n",
      "the total odd nos. are 2\n"
     ]
    }
   ],
   "source": [
    "l=[12,14,15,16,17,100]\n",
    "count_e=0\n",
    "count_o=0\n",
    "for num in l:\n",
    "    if num%2==0:\n",
    "        count_e=count_e+1\n",
    "    else:\n",
    "        count_o=count_o+1\n",
    "print(\"the total even nos. are\",count_e)\n",
    "print(\"the total odd nos. are\",count_o)"
   ]
  },
  {
   "cell_type": "markdown",
   "id": "2982bb88",
   "metadata": {},
   "source": [
    "## wap to display the sum of the numbers present in the list"
   ]
  },
  {
   "cell_type": "code",
   "execution_count": 29,
   "id": "c3b20e97",
   "metadata": {},
   "outputs": [
    {
     "name": "stdout",
     "output_type": "stream",
     "text": [
      "the sum of nos are 253\n"
     ]
    }
   ],
   "source": [
    "l=[3,4,67,89,90]\n",
    "add=0\n",
    "for i in l:\n",
    "    add=add+i\n",
    "print(\"the sum of nos are\",add)"
   ]
  },
  {
   "cell_type": "code",
   "execution_count": 30,
   "id": "2a5f30ce",
   "metadata": {},
   "outputs": [
    {
     "data": {
      "text/plain": [
       "253"
      ]
     },
     "execution_count": 30,
     "metadata": {},
     "output_type": "execute_result"
    }
   ],
   "source": [
    "## or \n",
    "sum(l)"
   ]
  },
  {
   "cell_type": "markdown",
   "id": "050e0b23",
   "metadata": {},
   "source": [
    "## wap to display the average of those nos which are divisible by 5 and display the sum of those nos which are divisible by 6 only only in the list"
   ]
  },
  {
   "cell_type": "code",
   "execution_count": 43,
   "id": "709273f4",
   "metadata": {},
   "outputs": [
    {
     "name": "stdout",
     "output_type": "stream",
     "text": [
      "the average of nos divisible by 5 only 5.0\n",
      "the sum of nos divisible by 6 only 18\n"
     ]
    }
   ],
   "source": [
    "l=[12,5,6,8,90]\n",
    "sum1=0\n",
    "sum2=0\n",
    "count_5=0\n",
    "for i in l:\n",
    "    if i%5==0 and i%6!=0:\n",
    "        sum1=sum1+i\n",
    "        count_5=count_5+1\n",
    "    elif i%6==0 and i%5!=0:\n",
    "            sum2=sum2+i\n",
    "print(\"the average of nos divisible by 5 only\",sum1/count_5)\n",
    "print(\"the sum of nos divisible by 6 only\",sum2)\n",
    "        \n",
    "    \n",
    "    \n",
    "    "
   ]
  },
  {
   "cell_type": "markdown",
   "id": "d0ba7e80",
   "metadata": {},
   "source": [
    "## wap to display the sum of last digit of each numbers present in the given list\n",
    "l=[12,13,678,902]"
   ]
  },
  {
   "cell_type": "code",
   "execution_count": 12,
   "id": "a4ef491f",
   "metadata": {},
   "outputs": [
    {
     "name": "stdout",
     "output_type": "stream",
     "text": [
      "the sum is  15\n"
     ]
    }
   ],
   "source": [
    "l=[12,13,678,902]\n",
    "sum1=0\n",
    "for i in l:\n",
    "    ld=i%10\n",
    "    sum1=sum1+ld\n",
    "print(\"the sum is \",sum1)\n",
    "    "
   ]
  },
  {
   "cell_type": "code",
   "execution_count": null,
   "id": "195e8c2e",
   "metadata": {},
   "outputs": [],
   "source": []
  },
  {
   "cell_type": "code",
   "execution_count": null,
   "id": "094100a4",
   "metadata": {},
   "outputs": [],
   "source": []
  },
  {
   "cell_type": "code",
   "execution_count": null,
   "id": "cb95ff4a",
   "metadata": {},
   "outputs": [],
   "source": []
  },
  {
   "cell_type": "code",
   "execution_count": null,
   "id": "c34bfa04",
   "metadata": {},
   "outputs": [],
   "source": []
  }
 ],
 "metadata": {
  "kernelspec": {
   "display_name": "Python 3 (ipykernel)",
   "language": "python",
   "name": "python3"
  },
  "language_info": {
   "codemirror_mode": {
    "name": "ipython",
    "version": 3
   },
   "file_extension": ".py",
   "mimetype": "text/x-python",
   "name": "python",
   "nbconvert_exporter": "python",
   "pygments_lexer": "ipython3",
   "version": "3.10.9"
  }
 },
 "nbformat": 4,
 "nbformat_minor": 5
}
