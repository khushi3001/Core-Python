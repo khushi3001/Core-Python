{
 "cells": [
  {
   "cell_type": "markdown",
   "id": "44a7b06b",
   "metadata": {},
   "source": [
    "## string : string is data type/ data structure which is basically holding the text "
   ]
  },
  {
   "cell_type": "markdown",
   "id": "0cb62595",
   "metadata": {},
   "source": [
    "## it is a ordered collections of data, or sequence type data or it is iterable also"
   ]
  },
  {
   "cell_type": "markdown",
   "id": "23a6409a",
   "metadata": {},
   "source": [
    "## how to create the string"
   ]
  },
  {
   "cell_type": "code",
   "execution_count": 1,
   "id": "05893aa4",
   "metadata": {},
   "outputs": [
    {
     "name": "stdout",
     "output_type": "stream",
     "text": [
      "madrid solutions\n",
      "<class 'str'>\n"
     ]
    }
   ],
   "source": [
    "# using ''\n",
    "s='madrid solutions'\n",
    "print(s)\n",
    "print(type(s))"
   ]
  },
  {
   "cell_type": "code",
   "execution_count": 3,
   "id": "660569ae",
   "metadata": {},
   "outputs": [
    {
     "name": "stdout",
     "output_type": "stream",
     "text": [
      "madrid soltuions\n",
      "<class 'str'>\n"
     ]
    }
   ],
   "source": [
    "# using \"\"\n",
    "s=\"madrid soltuions\"\n",
    "print(s)\n",
    "print(type(s))"
   ]
  },
  {
   "cell_type": "code",
   "execution_count": 4,
   "id": "c97ef222",
   "metadata": {},
   "outputs": [
    {
     "name": "stdout",
     "output_type": "stream",
     "text": [
      "this is class\n",
      "of madrid \n",
      "<class 'str'>\n"
     ]
    }
   ],
   "source": [
    "# using \"\"\"\"\"\" or ''''''\n",
    "s=\"\"\"this is class\n",
    "of madrid \"\"\"\n",
    "print(s)\n",
    "print(type(s))"
   ]
  },
  {
   "cell_type": "markdown",
   "id": "ffb2b8e7",
   "metadata": {},
   "source": [
    "## using constructor"
   ]
  },
  {
   "cell_type": "code",
   "execution_count": 5,
   "id": "2101f762",
   "metadata": {},
   "outputs": [
    {
     "name": "stdout",
     "output_type": "stream",
     "text": [
      "madrid\n",
      "<class 'str'>\n"
     ]
    }
   ],
   "source": [
    "s=str(\"madrid\")\n",
    "print(s)\n",
    "print(type(s))"
   ]
  },
  {
   "cell_type": "markdown",
   "id": "8b1020b7",
   "metadata": {},
   "source": [
    "## empty string"
   ]
  },
  {
   "cell_type": "code",
   "execution_count": 6,
   "id": "c40ade2a",
   "metadata": {},
   "outputs": [
    {
     "name": "stdout",
     "output_type": "stream",
     "text": [
      "\n",
      "<class 'str'>\n"
     ]
    }
   ],
   "source": [
    "s=''\n",
    "print(s)\n",
    "print(type(s))"
   ]
  },
  {
   "cell_type": "code",
   "execution_count": 7,
   "id": "627a1173",
   "metadata": {},
   "outputs": [
    {
     "name": "stdout",
     "output_type": "stream",
     "text": [
      "\n",
      "<class 'str'>\n"
     ]
    }
   ],
   "source": [
    "s=str()\n",
    "print(s)\n",
    "print(type(s))\n"
   ]
  },
  {
   "cell_type": "markdown",
   "id": "d5683491",
   "metadata": {},
   "source": [
    "# indexing \n",
    "- all positions of the string has number attached to it called as index\n",
    "- indexing is both +ve and -ve \n",
    "- +ve index starts from zero and -ve index starts from -1\n",
    "\n"
   ]
  },
  {
   "cell_type": "code",
   "execution_count": 1,
   "id": "82a23e90",
   "metadata": {},
   "outputs": [
    {
     "data": {
      "text/plain": [
       "'a'"
      ]
     },
     "execution_count": 1,
     "metadata": {},
     "output_type": "execute_result"
    }
   ],
   "source": [
    "## indexing :\n",
    "s=\"madrid\" ## here the forward index value will be 0 1 2 3 4 5 and backward will be -1 -2 -3 -4 -5 -6\n",
    "s[1]"
   ]
  },
  {
   "cell_type": "code",
   "execution_count": 9,
   "id": "28752bbd",
   "metadata": {},
   "outputs": [
    {
     "data": {
      "text/plain": [
       "'a'"
      ]
     },
     "execution_count": 9,
     "metadata": {},
     "output_type": "execute_result"
    }
   ],
   "source": [
    "s[-5]"
   ]
  },
  {
   "cell_type": "code",
   "execution_count": 10,
   "id": "27c5dd41",
   "metadata": {},
   "outputs": [
    {
     "data": {
      "text/plain": [
       "'i'"
      ]
     },
     "execution_count": 10,
     "metadata": {},
     "output_type": "execute_result"
    }
   ],
   "source": [
    "## fetch i \n",
    "s[4]"
   ]
  },
  {
   "cell_type": "markdown",
   "id": "32d89197",
   "metadata": {},
   "source": [
    "# slicing \n",
    "- slicing is deriving part of the string. it can be particular or part of the string \n",
    "- in slicing there are three things start,end , step size\n",
    "- in slicing we [:] this between start,end and step size\n",
    "- if we give only 1 number like[:2] then this 2 will be treated as end and 0 will be start by default\n",
    "- if we want to have reverse string then we will give -ve step size or if we want to move in backward direction then also we have to -ve step size"
   ]
  },
  {
   "cell_type": "code",
   "execution_count": 11,
   "id": "62cdfe8f",
   "metadata": {},
   "outputs": [
    {
     "data": {
      "text/plain": [
       "'adri'"
      ]
     },
     "execution_count": 11,
     "metadata": {},
     "output_type": "execute_result"
    }
   ],
   "source": [
    "s[1:5] ## here 1 is start and 5 is end and like range in slicing also by default step size is -1"
   ]
  },
  {
   "cell_type": "code",
   "execution_count": 13,
   "id": "ab25db00",
   "metadata": {},
   "outputs": [
    {
     "data": {
      "text/plain": [
       "'a'"
      ]
     },
     "execution_count": 13,
     "metadata": {},
     "output_type": "execute_result"
    }
   ],
   "source": [
    "s[-5:2]"
   ]
  },
  {
   "cell_type": "code",
   "execution_count": 3,
   "id": "1a7a06b1",
   "metadata": {},
   "outputs": [
    {
     "data": {
      "text/plain": [
       "'ma'"
      ]
     },
     "execution_count": 3,
     "metadata": {},
     "output_type": "execute_result"
    }
   ],
   "source": [
    "s[:2] ## here 2 will act as end and the start will by default be 0 and step size is also by default 1."
   ]
  },
  {
   "cell_type": "markdown",
   "id": "7f8db31e",
   "metadata": {},
   "source": [
    "## start,end and step size"
   ]
  },
  {
   "cell_type": "code",
   "execution_count": 14,
   "id": "f7a1c9e8",
   "metadata": {},
   "outputs": [
    {
     "data": {
      "text/plain": [
       "'ar'"
      ]
     },
     "execution_count": 14,
     "metadata": {},
     "output_type": "execute_result"
    }
   ],
   "source": [
    "s[1:5:2]"
   ]
  },
  {
   "cell_type": "code",
   "execution_count": 12,
   "id": "d1fc1b49",
   "metadata": {},
   "outputs": [
    {
     "data": {
      "text/plain": [
       "'madr'"
      ]
     },
     "execution_count": 12,
     "metadata": {},
     "output_type": "execute_result"
    }
   ],
   "source": [
    "s[0:-2:1]"
   ]
  },
  {
   "cell_type": "code",
   "execution_count": 13,
   "id": "1747da05",
   "metadata": {},
   "outputs": [
    {
     "data": {
      "text/plain": [
       "'madri'"
      ]
     },
     "execution_count": 13,
     "metadata": {},
     "output_type": "execute_result"
    }
   ],
   "source": [
    "s[-6:-1:1]"
   ]
  },
  {
   "cell_type": "markdown",
   "id": "46934217",
   "metadata": {},
   "source": [
    "### fetch alternate"
   ]
  },
  {
   "cell_type": "code",
   "execution_count": 5,
   "id": "357d170c",
   "metadata": {},
   "outputs": [
    {
     "data": {
      "text/plain": [
       "'ar'"
      ]
     },
     "execution_count": 5,
     "metadata": {},
     "output_type": "execute_result"
    }
   ],
   "source": [
    "s[1:5:2] ## if we want alternative output we will give step size 2"
   ]
  },
  {
   "cell_type": "code",
   "execution_count": 14,
   "id": "0424cd13",
   "metadata": {},
   "outputs": [
    {
     "data": {
      "text/plain": [
       "'a'"
      ]
     },
     "execution_count": 14,
     "metadata": {},
     "output_type": "execute_result"
    }
   ],
   "source": [
    "s[1:4:3]"
   ]
  },
  {
   "cell_type": "code",
   "execution_count": 15,
   "id": "31fccdec",
   "metadata": {},
   "outputs": [
    {
     "data": {
      "text/plain": [
       "'ai'"
      ]
     },
     "execution_count": 15,
     "metadata": {},
     "output_type": "execute_result"
    }
   ],
   "source": [
    "s[1:5:3]"
   ]
  },
  {
   "cell_type": "code",
   "execution_count": 16,
   "id": "6f20e5c0",
   "metadata": {},
   "outputs": [
    {
     "data": {
      "text/plain": [
       "''"
      ]
     },
     "execution_count": 16,
     "metadata": {},
     "output_type": "execute_result"
    }
   ],
   "source": [
    "s[0:-6]"
   ]
  },
  {
   "cell_type": "code",
   "execution_count": 17,
   "id": "5c9cc78c",
   "metadata": {},
   "outputs": [
    {
     "data": {
      "text/plain": [
       "'mdi'"
      ]
     },
     "execution_count": 17,
     "metadata": {},
     "output_type": "execute_result"
    }
   ],
   "source": [
    "s[0:-1:2]"
   ]
  },
  {
   "cell_type": "markdown",
   "id": "a0586e9e",
   "metadata": {},
   "source": [
    "### start only"
   ]
  },
  {
   "cell_type": "code",
   "execution_count": 7,
   "id": "44cc5932",
   "metadata": {},
   "outputs": [
    {
     "data": {
      "text/plain": [
       "'adrid'"
      ]
     },
     "execution_count": 7,
     "metadata": {},
     "output_type": "execute_result"
    }
   ],
   "source": [
    "s[1:] ## if we give only start then it will treat end as not ending and the last word will be end and step size will be 0"
   ]
  },
  {
   "cell_type": "code",
   "execution_count": 9,
   "id": "155d89ea",
   "metadata": {},
   "outputs": [
    {
     "data": {
      "text/plain": [
       "'id'"
      ]
     },
     "execution_count": 9,
     "metadata": {},
     "output_type": "execute_result"
    }
   ],
   "source": [
    "s[-2:]"
   ]
  },
  {
   "cell_type": "code",
   "execution_count": 10,
   "id": "47fbf698",
   "metadata": {},
   "outputs": [
    {
     "data": {
      "text/plain": [
       "'madrid'"
      ]
     },
     "execution_count": 10,
     "metadata": {},
     "output_type": "execute_result"
    }
   ],
   "source": [
    "s[-6:]"
   ]
  },
  {
   "cell_type": "code",
   "execution_count": 11,
   "id": "8ea0c527",
   "metadata": {},
   "outputs": [
    {
     "data": {
      "text/plain": [
       "'id'"
      ]
     },
     "execution_count": 11,
     "metadata": {},
     "output_type": "execute_result"
    }
   ],
   "source": [
    "s[4:]"
   ]
  },
  {
   "cell_type": "markdown",
   "id": "55b9de64",
   "metadata": {},
   "source": [
    "### no start,no end ,no step size"
   ]
  },
  {
   "cell_type": "code",
   "execution_count": 17,
   "id": "c2e3976e",
   "metadata": {},
   "outputs": [
    {
     "data": {
      "text/plain": [
       "'madrid'"
      ]
     },
     "execution_count": 17,
     "metadata": {},
     "output_type": "execute_result"
    }
   ],
   "source": [
    "s[:] ## it gives original string"
   ]
  },
  {
   "cell_type": "markdown",
   "id": "834784da",
   "metadata": {},
   "source": [
    "### reverse concept"
   ]
  },
  {
   "cell_type": "code",
   "execution_count": 19,
   "id": "a19ecf6b",
   "metadata": {},
   "outputs": [
    {
     "data": {
      "text/plain": [
       "''"
      ]
     },
     "execution_count": 19,
     "metadata": {},
     "output_type": "execute_result"
    }
   ],
   "source": [
    "s[4:0]"
   ]
  },
  {
   "cell_type": "code",
   "execution_count": 20,
   "id": "c6558222",
   "metadata": {},
   "outputs": [
    {
     "data": {
      "text/plain": [
       "'irda'"
      ]
     },
     "execution_count": 20,
     "metadata": {},
     "output_type": "execute_result"
    }
   ],
   "source": [
    "s[4:0:-1]"
   ]
  },
  {
   "cell_type": "code",
   "execution_count": 21,
   "id": "870a4cf0",
   "metadata": {},
   "outputs": [
    {
     "data": {
      "text/plain": [
       "''"
      ]
     },
     "execution_count": 21,
     "metadata": {},
     "output_type": "execute_result"
    }
   ],
   "source": [
    "s[-2:1:2]"
   ]
  },
  {
   "cell_type": "markdown",
   "id": "88313dd4",
   "metadata": {},
   "source": [
    "# advance indexing s[start::stepsize]"
   ]
  },
  {
   "cell_type": "code",
   "execution_count": 22,
   "id": "24e11768",
   "metadata": {},
   "outputs": [
    {
     "data": {
      "text/plain": [
       "'di'"
      ]
     },
     "execution_count": 22,
     "metadata": {},
     "output_type": "execute_result"
    }
   ],
   "source": [
    "s=\"madrid\"\n",
    "s[2::2]"
   ]
  },
  {
   "cell_type": "code",
   "execution_count": 18,
   "id": "1f8da103",
   "metadata": {},
   "outputs": [
    {
     "data": {
      "text/plain": [
       "'drid'"
      ]
     },
     "execution_count": 18,
     "metadata": {},
     "output_type": "execute_result"
    }
   ],
   "source": [
    "s[2::] ## in advance only num will act as start and end will be end of string"
   ]
  },
  {
   "cell_type": "code",
   "execution_count": 24,
   "id": "91130f41",
   "metadata": {},
   "outputs": [
    {
     "data": {
      "text/plain": [
       "'dam'"
      ]
     },
     "execution_count": 24,
     "metadata": {},
     "output_type": "execute_result"
    }
   ],
   "source": [
    "s[2::-1]"
   ]
  },
  {
   "cell_type": "code",
   "execution_count": 25,
   "id": "cfbde9dd",
   "metadata": {},
   "outputs": [
    {
     "data": {
      "text/plain": [
       "'im'"
      ]
     },
     "execution_count": 25,
     "metadata": {},
     "output_type": "execute_result"
    }
   ],
   "source": [
    "s[-2::-4]"
   ]
  },
  {
   "cell_type": "code",
   "execution_count": 26,
   "id": "bc86f462",
   "metadata": {},
   "outputs": [
    {
     "data": {
      "text/plain": [
       "'madrid'"
      ]
     },
     "execution_count": 26,
     "metadata": {},
     "output_type": "execute_result"
    }
   ],
   "source": [
    "s[::]"
   ]
  },
  {
   "cell_type": "code",
   "execution_count": null,
   "id": "63901413",
   "metadata": {},
   "outputs": [],
   "source": [
    "## s[::] or s[:] or s all works as same"
   ]
  },
  {
   "cell_type": "code",
   "execution_count": 27,
   "id": "ae336dda",
   "metadata": {},
   "outputs": [
    {
     "data": {
      "text/plain": [
       "'madri'"
      ]
     },
     "execution_count": 27,
     "metadata": {},
     "output_type": "execute_result"
    }
   ],
   "source": [
    "s[:-1]"
   ]
  },
  {
   "cell_type": "markdown",
   "id": "99691dcb",
   "metadata": {},
   "source": [
    "## wap to take the string from the user and check whether the string is palindrome or not"
   ]
  },
  {
   "cell_type": "code",
   "execution_count": 36,
   "id": "e3f71f38",
   "metadata": {},
   "outputs": [
    {
     "name": "stdout",
     "output_type": "stream",
     "text": [
      "enter the string       madam\n",
      "palindrome\n"
     ]
    }
   ],
   "source": [
    "s=input(\"enter the string       \")\n",
    "rev=s[::-1]\n",
    "if s==rev:\n",
    "    print(\"palindrome\")\n",
    "else:\n",
    "    print(\"not\")"
   ]
  },
  {
   "cell_type": "markdown",
   "id": "e06cf354",
   "metadata": {},
   "source": [
    "## string property: immutability: changes are not allowed in existing string but u can redefine it"
   ]
  },
  {
   "cell_type": "code",
   "execution_count": 1,
   "id": "135a711d",
   "metadata": {},
   "outputs": [
    {
     "name": "stdout",
     "output_type": "stream",
     "text": [
      "1793534026672\n"
     ]
    },
    {
     "ename": "TypeError",
     "evalue": "'str' object does not support item assignment",
     "output_type": "error",
     "traceback": [
      "\u001b[1;31m---------------------------------------------------------------------------\u001b[0m",
      "\u001b[1;31mTypeError\u001b[0m                                 Traceback (most recent call last)",
      "Cell \u001b[1;32mIn[1], line 3\u001b[0m\n\u001b[0;32m      1\u001b[0m s\u001b[38;5;241m=\u001b[39m\u001b[38;5;124m\"\u001b[39m\u001b[38;5;124mmadrid\u001b[39m\u001b[38;5;124m\"\u001b[39m\n\u001b[0;32m      2\u001b[0m \u001b[38;5;28mprint\u001b[39m(\u001b[38;5;28mid\u001b[39m(s))\n\u001b[1;32m----> 3\u001b[0m s[\u001b[38;5;241m2\u001b[39m]\u001b[38;5;241m=\u001b[39m\u001b[38;5;124m\"\u001b[39m\u001b[38;5;124mp\u001b[39m\u001b[38;5;124m\"\u001b[39m\n",
      "\u001b[1;31mTypeError\u001b[0m: 'str' object does not support item assignment"
     ]
    }
   ],
   "source": [
    "s=\"madrid\"\n",
    "print(id(s))\n",
    "s[2]=\"p\""
   ]
  },
  {
   "cell_type": "code",
   "execution_count": 5,
   "id": "a3c53895",
   "metadata": {},
   "outputs": [
    {
     "name": "stdout",
     "output_type": "stream",
     "text": [
      "['madrid', 'solutions']\n",
      "2019733984576\n",
      "after update\n",
      "['madrid', 'solutions']\n",
      "2019733984576\n"
     ]
    }
   ],
   "source": [
    "l=[\"madrid\",\"solutions\"]\n",
    "print(l)\n",
    "print(id(l))\n",
    "print(\"after update\")\n",
    "l[0]==\"tech\"\n",
    "print(l)\n",
    "print(id(l))\n"
   ]
  },
  {
   "cell_type": "markdown",
   "id": "139494b8",
   "metadata": {},
   "source": [
    "## iterations in string"
   ]
  },
  {
   "cell_type": "code",
   "execution_count": 2,
   "id": "1e8780c6",
   "metadata": {},
   "outputs": [
    {
     "name": "stdout",
     "output_type": "stream",
     "text": [
      "enter the string khushi\n",
      "k\n",
      "h\n",
      "u\n",
      "s\n",
      "h\n",
      "i\n"
     ]
    }
   ],
   "source": [
    "s=input(\"enter the string \")\n",
    "for i in s:\n",
    "    print(i)"
   ]
  },
  {
   "cell_type": "markdown",
   "id": "b77a0123",
   "metadata": {},
   "source": [
    "## operators in string"
   ]
  },
  {
   "cell_type": "code",
   "execution_count": 1,
   "id": "ba8da630",
   "metadata": {},
   "outputs": [],
   "source": [
    "## arithmetic\n",
    "## + :- concatination(means to join two or more strings)\n",
    "## * :- replication(means to replicate(copy) strings)"
   ]
  },
  {
   "cell_type": "code",
   "execution_count": 4,
   "id": "e55725fd",
   "metadata": {},
   "outputs": [
    {
     "name": "stdout",
     "output_type": "stream",
     "text": [
      "enter the 1st string  khushi\n",
      "enter the 2nd string sarin\n"
     ]
    },
    {
     "data": {
      "text/plain": [
       "' khushisarin'"
      ]
     },
     "execution_count": 4,
     "metadata": {},
     "output_type": "execute_result"
    }
   ],
   "source": [
    "s1=input(\"enter the 1st string \")\n",
    "s2=input(\"enter the 2nd string \")\n",
    "s1+s2"
   ]
  },
  {
   "cell_type": "code",
   "execution_count": 5,
   "id": "d7f4d6c7",
   "metadata": {},
   "outputs": [
    {
     "name": "stdout",
     "output_type": "stream",
     "text": [
      "madrid madrid madrid madrid madrid madrid madrid madrid madrid madrid \n",
      "....................................................................................................\n"
     ]
    }
   ],
   "source": [
    "s=\"madrid \"\n",
    "print(s*10)\n",
    "print(\".\"*100)"
   ]
  },
  {
   "cell_type": "markdown",
   "id": "9d04f4e5",
   "metadata": {},
   "source": [
    "## logical"
   ]
  },
  {
   "cell_type": "code",
   "execution_count": 2,
   "id": "8014b591",
   "metadata": {},
   "outputs": [],
   "source": [
    " ## and or not (string is treated as true and empty string is treated as false)"
   ]
  },
  {
   "cell_type": "code",
   "execution_count": 7,
   "id": "02f9e7f5",
   "metadata": {},
   "outputs": [
    {
     "data": {
      "text/plain": [
       "'solutions'"
      ]
     },
     "execution_count": 7,
     "metadata": {},
     "output_type": "execute_result"
    }
   ],
   "source": [
    "s1=\"madrid\"\n",
    "s2=\"solutions\"\n",
    "s1 and s2"
   ]
  },
  {
   "cell_type": "code",
   "execution_count": 8,
   "id": "df56d140",
   "metadata": {},
   "outputs": [
    {
     "data": {
      "text/plain": [
       "''"
      ]
     },
     "execution_count": 8,
     "metadata": {},
     "output_type": "execute_result"
    }
   ],
   "source": [
    "s1=\"mardird\"\n",
    "s2=\"\"\n",
    "s1 and s2"
   ]
  },
  {
   "cell_type": "code",
   "execution_count": 9,
   "id": "65851266",
   "metadata": {},
   "outputs": [
    {
     "data": {
      "text/plain": [
       "''"
      ]
     },
     "execution_count": 9,
     "metadata": {},
     "output_type": "execute_result"
    }
   ],
   "source": [
    "s1=\"\"\n",
    "s2=\"mardid\"\n",
    "s1 and s2"
   ]
  },
  {
   "cell_type": "code",
   "execution_count": 10,
   "id": "9bd5aae8",
   "metadata": {},
   "outputs": [
    {
     "data": {
      "text/plain": [
       "'madrid'"
      ]
     },
     "execution_count": 10,
     "metadata": {},
     "output_type": "execute_result"
    }
   ],
   "source": [
    "s1=\"\"\n",
    "s2=\"madrid\"\n",
    "s1 or s2"
   ]
  },
  {
   "cell_type": "code",
   "execution_count": 11,
   "id": "70008871",
   "metadata": {},
   "outputs": [
    {
     "data": {
      "text/plain": [
       "'madrid'"
      ]
     },
     "execution_count": 11,
     "metadata": {},
     "output_type": "execute_result"
    }
   ],
   "source": [
    "s2=\"\"\n",
    "s1=\"madrid\"\n",
    "s1 or s2"
   ]
  },
  {
   "cell_type": "code",
   "execution_count": 3,
   "id": "857536c0",
   "metadata": {},
   "outputs": [
    {
     "data": {
      "text/plain": [
       "True"
      ]
     },
     "execution_count": 3,
     "metadata": {},
     "output_type": "execute_result"
    }
   ],
   "source": [
    "## not ## empty is treated as false\n",
    "not(\"\")"
   ]
  },
  {
   "cell_type": "code",
   "execution_count": null,
   "id": "da3dcd66",
   "metadata": {},
   "outputs": [],
   "source": [
    "## relational\n",
    "<\n",
    ">\n",
    "=="
   ]
  },
  {
   "cell_type": "code",
   "execution_count": 12,
   "id": "8e09a59b",
   "metadata": {},
   "outputs": [
    {
     "data": {
      "text/plain": [
       "True"
      ]
     },
     "execution_count": 12,
     "metadata": {},
     "output_type": "execute_result"
    }
   ],
   "source": [
    "\"madrid\"<\"solutions\""
   ]
  },
  {
   "cell_type": "code",
   "execution_count": 13,
   "id": "c5d6a462",
   "metadata": {},
   "outputs": [
    {
     "data": {
      "text/plain": [
       "False"
      ]
     },
     "execution_count": 13,
     "metadata": {},
     "output_type": "execute_result"
    }
   ],
   "source": [
    "\"madrid\"==\"solutions\""
   ]
  },
  {
   "cell_type": "code",
   "execution_count": 14,
   "id": "18f8ee13",
   "metadata": {},
   "outputs": [
    {
     "data": {
      "text/plain": [
       "False"
      ]
     },
     "execution_count": 14,
     "metadata": {},
     "output_type": "execute_result"
    }
   ],
   "source": [
    "\"mardrid\"<\"Madrid\""
   ]
  },
  {
   "cell_type": "code",
   "execution_count": 16,
   "id": "318bfeb3",
   "metadata": {},
   "outputs": [],
   "source": [
    "## special operator:\n",
    "##in and not in "
   ]
  },
  {
   "cell_type": "code",
   "execution_count": 17,
   "id": "3d68bd63",
   "metadata": {},
   "outputs": [
    {
     "data": {
      "text/plain": [
       "True"
      ]
     },
     "execution_count": 17,
     "metadata": {},
     "output_type": "execute_result"
    }
   ],
   "source": [
    "\"m\" in \"madrid\""
   ]
  },
  {
   "cell_type": "code",
   "execution_count": 18,
   "id": "2c0de32c",
   "metadata": {},
   "outputs": [
    {
     "data": {
      "text/plain": [
       "True"
      ]
     },
     "execution_count": 18,
     "metadata": {},
     "output_type": "execute_result"
    }
   ],
   "source": [
    "\"mad\" in \"madrid\""
   ]
  },
  {
   "cell_type": "code",
   "execution_count": 19,
   "id": "0ea69223",
   "metadata": {},
   "outputs": [
    {
     "data": {
      "text/plain": [
       "False"
      ]
     },
     "execution_count": 19,
     "metadata": {},
     "output_type": "execute_result"
    }
   ],
   "source": [
    "\"mad\" not in \"madrid\""
   ]
  },
  {
   "cell_type": "code",
   "execution_count": 20,
   "id": "30a14bd3",
   "metadata": {},
   "outputs": [
    {
     "data": {
      "text/plain": [
       "True"
      ]
     },
     "execution_count": 20,
     "metadata": {},
     "output_type": "execute_result"
    }
   ],
   "source": [
    "\"ku\" not in \"khushi\""
   ]
  },
  {
   "cell_type": "markdown",
   "id": "f44ee798",
   "metadata": {},
   "source": [
    "## common functions for string,list,dict,set etc\n",
    "- len() ## it tells the num of elements in the string\n",
    "- max()\n",
    "- min()\n",
    "- sorted() ## arrange karna either in asecding or desceding.it always gives ans in list. reverse = true means if we want in desc otherwise by default it will give in aesc order\n"
   ]
  },
  {
   "cell_type": "code",
   "execution_count": 5,
   "id": "d02e2059",
   "metadata": {},
   "outputs": [
    {
     "name": "stdout",
     "output_type": "stream",
     "text": [
      "enter the string khushi\n",
      "6\n"
     ]
    }
   ],
   "source": [
    "s=input(\"enter the string \")\n",
    "print(len(s))"
   ]
  },
  {
   "cell_type": "code",
   "execution_count": 23,
   "id": "41e07836",
   "metadata": {},
   "outputs": [
    {
     "name": "stdout",
     "output_type": "stream",
     "text": [
      "enter the string madrid\n",
      "6\n",
      "r\n",
      "a\n",
      "['r', 'm', 'i', 'd', 'd', 'a']\n"
     ]
    }
   ],
   "source": [
    "s=input(\"enter the string \")\n",
    "print(len(s))\n",
    "print(max(s))\n",
    "print(min(s))\n",
    "print(sorted(s,reverse=True))\n"
   ]
  },
  {
   "cell_type": "markdown",
   "id": "e199600a",
   "metadata": {},
   "source": [
    "# strings specific functions"
   ]
  },
  {
   "cell_type": "code",
   "execution_count": 24,
   "id": "66718e99",
   "metadata": {},
   "outputs": [
    {
     "data": {
      "text/plain": [
       "['__add__',\n",
       " '__class__',\n",
       " '__contains__',\n",
       " '__delattr__',\n",
       " '__dir__',\n",
       " '__doc__',\n",
       " '__eq__',\n",
       " '__format__',\n",
       " '__ge__',\n",
       " '__getattribute__',\n",
       " '__getitem__',\n",
       " '__getnewargs__',\n",
       " '__gt__',\n",
       " '__hash__',\n",
       " '__init__',\n",
       " '__init_subclass__',\n",
       " '__iter__',\n",
       " '__le__',\n",
       " '__len__',\n",
       " '__lt__',\n",
       " '__mod__',\n",
       " '__mul__',\n",
       " '__ne__',\n",
       " '__new__',\n",
       " '__reduce__',\n",
       " '__reduce_ex__',\n",
       " '__repr__',\n",
       " '__rmod__',\n",
       " '__rmul__',\n",
       " '__setattr__',\n",
       " '__sizeof__',\n",
       " '__str__',\n",
       " '__subclasshook__',\n",
       " 'capitalize',\n",
       " 'casefold',\n",
       " 'center',\n",
       " 'count',\n",
       " 'encode',\n",
       " 'endswith',\n",
       " 'expandtabs',\n",
       " 'find',\n",
       " 'format',\n",
       " 'format_map',\n",
       " 'index',\n",
       " 'isalnum',\n",
       " 'isalpha',\n",
       " 'isascii',\n",
       " 'isdecimal',\n",
       " 'isdigit',\n",
       " 'isidentifier',\n",
       " 'islower',\n",
       " 'isnumeric',\n",
       " 'isprintable',\n",
       " 'isspace',\n",
       " 'istitle',\n",
       " 'isupper',\n",
       " 'join',\n",
       " 'ljust',\n",
       " 'lower',\n",
       " 'lstrip',\n",
       " 'maketrans',\n",
       " 'partition',\n",
       " 'removeprefix',\n",
       " 'removesuffix',\n",
       " 'replace',\n",
       " 'rfind',\n",
       " 'rindex',\n",
       " 'rjust',\n",
       " 'rpartition',\n",
       " 'rsplit',\n",
       " 'rstrip',\n",
       " 'split',\n",
       " 'splitlines',\n",
       " 'startswith',\n",
       " 'strip',\n",
       " 'swapcase',\n",
       " 'title',\n",
       " 'translate',\n",
       " 'upper',\n",
       " 'zfill']"
      ]
     },
     "execution_count": 24,
     "metadata": {},
     "output_type": "execute_result"
    }
   ],
   "source": [
    "dir(str)"
   ]
  },
  {
   "cell_type": "code",
   "execution_count": null,
   "id": "b63e9960",
   "metadata": {},
   "outputs": [],
   "source": [
    "## \n",
    "- 1-lower\n",
    "- 2-upper\n",
    "- 3-title\n",
    "- 4-capital"
   ]
  },
  {
   "cell_type": "code",
   "execution_count": 25,
   "id": "5db6a1ef",
   "metadata": {},
   "outputs": [
    {
     "name": "stdout",
     "output_type": "stream",
     "text": [
      "madrid solutions\n",
      "madrid solutions\n"
     ]
    }
   ],
   "source": [
    "s=\"madrid solutions\"\n",
    "s1=s.lower()\n",
    "print(s)\n",
    "print(s1)"
   ]
  },
  {
   "cell_type": "code",
   "execution_count": 26,
   "id": "75e91248",
   "metadata": {},
   "outputs": [
    {
     "name": "stdout",
     "output_type": "stream",
     "text": [
      "madrid solutions\n",
      "MADRID SOLUTIONS\n"
     ]
    }
   ],
   "source": [
    "s=\"madrid solutions\"\n",
    "s1=s.upper()\n",
    "print(s)\n",
    "print(s1)"
   ]
  },
  {
   "cell_type": "code",
   "execution_count": 27,
   "id": "450032d9",
   "metadata": {},
   "outputs": [
    {
     "name": "stdout",
     "output_type": "stream",
     "text": [
      "madrid solutions\n",
      "Madrid Solutions\n"
     ]
    }
   ],
   "source": [
    "s=\"madrid solutions\"\n",
    "s1=s.title()\n",
    "print(s)\n",
    "print(s1)"
   ]
  },
  {
   "cell_type": "code",
   "execution_count": 7,
   "id": "4e3e43f2",
   "metadata": {},
   "outputs": [
    {
     "name": "stdout",
     "output_type": "stream",
     "text": [
      "madrid solutions\n",
      "Madrid solutions\n"
     ]
    }
   ],
   "source": [
    "s=\"madrid solutions\"\n",
    "s1=s.capitalize()\n",
    "print(s)\n",
    "print(s1)"
   ]
  },
  {
   "cell_type": "code",
   "execution_count": 30,
   "id": "994e7022",
   "metadata": {},
   "outputs": [
    {
     "name": "stdout",
     "output_type": "stream",
     "text": [
      "madrid solutions\n",
      "MADRID SOLUTIONS\n",
      "1793540519408\n",
      "1793569196272\n"
     ]
    }
   ],
   "source": [
    "s=\"madrid solutions\"\n",
    "s1=s.swapcase()\n",
    "print(s)\n",
    "print(s1)\n",
    "print(id(s))\n",
    "print(id(s1))"
   ]
  },
  {
   "cell_type": "code",
   "execution_count": 8,
   "id": "71ac2853",
   "metadata": {},
   "outputs": [
    {
     "name": "stdout",
     "output_type": "stream",
     "text": [
      "Khushi Sarin\n",
      "Khushi sarin\n",
      "KHUSHI SARIN\n"
     ]
    }
   ],
   "source": [
    "s=\"khushi sarin\"\n",
    "s1=s.title()\n",
    "s2=s.capitalize()\n",
    "s3=s.swapcase()\n",
    "print(s1)\n",
    "print(s2)\n",
    "print(s3)\n",
    "\n"
   ]
  },
  {
   "cell_type": "code",
   "execution_count": 9,
   "id": "f0331e12",
   "metadata": {},
   "outputs": [
    {
     "name": "stdout",
     "output_type": "stream",
     "text": [
      "anmol sarin\n"
     ]
    }
   ],
   "source": [
    "s=\"ANMOL SARIN\"\n",
    "s1=s.swapcase()\n",
    "print(s1)"
   ]
  },
  {
   "cell_type": "markdown",
   "id": "ffb07d0a",
   "metadata": {},
   "source": [
    "## is check methods\n",
    "- isalnum()\n",
    "- isaplha()\n",
    "- istitle()\n",
    "- islower()\n",
    "- isupper()\n",
    "- isdigit()\n",
    "- isspace()"
   ]
  },
  {
   "cell_type": "code",
   "execution_count": 31,
   "id": "cd44de97",
   "metadata": {},
   "outputs": [
    {
     "data": {
      "text/plain": [
       "True"
      ]
     },
     "execution_count": 31,
     "metadata": {},
     "output_type": "execute_result"
    }
   ],
   "source": [
    "s=\"madrid solutions\"\n",
    "s.islower()\n"
   ]
  },
  {
   "cell_type": "code",
   "execution_count": 32,
   "id": "267b2068",
   "metadata": {},
   "outputs": [
    {
     "data": {
      "text/plain": [
       "False"
      ]
     },
     "execution_count": 32,
     "metadata": {},
     "output_type": "execute_result"
    }
   ],
   "source": [
    "s=\"madrid soltions\"\n",
    "s.isupper()"
   ]
  },
  {
   "cell_type": "code",
   "execution_count": 33,
   "id": "d93cee66",
   "metadata": {},
   "outputs": [
    {
     "data": {
      "text/plain": [
       "False"
      ]
     },
     "execution_count": 33,
     "metadata": {},
     "output_type": "execute_result"
    }
   ],
   "source": [
    "s=\"madrid soltions\"\n",
    "s.isalpha()"
   ]
  },
  {
   "cell_type": "code",
   "execution_count": 10,
   "id": "8932859f",
   "metadata": {},
   "outputs": [
    {
     "data": {
      "text/plain": [
       "True"
      ]
     },
     "execution_count": 10,
     "metadata": {},
     "output_type": "execute_result"
    }
   ],
   "source": [
    "s=\"khushi\"\n",
    "s.isalpha()"
   ]
  },
  {
   "cell_type": "code",
   "execution_count": 34,
   "id": "cdc880d3",
   "metadata": {},
   "outputs": [
    {
     "data": {
      "text/plain": [
       "False"
      ]
     },
     "execution_count": 34,
     "metadata": {},
     "output_type": "execute_result"
    }
   ],
   "source": [
    "s=\"  1  \"\n",
    "s.isspace()"
   ]
  },
  {
   "cell_type": "code",
   "execution_count": 11,
   "id": "ee5ee664",
   "metadata": {},
   "outputs": [
    {
     "data": {
      "text/plain": [
       "True"
      ]
     },
     "execution_count": 11,
     "metadata": {},
     "output_type": "execute_result"
    }
   ],
   "source": [
    "s=\"   \"\n",
    "s.isspace()"
   ]
  },
  {
   "cell_type": "code",
   "execution_count": 35,
   "id": "b76ac983",
   "metadata": {},
   "outputs": [
    {
     "data": {
      "text/plain": [
       "True"
      ]
     },
     "execution_count": 35,
     "metadata": {},
     "output_type": "execute_result"
    }
   ],
   "source": [
    "s=\"Madrid Soltions\"\n",
    "s.istitle()"
   ]
  },
  {
   "cell_type": "markdown",
   "id": "72743c49",
   "metadata": {},
   "source": [
    "## startswith and endwith"
   ]
  },
  {
   "cell_type": "code",
   "execution_count": 36,
   "id": "401cee88",
   "metadata": {},
   "outputs": [
    {
     "data": {
      "text/plain": [
       "False"
      ]
     },
     "execution_count": 36,
     "metadata": {},
     "output_type": "execute_result"
    }
   ],
   "source": [
    "s=\"madrid\"\n",
    "s.startswith(\"mi\")"
   ]
  },
  {
   "cell_type": "code",
   "execution_count": 37,
   "id": "c8bd7817",
   "metadata": {},
   "outputs": [
    {
     "data": {
      "text/plain": [
       "True"
      ]
     },
     "execution_count": 37,
     "metadata": {},
     "output_type": "execute_result"
    }
   ],
   "source": [
    "s=\"madrid\"\n",
    "s.endswith(\"id\")"
   ]
  },
  {
   "cell_type": "markdown",
   "id": "967e2985",
   "metadata": {},
   "source": [
    "## counting and location based functions\n",
    "- find\n",
    "- count\n",
    "- index"
   ]
  },
  {
   "cell_type": "code",
   "execution_count": null,
   "id": "bb3b3f45",
   "metadata": {},
   "outputs": [],
   "source": [
    "## index- tells the position of the character in the string"
   ]
  },
  {
   "cell_type": "code",
   "execution_count": 39,
   "id": "49e7e5bd",
   "metadata": {},
   "outputs": [
    {
     "ename": "ValueError",
     "evalue": "substring not found",
     "output_type": "error",
     "traceback": [
      "\u001b[1;31m---------------------------------------------------------------------------\u001b[0m",
      "\u001b[1;31mValueError\u001b[0m                                Traceback (most recent call last)",
      "Cell \u001b[1;32mIn[39], line 2\u001b[0m\n\u001b[0;32m      1\u001b[0m s\u001b[38;5;241m=\u001b[39m\u001b[38;5;124m\"\u001b[39m\u001b[38;5;124mmadrid\u001b[39m\u001b[38;5;124m\"\u001b[39m\n\u001b[1;32m----> 2\u001b[0m i\u001b[38;5;241m=\u001b[39m\u001b[43ms\u001b[49m\u001b[38;5;241;43m.\u001b[39;49m\u001b[43mindex\u001b[49m\u001b[43m(\u001b[49m\u001b[38;5;124;43m\"\u001b[39;49m\u001b[38;5;124;43mY\u001b[39;49m\u001b[38;5;124;43m\"\u001b[39;49m\u001b[43m)\u001b[49m\n",
      "\u001b[1;31mValueError\u001b[0m: substring not found"
     ]
    }
   ],
   "source": [
    "s=\"madrid\" \n",
    "i=s.index(\"Y\")"
   ]
  },
  {
   "cell_type": "code",
   "execution_count": 40,
   "id": "1847ac48",
   "metadata": {},
   "outputs": [
    {
     "data": {
      "text/plain": [
       "3"
      ]
     },
     "execution_count": 40,
     "metadata": {},
     "output_type": "execute_result"
    }
   ],
   "source": [
    "s=\"madrid\"\n",
    "s.index(\"r\")"
   ]
  },
  {
   "cell_type": "code",
   "execution_count": null,
   "id": "4aa7e40d",
   "metadata": {},
   "outputs": [],
   "source": [
    "count-it tells the occurence of the substring in string "
   ]
  },
  {
   "cell_type": "code",
   "execution_count": 42,
   "id": "dd469b9b",
   "metadata": {},
   "outputs": [
    {
     "data": {
      "text/plain": [
       "2"
      ]
     },
     "execution_count": 42,
     "metadata": {},
     "output_type": "execute_result"
    }
   ],
   "source": [
    "s=\"madrid\"\n",
    "s.count(\"d\")"
   ]
  },
  {
   "cell_type": "code",
   "execution_count": 44,
   "id": "9771d3a8",
   "metadata": {},
   "outputs": [
    {
     "data": {
      "text/plain": [
       "1"
      ]
     },
     "execution_count": 44,
     "metadata": {},
     "output_type": "execute_result"
    }
   ],
   "source": [
    "s=\"madrid solutions\"\n",
    "s.count(\"i\",7,15)"
   ]
  },
  {
   "cell_type": "code",
   "execution_count": 45,
   "id": "1b01e607",
   "metadata": {},
   "outputs": [
    {
     "data": {
      "text/plain": [
       "2"
      ]
     },
     "execution_count": 45,
     "metadata": {},
     "output_type": "execute_result"
    }
   ],
   "source": [
    "s=\"madrid\"\n",
    "s.find(\"d\")"
   ]
  },
  {
   "cell_type": "markdown",
   "id": "47b0cc89",
   "metadata": {},
   "source": [
    "## wap to find the occurence of each character of the string entered by user and also second most occurence and least occurance character"
   ]
  },
  {
   "cell_type": "code",
   "execution_count": 47,
   "id": "1897451e",
   "metadata": {},
   "outputs": [
    {
     "name": "stdout",
     "output_type": "stream",
     "text": [
      "enter the string khushi\n",
      "k ------------ 1\n",
      "h ------------ 2\n",
      "u ------------ 1\n",
      "s ------------ 1\n",
      "h ------------ 2\n",
      "i ------------ 1\n"
     ]
    }
   ],
   "source": [
    "s=input(\"enter the string \")\n",
    "for i in s:\n",
    "    print(i,\"------------\",s.count(i))"
   ]
  },
  {
   "cell_type": "code",
   "execution_count": 49,
   "id": "59b2c26a",
   "metadata": {},
   "outputs": [],
   "source": [
    "from collections import Counter"
   ]
  },
  {
   "cell_type": "code",
   "execution_count": 50,
   "id": "561cb05b",
   "metadata": {},
   "outputs": [
    {
     "data": {
      "text/plain": [
       "Counter({'k': 1, 'h': 2, 'u': 1, 's': 1, 'i': 1})"
      ]
     },
     "execution_count": 50,
     "metadata": {},
     "output_type": "execute_result"
    }
   ],
   "source": [
    "Counter(s)"
   ]
  },
  {
   "cell_type": "markdown",
   "id": "4b509f49",
   "metadata": {},
   "source": [
    "## split\n",
    "## strip"
   ]
  },
  {
   "cell_type": "code",
   "execution_count": 51,
   "id": "c3aa9083",
   "metadata": {},
   "outputs": [],
   "source": [
    "## split:it splits/breaks the string into the words in the list based on splitter. By default spliter is space"
   ]
  },
  {
   "cell_type": "code",
   "execution_count": 52,
   "id": "37de9964",
   "metadata": {},
   "outputs": [
    {
     "data": {
      "text/plain": [
       "['madrid', 'soltuions', 'is', 'a', 'ed-tech', 'company']"
      ]
     },
     "execution_count": 52,
     "metadata": {},
     "output_type": "execute_result"
    }
   ],
   "source": [
    "s=\" madrid soltuions is a ed-tech company\"\n",
    "s.split()"
   ]
  },
  {
   "cell_type": "code",
   "execution_count": 53,
   "id": "5d2dab96",
   "metadata": {},
   "outputs": [],
   "source": [
    "## wap to take the email id from user and seggregate the username and domain name"
   ]
  },
  {
   "cell_type": "code",
   "execution_count": 55,
   "id": "24725cf8",
   "metadata": {},
   "outputs": [
    {
     "name": "stdout",
     "output_type": "stream",
     "text": [
      "enter the email khushi@gmail\n"
     ]
    },
    {
     "data": {
      "text/plain": [
       "[' khushi', 'gmail']"
      ]
     },
     "execution_count": 55,
     "metadata": {},
     "output_type": "execute_result"
    }
   ],
   "source": [
    "s=input(\"enter the email\")\n",
    "l=s.split(\"@\")\n",
    "l"
   ]
  },
  {
   "cell_type": "markdown",
   "id": "c5df7d3b",
   "metadata": {},
   "source": [
    "## fetch filename in this path:\n",
    "madrid/solutions/edtech/class.txt"
   ]
  },
  {
   "cell_type": "code",
   "execution_count": 56,
   "id": "aaa370dd",
   "metadata": {},
   "outputs": [
    {
     "data": {
      "text/plain": [
       "['madrid', 'solutions', 'edtech', 'class.txt']"
      ]
     },
     "execution_count": 56,
     "metadata": {},
     "output_type": "execute_result"
    }
   ],
   "source": [
    "s=\"madrid/solutions/edtech/class.txt\"\n",
    "l=s.split(\"/\")\n",
    "l"
   ]
  },
  {
   "cell_type": "code",
   "execution_count": 57,
   "id": "7958e580",
   "metadata": {},
   "outputs": [
    {
     "data": {
      "text/plain": [
       "'class'"
      ]
     },
     "execution_count": 57,
     "metadata": {},
     "output_type": "execute_result"
    }
   ],
   "source": [
    "x=l[-1]\n",
    "x1=x.split(\".\")\n",
    "x1[0]"
   ]
  },
  {
   "cell_type": "code",
   "execution_count": 58,
   "id": "f73ae292",
   "metadata": {},
   "outputs": [
    {
     "data": {
      "text/plain": [
       "'class'"
      ]
     },
     "execution_count": 58,
     "metadata": {},
     "output_type": "execute_result"
    }
   ],
   "source": [
    "l[-1].split(\".\")[0]"
   ]
  },
  {
   "cell_type": "code",
   "execution_count": 60,
   "id": "ea8d0235",
   "metadata": {},
   "outputs": [
    {
     "data": {
      "text/plain": [
       "['madrid', 'solutions', 'edtech', 'class.txt']"
      ]
     },
     "execution_count": 60,
     "metadata": {},
     "output_type": "execute_result"
    }
   ],
   "source": [
    "s=\"madrid/solutions/edtech/class.txt\"\n",
    "l=s.rsplit(\"/\")\n",
    "l"
   ]
  },
  {
   "cell_type": "code",
   "execution_count": 61,
   "id": "8efbf862",
   "metadata": {},
   "outputs": [
    {
     "data": {
      "text/plain": [
       "['madrid', 'solutions', 'edtech/class.txt']"
      ]
     },
     "execution_count": 61,
     "metadata": {},
     "output_type": "execute_result"
    }
   ],
   "source": [
    "s=\"madrid/solutions/edtech/class.txt\"\n",
    "s.split(\"/\",maxsplit=2)"
   ]
  },
  {
   "cell_type": "code",
   "execution_count": 62,
   "id": "c491ffef",
   "metadata": {},
   "outputs": [
    {
     "data": {
      "text/plain": [
       "['madrid/solutions', 'edtech', 'class.txt']"
      ]
     },
     "execution_count": 62,
     "metadata": {},
     "output_type": "execute_result"
    }
   ],
   "source": [
    "s=\"madrid/solutions/edtech/class.txt\"\n",
    "s.rsplit(\"/\",maxsplit=2)"
   ]
  },
  {
   "cell_type": "code",
   "execution_count": null,
   "id": "3af27025",
   "metadata": {},
   "outputs": [],
   "source": [
    "## strip: is used to remove the unwanted characters(\\t\\n) from the beginning and end in the string"
   ]
  },
  {
   "cell_type": "code",
   "execution_count": 1,
   "id": "a17e5c06",
   "metadata": {},
   "outputs": [
    {
     "name": "stdout",
     "output_type": "stream",
     "text": [
      "   this is my class  \n",
      "21\n",
      "this is my class\n",
      "16\n"
     ]
    }
   ],
   "source": [
    "s=\"   this is my class  \" ## by default strip removes space\n",
    "print(s)\n",
    "print(len(s))\n",
    "s1=s.strip()\n",
    "print(s1)\n",
    "print(len(s1))"
   ]
  },
  {
   "cell_type": "code",
   "execution_count": 2,
   "id": "dae66246",
   "metadata": {},
   "outputs": [
    {
     "name": "stdout",
     "output_type": "stream",
     "text": [
      "   this is my class  \n",
      "21\n",
      "this is my class  \n",
      "18\n"
     ]
    }
   ],
   "source": [
    "s=\"   this is my class  \"\n",
    "print(s)\n",
    "print(len(s))\n",
    "s1=s.lstrip()\n",
    "print(s1)\n",
    "print(len(s1))"
   ]
  },
  {
   "cell_type": "code",
   "execution_count": 3,
   "id": "87f889bf",
   "metadata": {},
   "outputs": [
    {
     "name": "stdout",
     "output_type": "stream",
     "text": [
      "   this is my class  \n",
      "21\n",
      "   this is my class\n",
      "19\n"
     ]
    }
   ],
   "source": [
    "s=\"   this is my class  \"\n",
    "print(s)\n",
    "print(len(s))\n",
    "s1=s.rstrip()\n",
    "print(s1)\n",
    "print(len(s1))"
   ]
  },
  {
   "cell_type": "code",
   "execution_count": 6,
   "id": "48c78400",
   "metadata": {},
   "outputs": [
    {
     "name": "stdout",
     "output_type": "stream",
     "text": [
      "   this is my class @@hi@@\n",
      "26\n",
      "   this is my class @@hi\n",
      "24\n"
     ]
    }
   ],
   "source": [
    "s=\"   this is my class @@hi@@\"\n",
    "print(s)\n",
    "print(len(s))\n",
    "s1=s.rstrip(\"@\")\n",
    "print(s1)\n",
    "print(len(s1))"
   ]
  },
  {
   "cell_type": "code",
   "execution_count": 7,
   "id": "adee317b",
   "metadata": {},
   "outputs": [
    {
     "name": "stdout",
     "output_type": "stream",
     "text": [
      "### this is my class @@hi@@\n",
      "27\n",
      " this is my class @@hi@@\n",
      "24\n"
     ]
    }
   ],
   "source": [
    "s=\"### this is my class @@hi@@\"\n",
    "print(s)\n",
    "print(len(s))\n",
    "s1=s.lstrip(\"#\")\n",
    "print(s1)\n",
    "print(len(s1))"
   ]
  },
  {
   "cell_type": "markdown",
   "id": "fcaacb0c",
   "metadata": {},
   "source": [
    "## join"
   ]
  },
  {
   "cell_type": "code",
   "execution_count": 8,
   "id": "95cab615",
   "metadata": {},
   "outputs": [
    {
     "data": {
      "text/plain": [
       "'madrid'"
      ]
     },
     "execution_count": 8,
     "metadata": {},
     "output_type": "execute_result"
    }
   ],
   "source": [
    "l=[\"m\",\"a\",\"d\",\"r\",\"i\",\"d\"]\n",
    "s=\"\"\n",
    "s.join(l)"
   ]
  },
  {
   "cell_type": "code",
   "execution_count": 9,
   "id": "40f471e5",
   "metadata": {},
   "outputs": [
    {
     "data": {
      "text/plain": [
       "'m a d r i d'"
      ]
     },
     "execution_count": 9,
     "metadata": {},
     "output_type": "execute_result"
    }
   ],
   "source": [
    "l=[\"m\",\"a\",\"d\",\"r\",\"i\",\"d\"]\n",
    "s=\" \"\n",
    "s.join(l)"
   ]
  },
  {
   "cell_type": "code",
   "execution_count": 10,
   "id": "72ddd45a",
   "metadata": {},
   "outputs": [
    {
     "data": {
      "text/plain": [
       "'m@a@d@r@i@d'"
      ]
     },
     "execution_count": 10,
     "metadata": {},
     "output_type": "execute_result"
    }
   ],
   "source": [
    "l=[\"m\",\"a\",\"d\",\"r\",\"i\",\"d\"]\n",
    "s=\"@\"\n",
    "s.join(l)"
   ]
  },
  {
   "cell_type": "markdown",
   "id": "5c84a616",
   "metadata": {},
   "source": [
    "## format"
   ]
  },
  {
   "cell_type": "code",
   "execution_count": 11,
   "id": "ec5d1bd8",
   "metadata": {},
   "outputs": [],
   "source": [
    "## 4 is the square of 2"
   ]
  },
  {
   "cell_type": "code",
   "execution_count": 12,
   "id": "4614f8c1",
   "metadata": {},
   "outputs": [
    {
     "name": "stdout",
     "output_type": "stream",
     "text": [
      "enter the number9\n",
      "81 is the square of  9\n"
     ]
    }
   ],
   "source": [
    "num=int(input(\"enter the number\"))\n",
    "print(num**2,\"is the square of \",num)"
   ]
  },
  {
   "cell_type": "code",
   "execution_count": 16,
   "id": "fbd48ee9",
   "metadata": {},
   "outputs": [
    {
     "name": "stdout",
     "output_type": "stream",
     "text": [
      "enter the number9\n",
      "81 is the square of 9\n"
     ]
    }
   ],
   "source": [
    "num=int(input(\"enter the number\"))\n",
    "print(\"{} is the square of {}\".format(num**2,num))"
   ]
  },
  {
   "cell_type": "code",
   "execution_count": 17,
   "id": "9e80b92b",
   "metadata": {},
   "outputs": [
    {
     "name": "stdout",
     "output_type": "stream",
     "text": [
      "81 is the square of 9\n"
     ]
    }
   ],
   "source": [
    "print(f\"{num**2} is the square of {num}\")"
   ]
  },
  {
   "cell_type": "markdown",
   "id": "179aae86",
   "metadata": {},
   "source": [
    "## how to delete the particular substring in the string\n",
    "- slicing and concatenation\n",
    "- replace method\n",
    "- naive method"
   ]
  },
  {
   "cell_type": "code",
   "execution_count": 12,
   "id": "23cad27f",
   "metadata": {},
   "outputs": [
    {
     "name": "stdout",
     "output_type": "stream",
     "text": [
      "enter the stringanmol\n",
      "enter the substring u want to deletea\n",
      "nmol\n"
     ]
    }
   ],
   "source": [
    "# slicing and concatenation\n",
    "s=input(\"enter the string\")\n",
    "s1=input(\"enter the substring u want to delete\")\n",
    "pos=s.find(s1)\n",
    "if pos==-1:\n",
    "    print(s1,\" is not found in \",s)\n",
    "else:\n",
    "    print(s[0:pos]+s[pos+1:])"
   ]
  },
  {
   "cell_type": "code",
   "execution_count": 1,
   "id": "7baf2930",
   "metadata": {},
   "outputs": [
    {
     "name": "stdout",
     "output_type": "stream",
     "text": [
      "enter the stringkhushi\n",
      "enter the substringi\n",
      "khush\n"
     ]
    }
   ],
   "source": [
    "s=input(\"enter the string\")\n",
    "while(True):\n",
    "    s1=input(\"enter the substring\")\n",
    "    pos=s.find(s1)\n",
    "    if pos==-1:\n",
    "        print(s1,\"is not found in \",s)\n",
    "        print(\"re-enter the substring\")\n",
    "        continue\n",
    "    else:\n",
    "        print(s[0:pos]+s[pos+1:])\n",
    "        break"
   ]
  },
  {
   "cell_type": "markdown",
   "id": "26493f4c",
   "metadata": {},
   "source": [
    "## replace:"
   ]
  },
  {
   "cell_type": "code",
   "execution_count": 19,
   "id": "57e9355d",
   "metadata": {},
   "outputs": [
    {
     "data": {
      "text/plain": [
       "'madged'"
      ]
     },
     "execution_count": 19,
     "metadata": {},
     "output_type": "execute_result"
    }
   ],
   "source": [
    "s=\"madrid\"\n",
    "s.replace(\"ri\",\"ge\")"
   ]
  },
  {
   "cell_type": "code",
   "execution_count": 23,
   "id": "c4471bd7",
   "metadata": {},
   "outputs": [
    {
     "name": "stdout",
     "output_type": "stream",
     "text": [
      "enter the stringkhuwshi\n",
      "enter the substring u want to deletew\n",
      "khuwshi\n",
      "khushi\n"
     ]
    }
   ],
   "source": [
    "s=input(\"enter the string\")\n",
    "s1=input(\"enter the substring u want to delete\")\n",
    "s2=s.replace(s1,\"\")\n",
    "print(s)\n",
    "print(s2)"
   ]
  },
  {
   "cell_type": "markdown",
   "id": "9c811896",
   "metadata": {},
   "source": [
    "## naive method"
   ]
  },
  {
   "cell_type": "code",
   "execution_count": 22,
   "id": "cbce6344",
   "metadata": {},
   "outputs": [
    {
     "name": "stdout",
     "output_type": "stream",
     "text": [
      "madid\n"
     ]
    }
   ],
   "source": [
    "s=\"madrid\"\n",
    "s2=\"\"\n",
    "s1=\"r\"\n",
    "for i in s:\n",
    "    if i!=\"r\":\n",
    "        s2=s2+i\n",
    "print(s2)"
   ]
  },
  {
   "cell_type": "markdown",
   "id": "1b89af65",
   "metadata": {},
   "source": [
    "## wap to check how many upper case,lowercas,digits and special char in a string entered by user"
   ]
  },
  {
   "cell_type": "code",
   "execution_count": 26,
   "id": "828259ac",
   "metadata": {},
   "outputs": [
    {
     "name": "stdout",
     "output_type": "stream",
     "text": [
      "enter the string Khushisarin@gmail.com\n",
      "upper are 1\n",
      "lower are 18\n",
      "digits are 0\n",
      "special character are 3\n"
     ]
    }
   ],
   "source": [
    "s=input(\"enter the string\")\n",
    "count_u=0\n",
    "count_l=0\n",
    "count_d=0\n",
    "count_s=0\n",
    "for ch in s:\n",
    "    if ch.isupper():\n",
    "        count_u=count_u+1\n",
    "    elif ch.islower():\n",
    "        count_l=count_l+1\n",
    "    elif ch.isdigit():\n",
    "        count_d=count_d+1\n",
    "    else:\n",
    "        count_s=count_s+1\n",
    "print(\"upper are\",count_u)\n",
    "print(\"lower are\",count_l)\n",
    "print(\"digits are\",count_d)\n",
    "print(\"special character are\",count_s)"
   ]
  },
  {
   "cell_type": "markdown",
   "id": "f2bdd405",
   "metadata": {},
   "source": [
    "## wap to input a password from the user and check the validity of the password while sign up\n",
    "- min 1 uppercase,lowercase,digit,special char\n",
    "- min length of the password should be 10"
   ]
  },
  {
   "cell_type": "code",
   "execution_count": 15,
   "id": "c1144fbb",
   "metadata": {},
   "outputs": [
    {
     "name": "stdout",
     "output_type": "stream",
     "text": [
      "enter the username khushi sairn\n",
      "enter the password Balmeetkaur12@4\n",
      "the password is valid\n"
     ]
    }
   ],
   "source": [
    "username=input(\"enter the username \")\n",
    "password=input(\"enter the password \")\n",
    "count_u=0\n",
    "count_l=0\n",
    "count_d=0\n",
    "count_s=0\n",
    "l=len(password)\n",
    "for i in password:\n",
    "    if i.isupper():\n",
    "        count_u=count_u+1\n",
    "    elif i.islower():\n",
    "        count_l=count_l+1\n",
    "    elif i.isdigit():\n",
    "        count_d=count_d+1\n",
    "    else:\n",
    "        count_s=count_s+1\n",
    "if count_u>=1 and count_l>=1 and count_s>=1 and count_d>=1 and l>=10:\n",
    "    print(\"the password is valid\")\n",
    "else:\n",
    "    print(\"not valid\")"
   ]
  },
  {
   "cell_type": "markdown",
   "id": "69507d4a",
   "metadata": {},
   "source": [
    "## wap to display and count vowels and consonents,digits and special characters in the string"
   ]
  },
  {
   "cell_type": "code",
   "execution_count": 26,
   "id": "ecec91c2",
   "metadata": {},
   "outputs": [
    {
     "name": "stdout",
     "output_type": "stream",
     "text": [
      "enter the stringkhuhsisae93@\n",
      "vowels    4\n",
      "consonents    4\n",
      "digits    4\n",
      "special    4\n"
     ]
    }
   ],
   "source": [
    "count_v=0\n",
    "count_c=0\n",
    "count_d=0\n",
    "count_s=0\n",
    "s=input(\"enter the string\")\n",
    "for i in s:\n",
    "    if i.isalpha():\n",
    "        if i in \"aeiouAEIOU\":\n",
    "            count_v=count_v+1\n",
    "        else:\n",
    "            count_c=count_c+1\n",
    "    elif i.isdigit():\n",
    "        count_d=count_d+1\n",
    "    else:\n",
    "        count_s=count_s+1\n",
    "print(\"vowels   \",count_v)\n",
    "print(\"consonents   \",count_v)\n",
    "print(\"digits   \",count_v)\n",
    "print(\"special   \",count_v)"
   ]
  },
  {
   "cell_type": "markdown",
   "id": "1fedb340",
   "metadata": {},
   "source": [
    "## wap to remove the duplicants from the string entered by user"
   ]
  },
  {
   "cell_type": "code",
   "execution_count": 28,
   "id": "9ae815f4",
   "metadata": {},
   "outputs": [
    {
     "name": "stdout",
     "output_type": "stream",
     "text": [
      "enter the stringkhushi123\n",
      "khusi123\n"
     ]
    }
   ],
   "source": [
    "s=input(\"enter the string\")\n",
    "unique=\"\"\n",
    "for i in s:\n",
    "    if i not in unique:\n",
    "        unique=unique+i\n",
    "print(unique)"
   ]
  },
  {
   "cell_type": "markdown",
   "id": "6b380fca",
   "metadata": {},
   "source": [
    "## wap to take pincode from the user and check whether the pincode is valid or not"
   ]
  },
  {
   "cell_type": "code",
   "execution_count": 3,
   "id": "e0e0ba7e",
   "metadata": {},
   "outputs": [
    {
     "name": "stdout",
     "output_type": "stream",
     "text": [
      "enter the pincode 123456\n",
      "valid pincode\n"
     ]
    }
   ],
   "source": [
    "p=input(\"enter the pincode \")\n",
    "count=0\n",
    "for i in p:\n",
    "    if i.isdigit():\n",
    "        count=count+1\n",
    "if count==6:\n",
    "    print(\"valid pincode\")\n",
    "else:\n",
    "    print(\"not valid\")\n",
    "    \n",
    "    \n",
    "\n"
   ]
  },
  {
   "cell_type": "code",
   "execution_count": 2,
   "id": "a94705b5",
   "metadata": {},
   "outputs": [
    {
     "name": "stdout",
     "output_type": "stream",
     "text": [
      "enter the pincode12345s\n",
      "not\n"
     ]
    }
   ],
   "source": [
    "p=input(\"enter the pincode\")\n",
    "if p.isdigit() and len(s)==6:\n",
    "    print(\"valid\")\n",
    "else:\n",
    "    print(\"not\")"
   ]
  },
  {
   "cell_type": "markdown",
   "id": "cdfd9a83",
   "metadata": {},
   "source": [
    "## wap to take the string from the user of alpha numeric type and u have to extarct only digits from the string"
   ]
  },
  {
   "cell_type": "code",
   "execution_count": null,
   "id": "55013541",
   "metadata": {},
   "outputs": [],
   "source": [
    "s=input(\"enter the sstring in alphanumeric\")\n",
    "if s.isalnum():\n",
    "    s1=\"\"\n",
    "    for i in s:\n",
    "        if i.isdigit():\n",
    "            s1=s1+i\n",
    "    print(\"the digits are \",s1)"
   ]
  },
  {
   "cell_type": "markdown",
   "id": "5dd74c17",
   "metadata": {},
   "source": [
    "## count the special character in your email"
   ]
  },
  {
   "cell_type": "code",
   "execution_count": null,
   "id": "8fea3bd5",
   "metadata": {},
   "outputs": [],
   "source": [
    "s=\"khushisarin@gmail.com\"\n",
    "s1="
   ]
  },
  {
   "cell_type": "markdown",
   "id": "2f486ed4",
   "metadata": {},
   "source": [
    "## wap to display the index of each string without using index function"
   ]
  },
  {
   "cell_type": "code",
   "execution_count": 4,
   "id": "b1b0b8c0",
   "metadata": {},
   "outputs": [
    {
     "name": "stdout",
     "output_type": "stream",
     "text": [
      "enter the stringkhushi\n",
      "k --------------- 0\n",
      "h --------------- 1\n",
      "u --------------- 2\n",
      "s --------------- 3\n",
      "h --------------- 4\n",
      "i --------------- 5\n"
     ]
    }
   ],
   "source": [
    "s=input(\"enter the string\")\n",
    "pos=0\n",
    "for i in s:\n",
    "    print(i,\"---------------\",pos)\n",
    "    pos=pos+1"
   ]
  },
  {
   "cell_type": "markdown",
   "id": "604b2551",
   "metadata": {},
   "source": [
    "## s=\" a quick brown fox jumps over the lazy dog \"\n",
    "## sort the aplhabets in increasing order and sorted alphabets should be in the string and aslo prove that it has all alphabets"
   ]
  },
  {
   "cell_type": "code",
   "execution_count": 5,
   "id": "cc221de5",
   "metadata": {},
   "outputs": [
    {
     "data": {
      "text/plain": [
       "'aquickbrownfoxjumpsoverthelazydog'"
      ]
     },
     "execution_count": 5,
     "metadata": {},
     "output_type": "execute_result"
    }
   ],
   "source": [
    "s=\" a quick brown fox jumps over the lazy dog \"\n",
    "s1=s.replace(\" \",\"\")\n",
    "s1"
   ]
  },
  {
   "cell_type": "code",
   "execution_count": 6,
   "id": "2d012fe3",
   "metadata": {},
   "outputs": [
    {
     "data": {
      "text/plain": [
       "['a',\n",
       " 'a',\n",
       " 'b',\n",
       " 'c',\n",
       " 'd',\n",
       " 'e',\n",
       " 'e',\n",
       " 'f',\n",
       " 'g',\n",
       " 'h',\n",
       " 'i',\n",
       " 'j',\n",
       " 'k',\n",
       " 'l',\n",
       " 'm',\n",
       " 'n',\n",
       " 'o',\n",
       " 'o',\n",
       " 'o',\n",
       " 'o',\n",
       " 'p',\n",
       " 'q',\n",
       " 'r',\n",
       " 'r',\n",
       " 's',\n",
       " 't',\n",
       " 'u',\n",
       " 'u',\n",
       " 'v',\n",
       " 'w',\n",
       " 'x',\n",
       " 'y',\n",
       " 'z']"
      ]
     },
     "execution_count": 6,
     "metadata": {},
     "output_type": "execute_result"
    }
   ],
   "source": [
    "l=(sorted(s1))\n",
    "l"
   ]
  },
  {
   "cell_type": "code",
   "execution_count": 7,
   "id": "e85bb96b",
   "metadata": {},
   "outputs": [
    {
     "data": {
      "text/plain": [
       "'aabcdeefghijklmnoooopqrrstuuvwxyz'"
      ]
     },
     "execution_count": 7,
     "metadata": {},
     "output_type": "execute_result"
    }
   ],
   "source": [
    "s2=\"\"\n",
    "ss=s2.join(l)\n",
    "ss"
   ]
  },
  {
   "cell_type": "code",
   "execution_count": 8,
   "id": "318fa4ff",
   "metadata": {},
   "outputs": [
    {
     "name": "stdout",
     "output_type": "stream",
     "text": [
      "abcdefghijklmnopqrstuvwxyz\n"
     ]
    }
   ],
   "source": [
    "unique=\"\"\n",
    "for i in ss:\n",
    "    if i not in unique:\n",
    "        unique=unique+i\n",
    "print(unique)"
   ]
  },
  {
   "cell_type": "code",
   "execution_count": 9,
   "id": "e40fb31f",
   "metadata": {},
   "outputs": [
    {
     "name": "stdout",
     "output_type": "stream",
     "text": [
      "it has all alphabets\n"
     ]
    }
   ],
   "source": [
    "if len(unique)==26:\n",
    "    print(\"it has all alphabets\")\n",
    "else:\n",
    "    print(\"not\")"
   ]
  },
  {
   "cell_type": "markdown",
   "id": "ceebeab2",
   "metadata": {},
   "source": [
    "## wap to check whether the entered string is anagram or not : eg: heart = earth"
   ]
  },
  {
   "cell_type": "code",
   "execution_count": 4,
   "id": "71a5d9d0",
   "metadata": {},
   "outputs": [
    {
     "name": "stdout",
     "output_type": "stream",
     "text": [
      "enter the 1st string earth\n",
      "input the 2nd string heart\n",
      "anagram\n"
     ]
    }
   ],
   "source": [
    "s1=input(\"enter the 1st string \")\n",
    "s2=input(\"input the 2nd string \")\n",
    "s3=sorted(s1)\n",
    "s4=sorted(s2)\n",
    "if s3==s4:\n",
    "    print(\"anagram\")\n",
    "else:\n",
    "    print(\"not\")"
   ]
  },
  {
   "cell_type": "code",
   "execution_count": null,
   "id": "bda6c4a4",
   "metadata": {},
   "outputs": [],
   "source": []
  },
  {
   "cell_type": "code",
   "execution_count": null,
   "id": "7eaa0e8f",
   "metadata": {},
   "outputs": [],
   "source": []
  }
 ],
 "metadata": {
  "kernelspec": {
   "display_name": "Python 3 (ipykernel)",
   "language": "python",
   "name": "python3"
  },
  "language_info": {
   "codemirror_mode": {
    "name": "ipython",
    "version": 3
   },
   "file_extension": ".py",
   "mimetype": "text/x-python",
   "name": "python",
   "nbconvert_exporter": "python",
   "pygments_lexer": "ipython3",
   "version": "3.10.9"
  }
 },
 "nbformat": 4,
 "nbformat_minor": 5
}
