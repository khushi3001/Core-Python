{
 "cells": [
  {
   "cell_type": "markdown",
   "id": "dfe52137",
   "metadata": {},
   "source": [
    "## What is Dictionary?\n",
    "Dictionary is an unordered and non-homogeneous data structure which stores element as key value pairs.\n",
    "\n",
    "\n",
    "### Dictionary properties \n",
    "\n",
    "\n",
    "- Dictionary has no indexing\n",
    "\n",
    "- dictionary is mutable\n",
    "\n",
    "- keys are immutable \n",
    "\n",
    "- values can be mutable or immutable\n",
    "\n",
    "- keys should not be repeat\n",
    "\n",
    "- here in dictionary we have{key:value}\n",
    "\n"
   ]
  },
  {
   "cell_type": "markdown",
   "id": "0864bd3e",
   "metadata": {},
   "source": [
    "## how to create dictionary"
   ]
  },
  {
   "cell_type": "code",
   "execution_count": 2,
   "id": "e9f8f47d",
   "metadata": {
    "scrolled": true
   },
   "outputs": [
    {
     "name": "stdout",
     "output_type": "stream",
     "text": [
      "{'name': 'khushi', 'rollno': 45, 'marks': [12, 13, 14, 15], 'gender': 'female', (12, 13, 14): 'marks'}\n",
      "<class 'dict'>\n"
     ]
    }
   ],
   "source": [
    "d={\"name\":\"khushi\",\"rollno\":45,\"marks\":[12,13,14,15],\"gender\":\"female\",(12,13,14):\"marks\"}\n",
    "print(d) \n",
    "print(type(d))"
   ]
  },
  {
   "cell_type": "markdown",
   "id": "e3dcbe98",
   "metadata": {},
   "source": [
    "## empty dict"
   ]
  },
  {
   "cell_type": "code",
   "execution_count": 1,
   "id": "86bfae0e",
   "metadata": {},
   "outputs": [
    {
     "name": "stdout",
     "output_type": "stream",
     "text": [
      "{}\n",
      "<class 'dict'>\n"
     ]
    }
   ],
   "source": [
    "d={}\n",
    "print(d)\n",
    "print(type(d))"
   ]
  },
  {
   "cell_type": "markdown",
   "id": "ee5343c6",
   "metadata": {},
   "source": [
    "## keys are immutable\n",
    "- string\n",
    "- int\n",
    "- float\n",
    "- bool\n",
    "- tuple\n",
    "- frozenset"
   ]
  },
  {
   "cell_type": "markdown",
   "id": "5b34bd19",
   "metadata": {},
   "source": [
    "## values can be mutable or immutable"
   ]
  },
  {
   "cell_type": "markdown",
   "id": "b367328c",
   "metadata": {},
   "source": [
    "## key are unique"
   ]
  },
  {
   "cell_type": "code",
   "execution_count": 4,
   "id": "404a0467",
   "metadata": {},
   "outputs": [
    {
     "data": {
      "text/plain": [
       "{'name': 'shivangi',\n",
       " 'rollno': 45,\n",
       " 'marks': [12, 13, 14, 15],\n",
       " 'gender': 'female'}"
      ]
     },
     "execution_count": 4,
     "metadata": {},
     "output_type": "execute_result"
    }
   ],
   "source": [
    "d={\"name\":\"khushi\",\"rollno\":45,\"marks\":[12,13,14,15],\"gender\":\"female\",\"name\":\"shivangi\"}\n",
    "d\n",
    "## the one which would be updated in the key, it would give the same answer"
   ]
  },
  {
   "cell_type": "code",
   "execution_count": 6,
   "id": "bee252c5",
   "metadata": {},
   "outputs": [
    {
     "data": {
      "text/plain": [
       "Counter({'m': 1, 'a': 1, 'd': 2, 'r': 1, 'i': 1})"
      ]
     },
     "execution_count": 6,
     "metadata": {},
     "output_type": "execute_result"
    }
   ],
   "source": [
    "s=\"madrid\"\n",
    "from collections import Counter\n",
    "Counter(s)"
   ]
  },
  {
   "cell_type": "markdown",
   "id": "55fac85b",
   "metadata": {},
   "source": [
    "## dictionary has no indexing"
   ]
  },
  {
   "cell_type": "code",
   "execution_count": 7,
   "id": "eb1b6118",
   "metadata": {},
   "outputs": [
    {
     "data": {
      "text/plain": [
       "{'name': 'shivangi',\n",
       " 'rollno': 45,\n",
       " 'marks': [12, 13, 14, 15],\n",
       " 'gender': 'female'}"
      ]
     },
     "execution_count": 7,
     "metadata": {},
     "output_type": "execute_result"
    }
   ],
   "source": [
    "d"
   ]
  },
  {
   "cell_type": "code",
   "execution_count": 9,
   "id": "0dac88c8",
   "metadata": {},
   "outputs": [
    {
     "ename": "KeyError",
     "evalue": "0",
     "output_type": "error",
     "traceback": [
      "\u001b[1;31m---------------------------------------------------------------------------\u001b[0m",
      "\u001b[1;31mKeyError\u001b[0m                                  Traceback (most recent call last)",
      "Cell \u001b[1;32mIn[9], line 1\u001b[0m\n\u001b[1;32m----> 1\u001b[0m \u001b[43md\u001b[49m\u001b[43m[\u001b[49m\u001b[38;5;241;43m0\u001b[39;49m\u001b[43m]\u001b[49m\n",
      "\u001b[1;31mKeyError\u001b[0m: 0"
     ]
    }
   ],
   "source": [
    "d[0]"
   ]
  },
  {
   "cell_type": "markdown",
   "id": "afef284f",
   "metadata": {},
   "source": [
    "## dicationary is mutable"
   ]
  },
  {
   "cell_type": "markdown",
   "id": "5ffe9ea0",
   "metadata": {},
   "source": [
    "## how to access the value from the dict:\n",
    "- d[keyname]\n",
    "- get()\n",
    "\n",
    "difference b/w this-"
   ]
  },
  {
   "cell_type": "code",
   "execution_count": 10,
   "id": "1ebfa1a7",
   "metadata": {},
   "outputs": [
    {
     "data": {
      "text/plain": [
       "'shivangi'"
      ]
     },
     "execution_count": 10,
     "metadata": {},
     "output_type": "execute_result"
    }
   ],
   "source": [
    "d[\"name\"]"
   ]
  },
  {
   "cell_type": "code",
   "execution_count": 11,
   "id": "96a9304a",
   "metadata": {},
   "outputs": [
    {
     "data": {
      "text/plain": [
       "'female'"
      ]
     },
     "execution_count": 11,
     "metadata": {},
     "output_type": "execute_result"
    }
   ],
   "source": [
    "d[\"gender\"]"
   ]
  },
  {
   "cell_type": "code",
   "execution_count": 12,
   "id": "20d26024",
   "metadata": {},
   "outputs": [
    {
     "data": {
      "text/plain": [
       "[12, 13, 14, 15]"
      ]
     },
     "execution_count": 12,
     "metadata": {},
     "output_type": "execute_result"
    }
   ],
   "source": [
    "d[\"marks\"]"
   ]
  },
  {
   "cell_type": "code",
   "execution_count": 2,
   "id": "e457ea9e",
   "metadata": {},
   "outputs": [
    {
     "ename": "NameError",
     "evalue": "name 'd' is not defined",
     "output_type": "error",
     "traceback": [
      "\u001b[1;31m---------------------------------------------------------------------------\u001b[0m",
      "\u001b[1;31mNameError\u001b[0m                                 Traceback (most recent call last)",
      "Cell \u001b[1;32mIn[2], line 1\u001b[0m\n\u001b[1;32m----> 1\u001b[0m \u001b[43md\u001b[49m[\u001b[38;5;124m\"\u001b[39m\u001b[38;5;124mlife\u001b[39m\u001b[38;5;124m\"\u001b[39m]\n",
      "\u001b[1;31mNameError\u001b[0m: name 'd' is not defined"
     ]
    }
   ],
   "source": [
    "d[\"life\"] ## it will show error if the key is not in dict"
   ]
  },
  {
   "cell_type": "code",
   "execution_count": 13,
   "id": "12ca37d6",
   "metadata": {},
   "outputs": [
    {
     "data": {
      "text/plain": [
       "['__class__',\n",
       " '__class_getitem__',\n",
       " '__contains__',\n",
       " '__delattr__',\n",
       " '__delitem__',\n",
       " '__dir__',\n",
       " '__doc__',\n",
       " '__eq__',\n",
       " '__format__',\n",
       " '__ge__',\n",
       " '__getattribute__',\n",
       " '__getitem__',\n",
       " '__gt__',\n",
       " '__hash__',\n",
       " '__init__',\n",
       " '__init_subclass__',\n",
       " '__ior__',\n",
       " '__iter__',\n",
       " '__le__',\n",
       " '__len__',\n",
       " '__lt__',\n",
       " '__ne__',\n",
       " '__new__',\n",
       " '__or__',\n",
       " '__reduce__',\n",
       " '__reduce_ex__',\n",
       " '__repr__',\n",
       " '__reversed__',\n",
       " '__ror__',\n",
       " '__setattr__',\n",
       " '__setitem__',\n",
       " '__sizeof__',\n",
       " '__str__',\n",
       " '__subclasshook__',\n",
       " 'clear',\n",
       " 'copy',\n",
       " 'fromkeys',\n",
       " 'get',\n",
       " 'items',\n",
       " 'keys',\n",
       " 'pop',\n",
       " 'popitem',\n",
       " 'setdefault',\n",
       " 'update',\n",
       " 'values']"
      ]
     },
     "execution_count": 13,
     "metadata": {},
     "output_type": "execute_result"
    }
   ],
   "source": [
    "dir(dict)"
   ]
  },
  {
   "cell_type": "code",
   "execution_count": 14,
   "id": "2c63bda2",
   "metadata": {},
   "outputs": [
    {
     "data": {
      "text/plain": [
       "'shivangi'"
      ]
     },
     "execution_count": 14,
     "metadata": {},
     "output_type": "execute_result"
    }
   ],
   "source": [
    "d.get(\"name\")"
   ]
  },
  {
   "cell_type": "code",
   "execution_count": 5,
   "id": "c5b061c0",
   "metadata": {},
   "outputs": [
    {
     "name": "stdout",
     "output_type": "stream",
     "text": [
      "None\n"
     ]
    }
   ],
   "source": [
    "x=d.get(\"x\") ## in get if we pass key which is not there it will return none not error\n",
    "print(x)"
   ]
  },
  {
   "cell_type": "markdown",
   "id": "3e00647e",
   "metadata": {},
   "source": [
    "## how to update the value in dict"
   ]
  },
  {
   "cell_type": "code",
   "execution_count": 17,
   "id": "e54af74e",
   "metadata": {},
   "outputs": [
    {
     "data": {
      "text/plain": [
       "{'name': 'shivangi',\n",
       " 'rollno': 45,\n",
       " 'marks': [12, 13, 14, 15],\n",
       " 'gender': 'female'}"
      ]
     },
     "execution_count": 17,
     "metadata": {},
     "output_type": "execute_result"
    }
   ],
   "source": [
    "d"
   ]
  },
  {
   "cell_type": "code",
   "execution_count": 18,
   "id": "3a129502",
   "metadata": {},
   "outputs": [
    {
     "data": {
      "text/plain": [
       "{'name': 'mukul', 'rollno': 45, 'marks': [12, 13, 14, 15], 'gender': 'female'}"
      ]
     },
     "execution_count": 18,
     "metadata": {},
     "output_type": "execute_result"
    }
   ],
   "source": [
    "d[\"name\"]=\"mukul\"\n",
    "d\n"
   ]
  },
  {
   "cell_type": "markdown",
   "id": "d1b346f0",
   "metadata": {},
   "source": [
    "## how to add key-value pair in the dict"
   ]
  },
  {
   "cell_type": "code",
   "execution_count": 19,
   "id": "f7ca167e",
   "metadata": {},
   "outputs": [
    {
     "data": {
      "text/plain": [
       "{'name': 'mukul', 'rollno': 45, 'marks': [12, 13, 14, 15], 'gender': 'female'}"
      ]
     },
     "execution_count": 19,
     "metadata": {},
     "output_type": "execute_result"
    }
   ],
   "source": [
    "d"
   ]
  },
  {
   "cell_type": "code",
   "execution_count": 20,
   "id": "9d490ac0",
   "metadata": {},
   "outputs": [
    {
     "data": {
      "text/plain": [
       "{'name': 'mukul',\n",
       " 'rollno': 45,\n",
       " 'marks': [12, 13, 14, 15],\n",
       " 'gender': 'female',\n",
       " 'school name': 'greenway school'}"
      ]
     },
     "execution_count": 20,
     "metadata": {},
     "output_type": "execute_result"
    }
   ],
   "source": [
    "d[\"school name\"]=\"greenway school\"\n",
    "d"
   ]
  },
  {
   "cell_type": "markdown",
   "id": "e4d8979b",
   "metadata": {},
   "source": [
    "## how to add key-value pair in the dict"
   ]
  },
  {
   "cell_type": "markdown",
   "id": "242d80ac",
   "metadata": {},
   "source": [
    "## question d={\"names\":[\"khushi\",\"mukul\",\"tushar\",\"vipin\"],\"marks\":[23,25,27,29],\"gender\":[\"f\",\"m\",\"m\",\"m\"],\"age\":[21,22,20,21]}\n"
   ]
  },
  {
   "cell_type": "code",
   "execution_count": 24,
   "id": "85831f7f",
   "metadata": {},
   "outputs": [
    {
     "name": "stdout",
     "output_type": "stream",
     "text": [
      "enter the number of students 2\n",
      "enter the student name khushi\n",
      "enter the student age 21\n",
      "enter the student marks 50\n",
      "enter the gender f\n",
      "enter the student name anmol\n",
      "enter the student age 34\n",
      "enter the student marks 56\n",
      "enter the gender m\n",
      "['khushi', 'anmol']\n",
      "['f', 'm']\n",
      "[21, 34]\n",
      "[50, 56]\n",
      "{'name': 'mukul', 'rollno': 45, 'marks': [50, 56], 'gender': ['f', 'm'], 'school name': 'greenway school', 'names': ['khushi', 'anmol'], 'age': [21, 34]}\n"
     ]
    }
   ],
   "source": [
    "d1={}\n",
    "m=[]\n",
    "g=[]\n",
    "a=[]\n",
    "name=[]\n",
    "n=int(input(\"enter the number of students \"))\n",
    "for i in range(0,n):\n",
    "    na=input(\"enter the student name \")\n",
    "    ag=int(input(\"enter the student age \"))\n",
    "    ma=int(input(\"enter the student marks \"))\n",
    "    ge=input(\"enter the gender \")\n",
    "    name.append(na)\n",
    "    a.append(ag)\n",
    "    g.append(ge)\n",
    "    m.append(ma)\n",
    "print(name)\n",
    "print(g)\n",
    "print(a)\n",
    "print(m)\n",
    "d[\"names\"]=name\n",
    "d[\"marks\"]=m\n",
    "d[\"age\"]=a\n",
    "d[\"gender\"]=g\n",
    "\n",
    "print(d)"
   ]
  },
  {
   "cell_type": "code",
   "execution_count": 25,
   "id": "695018a6",
   "metadata": {},
   "outputs": [
    {
     "data": {
      "text/plain": [
       "{'name': 'mukul',\n",
       " 'rollno': 45,\n",
       " 'marks': [50, 56],\n",
       " 'gender': ['f', 'm'],\n",
       " 'school name': 'greenway school',\n",
       " 'names': ['khushi', 'anmol'],\n",
       " 'age': [21, 34]}"
      ]
     },
     "execution_count": 25,
     "metadata": {},
     "output_type": "execute_result"
    }
   ],
   "source": [
    "d"
   ]
  },
  {
   "cell_type": "markdown",
   "id": "aea87089",
   "metadata": {},
   "source": [
    "## nested dictationary"
   ]
  },
  {
   "cell_type": "code",
   "execution_count": 2,
   "id": "76f673cc",
   "metadata": {},
   "outputs": [],
   "source": [
    "d={\"vegetables\":{\"salad\":[\"tomato\",\"cucumber\",\"onion\"],\"routine\":[\"potato\",\"ladyfinger\",\"peas\",\"bittergourd\"]},\"shakes\":[\"oreo\",\"watrermelon\",\"brownie\"],\"restaurant\":\"bbq\"}"
   ]
  },
  {
   "cell_type": "code",
   "execution_count": 29,
   "id": "f7308847",
   "metadata": {},
   "outputs": [
    {
     "data": {
      "text/plain": [
       "{'vegetables': {'salad': ['tomato', 'cucumber', 'onion'],\n",
       "  'routine': ['potato', 'ladyfinger', 'peas', 'bittergourd']},\n",
       " 'shakes': ['oreo', 'watrermelon', 'brownie'],\n",
       " 'restaurant': 'bbq'}"
      ]
     },
     "execution_count": 29,
     "metadata": {},
     "output_type": "execute_result"
    }
   ],
   "source": [
    "d"
   ]
  },
  {
   "cell_type": "code",
   "execution_count": 30,
   "id": "68337e08",
   "metadata": {},
   "outputs": [
    {
     "data": {
      "text/plain": [
       "3"
      ]
     },
     "execution_count": 30,
     "metadata": {},
     "output_type": "execute_result"
    }
   ],
   "source": [
    "len(d)"
   ]
  },
  {
   "cell_type": "markdown",
   "id": "674bc1c9",
   "metadata": {},
   "source": [
    "## fetch bbq"
   ]
  },
  {
   "cell_type": "code",
   "execution_count": 32,
   "id": "40c0ded1",
   "metadata": {},
   "outputs": [
    {
     "data": {
      "text/plain": [
       "'bbq'"
      ]
     },
     "execution_count": 32,
     "metadata": {},
     "output_type": "execute_result"
    }
   ],
   "source": [
    "d[\"restaurant\"]"
   ]
  },
  {
   "cell_type": "markdown",
   "id": "2395dccc",
   "metadata": {},
   "source": [
    "## fetch ladyfinger"
   ]
  },
  {
   "cell_type": "code",
   "execution_count": 33,
   "id": "74d698b0",
   "metadata": {},
   "outputs": [
    {
     "data": {
      "text/plain": [
       "'ladyfinger'"
      ]
     },
     "execution_count": 33,
     "metadata": {},
     "output_type": "execute_result"
    }
   ],
   "source": [
    "d[\"vegetables\"][\"routine\"][1]"
   ]
  },
  {
   "cell_type": "markdown",
   "id": "5a72f251",
   "metadata": {},
   "source": [
    "## fetch last vegetable in salad"
   ]
  },
  {
   "cell_type": "code",
   "execution_count": 34,
   "id": "c262d30f",
   "metadata": {},
   "outputs": [
    {
     "data": {
      "text/plain": [
       "'onion'"
      ]
     },
     "execution_count": 34,
     "metadata": {},
     "output_type": "execute_result"
    }
   ],
   "source": [
    "d[\"vegetables\"][\"salad\"][-1]"
   ]
  },
  {
   "cell_type": "markdown",
   "id": "11ce6517",
   "metadata": {},
   "source": [
    "## fetch all the vegetables that startswith p"
   ]
  },
  {
   "cell_type": "code",
   "execution_count": 35,
   "id": "288ce243",
   "metadata": {},
   "outputs": [
    {
     "data": {
      "text/plain": [
       "['potato', 'ladyfinger', 'peas', 'bittergourd']"
      ]
     },
     "execution_count": 35,
     "metadata": {},
     "output_type": "execute_result"
    }
   ],
   "source": [
    "l=d[\"vegetables\"][\"routine\"]\n",
    "l"
   ]
  },
  {
   "cell_type": "code",
   "execution_count": 36,
   "id": "1e69a46d",
   "metadata": {},
   "outputs": [
    {
     "name": "stdout",
     "output_type": "stream",
     "text": [
      "potato\n",
      "peas\n"
     ]
    }
   ],
   "source": [
    "for i in l:\n",
    "    if i.startswith(\"p\"):\n",
    "        print(i)"
   ]
  },
  {
   "cell_type": "markdown",
   "id": "d8fdef43",
   "metadata": {},
   "source": [
    "## fetch all the shakes in reverse manner"
   ]
  },
  {
   "cell_type": "code",
   "execution_count": 37,
   "id": "3ff789a6",
   "metadata": {},
   "outputs": [
    {
     "data": {
      "text/plain": [
       "['brownie', 'watrermelon', 'oreo']"
      ]
     },
     "execution_count": 37,
     "metadata": {},
     "output_type": "execute_result"
    }
   ],
   "source": [
    "d[\"shakes\"][::-1]"
   ]
  },
  {
   "cell_type": "code",
   "execution_count": 8,
   "id": "3db5c764",
   "metadata": {},
   "outputs": [
    {
     "data": {
      "text/plain": [
       "{'shakes': ['oreo', 'watrermelon', 'brownie'], 'restaurant': 'bbq'}"
      ]
     },
     "execution_count": 8,
     "metadata": {},
     "output_type": "execute_result"
    }
   ],
   "source": [
    "d"
   ]
  },
  {
   "cell_type": "code",
   "execution_count": 6,
   "id": "db918c78",
   "metadata": {},
   "outputs": [
    {
     "data": {
      "text/plain": [
       "{'salad': ['tomato', 'cucumber', 'onion'],\n",
       " 'routine': ['potato', 'ladyfinger', 'peas', 'bittergourd']}"
      ]
     },
     "execution_count": 6,
     "metadata": {},
     "output_type": "execute_result"
    }
   ],
   "source": [
    "d.pop(\"vegetables\")"
   ]
  },
  {
   "cell_type": "code",
   "execution_count": 7,
   "id": "d9b1d2ad",
   "metadata": {},
   "outputs": [
    {
     "data": {
      "text/plain": [
       "{'shakes': ['oreo', 'watrermelon', 'brownie'], 'restaurant': 'bbq'}"
      ]
     },
     "execution_count": 7,
     "metadata": {},
     "output_type": "execute_result"
    }
   ],
   "source": [
    "d"
   ]
  },
  {
   "cell_type": "code",
   "execution_count": 10,
   "id": "5e640df0",
   "metadata": {},
   "outputs": [],
   "source": [
    "del d[\"shakes\"]"
   ]
  },
  {
   "cell_type": "code",
   "execution_count": 11,
   "id": "f6f46a52",
   "metadata": {},
   "outputs": [
    {
     "data": {
      "text/plain": [
       "{'vegetables': {'salad': ['tomato', 'cucumber', 'onion'],\n",
       "  'routine': ['potato', 'ladyfinger', 'peas', 'bittergourd']},\n",
       " 'restaurant': 'bbq'}"
      ]
     },
     "execution_count": 11,
     "metadata": {},
     "output_type": "execute_result"
    }
   ],
   "source": [
    "d"
   ]
  },
  {
   "cell_type": "code",
   "execution_count": 3,
   "id": "f84d05b6",
   "metadata": {},
   "outputs": [
    {
     "data": {
      "text/plain": [
       "dict_keys(['vegetables', 'shakes', 'restaurant'])"
      ]
     },
     "execution_count": 3,
     "metadata": {},
     "output_type": "execute_result"
    }
   ],
   "source": [
    "d.keys() ## it fetch only keys                        "
   ]
  },
  {
   "cell_type": "code",
   "execution_count": 4,
   "id": "196f03d5",
   "metadata": {},
   "outputs": [
    {
     "data": {
      "text/plain": [
       "dict_values([{'salad': ['tomato', 'cucumber', 'onion'], 'routine': ['potato', 'ladyfinger', 'peas', 'bittergourd']}, ['oreo', 'watrermelon', 'brownie'], 'bbq'])"
      ]
     },
     "execution_count": 4,
     "metadata": {},
     "output_type": "execute_result"
    }
   ],
   "source": [
    "d.values() ## to fetch values only of dict"
   ]
  },
  {
   "cell_type": "code",
   "execution_count": 5,
   "id": "17d718a2",
   "metadata": {},
   "outputs": [
    {
     "data": {
      "text/plain": [
       "dict_items([('vegetables', {'salad': ['tomato', 'cucumber', 'onion'], 'routine': ['potato', 'ladyfinger', 'peas', 'bittergourd']}), ('shakes', ['oreo', 'watrermelon', 'brownie']), ('restaurant', 'bbq')])"
      ]
     },
     "execution_count": 5,
     "metadata": {},
     "output_type": "execute_result"
    }
   ],
   "source": [
    "d.items() ## it gives both keys and values in the form of tupple"
   ]
  },
  {
   "cell_type": "markdown",
   "id": "02556c69",
   "metadata": {},
   "source": [
    "## iterations on dict"
   ]
  },
  {
   "cell_type": "code",
   "execution_count": 6,
   "id": "d5b6ed45",
   "metadata": {},
   "outputs": [
    {
     "name": "stdout",
     "output_type": "stream",
     "text": [
      "name\n",
      "rollno\n",
      "marks\n",
      "gender\n"
     ]
    }
   ],
   "source": [
    "for i in d:  ## it considers as key ## by default it will give only keys\n",
    "    print(i)"
   ]
  },
  {
   "cell_type": "code",
   "execution_count": 7,
   "id": "715e7f64",
   "metadata": {},
   "outputs": [
    {
     "name": "stdout",
     "output_type": "stream",
     "text": [
      "keys    name\n",
      "values    shivangi\n",
      "keys    rollno\n",
      "values    45\n",
      "keys    marks\n",
      "values    [12, 13, 14, 15]\n",
      "keys    gender\n",
      "values    female\n"
     ]
    }
   ],
   "source": [
    "for i,j in d.items(): ##here i will consider keys and j will consider values \n",
    "    print(\"keys   \",i) ## this is also unpacking\n",
    "    print(\"values   \",j)"
   ]
  },
  {
   "cell_type": "code",
   "execution_count": 8,
   "id": "3535be2f",
   "metadata": {},
   "outputs": [
    {
     "name": "stdout",
     "output_type": "stream",
     "text": [
      "shivangi\n",
      "45\n",
      "[12, 13, 14, 15]\n",
      "female\n"
     ]
    }
   ],
   "source": [
    "for i in d.values():  ##it considers as value\n",
    "    print(i)"
   ]
  },
  {
   "cell_type": "code",
   "execution_count": 9,
   "id": "49f7ce0f",
   "metadata": {},
   "outputs": [
    {
     "name": "stdout",
     "output_type": "stream",
     "text": [
      "keys ('name', 'shivangi')\n",
      "keys ('rollno', 45)\n",
      "keys ('marks', [12, 13, 14, 15])\n",
      "keys ('gender', 'female')\n"
     ]
    }
   ],
   "source": [
    "for i in d.items(): ## it will show in whole tuple\n",
    "    print(\"keys\",i)\n",
    "    "
   ]
  },
  {
   "cell_type": "markdown",
   "id": "b00aec32",
   "metadata": {},
   "source": [
    "## common functions (by default common functions works on keys)"
   ]
  },
  {
   "cell_type": "code",
   "execution_count": 10,
   "id": "c2509225",
   "metadata": {},
   "outputs": [
    {
     "data": {
      "text/plain": [
       "{'name': ['khushi', 'mukul', 'vipin', 'tushar'], 'course': ['ds', 'da', 'da']}"
      ]
     },
     "execution_count": 10,
     "metadata": {},
     "output_type": "execute_result"
    }
   ],
   "source": [
    "d={\"name\":[\"khushi\",\"mukul\",\"vipin\",\"tushar\"],\"course\":[\"ds\",\"da\",\"da\"]}\n",
    "d"
   ]
  },
  {
   "cell_type": "code",
   "execution_count": 12,
   "id": "2cdc91bb",
   "metadata": {},
   "outputs": [
    {
     "data": {
      "text/plain": [
       "2"
      ]
     },
     "execution_count": 12,
     "metadata": {},
     "output_type": "execute_result"
    }
   ],
   "source": [
    "len(d) ## it will count only keys"
   ]
  },
  {
   "cell_type": "code",
   "execution_count": 11,
   "id": "0cf58115",
   "metadata": {},
   "outputs": [
    {
     "data": {
      "text/plain": [
       "'name'"
      ]
     },
     "execution_count": 11,
     "metadata": {},
     "output_type": "execute_result"
    }
   ],
   "source": [
    "max(d) ## it tells on the basis of laxographic order(alphabetical order)\n",
    "## it will find maximum only on keys ## c phele aata h aur n baad mei toh bada ho gaya n"
   ]
  },
  {
   "cell_type": "code",
   "execution_count": 15,
   "id": "ab4dd5e8",
   "metadata": {},
   "outputs": [
    {
     "data": {
      "text/plain": [
       "'course'"
      ]
     },
     "execution_count": 15,
     "metadata": {},
     "output_type": "execute_result"
    }
   ],
   "source": [
    "min(d)"
   ]
  },
  {
   "cell_type": "code",
   "execution_count": 16,
   "id": "7322948a",
   "metadata": {},
   "outputs": [
    {
     "data": {
      "text/plain": [
       "['ds', 'da', 'da']"
      ]
     },
     "execution_count": 16,
     "metadata": {},
     "output_type": "execute_result"
    }
   ],
   "source": [
    "min(d.values())"
   ]
  },
  {
   "cell_type": "code",
   "execution_count": 13,
   "id": "71e02f7d",
   "metadata": {},
   "outputs": [],
   "source": [
    "d={1:\"one\",2:\"two\",0:\"zero\",10:\"ten\"}"
   ]
  },
  {
   "cell_type": "code",
   "execution_count": 14,
   "id": "61d8185f",
   "metadata": {},
   "outputs": [
    {
     "data": {
      "text/plain": [
       "[0, 1, 2, 10]"
      ]
     },
     "execution_count": 14,
     "metadata": {},
     "output_type": "execute_result"
    }
   ],
   "source": [
    "sorted(d) ## by default it will sort keys not dict"
   ]
  },
  {
   "cell_type": "code",
   "execution_count": 15,
   "id": "e69d36c1",
   "metadata": {},
   "outputs": [
    {
     "data": {
      "text/plain": [
       "['one', 'ten', 'two', 'zero']"
      ]
     },
     "execution_count": 15,
     "metadata": {},
     "output_type": "execute_result"
    }
   ],
   "source": [
    "sorted(d.values())"
   ]
  },
  {
   "cell_type": "code",
   "execution_count": 16,
   "id": "6f4da689",
   "metadata": {},
   "outputs": [
    {
     "data": {
      "text/plain": [
       "[(0, 'zero'), (1, 'one'), (2, 'two'), (10, 'ten')]"
      ]
     },
     "execution_count": 16,
     "metadata": {},
     "output_type": "execute_result"
    }
   ],
   "source": [
    "sorted(d.items()) ## to sort whole key,it will sort on the basis of keys by default.\n",
    "## jiski key choti vo phele"
   ]
  },
  {
   "cell_type": "markdown",
   "id": "d2a142d0",
   "metadata": {},
   "source": [
    "### sort the dict based on values : using lamda"
   ]
  },
  {
   "cell_type": "markdown",
   "id": "83b896c7",
   "metadata": {},
   "source": [
    "### concatenation operator wont work for dict"
   ]
  },
  {
   "cell_type": "markdown",
   "id": "1e1bf7f9",
   "metadata": {},
   "source": [
    "## update (to add something in dict) (same as + means joing the 2 dict)"
   ]
  },
  {
   "cell_type": "code",
   "execution_count": 20,
   "id": "216e7d47",
   "metadata": {},
   "outputs": [
    {
     "name": "stdout",
     "output_type": "stream",
     "text": [
      "{'name': ['khushi', 'mukul', 'vipin', 'tushar'], 'course': ['ds', 'da', 'da'], 40: 'forty', 30: 'thirty'}\n"
     ]
    }
   ],
   "source": [
    "d1={\"name\":[\"khushi\",\"mukul\",\"vipin\",\"tushar\"],\"course\":[\"ds\",\"da\",\"da\"]}\n",
    "d2= {40:\"forty\",30:\"thirty\"}\n",
    "d1.update(d2) ## means d1 will be updated(items will be added in d1)\n",
    "print(d1)"
   ]
  },
  {
   "cell_type": "markdown",
   "id": "08c3a287",
   "metadata": {},
   "source": [
    "## fromkeys (keys will be diff and values will be same)"
   ]
  },
  {
   "cell_type": "code",
   "execution_count": 18,
   "id": "1d594379",
   "metadata": {},
   "outputs": [
    {
     "data": {
      "text/plain": [
       "{'jai': 'ds', 'sheena': 'ds', 'leena': 'ds'}"
      ]
     },
     "execution_count": 18,
     "metadata": {},
     "output_type": "execute_result"
    }
   ],
   "source": [
    "names=[\"jai\",\"sheena\",\"leena\"]\n",
    "course=\"ds\"\n",
    "d={}\n",
    "d.fromkeys(names,course)"
   ]
  },
  {
   "cell_type": "markdown",
   "id": "fdcaf1fe",
   "metadata": {},
   "source": [
    "## wap - u have to take the string from user and each element of the string would be key and their corresponding values would be vowels or consonent"
   ]
  },
  {
   "cell_type": "code",
   "execution_count": 21,
   "id": "011c1d56",
   "metadata": {},
   "outputs": [
    {
     "name": "stdout",
     "output_type": "stream",
     "text": [
      "enter the string khushi\n"
     ]
    },
    {
     "data": {
      "text/plain": [
       "{'k': 'consonents',\n",
       " 'h': 'consonents',\n",
       " 'u': 'vowel',\n",
       " 's': 'consonents',\n",
       " 'i': 'vowel'}"
      ]
     },
     "execution_count": 21,
     "metadata": {},
     "output_type": "execute_result"
    }
   ],
   "source": [
    "s=input(\"enter the string \")\n",
    "d={}\n",
    "for i in s: ## i will be key and we have to check for i\n",
    "    if i in \"aeiouAEIOU\":\n",
    "        d[i]=\"vowel\"\n",
    "    else:\n",
    "        d[i]=\"consonents\"\n",
    "d ## here h comes only 1 time because keys should be unique"
   ]
  },
  {
   "cell_type": "markdown",
   "id": "1c124681",
   "metadata": {},
   "source": [
    "## wap to take the range from the user and taking each element as a key and its cube as corresponding value"
   ]
  },
  {
   "cell_type": "code",
   "execution_count": 22,
   "id": "a797f5b2",
   "metadata": {},
   "outputs": [
    {
     "name": "stdout",
     "output_type": "stream",
     "text": [
      "enter the start 2\n",
      "enter the end 10\n"
     ]
    },
    {
     "data": {
      "text/plain": [
       "{2: 8, 3: 27, 4: 64, 5: 125, 6: 216, 7: 343, 8: 512, 9: 729, 10: 1000}"
      ]
     },
     "execution_count": 22,
     "metadata": {},
     "output_type": "execute_result"
    }
   ],
   "source": [
    "start=int(input(\"enter the start \"))\n",
    "end=int(input(\"enter the end \"))\n",
    "d={}\n",
    "for i in range(start,end+1):\n",
    "    d[i]=i**3\n",
    "d"
   ]
  },
  {
   "cell_type": "markdown",
   "id": "24531b07",
   "metadata": {},
   "source": [
    "## dict comprehension"
   ]
  },
  {
   "cell_type": "code",
   "execution_count": 23,
   "id": "485352fe",
   "metadata": {},
   "outputs": [
    {
     "data": {
      "text/plain": [
       "{2: 8, 3: 27, 4: 64, 5: 125, 6: 216, 7: 343, 8: 512, 9: 729, 10: 1000}"
      ]
     },
     "execution_count": 23,
     "metadata": {},
     "output_type": "execute_result"
    }
   ],
   "source": [
    "{i:i**3 for i in range(start,end+1)}"
   ]
  },
  {
   "cell_type": "markdown",
   "id": "0eee44f4",
   "metadata": {},
   "source": [
    "## wap to take the range from the user and taking each pdd element and even element as a key and add odd and even corresponding to odd key and even key"
   ]
  },
  {
   "cell_type": "code",
   "execution_count": 24,
   "id": "a48738a4",
   "metadata": {},
   "outputs": [
    {
     "data": {
      "text/plain": [
       "{2: 'even',\n",
       " 3: 'odd',\n",
       " 4: 'even',\n",
       " 5: 'odd',\n",
       " 6: 'even',\n",
       " 7: 'odd',\n",
       " 8: 'even',\n",
       " 9: 'odd',\n",
       " 10: 'even'}"
      ]
     },
     "execution_count": 24,
     "metadata": {},
     "output_type": "execute_result"
    }
   ],
   "source": [
    "{i:\"even\" if i%2==0 else \"odd\" for i in range(start,end+1)}"
   ]
  },
  {
   "cell_type": "markdown",
   "id": "fe0e46e6",
   "metadata": {},
   "source": [
    "## wap to sum of all the values in the dictationary"
   ]
  },
  {
   "cell_type": "code",
   "execution_count": 26,
   "id": "a38f3680",
   "metadata": {},
   "outputs": [
    {
     "name": "stdout",
     "output_type": "stream",
     "text": [
      "401\n"
     ]
    }
   ],
   "source": [
    "my_dict= {'data1':100,\"data2\":54,\"data3\":247}\n",
    "sum1=0\n",
    "for i in my_dict.values():\n",
    "    sum1=sum1+i\n",
    "print(sum1)"
   ]
  },
  {
   "cell_type": "markdown",
   "id": "f47f747f",
   "metadata": {},
   "source": [
    "## d= {\"aman\":29,\"ramesh\":44,\"khushi\":18,\"anmol\":26,\"shivangi\":40}\n",
    "## wap to print young if the age of the person is less than 40 and old if it is greater than 40 using list comprehension"
   ]
  },
  {
   "cell_type": "code",
   "execution_count": 32,
   "id": "3b2364ee",
   "metadata": {},
   "outputs": [
    {
     "data": {
      "text/plain": [
       "{'aman': 'young',\n",
       " 'ramesh': 'adult',\n",
       " 'khushi': 'young',\n",
       " 'anmol': 'young',\n",
       " 'shivangi': 'young'}"
      ]
     },
     "execution_count": 32,
     "metadata": {},
     "output_type": "execute_result"
    }
   ],
   "source": [
    "d= {\"aman\":29,\"ramesh\":44,\"khushi\":18,\"anmol\":26,\"shivangi\":40}\n",
    "{i:\"adult\" if j>40 else \"young\" for i,j in d.items()}"
   ]
  },
  {
   "cell_type": "markdown",
   "id": "9a4377cb",
   "metadata": {},
   "source": [
    "## zipping and unzipping\n",
    "\n",
    "### zip(): it takes the items in sequence from a number of collections to make a list of tuples,where each tuple contains the items from each collection"
   ]
  },
  {
   "cell_type": "code",
   "execution_count": null,
   "id": "16b23609",
   "metadata": {},
   "outputs": [],
   "source": [
    "a1=[\"python\",\"ds\",\"st\"]\n",
    "a2=[\"programming\",\"machine learning\",\"testing\"]\n",
    "output: [\"python programming\",\"python machine learning\",\"python testing\",\"ds programming\",\"ds machine learning\",\"ds testing\",\"st programming\",\"st machine learning\",\"st testing\"]\n",
    "              "
   ]
  },
  {
   "cell_type": "code",
   "execution_count": 33,
   "id": "bc7de054",
   "metadata": {},
   "outputs": [
    {
     "data": {
      "text/plain": [
       "['python   programming',\n",
       " 'python   machine learning',\n",
       " 'python   testing',\n",
       " 'ds   programming',\n",
       " 'ds   machine learning',\n",
       " 'ds   testing',\n",
       " 'st   programming',\n",
       " 'st   machine learning',\n",
       " 'st   testing']"
      ]
     },
     "execution_count": 33,
     "metadata": {},
     "output_type": "execute_result"
    }
   ],
   "source": [
    "a1=[\"python\",\"ds\",\"st\"]\n",
    "a2=[\"programming\",\"machine learning\",\"testing\"]\n",
    "main=[]\n",
    "for i in a1:\n",
    "    for j in a2:\n",
    "        main.append(i+\"   \"+j)\n",
    "main"
   ]
  },
  {
   "cell_type": "code",
   "execution_count": 36,
   "id": "0178ac77",
   "metadata": {},
   "outputs": [],
   "source": [
    "output=[\"python programming\",\"ds machine learning\",\"st testing\"]\n",
    "l=list(zip(a1,a2))\n"
   ]
  },
  {
   "cell_type": "code",
   "execution_count": 38,
   "id": "17dc4856",
   "metadata": {},
   "outputs": [
    {
     "data": {
      "text/plain": [
       "['python programming', 'ds machine learning', 'st testing']"
      ]
     },
     "execution_count": 38,
     "metadata": {},
     "output_type": "execute_result"
    }
   ],
   "source": [
    "l1=[]\n",
    "for i in l:\n",
    "    l1.append(i[0]+\" \"+i[1])\n",
    "l1"
   ]
  },
  {
   "cell_type": "code",
   "execution_count": 39,
   "id": "9711e28e",
   "metadata": {},
   "outputs": [
    {
     "data": {
      "text/plain": [
       "{'python': 'programming', 'ds': 'machine learning', 'st': 'testing'}"
      ]
     },
     "execution_count": 39,
     "metadata": {},
     "output_type": "execute_result"
    }
   ],
   "source": [
    "d1=dict(zip(a1,a2))\n",
    "d1"
   ]
  },
  {
   "cell_type": "code",
   "execution_count": 41,
   "id": "be1c1982",
   "metadata": {},
   "outputs": [
    {
     "data": {
      "text/plain": [
       "[('python', 'programming'), ('ds', 'machine learning'), ('st', 'testing')]"
      ]
     },
     "execution_count": 41,
     "metadata": {},
     "output_type": "execute_result"
    }
   ],
   "source": [
    "l"
   ]
  },
  {
   "cell_type": "code",
   "execution_count": 43,
   "id": "7fd5443a",
   "metadata": {},
   "outputs": [
    {
     "data": {
      "text/plain": [
       "[('python', 'ds', 'st'), ('programming', 'machine learning', 'testing')]"
      ]
     },
     "execution_count": 43,
     "metadata": {},
     "output_type": "execute_result"
    }
   ],
   "source": [
    "list(zip(*l)) ## unzipping"
   ]
  },
  {
   "cell_type": "markdown",
   "id": "13fc25d0",
   "metadata": {},
   "source": [
    "## wap to take the string from the user make each element of the string as key and corresponding ascci value is value\n"
   ]
  },
  {
   "cell_type": "code",
   "execution_count": 22,
   "id": "1e355c5e",
   "metadata": {},
   "outputs": [
    {
     "name": "stdout",
     "output_type": "stream",
     "text": [
      "enter the stringkhushi\n",
      "{'k': 107, 'h': 104, 'u': 117, 's': 115, 'i': 105}\n"
     ]
    }
   ],
   "source": [
    "s=input(\"enter the string\")\n",
    "d={}\n",
    "for i in s:\n",
    "    d[i]=ord(i)\n",
    "print(d)"
   ]
  },
  {
   "cell_type": "code",
   "execution_count": 24,
   "id": "484b07eb",
   "metadata": {},
   "outputs": [
    {
     "name": "stdout",
     "output_type": "stream",
     "text": [
      "enter the string madam\n"
     ]
    },
    {
     "data": {
      "text/plain": [
       "{'m': 109, 'a': 97, 'd': 100}"
      ]
     },
     "execution_count": 24,
     "metadata": {},
     "output_type": "execute_result"
    }
   ],
   "source": [
    "s=input(\"enter the string \")\n",
    "d={}\n",
    "{i:ord(i) for i in s}"
   ]
  },
  {
   "cell_type": "markdown",
   "id": "99ed00ba",
   "metadata": {},
   "source": [
    "## make a dictaionary of this list\n",
    "- l=[12,4.5,\"hello\",\"rajeev\",\"hema\",100]\n",
    "- **agar int h toh int likha aa jye , agar string h toh unka count a jaye , age boolean h toh vo jaaye\n",
    "- output  'int', 4.5: 'float', 'hello': 5, 'rajeev': 6, 'hema': 4, 100: 'int'}"
   ]
  },
  {
   "cell_type": "code",
   "execution_count": 94,
   "id": "7011e0a7",
   "metadata": {},
   "outputs": [
    {
     "name": "stdout",
     "output_type": "stream",
     "text": [
      "{12: 'int', 13: 'int', 14.5: 'float', 90: 'int', 'khushi': 6, 'anmol': 5, 'rajeev': 6, 'kiku': 4, 100: 'int'}\n"
     ]
    }
   ],
   "source": [
    "l=[12,13,14.5,90,\"khushi\",\"anmol\",\"rajeev\",\"kiku\",100]\n",
    "count=0\n",
    "n=0\n",
    "d={}\n",
    "l1=[]\n",
    "for i in l:\n",
    "    if type(i)==int:\n",
    "        d[i]=\"int\"\n",
    "    elif type(i)==float:\n",
    "        d[i]=\"float\"\n",
    "    elif type(i)==str:\n",
    "        l1=len(i)\n",
    "        d[i]=l1\n",
    "    elif type(i)==bool:\n",
    "        d[i]=int(not(i))\n",
    "    \n",
    "print(d)"
   ]
  },
  {
   "cell_type": "code",
   "execution_count": 90,
   "id": "ef84e176",
   "metadata": {},
   "outputs": [
    {
     "data": {
      "text/plain": [
       "{'khushi': 6,\n",
       " 12: 0,\n",
       " 13: 0,\n",
       " 14.5: 0,\n",
       " 90: 0,\n",
       " 'anmol': 5,\n",
       " 'rajeev': 6,\n",
       " 'kiku': 4,\n",
       " 100: 4}"
      ]
     },
     "execution_count": 90,
     "metadata": {},
     "output_type": "execute_result"
    }
   ],
   "source": [
    "l=[12,13,14.5,90,\"khushi\",\"anmol\",\"rajeev\",\"kiku\",100]\n",
    "l1=[]\n",
    "for i in l:\n",
    "    if type(i)==str:\n",
    "        l1=len(i)\n",
    "        d[i]=l1\n",
    "d"
   ]
  },
  {
   "cell_type": "markdown",
   "id": "8e15d869",
   "metadata": {},
   "source": [
    "## num = {'n1': [2, 3, 1], 'n2': [5, 1, 2], 'n3': [3, 2, 4]}\n",
    "\n",
    "\n",
    "{'n1': [1, 2, 3], 'n2': [1, 2, 5], 'n3': [2, 3, 4]}\n",
    "\n"
   ]
  },
  {
   "cell_type": "code",
   "execution_count": 71,
   "id": "a29c4285",
   "metadata": {},
   "outputs": [
    {
     "data": {
      "text/plain": [
       "{'n1': [2, 3, 1], 'n2': [5, 1, 2], 'n3': [3, 2, 4]}"
      ]
     },
     "execution_count": 71,
     "metadata": {},
     "output_type": "execute_result"
    }
   ],
   "source": [
    "n={\"n1\":[2, 3, 1],\"n2\": [5, 1, 2], \"n3\": [3, 2, 4]}\n",
    "n"
   ]
  },
  {
   "cell_type": "code",
   "execution_count": 83,
   "id": "bac493c4",
   "metadata": {},
   "outputs": [
    {
     "name": "stdout",
     "output_type": "stream",
     "text": [
      "[1, 2, 3]\n",
      "[1, 2, 5]\n",
      "[2, 3, 4]\n",
      "{'n1': [1, 2, 3], 'n2': [1, 2, 5], 'n3': [2, 3, 4]}\n"
     ]
    }
   ],
   "source": [
    "m=n.get(\"n1\")\n",
    "m1=sorted(m)\n",
    "l=n.get(\"n2\")\n",
    "l1=sorted(l)\n",
    "p=n.get(\"n3\")\n",
    "p1=sorted(p)\n",
    "n[\"n1\"]=m1\n",
    "n[\"n2\"]=l1\n",
    "n[\"n3\"]=p1\n",
    "print(n)"
   ]
  },
  {
   "cell_type": "markdown",
   "id": "95cab79e",
   "metadata": {},
   "source": [
    "## #Write a Python program to remove spaces from dictionary keys and depict the keys in dict in int form\n",
    "d={\"1 0\":\"ten\",\"2 6\":\"twentysix\"}\n",
    "Output: {10,”ten”,26:”twentysix}\n"
   ]
  },
  {
   "cell_type": "code",
   "execution_count": 98,
   "id": "4684e01a",
   "metadata": {},
   "outputs": [
    {
     "data": {
      "text/plain": [
       "dict_keys(['1 0', '2 6'])"
      ]
     },
     "execution_count": 98,
     "metadata": {},
     "output_type": "execute_result"
    }
   ],
   "source": [
    "d={\"1 0\":\"ten\",\"2 6\":\"twentysix\"}\n",
    "m=d.keys()\n",
    "m"
   ]
  },
  {
   "cell_type": "code",
   "execution_count": 103,
   "id": "d1ec2464",
   "metadata": {},
   "outputs": [],
   "source": [
    "d1=list(d)"
   ]
  },
  {
   "cell_type": "code",
   "execution_count": 105,
   "id": "10296c32",
   "metadata": {},
   "outputs": [
    {
     "data": {
      "text/plain": [
       "\"['1 0', '2 6']\""
      ]
     },
     "execution_count": 105,
     "metadata": {},
     "output_type": "execute_result"
    }
   ],
   "source": [
    "d2=str(d1)\n",
    "d2"
   ]
  },
  {
   "cell_type": "code",
   "execution_count": 106,
   "id": "4620b4bc",
   "metadata": {},
   "outputs": [
    {
     "data": {
      "text/plain": [
       "\"['10','26']\""
      ]
     },
     "execution_count": 106,
     "metadata": {},
     "output_type": "execute_result"
    }
   ],
   "source": [
    "d3=d2.replace(\" \",\"\")\n"
   ]
  }
 ],
 "metadata": {
  "kernelspec": {
   "display_name": "Python 3 (ipykernel)",
   "language": "python",
   "name": "python3"
  },
  "language_info": {
   "codemirror_mode": {
    "name": "ipython",
    "version": 3
   },
   "file_extension": ".py",
   "mimetype": "text/x-python",
   "name": "python",
   "nbconvert_exporter": "python",
   "pygments_lexer": "ipython3",
   "version": "3.10.9"
  }
 },
 "nbformat": 4,
 "nbformat_minor": 5
}
