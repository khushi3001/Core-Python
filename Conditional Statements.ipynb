{
 "cells": [
  {
   "cell_type": "markdown",
   "id": "6afaecfe",
   "metadata": {},
   "source": [
    "## Control statements : Branching statements allow us to skip over some statements,execute a series of statements repetitively, or choose between alternate sets to execute\n",
    " two types of control statements\n",
    " - conditional statements\n",
    " - looping statements\n"
   ]
  },
  {
   "cell_type": "markdown",
   "id": "713a9537",
   "metadata": {},
   "source": [
    "## 1 - conditional statements are also knownn as decision statements\n",
    " - if\n",
    " - if else\n",
    " - if elif else\n",
    " - nested statements"
   ]
  },
  {
   "cell_type": "code",
   "execution_count": 3,
   "id": "c45c939c",
   "metadata": {},
   "outputs": [],
   "source": [
    "## indentation means to specify a block. it means that we have entered in if body \n"
   ]
  },
  {
   "cell_type": "markdown",
   "id": "bf21e6f1",
   "metadata": {},
   "source": [
    "### if statements"
   ]
  },
  {
   "cell_type": "code",
   "execution_count": 5,
   "id": "35a66c82",
   "metadata": {},
   "outputs": [
    {
     "name": "stdout",
     "output_type": "stream",
     "text": [
      "enter the distance 200\n",
      "hello world\n"
     ]
    }
   ],
   "source": [
    "distance=int(input(\"enter the distance\"))\n",
    "if distance>400:\n",
    "    print(\"i will go to the outing\")\n",
    "print(\"hello world\")"
   ]
  },
  {
   "cell_type": "code",
   "execution_count": 7,
   "id": "d61564c5",
   "metadata": {},
   "outputs": [
    {
     "name": "stdout",
     "output_type": "stream",
     "text": [
      "enter the distance 600\n",
      "i will go to the outing\n",
      "hello world\n"
     ]
    }
   ],
   "source": [
    "distance=int(input(\"enter the distance\"))\n",
    "if distance>400:\n",
    "    print(\"i will go to the outing\")\n",
    "print(\"hello world\")"
   ]
  },
  {
   "cell_type": "code",
   "execution_count": 11,
   "id": "57b1f730",
   "metadata": {},
   "outputs": [
    {
     "name": "stdout",
     "output_type": "stream",
     "text": [
      "enter the distance 500\n",
      "i will go to the outing\n",
      "hello world\n"
     ]
    }
   ],
   "source": [
    "distance=int(input(\"enter the distance\"))\n",
    "if distance>=400:\n",
    "    print(\"i will go to the outing\")\n",
    "print(\"hello world\")## here hello is wriiten just to understand the flow "
   ]
  },
  {
   "cell_type": "markdown",
   "id": "a592d222",
   "metadata": {},
   "source": [
    "### if-else statements"
   ]
  },
  {
   "cell_type": "code",
   "execution_count": 12,
   "id": "d87a394f",
   "metadata": {},
   "outputs": [],
   "source": [
    "## we never have to write condition in else"
   ]
  },
  {
   "cell_type": "code",
   "execution_count": 13,
   "id": "31f01b25",
   "metadata": {},
   "outputs": [
    {
     "name": "stdout",
     "output_type": "stream",
     "text": [
      "enter the distance 300\n",
      "i will stay at home\n"
     ]
    }
   ],
   "source": [
    "distance=int(input(\"enter the distance\"))\n",
    "if distance>=400:\n",
    "    print(\"i will go to the outing\")\n",
    "else:\n",
    "    print(\"i will stay at home\")\n",
    "    "
   ]
  },
  {
   "cell_type": "code",
   "execution_count": 16,
   "id": "6392bb74",
   "metadata": {},
   "outputs": [
    {
     "name": "stdout",
     "output_type": "stream",
     "text": [
      "enter the distance 600\n",
      "i will go to the outing\n",
      "khushi\n"
     ]
    }
   ],
   "source": [
    "distance=int(input(\"enter the distance\"))\n",
    "if distance>=400:\n",
    "    print(\"i will go to the outing\")\n",
    "else:\n",
    "    print(\"i will stay at home\")\n",
    "print(\"khushi\") ## normal statements will work normally"
   ]
  },
  {
   "cell_type": "markdown",
   "id": "1ff72eb3",
   "metadata": {},
   "source": [
    "### if-elif-else"
   ]
  },
  {
   "cell_type": "code",
   "execution_count": 2,
   "id": "04b1372d",
   "metadata": {},
   "outputs": [
    {
     "name": "stdout",
     "output_type": "stream",
     "text": [
      " distance is  100\n",
      "i will stay at home\n"
     ]
    }
   ],
   "source": [
    "distance=int(input(\" distance is \"))\n",
    "if distance>200 and distance<=300:\n",
    "    print(\"i will go via cab\")\n",
    "elif distance>300 and distance<=400:\n",
    "    print(\"i will go via bus\")\n",
    "elif distance>400:\n",
    "    print(\"i will go via plane\")\n",
    "else:\n",
    "    print(\"i will stay at home\")\n"
   ]
  },
  {
   "cell_type": "code",
   "execution_count": 3,
   "id": "ed8b2d4f",
   "metadata": {},
   "outputs": [
    {
     "name": "stdout",
     "output_type": "stream",
     "text": [
      " distance is  350\n",
      "i will go via bus\n"
     ]
    }
   ],
   "source": [
    "distance=int(input(\" distance is \"))\n",
    "if distance>200 and distance<=300:\n",
    "    print(\"i will go via cab\")\n",
    "elif distance>300 and distance<=400:\n",
    "    print(\"i will go via bus\")\n",
    "elif distance>400:\n",
    "    print(\"i will go via plane\")\n",
    "else:\n",
    "    print(\"i will stay at home\")\n"
   ]
  },
  {
   "cell_type": "code",
   "execution_count": 4,
   "id": "e7367653",
   "metadata": {},
   "outputs": [
    {
     "name": "stdout",
     "output_type": "stream",
     "text": [
      " distance is 670\n",
      "i will go via plane\n"
     ]
    }
   ],
   "source": [
    "distance=int(input(\" distance is \"))\n",
    "if distance>200 and distance<=300:\n",
    "    print(\"i will go via cab\")\n",
    "elif distance>300 and distance<=400:\n",
    "    print(\"i will go via bus\")\n",
    "elif distance>400:\n",
    "    print(\"i will go via plane\")\n",
    "else:\n",
    "    print(\"i will stay at home\")\n"
   ]
  },
  {
   "cell_type": "code",
   "execution_count": 5,
   "id": "3ab81faa",
   "metadata": {},
   "outputs": [
    {
     "name": "stdout",
     "output_type": "stream",
     "text": [
      " distance is 300\n",
      "i will go via cab\n"
     ]
    }
   ],
   "source": [
    "distance=int(input(\" distance is \"))\n",
    "if distance>200 and distance<=300:\n",
    "    print(\"i will go via cab\")\n",
    "elif distance>300 and distance<=400:\n",
    "    print(\"i will go via bus\")\n",
    "elif distance>400:\n",
    "    print(\"i will go via plane\")\n",
    "else:\n",
    "    print(\"i will stay at home\")\n"
   ]
  },
  {
   "cell_type": "markdown",
   "id": "658f4b15",
   "metadata": {},
   "source": [
    "### nested (when their is condition in condition)\n"
   ]
  },
  {
   "cell_type": "code",
   "execution_count": 6,
   "id": "4644e4c3",
   "metadata": {},
   "outputs": [],
   "source": [
    "## (=) puts the value and (==) compares the values"
   ]
  },
  {
   "cell_type": "code",
   "execution_count": 6,
   "id": "0d63858c",
   "metadata": {},
   "outputs": [
    {
     "name": "stdout",
     "output_type": "stream",
     "text": [
      " distance is  450\n",
      "i will go via plane\n",
      " flight name isindigo\n",
      "i will take homemade food\n"
     ]
    }
   ],
   "source": [
    "distance=int(input(\" distance is \"))\n",
    "if distance>200 and distance<=300:\n",
    "    print(\"i will go via cab\")\n",
    "elif distance>300 and distance<=400:\n",
    "    print(\"i will go via bus\")\n",
    "elif distance>400:\n",
    "    print(\"i will go via plane\")\n",
    "    fname=input(\" flight name is\")\n",
    "    if fname==\"indigo\":\n",
    "        print(\"i will take homemade food\")\n",
    "    elif fname==\"spicejet\":\n",
    "        print(\"i will take snacks\")\n",
    "    else:\n",
    "        print(\"i will not take food\")\n",
    "else:\n",
    "    print(\"i will stay at home\")\n"
   ]
  },
  {
   "cell_type": "code",
   "execution_count": 7,
   "id": "2fa15c97",
   "metadata": {},
   "outputs": [
    {
     "name": "stdout",
     "output_type": "stream",
     "text": [
      "enter the distance350\n",
      "i will go via bus\n"
     ]
    }
   ],
   "source": [
    "distance=int(input(\"enter the distance\"))\n",
    "if distance>200 and distance<=300:\n",
    "    print(\"i will go via cab\")\n",
    "elif distance>300 and distance<=400:\n",
    "    print(\"i will go via bus\")\n",
    "elif distance>400:\n",
    "    print(\"i will go via flight\")\n",
    "    fname=input(\"enter the flight name\")\n",
    "    if fname==\"indigo\":\n",
    "        print(\"carry home food\")\n",
    "    elif fname==\"spicejet\":\n",
    "        print(\"will carry snacks\")\n",
    "    else:\n",
    "        print(\"wont carry the food\")\n",
    "    \n",
    "elif distance>0 and distance<=200:\n",
    "    print(\" i will stay at home\")\n",
    "else:\n",
    "    print(\"invalid distance\")\n",
    "\n"
   ]
  },
  {
   "cell_type": "markdown",
   "id": "4bae249d",
   "metadata": {},
   "source": [
    "## wap to display whether the entered number is positive or negative or zero"
   ]
  },
  {
   "cell_type": "code",
   "execution_count": 1,
   "id": "07ae1c08",
   "metadata": {},
   "outputs": [
    {
     "name": "stdout",
     "output_type": "stream",
     "text": [
      "enter the number50\n",
      "the 50 is positive\n"
     ]
    }
   ],
   "source": [
    "num=int(input(\"enter the number\"))\n",
    "if num>0:\n",
    "    print(\"the\",num, \"is positive\")\n",
    "elif num<0:\n",
    "    print(\"the\",num,\"is negative\")\n",
    "else:\n",
    "    print(\"the num is zero\")"
   ]
  },
  {
   "cell_type": "markdown",
   "id": "657da353",
   "metadata": {},
   "source": [
    "## wap to display the largest number among 2 numbers entered by user"
   ]
  },
  {
   "cell_type": "code",
   "execution_count": 3,
   "id": "fdfe6600",
   "metadata": {},
   "outputs": [
    {
     "name": "stdout",
     "output_type": "stream",
     "text": [
      "enter the 1st num 45\n",
      "enter the 2nd num67\n",
      "67 is greater\n"
     ]
    }
   ],
   "source": [
    "num1=int(input(\"enter the 1st num\"))\n",
    "num2=int(input(\"enter the 2nd num\"))\n",
    "if num1>num2:\n",
    "    print(num1,\"is greater\")\n",
    "else:\n",
    "    print(num2,\"is greater\")"
   ]
  },
  {
   "cell_type": "markdown",
   "id": "a77fe75d",
   "metadata": {},
   "source": [
    "## wap to display whether you are eligible for voting or not\n"
   ]
  },
  {
   "cell_type": "code",
   "execution_count": 5,
   "id": "a773bc8a",
   "metadata": {},
   "outputs": [
    {
     "name": "stdout",
     "output_type": "stream",
     "text": [
      "enter the age 19\n",
      "eligible for voting\n"
     ]
    }
   ],
   "source": [
    "age=int(input(\"enter the age\"))\n",
    "if age>18:\n",
    "    print(\"eligible for voting\")\n",
    "else:\n",
    "    print(\"not eligible for voting\")"
   ]
  },
  {
   "cell_type": "code",
   "execution_count": 6,
   "id": "957866fe",
   "metadata": {},
   "outputs": [
    {
     "name": "stdout",
     "output_type": "stream",
     "text": [
      "enter the age 15\n",
      "not eligible for voting\n"
     ]
    }
   ],
   "source": [
    "age=int(input(\"enter the age\"))\n",
    "if age>18:\n",
    "    print(\"eligible for voting\")\n",
    "else:\n",
    "    print(\"not eligible for voting\")"
   ]
  },
  {
   "cell_type": "code",
   "execution_count": 7,
   "id": "d60965fe",
   "metadata": {},
   "outputs": [
    {
     "name": "stdout",
     "output_type": "stream",
     "text": [
      "enter the age -45\n",
      "invalid age\n"
     ]
    }
   ],
   "source": [
    "age=int(input(\"enter the age\"))\n",
    "if age>18:\n",
    "    print(\"eligible for voting\")\n",
    "elif age>0 and age<=18:\n",
    "    print(\"not eligible for voting\")\n",
    "else:\n",
    "    print(\"invalid age\")"
   ]
  },
  {
   "cell_type": "markdown",
   "id": "a55db972",
   "metadata": {},
   "source": [
    "## wap to display whether the entered no is even or odd"
   ]
  },
  {
   "cell_type": "code",
   "execution_count": 8,
   "id": "34c5d5b6",
   "metadata": {},
   "outputs": [
    {
     "name": "stdout",
     "output_type": "stream",
     "text": [
      "enter the number56\n",
      "56 is even\n"
     ]
    }
   ],
   "source": [
    "num=int(input(\"enter the number\"))\n",
    "if num%2==0:\n",
    "    print(num,\"is even\")\n",
    "else:\n",
    "    print(num,\"is odd\")\n",
    "    "
   ]
  },
  {
   "cell_type": "markdown",
   "id": "966324fe",
   "metadata": {},
   "source": [
    "## wap to display cube of the entered num if that num is even otherwise display number square of that number"
   ]
  },
  {
   "cell_type": "code",
   "execution_count": 11,
   "id": "45e1a462",
   "metadata": {},
   "outputs": [
    {
     "name": "stdout",
     "output_type": "stream",
     "text": [
      "enter the number6\n",
      "the cube of  6  is  216\n"
     ]
    }
   ],
   "source": [
    "num=int(input(\"enter the number\"))\n",
    "if num%2==0:\n",
    "    print(\"the cube of \",num,\" is \",num**3)\n",
    "else:\n",
    "    print(\"the square of\",num,\"is\",num**2)"
   ]
  },
  {
   "cell_type": "code",
   "execution_count": 12,
   "id": "b1fe3698",
   "metadata": {},
   "outputs": [
    {
     "name": "stdout",
     "output_type": "stream",
     "text": [
      "enter the number77\n",
      "the square of 77 is 5929\n"
     ]
    }
   ],
   "source": [
    "num=int(input(\"enter the number\"))\n",
    "if num%2==0:\n",
    "    print(\"the cube of \",num,\" is \",num**3)\n",
    "else:\n",
    "    print(\"the square of\",num,\"is\",num**2)\n",
    "    "
   ]
  },
  {
   "cell_type": "markdown",
   "id": "3df37ec1",
   "metadata": {},
   "source": [
    "## wap to display the entered number is divisible by either by 5 or by 7 , or by both"
   ]
  },
  {
   "cell_type": "code",
   "execution_count": 21,
   "id": "519c4ddb",
   "metadata": {},
   "outputs": [
    {
     "name": "stdout",
     "output_type": "stream",
     "text": [
      "enter the number70\n",
      "the 70 is divisible by 5\n"
     ]
    }
   ],
   "source": [
    "num=int(input(\"enter the number\")) ## yaha both isliye show ni kar raha h 70 ke liye kyuki usne pheli wali hi execute kardi\n",
    "if num%5==0:\n",
    "    print(\"the\",num,\"is divisible by 5\")\n",
    "elif num%7==0:\n",
    "    print(\"the\",num,\"is divisible by 7\")\n",
    "elif num%5==0 and num%7==0:\n",
    "    print(\"the\",num,\"is divisible by both 5 and 7\")\n",
    "else:\n",
    "    print(\"the\",num,\"is not divisible by 5 and 7\")"
   ]
  },
  {
   "cell_type": "code",
   "execution_count": 22,
   "id": "d98abdf4",
   "metadata": {},
   "outputs": [
    {
     "name": "stdout",
     "output_type": "stream",
     "text": [
      "enter the number35\n",
      "the 35 is divisible by both 5 and 7\n"
     ]
    }
   ],
   "source": [
    "num=int(input(\"enter the number\")) ## this is the correct order\n",
    "if  num%5==0 and num%7==0:\n",
    "    print(\"the\",num,\"is divisible by both 5 and 7\")\n",
    "elif num%7==0:\n",
    "    print(\"the\",num,\"is divisible by 7\")\n",
    "elif  num%5==0:\n",
    "    print(\"the\",num,\"is divisible by 5\")\n",
    "else:\n",
    "    print(\"the\",num,\"is not divisible by 5 and 7\")"
   ]
  },
  {
   "cell_type": "markdown",
   "id": "36d5dd59",
   "metadata": {},
   "source": [
    "### nested for this one"
   ]
  },
  {
   "cell_type": "code",
   "execution_count": 24,
   "id": "2500f7ce",
   "metadata": {},
   "outputs": [
    {
     "name": "stdout",
     "output_type": "stream",
     "text": [
      "enter the num56\n",
      "by 7 only\n"
     ]
    }
   ],
   "source": [
    "num=int(input(\"enter the num\"))\n",
    "if num%5==0:\n",
    "    if num%7==0:\n",
    "        print(\"both\")\n",
    "    else:\n",
    "        print(\"only by 5\")\n",
    "elif num%7==0:\n",
    "    print(\"by 7 only\")\n",
    "else:\n",
    "    print(\"neither\")"
   ]
  },
  {
   "cell_type": "markdown",
   "id": "ab400c1c",
   "metadata": {},
   "source": [
    "## wap to display whether the entered character is vowel or not"
   ]
  },
  {
   "cell_type": "code",
   "execution_count": 30,
   "id": "353668ca",
   "metadata": {},
   "outputs": [
    {
     "name": "stdout",
     "output_type": "stream",
     "text": [
      "enter the chari\n",
      "i is a vowel\n"
     ]
    }
   ],
   "source": [
    "char=input(\"enter the char\")\n",
    "if char==\"a\" or char==\"e\" or char==\"i\" or char==\"o\" or char==\"u\":\n",
    "\n",
    "    print(char,\"is a vowel\")\n",
    "else:\n",
    "    print(\"not a vowel\")"
   ]
  },
  {
   "cell_type": "code",
   "execution_count": 31,
   "id": "995f003c",
   "metadata": {},
   "outputs": [
    {
     "name": "stdout",
     "output_type": "stream",
     "text": [
      "enter the characterA\n",
      "A is a vowel\n"
     ]
    }
   ],
   "source": [
    "ch=input(\"enter the character\")\n",
    "if ch in \"aeiouAEIOU\":\n",
    "    print(ch,\"is a vowel\")\n",
    "else:\n",
    "    print(\"not a vowel\")"
   ]
  },
  {
   "cell_type": "markdown",
   "id": "a3b325f5",
   "metadata": {},
   "source": [
    "## wap to display whether the student is detained or not based on the input i.e no. of absent days and working days\n",
    "\n",
    "detained criteria: percentage of present days <75% : detained"
   ]
  },
  {
   "cell_type": "code",
   "execution_count": 39,
   "id": "deb5055c",
   "metadata": {
    "scrolled": true
   },
   "outputs": [
    {
     "name": "stdout",
     "output_type": "stream",
     "text": [
      "no. of ab days7\n",
      "no. of work days89\n",
      "the no of present days 82\n",
      "the % of present days are 92.13483146067416\n",
      "not detained\n"
     ]
    }
   ],
   "source": [
    "noad=int(input(\"no. of ab days\"))\n",
    "nowd=int(input(\"no. of work days\"))\n",
    "presentdays = nowd-noad\n",
    "print(\"the no of present days\",presentdays)\n",
    "perc=presentdays/ nowd *100\n",
    "print(\"the % of present days are\",perc)\n",
    "if presentdays<75:\n",
    "    print(\"detained\")\n",
    "else:\n",
    "    print(\"not detained\")\n",
    "\n",
    "    "
   ]
  },
  {
   "cell_type": "markdown",
   "id": "ec278128",
   "metadata": {},
   "source": [
    "## wap to display largest among three numbers entered  by user"
   ]
  },
  {
   "cell_type": "code",
   "execution_count": 13,
   "id": "2459ade6",
   "metadata": {},
   "outputs": [
    {
     "name": "stdout",
     "output_type": "stream",
     "text": [
      "enter the 1st nos78\n",
      "enter the 2nd nos89\n",
      "enter the 3rd nos90\n",
      "the largest num is 90\n"
     ]
    }
   ],
   "source": [
    "num1=int(input(\"enter the 1st nos\"))\n",
    "num2=int(input(\"enter the 2nd nos\"))\n",
    "num3=int(input(\"enter the 3rd nos\"))\n",
    "if num1>num2 and num1>num3:\n",
    "    print(\"the largest num is\",num1)\n",
    "elif num2>num1 and num2>num3:\n",
    "    print(\"the largest num is\",num2)\n",
    "elif num3>num1 and num3>num2:\n",
    "    print(\"the largest num is\",num3)\n",
    "elif num1==num2 and num2>num3:\n",
    "    print(\"the largest num is\",num1)\n",
    "elif num2==num3 and num3>num1:\n",
    "    print(\"the largest num is\",num2)\n",
    "elif num3==num1 and num1>num2:\n",
    "    print(\"the largest num is\",num3)\n",
    "elif num1==num2 and num2==num3:\n",
    "    print(\"all are equal\")\n",
    "else:\n",
    "    print(\"invalid input\")"
   ]
  },
  {
   "cell_type": "markdown",
   "id": "a0eec47f",
   "metadata": {},
   "source": [
    "## wap to display the grades of students as per below criteria:\n",
    "5 marks\n",
    "\n",
    "- if per>90...A+\n",
    "- if per lies b/w 75 to 90 then ---A\n",
    "- if per lies b/w 50 to 75 then ----B\n",
    "otherwise\n",
    "display c "
   ]
  },
  {
   "cell_type": "code",
   "execution_count": 7,
   "id": "849a8efe",
   "metadata": {},
   "outputs": [
    {
     "name": "stdout",
     "output_type": "stream",
     "text": [
      "enter the eng number 99\n",
      "enter the hindi number99\n",
      "enter the maths number 97\n",
      "enter the sci number  98\n",
      "enter the sst number97\n",
      "the total marks of students are 490\n",
      "the perc is  98.0\n",
      "the grade of students are A+\n"
     ]
    }
   ],
   "source": [
    "eng=int(input(\"enter the eng number\"))\n",
    "hindi=int(input(\"enter the hindi number\"))\n",
    "maths=int(input(\"enter the maths number\"))\n",
    "sci=int(input(\"enter the sci number\"))\n",
    "sst=int(input(\"enter the sst number\"))\n",
    "total=int(eng+hindi+maths+sci+sst)\n",
    "print(\"the total marks of students are\",total)\n",
    "perc=total/500*100\n",
    "print(\"the perc is \",perc)\n",
    "if perc>70 and perc<=80:\n",
    "    print(\"the grade of students are B\")\n",
    "elif perc>80 and perc<90:\n",
    "    print(\"the grade of students are A\")\n",
    "elif perc>=90 and perc<=100:\n",
    "    print(\"the grade of students are A+\")\n",
    "else:\n",
    "    print(\"the grade of students are C\")"
   ]
  },
  {
   "cell_type": "markdown",
   "id": "cdff3412",
   "metadata": {},
   "source": [
    "## make a calculator"
   ]
  },
  {
   "cell_type": "code",
   "execution_count": 53,
   "id": "5486cc5c",
   "metadata": {},
   "outputs": [
    {
     "name": "stdout",
     "output_type": "stream",
     "text": [
      "welcome to calculator\n",
      "write the 1st num90\n",
      "write the 2nd num678\n",
      "the nos for operations are\n",
      "1=addition\n",
      "2=subtraction\n",
      "3=multiply\n",
      "4=divide\n",
      "enter your choise here 3\n",
      "the multiply of 2 nos are 61020\n"
     ]
    }
   ],
   "source": [
    "print(\"welcome to calculator\")\n",
    "num1=int(input(\"write the 1st num\"))\n",
    "num2=int(input(\"write the 2nd num\"))\n",
    "print(\"\"\"the nos for operations are\n",
    "1=addition\n",
    "2=subtraction\n",
    "3=multiply\n",
    "4=divide\"\"\")\n",
    "n=int(input(\"enter your choise here \"))\n",
    "if n==1:\n",
    "    print(\"the addition of 2 nos are\",num1+num2)\n",
    "elif n==2:\n",
    "    print(\"the subtraction of 2 nos are\",num1-num2)\n",
    "elif n==3:\n",
    "    print(\"the multiply of 2 nos are\",num1*num2)\n",
    "elif n==4:\n",
    "    print(\"the division of 2 nos are\",num1/num2)\n"
   ]
  },
  {
   "cell_type": "markdown",
   "id": "38e2fb33",
   "metadata": {},
   "source": [
    "## wap to check whether the num is even or odd b/w the range 2 to 10 if it odd then its a magic num otherwise its a normal num"
   ]
  },
  {
   "cell_type": "code",
   "execution_count": 14,
   "id": "36e333e0",
   "metadata": {},
   "outputs": [
    {
     "name": "stdout",
     "output_type": "stream",
     "text": [
      "enter the number90\n",
      "invalid num\n"
     ]
    }
   ],
   "source": [
    "num=int(input(\"enter the number\"))\n",
    "if num>2 and num<10:\n",
    "    if num%2==0:\n",
    "        print(\"the num is normal num\")\n",
    "    else:\n",
    "        print(\"the num is magic num\")\n",
    "else:\n",
    "    print(\"invalid num\")"
   ]
  },
  {
   "cell_type": "markdown",
   "id": "b7f31a8e",
   "metadata": {},
   "source": [
    "### if we want user to insert the range "
   ]
  },
  {
   "cell_type": "code",
   "execution_count": 12,
   "id": "2fac91fb",
   "metadata": {},
   "outputs": [
    {
     "name": "stdout",
     "output_type": "stream",
     "text": [
      "enter the number90\n",
      "enter the start num80\n",
      "enter the end num190\n",
      "the num is normal num\n"
     ]
    }
   ],
   "source": [
    "num=int(input(\"enter the number\"))\n",
    "start=int(input(\"enter the start num\"))\n",
    "end=int(input(\"enter the end num\"))\n",
    "if num>start and num<end:\n",
    "    if num%2==0:\n",
    "        print(\"the num is normal num\")\n",
    "    else:\n",
    "        print(\"the num is magic num\")\n",
    "else:\n",
    "    print(\"invalid num\")"
   ]
  },
  {
   "cell_type": "markdown",
   "id": "9e635f3f",
   "metadata": {},
   "source": [
    "## wap to check whether the entered character is upper case or lower case"
   ]
  },
  {
   "cell_type": "markdown",
   "id": "8a72d6af",
   "metadata": {},
   "source": [
    "## apart from numbers every character is associated with numbers which is known as ascci value. these values are predetemined and we have to either learn or we can take hepl from google.\n",
    "- capital letters-A to Z - 65 to 90\n",
    "- small letters - a to z - 97 to 122\n"
   ]
  },
  {
   "cell_type": "code",
   "execution_count": 8,
   "id": "0e9475ef",
   "metadata": {},
   "outputs": [
    {
     "name": "stdout",
     "output_type": "stream",
     "text": [
      "enter the characterk\n",
      "k is lower case\n"
     ]
    }
   ],
   "source": [
    "ch= input(\"enter the character\")\n",
    "if ord(ch)>=65 and ord(ch)<=90:\n",
    "    print(ch,\"is upper case\")\n",
    "elif ord(ch)>=97 and ord(ch)<=122:\n",
    "    print(ch,\"is lower case\")\n",
    "else:\n",
    "    print(\" it is not alphabet\")"
   ]
  },
  {
   "cell_type": "code",
   "execution_count": 3,
   "id": "3bcd5e5f",
   "metadata": {},
   "outputs": [
    {
     "data": {
      "text/plain": [
       "89"
      ]
     },
     "execution_count": 3,
     "metadata": {},
     "output_type": "execute_result"
    }
   ],
   "source": [
    "ord(\"Y\") ## tells the ASCCI of corresponding characher\n",
    "## ord is the inbuilt function for ascci value"
   ]
  },
  {
   "cell_type": "code",
   "execution_count": 4,
   "id": "36c8b0ed",
   "metadata": {},
   "outputs": [
    {
     "data": {
      "text/plain": [
       "103"
      ]
     },
     "execution_count": 4,
     "metadata": {},
     "output_type": "execute_result"
    }
   ],
   "source": [
    "ord(\"g\")"
   ]
  },
  {
   "cell_type": "code",
   "execution_count": 6,
   "id": "77aaad47",
   "metadata": {},
   "outputs": [
    {
     "data": {
      "text/plain": [
       "'P'"
      ]
     },
     "execution_count": 6,
     "metadata": {},
     "output_type": "execute_result"
    }
   ],
   "source": [
    "chr(80) ## chr is the opp of ord. it gives character by inserting num"
   ]
  },
  {
   "cell_type": "markdown",
   "id": "25762376",
   "metadata": {},
   "source": [
    "## wap to display whether the entered character is vowel,consonant or special character"
   ]
  },
  {
   "cell_type": "code",
   "execution_count": 12,
   "id": "869f8259",
   "metadata": {},
   "outputs": [
    {
     "name": "stdout",
     "output_type": "stream",
     "text": [
      "enter the character&\n",
      "& is special character\n"
     ]
    }
   ],
   "source": [
    "ch=input(\"enter the character\")\n",
    "if (ord(ch)>=65 and ord(ch)<=90) or ord(ch)>=97 and ord(ch)<=122:\n",
    "    if ch in (\"AEIOUaeiou\"):\n",
    "        print(ch,\"is vowel\")\n",
    "    else:\n",
    "        print(ch,\"is consonant\")\n",
    "else:\n",
    "    print(ch,\"is special character\")"
   ]
  },
  {
   "cell_type": "markdown",
   "id": "317742ad",
   "metadata": {},
   "source": [
    "## wap to display the cube of the number if whose last digit is odd otherwise compute the cube of last digit which is even"
   ]
  },
  {
   "cell_type": "code",
   "execution_count": 20,
   "id": "eab30232",
   "metadata": {},
   "outputs": [
    {
     "name": "stdout",
     "output_type": "stream",
     "text": [
      "enter the number999\n",
      "last digit is odd\n",
      "\n",
      " 997002999\n"
     ]
    }
   ],
   "source": [
    "num=int(input(\"enter the number\"))\n",
    "ld=num%10 ## agar kisi num ko 10 se divide karenge toh remainder uska last digit aayega ## formula of last digit\n",
    "if ld%2==0:\n",
    "    print(\"last digit is even\\n\\n\",ld**3)\n",
    "else:\n",
    "    print(\"last digit is odd\\n\\n\",num**3)"
   ]
  },
  {
   "cell_type": "markdown",
   "id": "7677882e",
   "metadata": {},
   "source": [
    "## wap to display the days in the corresponding month entered by user "
   ]
  },
  {
   "cell_type": "code",
   "execution_count": 22,
   "id": "00efce5e",
   "metadata": {},
   "outputs": [
    {
     "name": "stdout",
     "output_type": "stream",
     "text": [
      "enter the month namejan\n",
      "jan has 31 days\n"
     ]
    }
   ],
   "source": [
    "month=input(\"enter the month name\")\n",
    "l_30=[\"april\",\"june\",\"september\",\"november\"]\n",
    "l_31=[\"jan\",\"march\",\"may\",\"july\",\"august\",\"oct\",\"dec\"]\n",
    "if month in l_30:\n",
    "      print(month,\"has 30 days\")\n",
    "elif month in l_31:\n",
    "      print(month,\"has 31 days\")\n",
    "elif month==\"febuarary\":\n",
    "      print(month,\"has 28 or 29 days\")\n",
    "else:\n",
    "      print(\"invalid month\")"
   ]
  },
  {
   "cell_type": "markdown",
   "id": "5daba683",
   "metadata": {},
   "source": [
    "## wap to check whether the entered year is leap year or not "
   ]
  },
  {
   "cell_type": "code",
   "execution_count": 24,
   "id": "c7cf7db3",
   "metadata": {},
   "outputs": [
    {
     "name": "stdout",
     "output_type": "stream",
     "text": [
      "enter the year2007\n",
      "not leap year\n"
     ]
    }
   ],
   "source": [
    "year=int(input(\"enter the year\"))\n",
    "if(year%4==0 and year%100!=0) or (year%400==0):\n",
    "    print(year,\"is leap year\")\n",
    "else:\n",
    "    print(\"not leap year\")\n",
    "    "
   ]
  },
  {
   "cell_type": "code",
   "execution_count": 1,
   "id": "f4c468bc",
   "metadata": {},
   "outputs": [
    {
     "name": "stdout",
     "output_type": "stream",
     "text": [
      "enter the usernamekhushi\n",
      "enter the passwordkhushi123\n"
     ]
    }
   ],
   "source": [
    "## signup or registration\n",
    "username=input(\"enter the username\")\n",
    "password=input(\"enter the password\")"
   ]
  },
  {
   "cell_type": "code",
   "execution_count": 2,
   "id": "f8ca424a",
   "metadata": {},
   "outputs": [
    {
     "name": "stdout",
     "output_type": "stream",
     "text": [
      "enter the usernamekhushi\n",
      "enter the passwordkhushi123\n",
      "welcome khushi !!!!\n"
     ]
    }
   ],
   "source": [
    "## sign in\n",
    "user_n=input(\"enter the username\")\n",
    "pass_word=input(\"enter the password\")\n",
    "if ((user_n==username) and (password==pass_word)):\n",
    "    print(\"welcome\",user_n,\"!!!!\")"
   ]
  },
  {
   "cell_type": "code",
   "execution_count": null,
   "id": "0ca2fff4",
   "metadata": {},
   "outputs": [],
   "source": []
  },
  {
   "cell_type": "code",
   "execution_count": null,
   "id": "53b0f855",
   "metadata": {},
   "outputs": [],
   "source": []
  },
  {
   "cell_type": "code",
   "execution_count": null,
   "id": "d240ea04",
   "metadata": {},
   "outputs": [],
   "source": []
  },
  {
   "cell_type": "code",
   "execution_count": null,
   "id": "f1e4b076",
   "metadata": {},
   "outputs": [],
   "source": []
  },
  {
   "cell_type": "code",
   "execution_count": null,
   "id": "857dd718",
   "metadata": {},
   "outputs": [],
   "source": []
  }
 ],
 "metadata": {
  "kernelspec": {
   "display_name": "Python 3 (ipykernel)",
   "language": "python",
   "name": "python3"
  },
  "language_info": {
   "codemirror_mode": {
    "name": "ipython",
    "version": 3
   },
   "file_extension": ".py",
   "mimetype": "text/x-python",
   "name": "python",
   "nbconvert_exporter": "python",
   "pygments_lexer": "ipython3",
   "version": "3.10.9"
  }
 },
 "nbformat": 4,
 "nbformat_minor": 5
}
