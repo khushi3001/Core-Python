{
 "cells": [
  {
   "cell_type": "markdown",
   "id": "2ce6eefb",
   "metadata": {},
   "source": [
    "## 1-wap to take the string from the user and check whether the string is palindrome or not"
   ]
  },
  {
   "cell_type": "code",
   "execution_count": 4,
   "id": "4ec10b51",
   "metadata": {},
   "outputs": [
    {
     "name": "stdout",
     "output_type": "stream",
     "text": [
      "enter the stringkhushi\n",
      "not\n"
     ]
    }
   ],
   "source": [
    "s=input(\"enter the string\")\n",
    "rev=s[::-1]\n",
    "if rev==s:\n",
    "    print(\"palindrome\")\n",
    "else:\n",
    "    print(\"not\")"
   ]
  },
  {
   "cell_type": "markdown",
   "id": "0be8a19e",
   "metadata": {},
   "source": [
    "## 2-wap to display the alternate elements of the string entered by user"
   ]
  },
  {
   "cell_type": "code",
   "execution_count": 7,
   "id": "f60a0438",
   "metadata": {},
   "outputs": [
    {
     "name": "stdout",
     "output_type": "stream",
     "text": [
      "enter the string khushi sarin\n",
      "kuh ai\n"
     ]
    }
   ],
   "source": [
    "s=input(\"enter the string \")\n",
    "s1=s[0::2]\n",
    "print(s1)"
   ]
  },
  {
   "cell_type": "markdown",
   "id": "0bad18da",
   "metadata": {},
   "source": [
    "## 3-wap to display the length of the string entered by user without using len function"
   ]
  },
  {
   "cell_type": "code",
   "execution_count": 14,
   "id": "a757e9d6",
   "metadata": {},
   "outputs": [
    {
     "name": "stdout",
     "output_type": "stream",
     "text": [
      "enter the string khushisarin\n",
      "the total letters are 11\n"
     ]
    }
   ],
   "source": [
    "s=input(\"enter the string \")\n",
    "count=0\n",
    "for i in s:\n",
    "    count=count+1\n",
    "print(\"the total letters are\",count)"
   ]
  },
  {
   "cell_type": "markdown",
   "id": "bdfe5a01",
   "metadata": {},
   "source": [
    "## 4-find the index of particular substring which is going to be repeated"
   ]
  },
  {
   "cell_type": "code",
   "execution_count": null,
   "id": "04b06c04",
   "metadata": {},
   "outputs": [],
   "source": []
  },
  {
   "cell_type": "markdown",
   "id": "eae648b4",
   "metadata": {},
   "source": [
    "## 5-wap to find the occurence of each character of the string entered by user and also second most occurence and least occurance character"
   ]
  },
  {
   "cell_type": "code",
   "execution_count": 8,
   "id": "17ee1669",
   "metadata": {},
   "outputs": [
    {
     "name": "stdout",
     "output_type": "stream",
     "text": [
      "enter the stringkhushi sarin\n",
      "k .............. 1\n",
      "h .............. 2\n",
      "u .............. 1\n",
      "s .............. 2\n",
      "h .............. 2\n",
      "i .............. 2\n",
      "  .............. 1\n",
      "s .............. 2\n",
      "a .............. 1\n",
      "r .............. 1\n",
      "i .............. 2\n",
      "n .............. 1\n"
     ]
    }
   ],
   "source": [
    "s=input(\"enter the string \")\n",
    "for i in s:\n",
    "    print(i,\"..............\",s.count(i))"
   ]
  },
  {
   "cell_type": "code",
   "execution_count": 11,
   "id": "7c69d3f3",
   "metadata": {},
   "outputs": [],
   "source": [
    "from collections import Counter"
   ]
  },
  {
   "cell_type": "code",
   "execution_count": 12,
   "id": "cf30b659",
   "metadata": {},
   "outputs": [
    {
     "data": {
      "text/plain": [
       "Counter({'k': 1,\n",
       "         'h': 2,\n",
       "         'u': 1,\n",
       "         's': 2,\n",
       "         'i': 2,\n",
       "         ' ': 1,\n",
       "         'a': 1,\n",
       "         'r': 1,\n",
       "         'n': 1})"
      ]
     },
     "execution_count": 12,
     "metadata": {},
     "output_type": "execute_result"
    }
   ],
   "source": [
    "Counter(s)"
   ]
  },
  {
   "cell_type": "markdown",
   "id": "0194f13a",
   "metadata": {},
   "source": [
    "## 6-wap to take the email id from user and seggreagate username and domain name"
   ]
  },
  {
   "cell_type": "code",
   "execution_count": 1,
   "id": "2a4fba65",
   "metadata": {},
   "outputs": [
    {
     "name": "stdout",
     "output_type": "stream",
     "text": [
      "enter your email id khushisarin@gmail.com\n"
     ]
    },
    {
     "data": {
      "text/plain": [
       "['khushisarin', 'gmail.com']"
      ]
     },
     "execution_count": 1,
     "metadata": {},
     "output_type": "execute_result"
    }
   ],
   "source": [
    "s=input(\"enter your email id \")\n",
    "l=s.split(\"@\")\n",
    "l"
   ]
  },
  {
   "cell_type": "markdown",
   "id": "68138943",
   "metadata": {},
   "source": [
    "## 7-wap to delete a substring from the string user gives using slicing and concatenation, and give 5 attempts to user if user enter that substring which is not in the string(use find instead of index)"
   ]
  },
  {
   "cell_type": "code",
   "execution_count": 3,
   "id": "702d0a72",
   "metadata": {},
   "outputs": [
    {
     "name": "stdout",
     "output_type": "stream",
     "text": [
      "enter the stringkhuhsi\n",
      "enter the substringl\n",
      "l is not found in  khuhsi\n",
      "re-enter the substring\n",
      "enter the substringk\n",
      "huhsi\n"
     ]
    }
   ],
   "source": [
    "s=input(\"enter the string\")\n",
    "while(True):\n",
    "    s1=input(\"enter the substring\")\n",
    "    pos=s.find(s1)\n",
    "    if pos==-1:\n",
    "        print(s1,\"is not found in \",s)\n",
    "        print(\"re-enter the substring\")\n",
    "        continue\n",
    "    else:\n",
    "        print(s[0:pos]+s[pos+1:])\n",
    "        break"
   ]
  },
  {
   "cell_type": "markdown",
   "id": "8c6ff50d",
   "metadata": {},
   "source": [
    "## 8-wap to check how many upper case,lowercase,digits and specailo character in the string entered by the user"
   ]
  },
  {
   "cell_type": "code",
   "execution_count": 5,
   "id": "69e6f2d1",
   "metadata": {},
   "outputs": [
    {
     "name": "stdout",
     "output_type": "stream",
     "text": [
      "enter the stringKHUSHIsarin123@@\n",
      "upper are  6\n",
      "lower are  5\n",
      "digit are  3\n",
      "special character are  2\n"
     ]
    }
   ],
   "source": [
    "s=input(\"enter the string\")\n",
    "count_u=0\n",
    "count_l=0\n",
    "count_d=0\n",
    "count_s=0\n",
    "for ch in s:\n",
    "    if ch.isupper():\n",
    "        count_u=count_u+1\n",
    "    elif ch.islower():\n",
    "        count_l=count_l+1\n",
    "    elif ch.isdigit():\n",
    "        count_d=count_d+1\n",
    "    else:\n",
    "        count_s=count_s+1\n",
    "print(\"upper are \",count_u)\n",
    "print(\"lower are \",count_l)\n",
    "print(\"digit are \",count_d)\n",
    "print(\"special character are \",count_s)"
   ]
  },
  {
   "cell_type": "markdown",
   "id": "36b77555",
   "metadata": {},
   "source": [
    "## 9-wap to input a password from the user and check the validity of the password while sign up\n",
    "- min 1 uppercase,lowercase,digit,special char\n",
    "- min length of the password should be 10"
   ]
  },
  {
   "cell_type": "code",
   "execution_count": 8,
   "id": "5013d5c0",
   "metadata": {},
   "outputs": [
    {
     "name": "stdout",
     "output_type": "stream",
     "text": [
      "enter the username khushi saein\n",
      "enter the password Khushisaerin123@\n",
      "the password is valid\n"
     ]
    }
   ],
   "source": [
    "username=input(\"enter the username \")\n",
    "password=input(\"enter the password \")\n",
    "count_u=0\n",
    "count_l=0\n",
    "count_d=0\n",
    "count_s=0\n",
    "l=len(password)\n",
    "for i in password:\n",
    "    if i.isupper():\n",
    "        count_u=count_u+1\n",
    "    elif i.islower():\n",
    "        count_l=count_l+1\n",
    "    elif i.isdigit():\n",
    "        count_d=count_d+1\n",
    "    else:\n",
    "        count_s=count_s+1\n",
    "if count_u>=1 and count_l>=1 and count_s>=1 and count_d>=1 and l>=10:\n",
    "    print(\"the password is valid\")\n",
    "else:\n",
    "    print(\"not valid\")"
   ]
  },
  {
   "cell_type": "markdown",
   "id": "c32c1138",
   "metadata": {},
   "source": [
    "## 10-wap to input a password from the user and check the validity of the password while sign up and give 5 attempts"
   ]
  },
  {
   "cell_type": "code",
   "execution_count": 15,
   "id": "703455ab",
   "metadata": {},
   "outputs": [
    {
     "name": "stdout",
     "output_type": "stream",
     "text": [
      "enter the usernamekhuhx89d\n",
      "enter the passwordnuciwehf\n",
      "incorrect\n",
      "enter the passwordnsuih8we9hf\n",
      "incorrect\n",
      "enter the passwordniubweugf\n",
      "incorrect\n",
      "enter the passwordncuiweghuew\n",
      "incorrect\n",
      "enter the passwordnbciuwe8ewh\n",
      "incorrect\n",
      "u have reached the limits\n"
     ]
    }
   ],
   "source": [
    "username=input(\"enter the username\")\n",
    "count_u=0\n",
    "count_l=0\n",
    "count_d=0\n",
    "count_s=0\n",
    "l=len(password)\n",
    "attempt=0\n",
    "while(True):\n",
    "    password=input(\"enter the password\")\n",
    "    if i.isupper():\n",
    "        count_u=count_u+1\n",
    "    elif i.islower():\n",
    "        count_l=count_l+1\n",
    "    elif i.isdigit():\n",
    "        count_d=count_d+1\n",
    "    else:\n",
    "        count_s=count_s+1\n",
    "        if count_u>=1 and count_l>=1 and count_s>=1 and count_d>=1 and l>=10:\n",
    "            print(\"the password is valid\")\n",
    "        else:\n",
    "            print(\"incorrect\")\n",
    "            attempt=attempt+1\n",
    "            if attempt<5:\n",
    "                continue\n",
    "            else:\n",
    "                print(\"u have reached the limits\")\n",
    "                break\n",
    "            "
   ]
  },
  {
   "cell_type": "markdown",
   "id": "3f1ac350",
   "metadata": {},
   "source": [
    "## 11-wap to remove duplicants in the string entered by user"
   ]
  },
  {
   "cell_type": "code",
   "execution_count": 17,
   "id": "83f192d7",
   "metadata": {},
   "outputs": [
    {
     "name": "stdout",
     "output_type": "stream",
     "text": [
      "enter the stringkhushi\n",
      "khusi\n"
     ]
    }
   ],
   "source": [
    "s=input(\"enter the string\")\n",
    "unique=\"\"\n",
    "for i in s:\n",
    "    if i not in unique:\n",
    "        unique=unique+i\n",
    "print(unique)"
   ]
  },
  {
   "cell_type": "markdown",
   "id": "56501ac8",
   "metadata": {},
   "source": [
    "## 12-wap to display and count vowels and consonents and digits and special characters in the string"
   ]
  },
  {
   "cell_type": "code",
   "execution_count": 20,
   "id": "7327f225",
   "metadata": {},
   "outputs": [
    {
     "name": "stdout",
     "output_type": "stream",
     "text": [
      "enter the string khuhcuewg123ADW#@\n",
      "vowels are  4\n",
      "consonents are  4\n",
      "digits are  4\n",
      "special characters are  4\n"
     ]
    }
   ],
   "source": [
    "s=input(\"enter the string \")\n",
    "count_v=0\n",
    "count_c=0\n",
    "count_d=0\n",
    "count_s=0\n",
    "for i in s:\n",
    "    if i.isalpha:\n",
    "        if i in \"aeiouAEIOU\":\n",
    "            count_v=count_v+1\n",
    "        else:\n",
    "            count_c=count_c+1\n",
    "    elif i.isdigit():\n",
    "        count_d=count_d+1\n",
    "    else:\n",
    "        count_s=count_s+1\n",
    "print(\"vowels are \",count_v)\n",
    "print(\"consonents are \",count_v)\n",
    "print(\"digits are \",count_v)\n",
    "print(\"special characters are \",count_v)"
   ]
  },
  {
   "cell_type": "markdown",
   "id": "4a339511",
   "metadata": {},
   "source": [
    "## 13-wap to take pincode from the user and check whether the pincode is valid or not"
   ]
  },
  {
   "cell_type": "code",
   "execution_count": 18,
   "id": "24867f49",
   "metadata": {},
   "outputs": [
    {
     "name": "stdout",
     "output_type": "stream",
     "text": [
      "enter the pincode 1234456\n",
      "not valid pincode\n"
     ]
    }
   ],
   "source": [
    "s=input(\"enter the pincode \")\n",
    "count_d=0\n",
    "for i in s:\n",
    "    if i.isdigit:\n",
    "        count_d=count_d+1\n",
    "if count_d==6:\n",
    "    print(\"valid pincode\")\n",
    "else:\n",
    "    print(\"not valid pincode\")\n",
    "        "
   ]
  },
  {
   "cell_type": "code",
   "execution_count": 15,
   "id": "a9bcfd54",
   "metadata": {},
   "outputs": [
    {
     "name": "stdout",
     "output_type": "stream",
     "text": [
      "enter the pincode 12345\n",
      "not\n"
     ]
    }
   ],
   "source": [
    "s=input(\"enter the pincode \")\n",
    "if s.isdigit() and len(s)==6:\n",
    "    print(\"valid\")\n",
    "else:\n",
    "    print(\"not\")"
   ]
  },
  {
   "cell_type": "markdown",
   "id": "70e16257",
   "metadata": {},
   "source": [
    "## 14-count the special character in your email"
   ]
  },
  {
   "cell_type": "code",
   "execution_count": 5,
   "id": "d10bf2b4",
   "metadata": {},
   "outputs": [
    {
     "name": "stdout",
     "output_type": "stream",
     "text": [
      "enter your email khushi.sarin.30@gmail.com\n",
      "special characters in email are  4\n"
     ]
    }
   ],
   "source": [
    "s=input(\"enter your email \")\n",
    "count_o=0\n",
    "count_s=0\n",
    "for i in s:\n",
    "    if i.isalnum():\n",
    "        count_o=count_o+1\n",
    "    else:\n",
    "        count_s=count_s+1\n",
    "print(\"special characters in email are \",count_s)"
   ]
  },
  {
   "cell_type": "markdown",
   "id": "5a47a6ac",
   "metadata": {},
   "source": [
    "## 15-sample string=balmeet\n",
    "    - expected=talmeeb"
   ]
  },
  {
   "cell_type": "code",
   "execution_count": 12,
   "id": "8a9936af",
   "metadata": {},
   "outputs": [
    {
     "name": "stdout",
     "output_type": "stream",
     "text": [
      "talmeet\n",
      "talmee\n",
      "b\n"
     ]
    },
    {
     "data": {
      "text/plain": [
       "'talmeeb'"
      ]
     },
     "execution_count": 12,
     "metadata": {},
     "output_type": "execute_result"
    }
   ],
   "source": [
    "s=\"balmeet\"\n",
    "t=s.replace(\"b\",\"t\")\n",
    "print(t)\n",
    "k=t[:-1]\n",
    "print(k)\n",
    "l=s[0]\n",
    "print(l)\n",
    "k+l"
   ]
  },
  {
   "cell_type": "markdown",
   "id": "09856c09",
   "metadata": {},
   "source": [
    "## 17-wap to check whether the entered string is anagram or not: eg:heart = earth"
   ]
  },
  {
   "cell_type": "code",
   "execution_count": 24,
   "id": "6f3ff9f5",
   "metadata": {},
   "outputs": [
    {
     "name": "stdout",
     "output_type": "stream",
     "text": [
      "enter the string earth\n",
      "input the 2nd string heart\n",
      "anagram\n"
     ]
    }
   ],
   "source": [
    "s=input(\"enter the string \")\n",
    "s2=input(\"input the 2nd string \")\n",
    "s3=sorted(s1)\n",
    "s4=sorted(s2)\n",
    "if s3==s4:\n",
    "    print(\"anagram\")\n",
    "else:\n",
    "    print(\"not\")\n"
   ]
  },
  {
   "cell_type": "markdown",
   "id": "6a6b43ad",
   "metadata": {},
   "source": [
    "## 18-wap to display the index of each substring without using the inbuilt index function "
   ]
  },
  {
   "cell_type": "code",
   "execution_count": 22,
   "id": "1a7c795b",
   "metadata": {},
   "outputs": [
    {
     "name": "stdout",
     "output_type": "stream",
     "text": [
      "enter the string khuhsi\n",
      "k .................... 0\n",
      "h .................... 1\n",
      "u .................... 2\n",
      "h .................... 3\n",
      "s .................... 4\n",
      "i .................... 5\n"
     ]
    }
   ],
   "source": [
    "s=input(\"enter the string \")\n",
    "pos=0\n",
    "for i in s:\n",
    "    print(i,\"....................\",pos)\n",
    "    pos=pos+1"
   ]
  },
  {
   "cell_type": "markdown",
   "id": "52442104",
   "metadata": {},
   "source": [
    "## 19wap to take the string from the user of alpha numeric type and u have to extarct only digits from the string"
   ]
  },
  {
   "cell_type": "code",
   "execution_count": 19,
   "id": "947afc1f",
   "metadata": {},
   "outputs": [
    {
     "name": "stdout",
     "output_type": "stream",
     "text": [
      " enter the string in alphanumerickhuhsi123\n",
      "the digits are  123\n"
     ]
    }
   ],
   "source": [
    "s=input(\" enter the string in alphanumeric\")\n",
    "if s.isalnum():\n",
    "    s1=\"\"\n",
    "    for i in s:\n",
    "        if i.isdigit():\n",
    "            s1=s1+i\n",
    "    print(\"the digits are \",s1)\n",
    "else:\n",
    "    print(\"ur string was not alphanumeric\")"
   ]
  },
  {
   "cell_type": "markdown",
   "id": "a3186087",
   "metadata": {},
   "source": [
    "## 20-s=\" a quick brown fox jumps over the lazy dog \"\n",
    "sort the aplhabets in increasing order and sorted alphabets should be in the string and aslo prove that it has all alphabets"
   ]
  },
  {
   "cell_type": "code",
   "execution_count": 26,
   "id": "0fef414d",
   "metadata": {},
   "outputs": [
    {
     "data": {
      "text/plain": [
       "'aquickbrownfoxjumpsoverthelazydog'"
      ]
     },
     "execution_count": 26,
     "metadata": {},
     "output_type": "execute_result"
    }
   ],
   "source": [
    "s=\" a quick brown fox jumps over the lazy dog \"\n",
    "s1=s.replace(\" \",\"\")\n",
    "s1"
   ]
  },
  {
   "cell_type": "code",
   "execution_count": 32,
   "id": "80f01bfd",
   "metadata": {},
   "outputs": [
    {
     "data": {
      "text/plain": [
       "['a',\n",
       " 'a',\n",
       " 'b',\n",
       " 'c',\n",
       " 'd',\n",
       " 'e',\n",
       " 'e',\n",
       " 'f',\n",
       " 'g',\n",
       " 'h',\n",
       " 'i',\n",
       " 'j',\n",
       " 'k',\n",
       " 'l',\n",
       " 'm',\n",
       " 'n',\n",
       " 'o',\n",
       " 'o',\n",
       " 'o',\n",
       " 'o',\n",
       " 'p',\n",
       " 'q',\n",
       " 'r',\n",
       " 'r',\n",
       " 's',\n",
       " 't',\n",
       " 'u',\n",
       " 'u',\n",
       " 'v',\n",
       " 'w',\n",
       " 'x',\n",
       " 'y',\n",
       " 'z']"
      ]
     },
     "execution_count": 32,
     "metadata": {},
     "output_type": "execute_result"
    }
   ],
   "source": [
    "l=sorted(s1)\n",
    "l"
   ]
  },
  {
   "cell_type": "code",
   "execution_count": 35,
   "id": "58f7c993",
   "metadata": {},
   "outputs": [
    {
     "data": {
      "text/plain": [
       "'aabcdeefghijklmnoooopqrrstuuvwxyz'"
      ]
     },
     "execution_count": 35,
     "metadata": {},
     "output_type": "execute_result"
    }
   ],
   "source": [
    "s2=\"\"\n",
    "ss=s2.join(l)\n",
    "ss"
   ]
  },
  {
   "cell_type": "code",
   "execution_count": 38,
   "id": "e6f4adc7",
   "metadata": {},
   "outputs": [
    {
     "name": "stdout",
     "output_type": "stream",
     "text": [
      "abcdefghijklmnopqrstuvwxyz\n"
     ]
    }
   ],
   "source": [
    "unique=\"\"\n",
    "for i in ss:\n",
    "    if i not in unique:\n",
    "        unique=unique+i\n",
    "         \n",
    "print(unique)"
   ]
  },
  {
   "cell_type": "code",
   "execution_count": 39,
   "id": "ac887045",
   "metadata": {},
   "outputs": [
    {
     "name": "stdout",
     "output_type": "stream",
     "text": [
      "it has all alphabets\n"
     ]
    }
   ],
   "source": [
    "if len(unique)==26:\n",
    "    print(\"it has all alphabets\")\n",
    "else:\n",
    "    (\"not\")"
   ]
  },
  {
   "cell_type": "markdown",
   "id": "7a7cdbe1",
   "metadata": {},
   "source": [
    "## wap to check whether the entered string is anagram or not: eg:heart = earth"
   ]
  },
  {
   "cell_type": "code",
   "execution_count": 42,
   "id": "cd91e9c8",
   "metadata": {},
   "outputs": [
    {
     "name": "stdout",
     "output_type": "stream",
     "text": [
      "enter the input khuhsi\n",
      "enter the 2nd output shukhi\n",
      "anagram\n"
     ]
    }
   ],
   "source": [
    "s1=input(\"enter the input \")\n",
    "s2=input(\"enter the 2nd output \")\n",
    "s3=sorted(s1)\n",
    "s4=sorted(s2)\n",
    "if s3==s4:\n",
    "    print(\"anagram\")\n",
    "else:\n",
    "    print(\"not\")"
   ]
  },
  {
   "cell_type": "markdown",
   "id": "46cb1aaf",
   "metadata": {},
   "source": [
    "## 21- wap to check whether this string is palindrome or not (letters reverse or not should be same irrespective of upper or lower\n",
    "- s=[\"a man,a plan,a canal\"]"
   ]
  },
  {
   "cell_type": "code",
   "execution_count": 13,
   "id": "bec26db7",
   "metadata": {},
   "outputs": [
    {
     "name": "stdout",
     "output_type": "stream",
     "text": [
      "not\n"
     ]
    }
   ],
   "source": [
    "s=\"a man,a plan,a canal\"\n",
    "s1=s.replace(\" \",\"\")\n",
    "s1\n",
    "s2=s1.replace(\",\",\"\")\n",
    "s2\n",
    "s3=s2[::-1]\n",
    "if s2==s3:\n",
    "    print(\"palindrome\")\n",
    "else:\n",
    "    print(\"not\")"
   ]
  },
  {
   "cell_type": "markdown",
   "id": "9f10e3a8",
   "metadata": {},
   "source": [
    "## 22- wap to concat the non-matching characters of the two string(jo common ni h unki ek string banani)"
   ]
  },
  {
   "cell_type": "code",
   "execution_count": 4,
   "id": "2c8fb90d",
   "metadata": {},
   "outputs": [
    {
     "name": "stdout",
     "output_type": "stream",
     "text": [
      "enter the 1st string khushi\n",
      "enter the 2nd string shivangi\n",
      "khushishivangi\n",
      "non matching characters are  khusivang\n"
     ]
    }
   ],
   "source": [
    "s1=input(\"enter the 1st string \")\n",
    "s2=input(\"enter the 2nd string \")\n",
    "l=s1+s2\n",
    "print(l)\n",
    "unique=\"\"\n",
    "for i in l:\n",
    "    if i not in unique:\n",
    "        unique=unique+i\n",
    "print(\"non matching characters are \",unique)"
   ]
  },
  {
   "cell_type": "markdown",
   "id": "2f2fceac",
   "metadata": {},
   "source": [
    "## 23- arrange the strings characters that lowercase comes first,then uppercase then digits then special character"
   ]
  },
  {
   "cell_type": "code",
   "execution_count": 1,
   "id": "57580cd4",
   "metadata": {},
   "outputs": [
    {
     "name": "stdout",
     "output_type": "stream",
     "text": [
      "enter the stringkhushiSARIN@123\n",
      "khushiSARIN123@\n"
     ]
    }
   ],
   "source": [
    "s=input(\"enter the string\")\n",
    "s1=\"\" #for lower\n",
    "s2=\"\" #for upper\n",
    "s3=\"\" #for digits\n",
    "s4=\"\" #for special\n",
    "for i in s:\n",
    "    if i.islower():\n",
    "        s1=s1+i\n",
    "    elif i.isupper():\n",
    "        s2=s2+i\n",
    "    elif i.isdigit():\n",
    "        s3=s3+i\n",
    "    else:\n",
    "        s4=s4+i\n",
    "l=s1+s2+s3+s4\n",
    "print(l)"
   ]
  },
  {
   "cell_type": "markdown",
   "id": "6aec324e",
   "metadata": {},
   "source": [
    "## 24-wap to enter the string in the middle of the string entered by user"
   ]
  },
  {
   "cell_type": "code",
   "execution_count": 4,
   "id": "8f8d65ed",
   "metadata": {},
   "outputs": [
    {
     "name": "stdout",
     "output_type": "stream",
     "text": [
      "enter the string khsh\n",
      "enter the substring that u want to enter in middleu\n",
      "khush\n"
     ]
    }
   ],
   "source": [
    "s=input(\"enter the string \")\n",
    "middle_string=input(\"enter the substring that u want to enter in middle\")\n",
    "middle_pos=len(s)//2\n",
    "if len(s)%2==0:\n",
    "    print(s[0:middle_pos]+middle_string+s[middle_pos:])\n",
    "    "
   ]
  },
  {
   "cell_type": "markdown",
   "id": "0ed80e06",
   "metadata": {},
   "source": [
    "## 25-wap to create a new string of consonents present in the string"
   ]
  },
  {
   "cell_type": "code",
   "execution_count": 16,
   "id": "7761bac3",
   "metadata": {},
   "outputs": [
    {
     "name": "stdout",
     "output_type": "stream",
     "text": [
      "enter the stringkhuhsisarin\n",
      "khhssrn\n"
     ]
    }
   ],
   "source": [
    "s=input(\"enter the string\")\n",
    "s1=\"\"\n",
    "for i in s:\n",
    "    if i.isalpha:\n",
    "        if i not in \"aeiouAEIOU\":\n",
    "            s1=s1+i\n",
    "print(s1)\n",
    "            \n",
    "            "
   ]
  },
  {
   "cell_type": "markdown",
   "id": "69a261b9",
   "metadata": {},
   "source": [
    "## 26-find the last position of the substring present in the string"
   ]
  },
  {
   "cell_type": "code",
   "execution_count": 30,
   "id": "94212b64",
   "metadata": {},
   "outputs": [
    {
     "name": "stdout",
     "output_type": "stream",
     "text": [
      "enter the stringshivangi\n",
      "2\n"
     ]
    }
   ],
   "source": [
    "s=input(\"enter the string \") ##agar jo last mei bhi h aur beech mei h toh beech wali ki position aa ri h last ki ni aa ri\n",
    "l=s[-1]\n",
    "l\n",
    "k=s.find(l)\n",
    "print(k)"
   ]
  },
  {
   "cell_type": "markdown",
   "id": "a4704e38",
   "metadata": {},
   "source": [
    "## 27-wap to display the last three characters in uppercase of the string"
   ]
  },
  {
   "cell_type": "code",
   "execution_count": 22,
   "id": "45dafef7",
   "metadata": {},
   "outputs": [
    {
     "name": "stdout",
     "output_type": "stream",
     "text": [
      "shivaNGI\n"
     ]
    }
   ],
   "source": [
    "s=\"shivangi\"\n",
    "s1=s[5::]\n",
    "s1\n",
    "s2=s[0:5]\n",
    "s2\n",
    "s3=s1.upper()\n",
    "s3\n",
    "l=s2+s3\n",
    "print(l)"
   ]
  },
  {
   "cell_type": "code",
   "execution_count": 2,
   "id": "95b7cf71",
   "metadata": {},
   "outputs": [
    {
     "name": "stdout",
     "output_type": "stream",
     "text": [
      "enter the string shivangi\n",
      "NGI\n",
      "shivaNGI\n"
     ]
    }
   ],
   "source": [
    "s=input(\"enter the string \")\n",
    "if len(s)>=3:\n",
    "    s1=s[-3:].upper()\n",
    "    print(s1)\n",
    "else:\n",
    "    print(\"the length of string is less than 3\")\n",
    "s2=s[0:-3]\n",
    "s2\n",
    "print(s2+s1)"
   ]
  },
  {
   "cell_type": "code",
   "execution_count": null,
   "id": "8ca8e536",
   "metadata": {},
   "outputs": [],
   "source": []
  }
 ],
 "metadata": {
  "kernelspec": {
   "display_name": "Python 3 (ipykernel)",
   "language": "python",
   "name": "python3"
  },
  "language_info": {
   "codemirror_mode": {
    "name": "ipython",
    "version": 3
   },
   "file_extension": ".py",
   "mimetype": "text/x-python",
   "name": "python",
   "nbconvert_exporter": "python",
   "pygments_lexer": "ipython3",
   "version": "3.10.9"
  }
 },
 "nbformat": 4,
 "nbformat_minor": 5
}
