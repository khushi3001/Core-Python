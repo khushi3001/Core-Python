{
 "cells": [
  {
   "cell_type": "markdown",
   "id": "89cd1ff9",
   "metadata": {},
   "source": [
    "# module: it is nothing but your ipynb files which contains the function definition"
   ]
  },
  {
   "cell_type": "markdown",
   "id": "8362fb2e",
   "metadata": {},
   "source": [
    "### two types of library\n",
    "- inbuilt\n",
    "- user defined"
   ]
  },
  {
   "cell_type": "markdown",
   "id": "5d185cb8",
   "metadata": {},
   "source": [
    "### inbuilt modules ( these are common modules used in analyst form)\n",
    "- math ( have functions related to mathematics\n",
    "- random\n",
    "- time\n",
    "- os"
   ]
  },
  {
   "cell_type": "code",
   "execution_count": 3,
   "id": "873fa085",
   "metadata": {},
   "outputs": [],
   "source": [
    "## dir is a function and it means diractory. It helps in checking detail of any function, what type of functions it carries"
   ]
  },
  {
   "cell_type": "code",
   "execution_count": 4,
   "id": "ae51e082",
   "metadata": {},
   "outputs": [
    {
     "ename": "NameError",
     "evalue": "name 'math' is not defined",
     "output_type": "error",
     "traceback": [
      "\u001b[1;31m---------------------------------------------------------------------------\u001b[0m",
      "\u001b[1;31mNameError\u001b[0m                                 Traceback (most recent call last)",
      "Cell \u001b[1;32mIn[4], line 1\u001b[0m\n\u001b[1;32m----> 1\u001b[0m \u001b[38;5;28mdir\u001b[39m(\u001b[43mmath\u001b[49m)\n",
      "\u001b[1;31mNameError\u001b[0m: name 'math' is not defined"
     ]
    }
   ],
   "source": [
    "dir(math)"
   ]
  },
  {
   "cell_type": "code",
   "execution_count": 5,
   "id": "b53eef93",
   "metadata": {},
   "outputs": [],
   "source": [
    "## here the error is showing because math is not known yet.\n",
    "## so to use any module we have to use keyword or function IMPORT"
   ]
  },
  {
   "cell_type": "code",
   "execution_count": 6,
   "id": "a21fbab4",
   "metadata": {},
   "outputs": [],
   "source": [
    "import math"
   ]
  },
  {
   "cell_type": "code",
   "execution_count": 7,
   "id": "10fbb66d",
   "metadata": {},
   "outputs": [
    {
     "data": {
      "text/plain": [
       "['__doc__',\n",
       " '__loader__',\n",
       " '__name__',\n",
       " '__package__',\n",
       " '__spec__',\n",
       " 'acos',\n",
       " 'acosh',\n",
       " 'asin',\n",
       " 'asinh',\n",
       " 'atan',\n",
       " 'atan2',\n",
       " 'atanh',\n",
       " 'ceil',\n",
       " 'comb',\n",
       " 'copysign',\n",
       " 'cos',\n",
       " 'cosh',\n",
       " 'degrees',\n",
       " 'dist',\n",
       " 'e',\n",
       " 'erf',\n",
       " 'erfc',\n",
       " 'exp',\n",
       " 'expm1',\n",
       " 'fabs',\n",
       " 'factorial',\n",
       " 'floor',\n",
       " 'fmod',\n",
       " 'frexp',\n",
       " 'fsum',\n",
       " 'gamma',\n",
       " 'gcd',\n",
       " 'hypot',\n",
       " 'inf',\n",
       " 'isclose',\n",
       " 'isfinite',\n",
       " 'isinf',\n",
       " 'isnan',\n",
       " 'isqrt',\n",
       " 'lcm',\n",
       " 'ldexp',\n",
       " 'lgamma',\n",
       " 'log',\n",
       " 'log10',\n",
       " 'log1p',\n",
       " 'log2',\n",
       " 'modf',\n",
       " 'nan',\n",
       " 'nextafter',\n",
       " 'perm',\n",
       " 'pi',\n",
       " 'pow',\n",
       " 'prod',\n",
       " 'radians',\n",
       " 'remainder',\n",
       " 'sin',\n",
       " 'sinh',\n",
       " 'sqrt',\n",
       " 'tan',\n",
       " 'tanh',\n",
       " 'tau',\n",
       " 'trunc',\n",
       " 'ulp']"
      ]
     },
     "execution_count": 7,
     "metadata": {},
     "output_type": "execute_result"
    }
   ],
   "source": [
    "dir(math) ## there names with __ are special functions"
   ]
  },
  {
   "cell_type": "code",
   "execution_count": 24,
   "id": "e98198d9",
   "metadata": {},
   "outputs": [],
   "source": [
    "## floor\n",
    "## ceil\n",
    "## both floor and ceil truncates the decimal part \n",
    "## they are present in the math module and round is itself inbuilt function\n",
    "## floor- it returns the num which is equal to that num or the num which is nearest integer\n",
    "## ceil-it returns the num which is equal to that num or the num which is greater nearest integer"
   ]
  },
  {
   "cell_type": "code",
   "execution_count": 10,
   "id": "61819ca5",
   "metadata": {},
   "outputs": [
    {
     "ename": "NameError",
     "evalue": "name 'floor' is not defined",
     "output_type": "error",
     "traceback": [
      "\u001b[1;31m---------------------------------------------------------------------------\u001b[0m",
      "\u001b[1;31mNameError\u001b[0m                                 Traceback (most recent call last)",
      "Cell \u001b[1;32mIn[10], line 1\u001b[0m\n\u001b[1;32m----> 1\u001b[0m \u001b[43mfloor\u001b[49m()\n",
      "\u001b[1;31mNameError\u001b[0m: name 'floor' is not defined"
     ]
    }
   ],
   "source": [
    "floor() ## because it is not an inbuit fun,it is under module"
   ]
  },
  {
   "cell_type": "code",
   "execution_count": null,
   "id": "c5c09933",
   "metadata": {},
   "outputs": [],
   "source": [
    "floor :"
   ]
  },
  {
   "cell_type": "code",
   "execution_count": 13,
   "id": "be3bd1ff",
   "metadata": {},
   "outputs": [
    {
     "data": {
      "text/plain": [
       "4"
      ]
     },
     "execution_count": 13,
     "metadata": {},
     "output_type": "execute_result"
    }
   ],
   "source": [
    "math.floor(4)"
   ]
  },
  {
   "cell_type": "code",
   "execution_count": 14,
   "id": "c3d9c726",
   "metadata": {},
   "outputs": [
    {
     "data": {
      "text/plain": [
       "4"
      ]
     },
     "execution_count": 14,
     "metadata": {},
     "output_type": "execute_result"
    }
   ],
   "source": [
    "math.floor(4.6)"
   ]
  },
  {
   "cell_type": "code",
   "execution_count": 15,
   "id": "21037ba0",
   "metadata": {},
   "outputs": [
    {
     "data": {
      "text/plain": [
       "5"
      ]
     },
     "execution_count": 15,
     "metadata": {},
     "output_type": "execute_result"
    }
   ],
   "source": [
    "math.floor(5.5)"
   ]
  },
  {
   "cell_type": "code",
   "execution_count": null,
   "id": "636f487e",
   "metadata": {},
   "outputs": [],
   "source": [
    "ceil :\n",
    "    "
   ]
  },
  {
   "cell_type": "code",
   "execution_count": 16,
   "id": "c53d3606",
   "metadata": {},
   "outputs": [
    {
     "data": {
      "text/plain": [
       "8"
      ]
     },
     "execution_count": 16,
     "metadata": {},
     "output_type": "execute_result"
    }
   ],
   "source": [
    "math.ceil(7.2)"
   ]
  },
  {
   "cell_type": "code",
   "execution_count": 17,
   "id": "53538f79",
   "metadata": {},
   "outputs": [
    {
     "data": {
      "text/plain": [
       "9"
      ]
     },
     "execution_count": 17,
     "metadata": {},
     "output_type": "execute_result"
    }
   ],
   "source": [
    "math.ceil(8.9)"
   ]
  },
  {
   "cell_type": "code",
   "execution_count": 19,
   "id": "14e87e4e",
   "metadata": {},
   "outputs": [],
   "source": [
    "## round : it round of the decimal part and it is an inbuilt function of python"
   ]
  },
  {
   "cell_type": "code",
   "execution_count": 20,
   "id": "3b87fbbb",
   "metadata": {},
   "outputs": [
    {
     "data": {
      "text/plain": [
       "7"
      ]
     },
     "execution_count": 20,
     "metadata": {},
     "output_type": "execute_result"
    }
   ],
   "source": [
    "round(6.7)"
   ]
  },
  {
   "cell_type": "code",
   "execution_count": 21,
   "id": "68e7679e",
   "metadata": {},
   "outputs": [
    {
     "data": {
      "text/plain": [
       "5"
      ]
     },
     "execution_count": 21,
     "metadata": {},
     "output_type": "execute_result"
    }
   ],
   "source": [
    "round(5.2)"
   ]
  },
  {
   "cell_type": "code",
   "execution_count": 23,
   "id": "ce3cef07",
   "metadata": {},
   "outputs": [
    {
     "data": {
      "text/plain": [
       "5.79"
      ]
     },
     "execution_count": 23,
     "metadata": {},
     "output_type": "execute_result"
    }
   ],
   "source": [
    "round(5.789230, ndigits=2)"
   ]
  },
  {
   "cell_type": "code",
   "execution_count": 25,
   "id": "c236e633",
   "metadata": {},
   "outputs": [
    {
     "data": {
      "text/plain": [
       "720"
      ]
     },
     "execution_count": 25,
     "metadata": {},
     "output_type": "execute_result"
    }
   ],
   "source": [
    "math.factorial(6)"
   ]
  },
  {
   "cell_type": "code",
   "execution_count": 26,
   "id": "78eae1a8",
   "metadata": {},
   "outputs": [
    {
     "data": {
      "text/plain": [
       "3.14"
      ]
     },
     "execution_count": 26,
     "metadata": {},
     "output_type": "execute_result"
    }
   ],
   "source": [
    "round(math.pi,2)"
   ]
  },
  {
   "cell_type": "code",
   "execution_count": 27,
   "id": "efbcfa68",
   "metadata": {},
   "outputs": [
    {
     "data": {
      "text/plain": [
       "8.0"
      ]
     },
     "execution_count": 27,
     "metadata": {},
     "output_type": "execute_result"
    }
   ],
   "source": [
    "math.pow(2,3)"
   ]
  },
  {
   "cell_type": "markdown",
   "id": "d5bfeb7a",
   "metadata": {},
   "source": [
    "## random"
   ]
  },
  {
   "cell_type": "code",
   "execution_count": 28,
   "id": "4b403f70",
   "metadata": {},
   "outputs": [],
   "source": [
    "import random"
   ]
  },
  {
   "cell_type": "code",
   "execution_count": 29,
   "id": "957abb51",
   "metadata": {},
   "outputs": [
    {
     "data": {
      "text/plain": [
       "['BPF',\n",
       " 'LOG4',\n",
       " 'NV_MAGICCONST',\n",
       " 'RECIP_BPF',\n",
       " 'Random',\n",
       " 'SG_MAGICCONST',\n",
       " 'SystemRandom',\n",
       " 'TWOPI',\n",
       " '_ONE',\n",
       " '_Sequence',\n",
       " '_Set',\n",
       " '__all__',\n",
       " '__builtins__',\n",
       " '__cached__',\n",
       " '__doc__',\n",
       " '__file__',\n",
       " '__loader__',\n",
       " '__name__',\n",
       " '__package__',\n",
       " '__spec__',\n",
       " '_accumulate',\n",
       " '_acos',\n",
       " '_bisect',\n",
       " '_ceil',\n",
       " '_cos',\n",
       " '_e',\n",
       " '_exp',\n",
       " '_floor',\n",
       " '_index',\n",
       " '_inst',\n",
       " '_isfinite',\n",
       " '_log',\n",
       " '_os',\n",
       " '_pi',\n",
       " '_random',\n",
       " '_repeat',\n",
       " '_sha512',\n",
       " '_sin',\n",
       " '_sqrt',\n",
       " '_test',\n",
       " '_test_generator',\n",
       " '_urandom',\n",
       " '_warn',\n",
       " 'betavariate',\n",
       " 'choice',\n",
       " 'choices',\n",
       " 'expovariate',\n",
       " 'gammavariate',\n",
       " 'gauss',\n",
       " 'getrandbits',\n",
       " 'getstate',\n",
       " 'lognormvariate',\n",
       " 'normalvariate',\n",
       " 'paretovariate',\n",
       " 'randbytes',\n",
       " 'randint',\n",
       " 'random',\n",
       " 'randrange',\n",
       " 'sample',\n",
       " 'seed',\n",
       " 'setstate',\n",
       " 'shuffle',\n",
       " 'triangular',\n",
       " 'uniform',\n",
       " 'vonmisesvariate',\n",
       " 'weibullvariate']"
      ]
     },
     "execution_count": 29,
     "metadata": {},
     "output_type": "execute_result"
    }
   ],
   "source": [
    "dir(random)"
   ]
  },
  {
   "cell_type": "code",
   "execution_count": 34,
   "id": "54ebadcf",
   "metadata": {},
   "outputs": [
    {
     "data": {
      "text/plain": [
       "0.4405907328166667"
      ]
     },
     "execution_count": 34,
     "metadata": {},
     "output_type": "execute_result"
    }
   ],
   "source": [
    "random.random() ## by default it gives the random no. from 0 to 1 always"
   ]
  },
  {
   "cell_type": "code",
   "execution_count": 36,
   "id": "8b7dfd56",
   "metadata": {},
   "outputs": [
    {
     "data": {
      "text/plain": [
       "0.5714025946899135"
      ]
     },
     "execution_count": 36,
     "metadata": {},
     "output_type": "execute_result"
    }
   ],
   "source": [
    "random.seed(10) ## we can give any interger to fix the value of random\n",
    "random.random"
   ]
  },
  {
   "cell_type": "code",
   "execution_count": 40,
   "id": "97862126",
   "metadata": {},
   "outputs": [
    {
     "data": {
      "text/plain": [
       "0.4523795535098186"
      ]
     },
     "execution_count": 40,
     "metadata": {},
     "output_type": "execute_result"
    }
   ],
   "source": [
    "random.seed(11)\n",
    "random.random()"
   ]
  },
  {
   "cell_type": "code",
   "execution_count": 79,
   "id": "bd68cf37",
   "metadata": {},
   "outputs": [
    {
     "data": {
      "text/plain": [
       "19.830618016994983"
      ]
     },
     "execution_count": 79,
     "metadata": {},
     "output_type": "execute_result"
    }
   ],
   "source": [
    "random.uniform(1,100)"
   ]
  },
  {
   "cell_type": "code",
   "execution_count": 80,
   "id": "f4d66694",
   "metadata": {},
   "outputs": [
    {
     "data": {
      "text/plain": [
       "31"
      ]
     },
     "execution_count": 80,
     "metadata": {},
     "output_type": "execute_result"
    }
   ],
   "source": [
    "random.randint(1,100)"
   ]
  },
  {
   "cell_type": "code",
   "execution_count": null,
   "id": "8ce34fae",
   "metadata": {},
   "outputs": [],
   "source": []
  },
  {
   "cell_type": "code",
   "execution_count": 54,
   "id": "1366482b",
   "metadata": {},
   "outputs": [],
   "source": [
    "a=[\"apple\",\"mango\",\"cherry\"]\n",
    "random.shuffle(a)"
   ]
  },
  {
   "cell_type": "code",
   "execution_count": 50,
   "id": "dd60f432",
   "metadata": {},
   "outputs": [
    {
     "data": {
      "text/plain": [
       "['cherry', 'apple', 'mango']"
      ]
     },
     "execution_count": 50,
     "metadata": {},
     "output_type": "execute_result"
    }
   ],
   "source": [
    "a"
   ]
  },
  {
   "cell_type": "code",
   "execution_count": 53,
   "id": "faa733ad",
   "metadata": {},
   "outputs": [
    {
     "data": {
      "text/plain": [
       "['mango', 'cherry', 'apple']"
      ]
     },
     "execution_count": 53,
     "metadata": {},
     "output_type": "execute_result"
    }
   ],
   "source": [
    "a"
   ]
  },
  {
   "cell_type": "code",
   "execution_count": 55,
   "id": "024a74c8",
   "metadata": {},
   "outputs": [
    {
     "data": {
      "text/plain": [
       "['apple', 'mango', 'cherry']"
      ]
     },
     "execution_count": 55,
     "metadata": {},
     "output_type": "execute_result"
    }
   ],
   "source": [
    "a"
   ]
  },
  {
   "cell_type": "markdown",
   "id": "97ad62db",
   "metadata": {},
   "source": [
    "## choice"
   ]
  },
  {
   "cell_type": "code",
   "execution_count": 57,
   "id": "8550c58f",
   "metadata": {},
   "outputs": [
    {
     "data": {
      "text/plain": [
       "'cherry'"
      ]
     },
     "execution_count": 57,
     "metadata": {},
     "output_type": "execute_result"
    }
   ],
   "source": [
    "a=[\"apple\",\"mango\",\"cherry\"]\n",
    "random.choice(a)"
   ]
  },
  {
   "cell_type": "code",
   "execution_count": 59,
   "id": "6360aa69",
   "metadata": {},
   "outputs": [
    {
     "name": "stdout",
     "output_type": "stream",
     "text": [
      "Help on built-in function pow in module builtins:\n",
      "\n",
      "pow(base, exp, mod=None)\n",
      "    Equivalent to base**exp with 2 arguments or base**exp % mod with 3 arguments\n",
      "    \n",
      "    Some types, such as ints, are able to use a more efficient algorithm when\n",
      "    invoked using the three argument form.\n",
      "\n"
     ]
    }
   ],
   "source": [
    "help(pow) ## help function tells us the use of function"
   ]
  },
  {
   "cell_type": "markdown",
   "id": "c103917a",
   "metadata": {},
   "source": [
    "## make a game of stone paper scissor"
   ]
  },
  {
   "cell_type": "code",
   "execution_count": 78,
   "id": "81e67211",
   "metadata": {},
   "outputs": [
    {
     "name": "stdout",
     "output_type": "stream",
     "text": [
      "player 1 chooses stone\n",
      "player 2 enter your choice stone\n"
     ]
    }
   ],
   "source": [
    "a=[\"stone\",\"paper\",\"scissor\"]\n",
    "b=random.choice(a)\n",
    "count=0\n",
    "print(\"player 1 chooses\",b)\n",
    "player2=input(\"player 2 enter your choice\")\n",
    "if b==\"stone\" and player2==\"scissor\":\n",
    "    print(\"player 1 wins\")\n",
    "elif b==\"paper\" and player2==\"scissor\":\n",
    "    print(\"player 2 wins\")\n",
    "elif b==\"scissor\" and player2==\"paper\":\n",
    "    print(\"player 1 wins\")\n",
    "elif b==\"paper\" and player2==\"stone\":\n",
    "    print(\"player 2 wins\")\n",
    "elif b==\"stone\" and player2==\"paper\":\n",
    "    print(\"player 1 wins\")\n"
   ]
  },
  {
   "cell_type": "markdown",
   "id": "53c667a8",
   "metadata": {},
   "source": [
    "## make a guess no. game"
   ]
  },
  {
   "cell_type": "code",
   "execution_count": 95,
   "id": "861a76cf",
   "metadata": {},
   "outputs": [
    {
     "name": "stdout",
     "output_type": "stream",
     "text": [
      "player 1  chooses 11\n",
      "enter the random number 33\n",
      "guess the number lower side\n",
      "enter the random number12\n",
      "guess the number lower side\n",
      "enter the random number11\n",
      "you won\n",
      "player 1  chooses 11\n",
      "the number of attempts are 0\n"
     ]
    }
   ],
   "source": [
    "attempt=0\n",
    "player1=random.randint(1,100)\n",
    "a=player1\n",
    "print(\"player 1  chooses\",a)\n",
    "while(True):\n",
    "    player2=int(input(\"enter the random number\"))\n",
    "    if player1==player2:\n",
    "        print(\"you won\")\n",
    "        break\n",
    "    elif player1>player2:\n",
    "         print(\"guess the number higher side\")\n",
    "    elif player1<player2:\n",
    "         print(\"guess the number lower side\")\n",
    "    else:\n",
    "        print(\"try again\")\n",
    "        attempt=attempt+1\n",
    "        if attempt<5:\n",
    "            continue\n",
    "        else:\n",
    "            print(\"you loose\")\n",
    "            break\n",
    "print(\"player 1  chooses\",a)\n",
    "print(\"the number of attempts are\",attempt)"
   ]
  }
 ],
 "metadata": {
  "kernelspec": {
   "display_name": "Python 3 (ipykernel)",
   "language": "python",
   "name": "python3"
  },
  "language_info": {
   "codemirror_mode": {
    "name": "ipython",
    "version": 3
   },
   "file_extension": ".py",
   "mimetype": "text/x-python",
   "name": "python",
   "nbconvert_exporter": "python",
   "pygments_lexer": "ipython3",
   "version": "3.10.9"
  }
 },
 "nbformat": 4,
 "nbformat_minor": 5
}
