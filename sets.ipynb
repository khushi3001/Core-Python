{
 "cells": [
  {
   "cell_type": "markdown",
   "id": "c5bedb3e",
   "metadata": {},
   "source": [
    "### Sets\n",
    "\n",
    "\n",
    "## What is Sets? :: Sets are unordered collection of data  enclosed in {}\n",
    "\n",
    "\n",
    "### properties of sets\n",
    "\n",
    "- Set elements are unique. Duplicate elements are not allowed.\n",
    "- No indexing and slicing(means once you added th elemenets in the set u can not access as s[1]\n",
    "- sets do  not allow mutable data type data\n",
    "- set itself is mutable data type implies 2d/3d sets can not be possible.\n",
    "\n",
    "#### Sets can be used to perform mathematical set operations like union, intersection, symmetric difference etc.\n",
    "\n"
   ]
  },
  {
   "cell_type": "markdown",
   "id": "11496c72",
   "metadata": {},
   "source": [
    "## how to create the set"
   ]
  },
  {
   "cell_type": "code",
   "execution_count": 1,
   "id": "9b2e2865",
   "metadata": {},
   "outputs": [
    {
     "name": "stdout",
     "output_type": "stream",
     "text": [
      "{'hello', 90.8, 12, 13, 15}\n",
      "<class 'set'>\n"
     ]
    }
   ],
   "source": [
    "s={12,13,15,\"hello\",90.8}\n",
    "print(s)\n",
    "print(type(s))"
   ]
  },
  {
   "cell_type": "code",
   "execution_count": 1,
   "id": "fa3a8103",
   "metadata": {},
   "outputs": [
    {
     "name": "stdout",
     "output_type": "stream",
     "text": [
      "{14, 90.8, 12, 13, 'hello'}\n",
      "<class 'set'>\n"
     ]
    }
   ],
   "source": [
    "s={12,13,14,\"hello\",90.8,12} ## it allows unique ## repition not allowed\n",
    "print(s)\n",
    "print(type(s))"
   ]
  },
  {
   "cell_type": "markdown",
   "id": "8a1bbf97",
   "metadata": {},
   "source": [
    "## wap to remove the duplicants from the list"
   ]
  },
  {
   "cell_type": "code",
   "execution_count": 5,
   "id": "83a6c491",
   "metadata": {},
   "outputs": [
    {
     "data": {
      "text/plain": [
       "[12, 13, 14, 'hello', 90.8]"
      ]
     },
     "execution_count": 5,
     "metadata": {},
     "output_type": "execute_result"
    }
   ],
   "source": [
    "l=[12,13,14,\"hello\",90.8,12]\n",
    "s=set(l)\n",
    "l=list(s)\n",
    "l"
   ]
  },
  {
   "cell_type": "markdown",
   "id": "1de49826",
   "metadata": {},
   "source": [
    "## set does not allow the mutable data"
   ]
  },
  {
   "cell_type": "code",
   "execution_count": 6,
   "id": "7734feb3",
   "metadata": {},
   "outputs": [
    {
     "ename": "TypeError",
     "evalue": "unhashable type: 'list'",
     "output_type": "error",
     "traceback": [
      "\u001b[1;31m---------------------------------------------------------------------------\u001b[0m",
      "\u001b[1;31mTypeError\u001b[0m                                 Traceback (most recent call last)",
      "Cell \u001b[1;32mIn[6], line 1\u001b[0m\n\u001b[1;32m----> 1\u001b[0m s\u001b[38;5;241m=\u001b[39m{\u001b[38;5;241m12\u001b[39m,\u001b[38;5;241m13\u001b[39m,\u001b[38;5;241m14\u001b[39m,\u001b[38;5;124m\"\u001b[39m\u001b[38;5;124mhello\u001b[39m\u001b[38;5;124m\"\u001b[39m,\u001b[38;5;241m90.8\u001b[39m,\u001b[38;5;241m12\u001b[39m,[\u001b[38;5;241m12\u001b[39m,\u001b[38;5;241m13\u001b[39m,\u001b[38;5;241m14\u001b[39m]}\n\u001b[0;32m      2\u001b[0m s\n",
      "\u001b[1;31mTypeError\u001b[0m: unhashable type: 'list'"
     ]
    }
   ],
   "source": [
    "s={12,13,14,\"hello\",90.8,12,[12,13,14]}\n",
    "s"
   ]
  },
  {
   "cell_type": "markdown",
   "id": "3f293387",
   "metadata": {},
   "source": [
    "## nesting is not allowed (means set cannot have set)"
   ]
  },
  {
   "cell_type": "code",
   "execution_count": 7,
   "id": "cd26a564",
   "metadata": {},
   "outputs": [
    {
     "ename": "TypeError",
     "evalue": "unhashable type: 'set'",
     "output_type": "error",
     "traceback": [
      "\u001b[1;31m---------------------------------------------------------------------------\u001b[0m",
      "\u001b[1;31mTypeError\u001b[0m                                 Traceback (most recent call last)",
      "Cell \u001b[1;32mIn[7], line 1\u001b[0m\n\u001b[1;32m----> 1\u001b[0m s\u001b[38;5;241m=\u001b[39m{\u001b[38;5;241m12\u001b[39m,\u001b[38;5;241m13\u001b[39m,\u001b[38;5;241m14\u001b[39m,\u001b[38;5;124m\"\u001b[39m\u001b[38;5;124mhello\u001b[39m\u001b[38;5;124m\"\u001b[39m,\u001b[38;5;241m90.8\u001b[39m,\u001b[38;5;241m12\u001b[39m,{\u001b[38;5;241m12\u001b[39m,\u001b[38;5;241m13\u001b[39m,\u001b[38;5;241m14\u001b[39m}}\n\u001b[0;32m      2\u001b[0m s\n",
      "\u001b[1;31mTypeError\u001b[0m: unhashable type: 'set'"
     ]
    }
   ],
   "source": [
    "s={12,13,14,\"hello\",90.8,12,{12,13,14}}\n",
    "s"
   ]
  },
  {
   "cell_type": "markdown",
   "id": "adfaca05",
   "metadata": {},
   "source": [
    "## how to create the empty set"
   ]
  },
  {
   "cell_type": "code",
   "execution_count": 2,
   "id": "a820eef5",
   "metadata": {},
   "outputs": [
    {
     "name": "stdout",
     "output_type": "stream",
     "text": [
      "set()\n",
      "<class 'set'>\n"
     ]
    }
   ],
   "source": [
    "s=set() ## by default {} are dict\n",
    "print(s)\n",
    "print(type(s))"
   ]
  },
  {
   "cell_type": "markdown",
   "id": "f27e3cad",
   "metadata": {},
   "source": [
    "## iterations in set"
   ]
  },
  {
   "cell_type": "code",
   "execution_count": 10,
   "id": "a39cf055",
   "metadata": {},
   "outputs": [
    {
     "name": "stdout",
     "output_type": "stream",
     "text": [
      "12\n",
      "13\n",
      "14\n",
      "hello\n",
      "90.8\n"
     ]
    }
   ],
   "source": [
    "for i in {12,13,14,\"hello\",90.8,12}:\n",
    "    print(i)"
   ]
  },
  {
   "cell_type": "markdown",
   "id": "207cbbe8",
   "metadata": {},
   "source": [
    "## set is mutable: means changes are allowed"
   ]
  },
  {
   "cell_type": "code",
   "execution_count": 3,
   "id": "0d09aa92",
   "metadata": {},
   "outputs": [
    {
     "ename": "TypeError",
     "evalue": "'set' object does not support item assignment",
     "output_type": "error",
     "traceback": [
      "\u001b[1;31m---------------------------------------------------------------------------\u001b[0m",
      "\u001b[1;31mTypeError\u001b[0m                                 Traceback (most recent call last)",
      "Cell \u001b[1;32mIn[3], line 2\u001b[0m\n\u001b[0;32m      1\u001b[0m s\u001b[38;5;241m=\u001b[39m{\u001b[38;5;241m12\u001b[39m,\u001b[38;5;241m13\u001b[39m,\u001b[38;5;241m14\u001b[39m,\u001b[38;5;124m\"\u001b[39m\u001b[38;5;124mhello\u001b[39m\u001b[38;5;124m\"\u001b[39m,\u001b[38;5;241m90.8\u001b[39m,\u001b[38;5;241m12\u001b[39m} \u001b[38;5;66;03m## set does not have any index\u001b[39;00m\n\u001b[1;32m----> 2\u001b[0m s[\u001b[38;5;241m-\u001b[39m\u001b[38;5;241m1\u001b[39m]\u001b[38;5;241m=\u001b[39m\u001b[38;5;241m900\u001b[39m\n\u001b[0;32m      3\u001b[0m s\n",
      "\u001b[1;31mTypeError\u001b[0m: 'set' object does not support item assignment"
     ]
    }
   ],
   "source": [
    "s={12,13,14,\"hello\",90.8,12} ## set does not have any index\n",
    "s[-1]=900\n",
    "s"
   ]
  },
  {
   "cell_type": "markdown",
   "id": "1428d0ea",
   "metadata": {},
   "source": [
    "## how to add the elements in the set\n",
    "- add"
   ]
  },
  {
   "cell_type": "code",
   "execution_count": 12,
   "id": "0221bfad",
   "metadata": {},
   "outputs": [
    {
     "data": {
      "text/plain": [
       "['__and__',\n",
       " '__class__',\n",
       " '__class_getitem__',\n",
       " '__contains__',\n",
       " '__delattr__',\n",
       " '__dir__',\n",
       " '__doc__',\n",
       " '__eq__',\n",
       " '__format__',\n",
       " '__ge__',\n",
       " '__getattribute__',\n",
       " '__gt__',\n",
       " '__hash__',\n",
       " '__iand__',\n",
       " '__init__',\n",
       " '__init_subclass__',\n",
       " '__ior__',\n",
       " '__isub__',\n",
       " '__iter__',\n",
       " '__ixor__',\n",
       " '__le__',\n",
       " '__len__',\n",
       " '__lt__',\n",
       " '__ne__',\n",
       " '__new__',\n",
       " '__or__',\n",
       " '__rand__',\n",
       " '__reduce__',\n",
       " '__reduce_ex__',\n",
       " '__repr__',\n",
       " '__ror__',\n",
       " '__rsub__',\n",
       " '__rxor__',\n",
       " '__setattr__',\n",
       " '__sizeof__',\n",
       " '__str__',\n",
       " '__sub__',\n",
       " '__subclasshook__',\n",
       " '__xor__',\n",
       " 'add',\n",
       " 'clear',\n",
       " 'copy',\n",
       " 'difference',\n",
       " 'difference_update',\n",
       " 'discard',\n",
       " 'intersection',\n",
       " 'intersection_update',\n",
       " 'isdisjoint',\n",
       " 'issubset',\n",
       " 'issuperset',\n",
       " 'pop',\n",
       " 'remove',\n",
       " 'symmetric_difference',\n",
       " 'symmetric_difference_update',\n",
       " 'union',\n",
       " 'update']"
      ]
     },
     "execution_count": 12,
     "metadata": {},
     "output_type": "execute_result"
    }
   ],
   "source": [
    "dir(set)"
   ]
  },
  {
   "cell_type": "code",
   "execution_count": 13,
   "id": "663d83b1",
   "metadata": {},
   "outputs": [
    {
     "data": {
      "text/plain": [
       "{12, 13, 14, '500', 'hello'}"
      ]
     },
     "execution_count": 13,
     "metadata": {},
     "output_type": "execute_result"
    }
   ],
   "source": [
    "s={12,13,14,\"hello\"}\n",
    "s.add(\"500\")\n",
    "s"
   ]
  },
  {
   "cell_type": "markdown",
   "id": "e1d6e82b",
   "metadata": {},
   "source": [
    "## how to take values from user"
   ]
  },
  {
   "cell_type": "code",
   "execution_count": 14,
   "id": "29b30b98",
   "metadata": {},
   "outputs": [
    {
     "name": "stdout",
     "output_type": "stream",
     "text": [
      "enter the marks12\n",
      "enter the marks13\n",
      "enter the marks14\n",
      "enter the marks15\n"
     ]
    },
    {
     "data": {
      "text/plain": [
       "{12, 13, 14, 15}"
      ]
     },
     "execution_count": 14,
     "metadata": {},
     "output_type": "execute_result"
    }
   ],
   "source": [
    "s=set()\n",
    "for i in range(1,5):\n",
    "    s.add(int(input(\"enter the marks\")))\n",
    "s"
   ]
  },
  {
   "cell_type": "code",
   "execution_count": 15,
   "id": "d61fcaea",
   "metadata": {},
   "outputs": [
    {
     "data": {
      "text/plain": [
       "54"
      ]
     },
     "execution_count": 15,
     "metadata": {},
     "output_type": "execute_result"
    }
   ],
   "source": [
    "sum(s)"
   ]
  },
  {
   "cell_type": "markdown",
   "id": "7eb44c7f",
   "metadata": {},
   "source": [
    "## mutable"
   ]
  },
  {
   "cell_type": "code",
   "execution_count": 4,
   "id": "c789c819",
   "metadata": {},
   "outputs": [
    {
     "name": "stdout",
     "output_type": "stream",
     "text": [
      "2313043422880\n",
      "2313043422880\n"
     ]
    }
   ],
   "source": [
    "a={12,13,14,15}\n",
    "print(id(a))\n",
    "a.add(900)\n",
    "print(id(a))"
   ]
  },
  {
   "cell_type": "markdown",
   "id": "a85c9101",
   "metadata": {},
   "source": [
    "## how to delete the element"
   ]
  },
  {
   "cell_type": "code",
   "execution_count": 5,
   "id": "5738b9c1",
   "metadata": {},
   "outputs": [
    {
     "data": {
      "text/plain": [
       "16"
      ]
     },
     "execution_count": 5,
     "metadata": {},
     "output_type": "execute_result"
    }
   ],
   "source": [
    "s={12,13,14,15,16,17}\n",
    "deleted=s.pop()\n",
    "deleted"
   ]
  },
  {
   "cell_type": "code",
   "execution_count": 6,
   "id": "af1bc329",
   "metadata": {},
   "outputs": [
    {
     "data": {
      "text/plain": [
       "{12, 13, 14, 16, 17}"
      ]
     },
     "execution_count": 6,
     "metadata": {},
     "output_type": "execute_result"
    }
   ],
   "source": [
    "s={12,13,14,15,16,17}\n",
    "s.remove(15)\n",
    "s"
   ]
  },
  {
   "cell_type": "markdown",
   "id": "8a5d2097",
   "metadata": {},
   "source": [
    "### clear() it removes all elements and returns empty set"
   ]
  },
  {
   "cell_type": "code",
   "execution_count": 7,
   "id": "c55ed259",
   "metadata": {},
   "outputs": [
    {
     "data": {
      "text/plain": [
       "set()"
      ]
     },
     "execution_count": 7,
     "metadata": {},
     "output_type": "execute_result"
    }
   ],
   "source": [
    "s={12,13,14,15}\n",
    "s.clear()\n",
    "s"
   ]
  },
  {
   "cell_type": "markdown",
   "id": "47acf910",
   "metadata": {},
   "source": [
    "## + and * operators wont be acceptable"
   ]
  },
  {
   "cell_type": "markdown",
   "id": "80fcb369",
   "metadata": {},
   "source": [
    "## union (to combine two sets)"
   ]
  },
  {
   "cell_type": "code",
   "execution_count": 11,
   "id": "1dbb283d",
   "metadata": {},
   "outputs": [
    {
     "data": {
      "text/plain": [
       "{12, 13, 14, 15, 16, 17, 18, 19, 20}"
      ]
     },
     "execution_count": 11,
     "metadata": {},
     "output_type": "execute_result"
    }
   ],
   "source": [
    "s1={12,13,14,15,16,17}\n",
    "s2={16,17,18,19,20}\n",
    "s2=s1.union(s2)\n",
    "s2"
   ]
  },
  {
   "cell_type": "markdown",
   "id": "59143cbd",
   "metadata": {},
   "source": [
    "## intersection (common)"
   ]
  },
  {
   "cell_type": "code",
   "execution_count": 12,
   "id": "dc7bbd44",
   "metadata": {},
   "outputs": [
    {
     "data": {
      "text/plain": [
       "{16, 17}"
      ]
     },
     "execution_count": 12,
     "metadata": {},
     "output_type": "execute_result"
    }
   ],
   "source": [
    "s1={12,13,14,15,16,17}\n",
    "s2={16,17,18,19,20}\n",
    "s2=s1.intersection(s2)\n",
    "s2"
   ]
  },
  {
   "cell_type": "markdown",
   "id": "12670c97",
   "metadata": {},
   "source": [
    "## subset \n",
    "### is s1 is the subset of s2 or not \n",
    "- when all the elements of s1 would be present in s2"
   ]
  },
  {
   "cell_type": "code",
   "execution_count": 14,
   "id": "c72c6272",
   "metadata": {},
   "outputs": [
    {
     "data": {
      "text/plain": [
       "False"
      ]
     },
     "execution_count": 14,
     "metadata": {},
     "output_type": "execute_result"
    }
   ],
   "source": [
    "s1={12,13,14,15,16,17}\n",
    "s2={16,17,18,19,20}\n",
    "s2=s1.issubset(s2)\n",
    "s2"
   ]
  },
  {
   "cell_type": "code",
   "execution_count": 15,
   "id": "1a99f9a5",
   "metadata": {},
   "outputs": [
    {
     "name": "stdout",
     "output_type": "stream",
     "text": [
      "True\n",
      "True\n"
     ]
    }
   ],
   "source": [
    "s1={12,13,14,15,16,17}\n",
    "s2={16,17,12,13,14,15}\n",
    "print(s1.issubset(s2))\n",
    "print(s2.issuperset(s1))"
   ]
  },
  {
   "cell_type": "markdown",
   "id": "7578d83f",
   "metadata": {},
   "source": [
    "## distinct- 2 sets are said to be distinct if they have nothing in common"
   ]
  },
  {
   "cell_type": "code",
   "execution_count": 17,
   "id": "04e9185f",
   "metadata": {},
   "outputs": [
    {
     "data": {
      "text/plain": [
       "True"
      ]
     },
     "execution_count": 17,
     "metadata": {},
     "output_type": "execute_result"
    }
   ],
   "source": [
    "s1={12,13,14,15,16,17}\n",
    "s2={18,19,20}\n",
    "s2=s1.isdisjoint(s2)\n",
    "s2"
   ]
  },
  {
   "cell_type": "markdown",
   "id": "37d55155",
   "metadata": {},
   "source": [
    "## difference"
   ]
  },
  {
   "cell_type": "code",
   "execution_count": 19,
   "id": "235c24ca",
   "metadata": {},
   "outputs": [
    {
     "data": {
      "text/plain": [
       "{96, 823}"
      ]
     },
     "execution_count": 19,
     "metadata": {},
     "output_type": "execute_result"
    }
   ],
   "source": [
    "s={823,96,12}\n",
    "s2={90,80,70,12,13,14}\n",
    "s.difference(s2)"
   ]
  },
  {
   "cell_type": "code",
   "execution_count": 22,
   "id": "83fa21c6",
   "metadata": {},
   "outputs": [
    {
     "data": {
      "text/plain": [
       "{96, 823}"
      ]
     },
     "execution_count": 22,
     "metadata": {},
     "output_type": "execute_result"
    }
   ],
   "source": [
    "s={823,96,12}\n",
    "s2={90,80,70,12,13,14}\n",
    "s.difference_update(s2)\n",
    "s"
   ]
  },
  {
   "cell_type": "markdown",
   "id": "94ff1dd2",
   "metadata": {},
   "source": [
    "## symmetric differenct (common ko chodh kar baaki sab)"
   ]
  },
  {
   "cell_type": "code",
   "execution_count": 25,
   "id": "02e1d6c4",
   "metadata": {},
   "outputs": [
    {
     "data": {
      "text/plain": [
       "{13, 14, 70, 80, 90, 96, 823}"
      ]
     },
     "execution_count": 25,
     "metadata": {},
     "output_type": "execute_result"
    }
   ],
   "source": [
    "s={823,96,12}\n",
    "s2={90,80,70,12,13,14}\n",
    "s.symmetric_difference(s2)\n"
   ]
  },
  {
   "cell_type": "markdown",
   "id": "208e77f7",
   "metadata": {},
   "source": [
    "## in and not in (membership operators work)"
   ]
  },
  {
   "cell_type": "markdown",
   "id": "99686508",
   "metadata": {},
   "source": [
    "## frozen sets(sets ko immutable banana)"
   ]
  },
  {
   "cell_type": "code",
   "execution_count": 26,
   "id": "7373b3ce",
   "metadata": {},
   "outputs": [
    {
     "data": {
      "text/plain": [
       "frozenset({12, 13, 14, 15})"
      ]
     },
     "execution_count": 26,
     "metadata": {},
     "output_type": "execute_result"
    }
   ],
   "source": [
    "s1={12,13,14,15}\n",
    "s2=frozenset(s1)\n",
    "s2"
   ]
  },
  {
   "cell_type": "code",
   "execution_count": null,
   "id": "3603c709",
   "metadata": {},
   "outputs": [],
   "source": []
  }
 ],
 "metadata": {
  "kernelspec": {
   "display_name": "Python 3 (ipykernel)",
   "language": "python",
   "name": "python3"
  },
  "language_info": {
   "codemirror_mode": {
    "name": "ipython",
    "version": 3
   },
   "file_extension": ".py",
   "mimetype": "text/x-python",
   "name": "python",
   "nbconvert_exporter": "python",
   "pygments_lexer": "ipython3",
   "version": "3.10.9"
  }
 },
 "nbformat": 4,
 "nbformat_minor": 5
}
